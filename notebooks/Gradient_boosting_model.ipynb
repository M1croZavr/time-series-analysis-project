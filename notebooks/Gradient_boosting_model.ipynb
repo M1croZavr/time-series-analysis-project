{
 "cells": [
  {
   "cell_type": "code",
   "execution_count": 1,
   "id": "d45e4ddb-d673-4cab-ad0a-ba600360a0a1",
   "metadata": {},
   "outputs": [
    {
     "name": "stderr",
     "output_type": "stream",
     "text": [
      "/Users/m1crozavr/anaconda3/envs/time-series/lib/python3.12/site-packages/tqdm/auto.py:21: TqdmWarning: IProgress not found. Please update jupyter and ipywidgets. See https://ipywidgets.readthedocs.io/en/stable/user_install.html\n",
      "  from .autonotebook import tqdm as notebook_tqdm\n"
     ]
    }
   ],
   "source": [
    "import datetime\n",
    "\n",
    "import numpy as np\n",
    "import optuna\n",
    "import pandas as pd\n",
    "from catboost import CatBoostRegressor, EFeaturesSelectionAlgorithm\n",
    "from catboost import Pool\n",
    "from matplotlib import pyplot as plt\n",
    "from sklearn.ensemble import RandomForestRegressor\n",
    "from sklearn.linear_model import Lasso\n",
    "from sklearn.metrics import mean_absolute_error\n",
    "from sklearn.model_selection import train_test_split\n",
    "from sklearn.preprocessing import StandardScaler\n",
    "\n",
    "from ts_package.feature_engineering.utils import make_time_based_features\n",
    "from ts_package.tuning import objective\n",
    "from ts_package.validation.feature_selection import get_catboost_feature_importances, select_features_wrapped_catboost\n",
    "from ts_package.validation.validation import get_time_series_cv_score"
   ]
  },
  {
   "cell_type": "code",
   "execution_count": 2,
   "id": "391856ee-af53-49f1-8dfa-829aeb764a2a",
   "metadata": {},
   "outputs": [],
   "source": [
    "import warnings\n",
    "\n",
    "\n",
    "warnings.filterwarnings('ignore')\n",
    "\n",
    "%load_ext autoreload\n",
    "%autoreload 2"
   ]
  },
  {
   "cell_type": "code",
   "execution_count": 3,
   "id": "fc1ceb95-3daa-4b39-bf71-99d3d86a08b0",
   "metadata": {},
   "outputs": [],
   "source": [
    "# time-based features\n",
    "# optuna with target metric\n",
    "# feature selection methods"
   ]
  },
  {
   "cell_type": "code",
   "execution_count": 4,
   "id": "97328ec1-a950-49a8-8cf6-87fe5ae0498c",
   "metadata": {},
   "outputs": [
    {
     "data": {
      "text/html": [
       "<div>\n",
       "<style scoped>\n",
       "    .dataframe tbody tr th:only-of-type {\n",
       "        vertical-align: middle;\n",
       "    }\n",
       "\n",
       "    .dataframe tbody tr th {\n",
       "        vertical-align: top;\n",
       "    }\n",
       "\n",
       "    .dataframe thead th {\n",
       "        text-align: right;\n",
       "    }\n",
       "</style>\n",
       "<table border=\"1\" class=\"dataframe\">\n",
       "  <thead>\n",
       "    <tr style=\"text-align: right;\">\n",
       "      <th></th>\n",
       "      <th>Income</th>\n",
       "      <th>Outcome</th>\n",
       "      <th>Balance</th>\n",
       "      <th>Налог на прибыль (при уплате только ежеквартальных авансовых платежей)</th>\n",
       "      <th>Зарплаты и авансы (не позднее 15 и 30 числа каждого месяца)</th>\n",
       "      <th>Праздники РФ</th>\n",
       "      <th>Inflation Rate MoM: actual</th>\n",
       "      <th>Inflation Rate MoM: forecastCorrection</th>\n",
       "      <th>Balance of Trade: actual</th>\n",
       "      <th>Balance of Trade: forecastCorrection</th>\n",
       "      <th>...</th>\n",
       "      <th>Balance lag 20</th>\n",
       "      <th>Balance lag 21</th>\n",
       "      <th>Balance lag 22</th>\n",
       "      <th>Balance lag 23</th>\n",
       "      <th>Balance lag 24</th>\n",
       "      <th>Balance lag 25</th>\n",
       "      <th>Balance lag 26</th>\n",
       "      <th>Balance lag 27</th>\n",
       "      <th>Balance lag 28</th>\n",
       "      <th>Balance lag 29</th>\n",
       "    </tr>\n",
       "    <tr>\n",
       "      <th>Date</th>\n",
       "      <th></th>\n",
       "      <th></th>\n",
       "      <th></th>\n",
       "      <th></th>\n",
       "      <th></th>\n",
       "      <th></th>\n",
       "      <th></th>\n",
       "      <th></th>\n",
       "      <th></th>\n",
       "      <th></th>\n",
       "      <th></th>\n",
       "      <th></th>\n",
       "      <th></th>\n",
       "      <th></th>\n",
       "      <th></th>\n",
       "      <th></th>\n",
       "      <th></th>\n",
       "      <th></th>\n",
       "      <th></th>\n",
       "      <th></th>\n",
       "      <th></th>\n",
       "    </tr>\n",
       "  </thead>\n",
       "  <tbody>\n",
       "    <tr>\n",
       "      <th>2017-01-09</th>\n",
       "      <td>1.340000</td>\n",
       "      <td>1.490000</td>\n",
       "      <td>-0.155904</td>\n",
       "      <td>0.0</td>\n",
       "      <td>0.600000</td>\n",
       "      <td>0.0</td>\n",
       "      <td>0.6</td>\n",
       "      <td>-0.1</td>\n",
       "      <td>11.45</td>\n",
       "      <td>-0.65</td>\n",
       "      <td>...</td>\n",
       "      <td>NaN</td>\n",
       "      <td>NaN</td>\n",
       "      <td>NaN</td>\n",
       "      <td>NaN</td>\n",
       "      <td>NaN</td>\n",
       "      <td>NaN</td>\n",
       "      <td>NaN</td>\n",
       "      <td>NaN</td>\n",
       "      <td>NaN</td>\n",
       "      <td>NaN</td>\n",
       "    </tr>\n",
       "    <tr>\n",
       "      <th>2017-01-10</th>\n",
       "      <td>1.068610</td>\n",
       "      <td>1.194182</td>\n",
       "      <td>-0.125572</td>\n",
       "      <td>0.0</td>\n",
       "      <td>0.666667</td>\n",
       "      <td>0.0</td>\n",
       "      <td>0.6</td>\n",
       "      <td>-0.1</td>\n",
       "      <td>11.45</td>\n",
       "      <td>-0.65</td>\n",
       "      <td>...</td>\n",
       "      <td>NaN</td>\n",
       "      <td>NaN</td>\n",
       "      <td>NaN</td>\n",
       "      <td>NaN</td>\n",
       "      <td>NaN</td>\n",
       "      <td>NaN</td>\n",
       "      <td>NaN</td>\n",
       "      <td>NaN</td>\n",
       "      <td>NaN</td>\n",
       "      <td>NaN</td>\n",
       "    </tr>\n",
       "    <tr>\n",
       "      <th>2017-01-11</th>\n",
       "      <td>0.944429</td>\n",
       "      <td>0.936663</td>\n",
       "      <td>0.007767</td>\n",
       "      <td>0.0</td>\n",
       "      <td>0.733333</td>\n",
       "      <td>0.0</td>\n",
       "      <td>0.6</td>\n",
       "      <td>-0.1</td>\n",
       "      <td>11.45</td>\n",
       "      <td>-0.65</td>\n",
       "      <td>...</td>\n",
       "      <td>NaN</td>\n",
       "      <td>NaN</td>\n",
       "      <td>NaN</td>\n",
       "      <td>NaN</td>\n",
       "      <td>NaN</td>\n",
       "      <td>NaN</td>\n",
       "      <td>NaN</td>\n",
       "      <td>NaN</td>\n",
       "      <td>NaN</td>\n",
       "      <td>NaN</td>\n",
       "    </tr>\n",
       "    <tr>\n",
       "      <th>2017-01-12</th>\n",
       "      <td>1.670000</td>\n",
       "      <td>0.875379</td>\n",
       "      <td>0.800391</td>\n",
       "      <td>0.0</td>\n",
       "      <td>0.800000</td>\n",
       "      <td>0.0</td>\n",
       "      <td>0.6</td>\n",
       "      <td>-0.1</td>\n",
       "      <td>11.45</td>\n",
       "      <td>-0.65</td>\n",
       "      <td>...</td>\n",
       "      <td>NaN</td>\n",
       "      <td>NaN</td>\n",
       "      <td>NaN</td>\n",
       "      <td>NaN</td>\n",
       "      <td>NaN</td>\n",
       "      <td>NaN</td>\n",
       "      <td>NaN</td>\n",
       "      <td>NaN</td>\n",
       "      <td>NaN</td>\n",
       "      <td>NaN</td>\n",
       "    </tr>\n",
       "    <tr>\n",
       "      <th>2017-01-13</th>\n",
       "      <td>0.955924</td>\n",
       "      <td>0.975645</td>\n",
       "      <td>-0.019721</td>\n",
       "      <td>0.0</td>\n",
       "      <td>0.866667</td>\n",
       "      <td>0.0</td>\n",
       "      <td>0.6</td>\n",
       "      <td>-0.1</td>\n",
       "      <td>11.45</td>\n",
       "      <td>-0.65</td>\n",
       "      <td>...</td>\n",
       "      <td>NaN</td>\n",
       "      <td>NaN</td>\n",
       "      <td>NaN</td>\n",
       "      <td>NaN</td>\n",
       "      <td>NaN</td>\n",
       "      <td>NaN</td>\n",
       "      <td>NaN</td>\n",
       "      <td>NaN</td>\n",
       "      <td>NaN</td>\n",
       "      <td>NaN</td>\n",
       "    </tr>\n",
       "  </tbody>\n",
       "</table>\n",
       "<p>5 rows × 66 columns</p>\n",
       "</div>"
      ],
      "text/plain": [
       "              Income   Outcome   Balance  \\\n",
       "Date                                       \n",
       "2017-01-09  1.340000  1.490000 -0.155904   \n",
       "2017-01-10  1.068610  1.194182 -0.125572   \n",
       "2017-01-11  0.944429  0.936663  0.007767   \n",
       "2017-01-12  1.670000  0.875379  0.800391   \n",
       "2017-01-13  0.955924  0.975645 -0.019721   \n",
       "\n",
       "            Налог на прибыль (при уплате только ежеквартальных авансовых платежей)  \\\n",
       "Date                                                                                 \n",
       "2017-01-09                                                0.0                        \n",
       "2017-01-10                                                0.0                        \n",
       "2017-01-11                                                0.0                        \n",
       "2017-01-12                                                0.0                        \n",
       "2017-01-13                                                0.0                        \n",
       "\n",
       "            Зарплаты и авансы (не позднее 15 и 30 числа каждого месяца)  \\\n",
       "Date                                                                      \n",
       "2017-01-09                                           0.600000             \n",
       "2017-01-10                                           0.666667             \n",
       "2017-01-11                                           0.733333             \n",
       "2017-01-12                                           0.800000             \n",
       "2017-01-13                                           0.866667             \n",
       "\n",
       "            Праздники РФ  Inflation Rate MoM: actual  \\\n",
       "Date                                                   \n",
       "2017-01-09           0.0                         0.6   \n",
       "2017-01-10           0.0                         0.6   \n",
       "2017-01-11           0.0                         0.6   \n",
       "2017-01-12           0.0                         0.6   \n",
       "2017-01-13           0.0                         0.6   \n",
       "\n",
       "            Inflation Rate MoM: forecastCorrection  Balance of Trade: actual  \\\n",
       "Date                                                                           \n",
       "2017-01-09                                    -0.1                     11.45   \n",
       "2017-01-10                                    -0.1                     11.45   \n",
       "2017-01-11                                    -0.1                     11.45   \n",
       "2017-01-12                                    -0.1                     11.45   \n",
       "2017-01-13                                    -0.1                     11.45   \n",
       "\n",
       "            Balance of Trade: forecastCorrection  ...  Balance lag 20  \\\n",
       "Date                                              ...                   \n",
       "2017-01-09                                 -0.65  ...             NaN   \n",
       "2017-01-10                                 -0.65  ...             NaN   \n",
       "2017-01-11                                 -0.65  ...             NaN   \n",
       "2017-01-12                                 -0.65  ...             NaN   \n",
       "2017-01-13                                 -0.65  ...             NaN   \n",
       "\n",
       "            Balance lag 21  Balance lag 22  Balance lag 23  Balance lag 24  \\\n",
       "Date                                                                         \n",
       "2017-01-09             NaN             NaN             NaN             NaN   \n",
       "2017-01-10             NaN             NaN             NaN             NaN   \n",
       "2017-01-11             NaN             NaN             NaN             NaN   \n",
       "2017-01-12             NaN             NaN             NaN             NaN   \n",
       "2017-01-13             NaN             NaN             NaN             NaN   \n",
       "\n",
       "            Balance lag 25  Balance lag 26  Balance lag 27  Balance lag 28  \\\n",
       "Date                                                                         \n",
       "2017-01-09             NaN             NaN             NaN             NaN   \n",
       "2017-01-10             NaN             NaN             NaN             NaN   \n",
       "2017-01-11             NaN             NaN             NaN             NaN   \n",
       "2017-01-12             NaN             NaN             NaN             NaN   \n",
       "2017-01-13             NaN             NaN             NaN             NaN   \n",
       "\n",
       "            Balance lag 29  \n",
       "Date                        \n",
       "2017-01-09             NaN  \n",
       "2017-01-10             NaN  \n",
       "2017-01-11             NaN  \n",
       "2017-01-12             NaN  \n",
       "2017-01-13             NaN  \n",
       "\n",
       "[5 rows x 66 columns]"
      ]
     },
     "execution_count": 4,
     "metadata": {},
     "output_type": "execute_result"
    }
   ],
   "source": [
    "df = pd.read_csv('../data/finalFeatures.csv', parse_dates=['Date'], index_col='Date')\n",
    "df.head()"
   ]
  },
  {
   "cell_type": "code",
   "execution_count": 5,
   "id": "4e7e9171-c4af-41bd-aaa5-6dbade0f0dfe",
   "metadata": {},
   "outputs": [],
   "source": [
    "df = make_time_based_features(df)"
   ]
  },
  {
   "cell_type": "code",
   "execution_count": 6,
   "id": "e1ac9725-5bd5-458f-aa50-c52e0f7e40e9",
   "metadata": {},
   "outputs": [
    {
     "name": "stdout",
     "output_type": "stream",
     "text": [
      "Train size: 1453, Test size: 90\n"
     ]
    }
   ],
   "source": [
    "OOT_THRESHOLD = datetime.datetime(2021, 1, 1)\n",
    "COLUMNS_TO_DROP = ['Balance', 'Outcome', 'Income']\n",
    "X_train, y_train, X_test, y_test = df[df.index < OOT_THRESHOLD].drop(COLUMNS_TO_DROP, axis=1), df.loc[df.index < OOT_THRESHOLD, 'Balance'],\\\n",
    "    df[df.index >= OOT_THRESHOLD].drop(COLUMNS_TO_DROP, axis=1), df.loc[df.index >= OOT_THRESHOLD, 'Balance']\n",
    "print(f'Train size: {X_train.shape[0]}, Test size: {X_test.shape[0]}')"
   ]
  },
  {
   "cell_type": "markdown",
   "id": "61ddec08-aa96-4a78-9ed9-f4c7b6af94d6",
   "metadata": {},
   "source": [
    "# Feature selection"
   ]
  },
  {
   "cell_type": "markdown",
   "id": "a3e9e16e-b260-4def-aa30-3984e9f65b59",
   "metadata": {},
   "source": [
    "**Feature selection techniques can be divided in groups:**\n",
    "\n",
    "- Wrapper methods - eliminating of features based on weights/coefficients of a trained model.\n",
    "- Filter methods - eliminating of features based on some statistics and correlations between features and target variable (without training a model).\n",
    "- Embedded methods - eliminating of features during a model training, for example, by applying L1 regularization or calculation tree's criterion gain.\n",
    "\n",
    "\n",
    "**Отбираться будет порядка 15-21 главных признаков**\n",
    "(По итогу на 21-м признаке лучше качество)"
   ]
  },
  {
   "cell_type": "markdown",
   "id": "6d246c5f-6fa8-44c3-99bc-3a677b82abd0",
   "metadata": {},
   "source": [
    "## Wrapper methods\n",
    "В качестве 3-х оберточных методов в работе используются реализации библиотеки CatBoost:\n",
    "\n",
    "1. Based on Prediction Values Change. EFeaturesSelectionAlgorithm.RecursiveByPredictionValuesChange\n",
    "3. Based on Loss Function Change. EFeaturesSelectionAlgorithm.RecursiveByLossFunctionChange\n",
    "4. Based on Shap Values. EFeaturesSelectionAlgorithm.RecursiveByShapValues\n",
    "\n",
    "**Исследуют нелинейность**"
   ]
  },
  {
   "cell_type": "code",
   "execution_count": 7,
   "id": "5e080f6e-9dc7-48a8-a64f-88abf6dfa5a8",
   "metadata": {},
   "outputs": [],
   "source": [
    "N_IMPORTANT_FEATURES = 21\n",
    "# fs - feature selection\n",
    "# Для фильтрации признаков можно сформировать обычную случайную out of fold валидационную выборку\n",
    "X_train_fs, X_val_fs, y_train_fs, y_val_fs = train_test_split(X_train, y_train, train_size=0.8, random_state=777)\n",
    "feature_names = X_train.columns.tolist()\n",
    "cat_features = ['weekday', 'Праздники РФ', 'quarter']\n",
    "train_pool = Pool(X_train_fs, y_train_fs, feature_names=feature_names, cat_features=cat_features)\n",
    "val_pool = Pool(X_val_fs, y_val_fs, feature_names=feature_names, cat_features=cat_features)"
   ]
  },
  {
   "cell_type": "code",
   "execution_count": 8,
   "id": "299602c7-eb25-4223-a604-2e11b8cf5e75",
   "metadata": {},
   "outputs": [
    {
     "name": "stdout",
     "output_type": "stream",
     "text": [
      "Algorithm for feature selection: EFeaturesSelectionAlgorithm.RecursiveByPredictionValuesChange\n",
      "{'selected_features': [1, 5, 15, 20, 22, 23, 28, 31, 34, 39, 40, 41, 47, 48, 50, 51, 53, 54, 60, 61, 63], 'eliminated_features_names': ['is_weekend', 'Праздники РФ', 'quarter', 'Inflation Rate MoM: actual', 'Unemployment Rate: actual', 'Inflation Rate MoM: forecastCorrection', 'Balance lag 23', 'Balance lag 10', 'Налог на прибыль (при уплате только ежеквартальных авансовых платежей)', 'Markit Manufacturing PMI: actual', 'Retail Sales YoY: forecastCorrection', 'Real Wage Growth YoY: actual', 'Balance lag 12', 'Balance lag 9', 'Balance lag 11', 'Business Confidence: actual', 'PPI MoM: forecastCorrection', 'BZ=F', 'Balance lag 24', 'Business Confidence: forecastCorrection', 'Balance of Trade: forecastCorrection', 'Real Wage Growth YoY: forecastCorrection', 'Dollar', 'Key_rate', 'Balance lag 5', 'Retail Sales YoY: actual', 'Industrial Production YoY: actual', 'Foreign Exchange Reserves: forecastCorrection', 'Unemployment Rate: forecastCorrection', 'Industrial Production YoY: forecastCorrection', 'Corporate Profits: actual', 'USDRUB=X', 'Balance lag 16', 'Balance lag 2', 'Balance lag 19', 'Markit Services PMI: forecastCorrection', 'Balance lag 26', 'Balance lag 29', 'Balance lag 22', 'Balance lag 4', 'Balance lag 13', 'Foreign Exchange Reserves: actual', 'Gold', 'Balance lag 3', 'Balance lag 25'], 'loss_graph': {'main_indices': [0, 1, 2, 3, 4, 5, 6, 7, 8, 9, 10, 11, 12, 13, 14, 15], 'removed_features_count': [0, 5, 9, 14, 17, 21, 24, 27, 30, 33, 35, 38, 40, 42, 43, 45], 'loss_values': [0.24370962137839247, 0.24553008392270986, 0.24712360044592177, 0.24366196665651935, 0.2423462549353565, 0.2451239343818503, 0.24296478799909446, 0.24618305603237853, 0.24646550863506964, 0.24582173960699547, 0.2455023578628479, 0.24583719254212508, 0.24517128079125072, 0.24773702543003956, 0.24415937007533992, 0.24450288450550067]}, 'eliminated_features': [65, 2, 64, 3, 11, 4, 56, 43, 0, 21, 18, 13, 45, 42, 44, 25, 16, 27, 57, 26, 6, 14, 32, 30, 38, 17, 9, 8, 12, 10, 19, 29, 49, 35, 52, 24, 59, 62, 55, 37, 46, 7, 33, 36, 58], 'selected_features_names': ['Зарплаты и авансы (не позднее 15 и 30 числа каждого месяца)', 'Balance of Trade: actual', 'PPI MoM: actual', 'Corporate Profits: forecastCorrection', 'Markit Manufacturing PMI: forecastCorrection', 'Markit Services PMI: actual', 'IMOEX.ME', 'Euro', 'Balance lag 1', 'Balance lag 6', 'Balance lag 7', 'Balance lag 8', 'Balance lag 14', 'Balance lag 15', 'Balance lag 17', 'Balance lag 18', 'Balance lag 20', 'Balance lag 21', 'Balance lag 27', 'Balance lag 28', 'weekday']}\n"
     ]
    }
   ],
   "source": [
    "shap_summary = select_features_wrapped_catboost(\n",
    "    feature_names,\n",
    "    EFeaturesSelectionAlgorithm.RecursiveByPredictionValuesChange,\n",
    "    train_pool, val_pool,\n",
    "    steps=15,\n",
    "    n_features=N_IMPORTANT_FEATURES\n",
    ")\n",
    "print(shap_summary)"
   ]
  },
  {
   "cell_type": "code",
   "execution_count": 9,
   "id": "8ae2fcf3-8947-46f8-a2b7-773fe1bc213c",
   "metadata": {},
   "outputs": [
    {
     "name": "stdout",
     "output_type": "stream",
     "text": [
      "Algorithm for feature selection: EFeaturesSelectionAlgorithm.RecursiveByLossFunctionChange\n",
      "{'selected_features': [0, 1, 7, 18, 23, 26, 27, 28, 30, 31, 32, 33, 34, 35, 36, 40, 53, 61, 63, 64, 65], 'eliminated_features_names': ['Balance lag 8', 'Balance lag 26', 'Markit Services PMI: forecastCorrection', 'Balance lag 14', 'Balance lag 22', 'Balance lag 27', 'Balance lag 25', 'PPI MoM: actual', 'Balance lag 13', 'Balance lag 6', 'Balance of Trade: actual', 'Balance lag 21', 'Balance lag 15', 'Balance lag 29', 'Corporate Profits: forecastCorrection', 'Balance lag 24', 'Real Wage Growth YoY: forecastCorrection', 'Inflation Rate MoM: forecastCorrection', 'Balance lag 17', 'Balance lag 19', 'PPI MoM: forecastCorrection', 'Balance lag 18', 'Corporate Profits: actual', 'Balance lag 10', 'Balance lag 16', 'Balance of Trade: forecastCorrection', 'Balance lag 12', 'Retail Sales YoY: actual', 'Balance lag 5', 'Markit Manufacturing PMI: actual', 'Foreign Exchange Reserves: forecastCorrection', 'Industrial Production YoY: forecastCorrection', 'Balance lag 4', 'Unemployment Rate: forecastCorrection', 'Balance lag 11', 'USDRUB=X', 'Праздники РФ', 'Balance lag 23', 'Real Wage Growth YoY: actual', 'Balance lag 9', 'Industrial Production YoY: actual', 'Markit Manufacturing PMI: forecastCorrection', 'Business Confidence: actual', 'Inflation Rate MoM: actual', 'Unemployment Rate: actual'], 'loss_graph': {'main_indices': [0, 5, 9, 14, 17, 21, 24, 27, 30, 33, 35, 38, 40, 42, 43, 45], 'removed_features_count': [0, 1, 2, 3, 4, 5, 6, 7, 8, 9, 10, 11, 12, 13, 14, 15, 16, 17, 18, 19, 20, 21, 22, 23, 24, 25, 26, 27, 28, 29, 30, 31, 32, 33, 34, 35, 36, 37, 38, 39, 40, 41, 42, 43, 44, 45], 'loss_values': [0.24370962137839247, 0.2435791904853041, 0.24351622369299905, 0.24347108188198013, 0.24342683831460774, 0.24338745067822976, 0.24228368654336607, 0.2414757167621226, 0.24093658690193212, 0.24062109296235554, 0.23925476055255432, 0.23789083431642138, 0.23654794998865256, 0.23543285920351933, 0.2343951594942016, 0.23515925334430837, 0.2357289134722272, 0.23622803243778984, 0.23544380515900856, 0.23489797828065592, 0.2344240314064126, 0.23396140492150264, 0.23469456949111625, 0.23495366863958, 0.23516864315680655, 0.23409617900094098, 0.23318686864417473, 0.23258953646532943, 0.2339735833123925, 0.23509355655075936, 0.2356262492763282, 0.23514461498751305, 0.23482235477721644, 0.23452639277138315, 0.23335273150869304, 0.23257106964416746, 0.23020483881542236, 0.2301581316474332, 0.23013256710397292, 0.230273089225273, 0.23037246974704245, 0.2311254269784341, 0.23140907461789215, 0.23168318170983007, 0.23354875853758464, 0.23345820332359324]}, 'eliminated_features': [41, 59, 24, 47, 55, 60, 58, 15, 46, 39, 5, 54, 48, 62, 20, 57, 14, 4, 50, 52, 16, 51, 19, 43, 49, 6, 45, 17, 38, 21, 8, 10, 37, 12, 44, 29, 2, 56, 13, 42, 9, 22, 25, 3, 11], 'selected_features_names': ['Налог на прибыль (при уплате только ежеквартальных авансовых платежей)', 'Зарплаты и авансы (не позднее 15 и 30 числа каждого месяца)', 'Foreign Exchange Reserves: actual', 'Retail Sales YoY: forecastCorrection', 'Markit Services PMI: actual', 'Business Confidence: forecastCorrection', 'BZ=F', 'IMOEX.ME', 'Key_rate', 'Euro', 'Dollar', 'Gold', 'Balance lag 1', 'Balance lag 2', 'Balance lag 3', 'Balance lag 7', 'Balance lag 20', 'Balance lag 28', 'weekday', 'quarter', 'is_weekend']}\n"
     ]
    }
   ],
   "source": [
    "lfc_summary = select_features_wrapped_catboost(\n",
    "    feature_names,\n",
    "    EFeaturesSelectionAlgorithm.RecursiveByLossFunctionChange,\n",
    "    train_pool, val_pool,\n",
    "    steps=15,\n",
    "    n_features=N_IMPORTANT_FEATURES\n",
    ")\n",
    "print(lfc_summary)"
   ]
  },
  {
   "cell_type": "code",
   "execution_count": 10,
   "id": "d1ffa14b-e155-4ebb-ba07-e62842895178",
   "metadata": {
    "scrolled": true
   },
   "outputs": [
    {
     "name": "stdout",
     "output_type": "stream",
     "text": [
      "Algorithm for feature selection: EFeaturesSelectionAlgorithm.RecursiveByPredictionValuesChange\n",
      "{'selected_features': [1, 5, 15, 20, 22, 23, 28, 31, 34, 39, 40, 41, 47, 48, 50, 51, 53, 54, 60, 61, 63], 'eliminated_features_names': ['is_weekend', 'Праздники РФ', 'quarter', 'Inflation Rate MoM: actual', 'Unemployment Rate: actual', 'Inflation Rate MoM: forecastCorrection', 'Balance lag 23', 'Balance lag 10', 'Налог на прибыль (при уплате только ежеквартальных авансовых платежей)', 'Markit Manufacturing PMI: actual', 'Retail Sales YoY: forecastCorrection', 'Real Wage Growth YoY: actual', 'Balance lag 12', 'Balance lag 9', 'Balance lag 11', 'Business Confidence: actual', 'PPI MoM: forecastCorrection', 'BZ=F', 'Balance lag 24', 'Business Confidence: forecastCorrection', 'Balance of Trade: forecastCorrection', 'Real Wage Growth YoY: forecastCorrection', 'Dollar', 'Key_rate', 'Balance lag 5', 'Retail Sales YoY: actual', 'Industrial Production YoY: actual', 'Foreign Exchange Reserves: forecastCorrection', 'Unemployment Rate: forecastCorrection', 'Industrial Production YoY: forecastCorrection', 'Corporate Profits: actual', 'USDRUB=X', 'Balance lag 16', 'Balance lag 2', 'Balance lag 19', 'Markit Services PMI: forecastCorrection', 'Balance lag 26', 'Balance lag 29', 'Balance lag 22', 'Balance lag 4', 'Balance lag 13', 'Foreign Exchange Reserves: actual', 'Gold', 'Balance lag 3', 'Balance lag 25'], 'loss_graph': {'main_indices': [0, 1, 2, 3, 4, 5, 6, 7, 8, 9, 10, 11, 12, 13, 14, 15], 'removed_features_count': [0, 5, 9, 14, 17, 21, 24, 27, 30, 33, 35, 38, 40, 42, 43, 45], 'loss_values': [0.24370962137839247, 0.24553008392270986, 0.24712360044592177, 0.24366196665651935, 0.2423462549353565, 0.2451239343818503, 0.24296478799909446, 0.24618305603237853, 0.24646550863506964, 0.24582173960699547, 0.2455023578628479, 0.24583719254212508, 0.24517128079125072, 0.24773702543003956, 0.24415937007533992, 0.24450288450550067]}, 'eliminated_features': [65, 2, 64, 3, 11, 4, 56, 43, 0, 21, 18, 13, 45, 42, 44, 25, 16, 27, 57, 26, 6, 14, 32, 30, 38, 17, 9, 8, 12, 10, 19, 29, 49, 35, 52, 24, 59, 62, 55, 37, 46, 7, 33, 36, 58], 'selected_features_names': ['Зарплаты и авансы (не позднее 15 и 30 числа каждого месяца)', 'Balance of Trade: actual', 'PPI MoM: actual', 'Corporate Profits: forecastCorrection', 'Markit Manufacturing PMI: forecastCorrection', 'Markit Services PMI: actual', 'IMOEX.ME', 'Euro', 'Balance lag 1', 'Balance lag 6', 'Balance lag 7', 'Balance lag 8', 'Balance lag 14', 'Balance lag 15', 'Balance lag 17', 'Balance lag 18', 'Balance lag 20', 'Balance lag 21', 'Balance lag 27', 'Balance lag 28', 'weekday']}\n"
     ]
    }
   ],
   "source": [
    "pvc_summary = select_features_wrapped_catboost(\n",
    "    feature_names,\n",
    "    EFeaturesSelectionAlgorithm.RecursiveByPredictionValuesChange,\n",
    "    train_pool, val_pool,\n",
    "    steps=15,\n",
    "    n_features=N_IMPORTANT_FEATURES\n",
    ")\n",
    "print(pvc_summary)"
   ]
  },
  {
   "cell_type": "markdown",
   "id": "193833f0-96c5-468c-9a76-44894a8bea68",
   "metadata": {},
   "source": [
    "## Embedded method\n",
    "В качестве встроенного метода в работе используется важность признаков при построении алгоритма случайного леса.\n",
    "\n",
    "The impurity-based feature importances.\n",
    "The higher, the more important the feature. The importance of a feature is computed as the (normalized) total reduction of the criterion brought by that feature. Squared error for RandomForestRegressor.\n",
    "\n",
    "**Исследует нелинейность**"
   ]
  },
  {
   "cell_type": "code",
   "execution_count": 12,
   "id": "4786a103-0f51-4d63-affd-ff066bbf0296",
   "metadata": {},
   "outputs": [
    {
     "data": {
      "text/plain": [
       "{'Balance lag 22': 0.01632464852045337,\n",
       " 'Balance lag 29': 0.017691214917885407,\n",
       " 'Balance lag 25': 0.0182296401806807,\n",
       " 'Balance lag 10': 0.018451857359232594,\n",
       " 'Balance lag 18': 0.018878742632061362,\n",
       " 'Balance lag 15': 0.01899171236639701,\n",
       " 'Balance lag 27': 0.019123509004386866,\n",
       " 'Balance lag 16': 0.01944279216646284,\n",
       " 'Balance lag 9': 0.019479556743735433,\n",
       " 'Balance lag 20': 0.020834128566369087,\n",
       " 'Balance lag 4': 0.02356867522237286,\n",
       " 'Balance lag 26': 0.023855578457039433,\n",
       " 'Balance lag 6': 0.024599923839461458,\n",
       " 'Balance lag 19': 0.027979691789012898,\n",
       " 'Balance lag 14': 0.03027907238650555,\n",
       " 'Balance lag 8': 0.03717103713419924,\n",
       " 'weekday': 0.0401110216410937,\n",
       " 'Balance lag 21': 0.04133489551177642,\n",
       " 'Balance lag 28': 0.047411680511556996,\n",
       " 'Balance lag 1': 0.05434388357700047,\n",
       " 'Balance lag 7': 0.0878235419847851}"
      ]
     },
     "execution_count": 12,
     "metadata": {},
     "output_type": "execute_result"
    }
   ],
   "source": [
    "rf_model = RandomForestRegressor(n_estimators=200, random_state=777)\n",
    "rf_model.fit(X_train_fs[~X_train_fs.isna().any(axis=1)], y_train_fs[~X_train_fs.isna().any(axis=1)])\n",
    "feature_importance_sorted_indexes = np.argsort(rf_model.feature_importances_)[-N_IMPORTANT_FEATURES:]\n",
    "rf_important_features = dict(\n",
    "    zip(\n",
    "        rf_model.feature_names_in_[feature_importance_sorted_indexes],\n",
    "        rf_model.feature_importances_[feature_importance_sorted_indexes]\n",
    "    )\n",
    ")\n",
    "rf_important_features"
   ]
  },
  {
   "cell_type": "markdown",
   "id": "133eeb92-4a9b-4527-b0b9-5fcced4746df",
   "metadata": {},
   "source": [
    "## Filter method\n",
    "В качестве фильтрационного метода в работе используется Correlation-based Feature Selection.\n",
    "\n",
    "Его преимущество в простоте и интерпретируемости, недостатки в ограничении линейности, так как используется корреляция Пирсона.\n",
    "\n",
    "**Не исследует нелинейность**"
   ]
  },
  {
   "cell_type": "code",
   "execution_count": 13,
   "id": "f058a56a-9c4b-46c1-9f98-45858f00ae9d",
   "metadata": {},
   "outputs": [
    {
     "data": {
      "text/plain": [
       "Налог на прибыль (при уплате только ежеквартальных авансовых платежей)   -0.112321\n",
       "Зарплаты и авансы (не позднее 15 и 30 числа каждого месяца)               0.055371\n",
       "Праздники РФ                                                              0.000935\n",
       "Inflation Rate MoM: actual                                               -0.002128\n",
       "Inflation Rate MoM: forecastCorrection                                   -0.023608\n",
       "                                                                            ...   \n",
       "Balance lag 28                                                            0.182461\n",
       "Balance lag 29                                                            0.068180\n",
       "weekday                                                                   0.188907\n",
       "quarter                                                                  -0.004390\n",
       "is_weekend                                                                0.077867\n",
       "Length: 66, dtype: float64"
      ]
     },
     "execution_count": 13,
     "metadata": {},
     "output_type": "execute_result"
    }
   ],
   "source": [
    "feature_target_correlation = X_train[~X_train.isna().any(axis=1)].corrwith(y_train[~X_train.isna().any(axis=1)])\n",
    "feature_target_correlation"
   ]
  },
  {
   "cell_type": "code",
   "execution_count": 14,
   "id": "c576e30b-60b0-4036-a827-6e76bcd759ef",
   "metadata": {},
   "outputs": [
    {
     "data": {
      "text/plain": [
       "Balance lag 7                                                             0.246458\n",
       "weekday                                                                   0.188907\n",
       "Balance lag 28                                                            0.182461\n",
       "Foreign Exchange Reserves: actual                                         0.165658\n",
       "IMOEX.ME                                                                  0.160397\n",
       "Gold                                                                      0.151527\n",
       "Key_rate                                                                  0.150408\n",
       "Balance lag 14                                                            0.147700\n",
       "Balance lag 21                                                            0.144671\n",
       "Dollar                                                                    0.122576\n",
       "USDRUB=X                                                                  0.118958\n",
       "Balance lag 1                                                             0.116534\n",
       "Налог на прибыль (при уплате только ежеквартальных авансовых платежей)    0.112321\n",
       "Balance lag 8                                                             0.105948\n",
       "Foreign Exchange Reserves: forecastCorrection                             0.096180\n",
       "Business Confidence: forecastCorrection                                   0.091521\n",
       "Unemployment Rate: actual                                                 0.086472\n",
       "Balance lag 6                                                             0.086031\n",
       "BZ=F                                                                      0.085541\n",
       "Balance lag 15                                                            0.085298\n",
       "Unemployment Rate: forecastCorrection                                     0.082170\n",
       "dtype: float64"
      ]
     },
     "execution_count": 14,
     "metadata": {},
     "output_type": "execute_result"
    }
   ],
   "source": [
    "cfs_important_features = np.abs(feature_target_correlation).sort_values(ascending=False)[:N_IMPORTANT_FEATURES]\n",
    "cfs_important_features"
   ]
  },
  {
   "cell_type": "markdown",
   "id": "9684d150-d2cf-4d50-881a-8da3ff961103",
   "metadata": {},
   "source": [
    "## Stability\n",
    "Стабильность альтернативных методов отбора признаков будет проверена при помощи упорядоченной во времени кросс-валидации, подсчета среднего значения и стандартного отклонения целевой бизнес метрики и MAE на тренировочном и валидационном фолде."
   ]
  },
  {
   "cell_type": "code",
   "execution_count": 15,
   "id": "f8d424b9-b744-451b-8e05-f78af8352dd3",
   "metadata": {},
   "outputs": [
    {
     "name": "stdout",
     "output_type": "stream",
     "text": [
      "Learning rate set to 0.031388\n",
      "0:\tlearn: 0.2153595\ttotal: 1.81ms\tremaining: 1.8s\n",
      "500:\tlearn: 0.0433082\ttotal: 242ms\tremaining: 241ms\n",
      "999:\tlearn: 0.0093059\ttotal: 474ms\tremaining: 0us\n",
      "Learning rate set to 0.034946\n",
      "0:\tlearn: 0.2306059\ttotal: 1.26ms\tremaining: 1.26s\n",
      "500:\tlearn: 0.0603189\ttotal: 364ms\tremaining: 363ms\n",
      "999:\tlearn: 0.0209816\ttotal: 728ms\tremaining: 0us\n",
      "Learning rate set to 0.037231\n",
      "0:\tlearn: 0.2598573\ttotal: 1.05ms\tremaining: 1.05s\n",
      "500:\tlearn: 0.0786027\ttotal: 380ms\tremaining: 378ms\n",
      "999:\tlearn: 0.0296456\ttotal: 766ms\tremaining: 0us\n",
      "Learning rate set to 0.038948\n",
      "0:\tlearn: 0.2629822\ttotal: 696us\tremaining: 696ms\n",
      "500:\tlearn: 0.0970865\ttotal: 388ms\tremaining: 387ms\n",
      "999:\tlearn: 0.0408342\ttotal: 786ms\tremaining: 0us\n",
      "Learning rate set to 0.040337\n",
      "0:\tlearn: 0.2826025\ttotal: 790us\tremaining: 790ms\n",
      "500:\tlearn: 0.1119486\ttotal: 401ms\tremaining: 399ms\n",
      "999:\tlearn: 0.0520378\ttotal: 803ms\tremaining: 0us\n",
      "Learning rate set to 0.04151\n",
      "0:\tlearn: 0.2839401\ttotal: 767us\tremaining: 767ms\n",
      "500:\tlearn: 0.1268385\ttotal: 406ms\tremaining: 404ms\n",
      "999:\tlearn: 0.0636751\ttotal: 806ms\tremaining: 0us\n",
      "Learning rate set to 0.042529\n",
      "0:\tlearn: 0.2789052\ttotal: 840us\tremaining: 840ms\n",
      "500:\tlearn: 0.1322071\ttotal: 409ms\tremaining: 407ms\n",
      "999:\tlearn: 0.0703889\ttotal: 826ms\tremaining: 0us\n"
     ]
    }
   ],
   "source": [
    "shap_features = shap_summary['selected_features_names']\n",
    "X_train_shap = X_train[shap_features]\n",
    "shap_cv_result = get_time_series_cv_score(X_train_shap, y_train, {'random_state': 777}, CatBoostRegressor)"
   ]
  },
  {
   "cell_type": "code",
   "execution_count": 16,
   "id": "e50da427-2c68-4345-a943-f9235cfb7237",
   "metadata": {},
   "outputs": [
    {
     "data": {
      "text/plain": [
       "{'bm_mean': -0.0936528745811558,\n",
       " 'bm_std': 0.5272502579045983,\n",
       " 'mae_mean': 0.17320943677133593,\n",
       " 'mae_std': 0.030559885800084237}"
      ]
     },
     "execution_count": 16,
     "metadata": {},
     "output_type": "execute_result"
    }
   ],
   "source": [
    "shap_cv_result"
   ]
  },
  {
   "cell_type": "code",
   "execution_count": 17,
   "id": "38d1ec2e-0f1f-471a-8b7e-e5c07d87e911",
   "metadata": {},
   "outputs": [
    {
     "name": "stdout",
     "output_type": "stream",
     "text": [
      "Learning rate set to 0.031388\n",
      "0:\tlearn: 0.2151209\ttotal: 1.57ms\tremaining: 1.57s\n",
      "500:\tlearn: 0.0465168\ttotal: 240ms\tremaining: 239ms\n",
      "999:\tlearn: 0.0092835\ttotal: 465ms\tremaining: 0us\n",
      "Learning rate set to 0.034946\n",
      "0:\tlearn: 0.2317590\ttotal: 695us\tremaining: 695ms\n",
      "500:\tlearn: 0.0794302\ttotal: 318ms\tremaining: 317ms\n",
      "999:\tlearn: 0.0271743\ttotal: 642ms\tremaining: 0us\n",
      "Learning rate set to 0.037231\n",
      "0:\tlearn: 0.2597895\ttotal: 606us\tremaining: 606ms\n",
      "500:\tlearn: 0.0949573\ttotal: 349ms\tremaining: 347ms\n",
      "999:\tlearn: 0.0384848\ttotal: 694ms\tremaining: 0us\n",
      "Learning rate set to 0.038948\n",
      "0:\tlearn: 0.2631152\ttotal: 688us\tremaining: 688ms\n",
      "500:\tlearn: 0.1194160\ttotal: 356ms\tremaining: 355ms\n",
      "999:\tlearn: 0.0596220\ttotal: 712ms\tremaining: 0us\n",
      "Learning rate set to 0.040337\n",
      "0:\tlearn: 0.2823576\ttotal: 725us\tremaining: 725ms\n",
      "500:\tlearn: 0.1337175\ttotal: 367ms\tremaining: 366ms\n",
      "999:\tlearn: 0.0742764\ttotal: 739ms\tremaining: 0us\n",
      "Learning rate set to 0.04151\n",
      "0:\tlearn: 0.2834385\ttotal: 813us\tremaining: 813ms\n",
      "500:\tlearn: 0.1420099\ttotal: 367ms\tremaining: 366ms\n",
      "999:\tlearn: 0.0821181\ttotal: 734ms\tremaining: 0us\n",
      "Learning rate set to 0.042529\n",
      "0:\tlearn: 0.2783316\ttotal: 675us\tremaining: 675ms\n",
      "500:\tlearn: 0.1514705\ttotal: 374ms\tremaining: 373ms\n",
      "999:\tlearn: 0.0970081\ttotal: 753ms\tremaining: 0us\n"
     ]
    }
   ],
   "source": [
    "lfc_features = lfc_summary['selected_features_names']\n",
    "X_train_lfc = X_train[lfc_features]\n",
    "lfc_cv_result = get_time_series_cv_score(X_train_lfc, y_train, {'random_state': 777}, CatBoostRegressor)"
   ]
  },
  {
   "cell_type": "code",
   "execution_count": 18,
   "id": "220e6d91-c1c2-4052-bbde-f180c7955294",
   "metadata": {},
   "outputs": [
    {
     "data": {
      "text/plain": [
       "{'bm_mean': 0.02330100955097547,\n",
       " 'bm_std': 0.5144565935383005,\n",
       " 'mae_mean': 0.191931789337524,\n",
       " 'mae_std': 0.028184625449289492}"
      ]
     },
     "execution_count": 18,
     "metadata": {},
     "output_type": "execute_result"
    }
   ],
   "source": [
    "lfc_cv_result"
   ]
  },
  {
   "cell_type": "code",
   "execution_count": 19,
   "id": "27c77c47-9d26-4975-b697-abcb0aa8ecb3",
   "metadata": {},
   "outputs": [
    {
     "name": "stdout",
     "output_type": "stream",
     "text": [
      "Learning rate set to 0.031388\n",
      "0:\tlearn: 0.2153595\ttotal: 1.12ms\tremaining: 1.12s\n",
      "500:\tlearn: 0.0433082\ttotal: 247ms\tremaining: 246ms\n",
      "999:\tlearn: 0.0093059\ttotal: 492ms\tremaining: 0us\n",
      "Learning rate set to 0.034946\n",
      "0:\tlearn: 0.2306059\ttotal: 664us\tremaining: 664ms\n",
      "500:\tlearn: 0.0603189\ttotal: 358ms\tremaining: 357ms\n",
      "999:\tlearn: 0.0209816\ttotal: 718ms\tremaining: 0us\n",
      "Learning rate set to 0.037231\n",
      "0:\tlearn: 0.2598573\ttotal: 680us\tremaining: 680ms\n",
      "500:\tlearn: 0.0786027\ttotal: 377ms\tremaining: 376ms\n",
      "999:\tlearn: 0.0296456\ttotal: 754ms\tremaining: 0us\n",
      "Learning rate set to 0.038948\n",
      "0:\tlearn: 0.2629822\ttotal: 703us\tremaining: 703ms\n",
      "500:\tlearn: 0.0970865\ttotal: 464ms\tremaining: 462ms\n",
      "999:\tlearn: 0.0408342\ttotal: 854ms\tremaining: 0us\n",
      "Learning rate set to 0.040337\n",
      "0:\tlearn: 0.2826025\ttotal: 797us\tremaining: 796ms\n",
      "500:\tlearn: 0.1119486\ttotal: 398ms\tremaining: 397ms\n",
      "999:\tlearn: 0.0520378\ttotal: 800ms\tremaining: 0us\n",
      "Learning rate set to 0.04151\n",
      "0:\tlearn: 0.2839401\ttotal: 804us\tremaining: 804ms\n",
      "500:\tlearn: 0.1268385\ttotal: 394ms\tremaining: 392ms\n",
      "999:\tlearn: 0.0636751\ttotal: 798ms\tremaining: 0us\n",
      "Learning rate set to 0.042529\n",
      "0:\tlearn: 0.2789052\ttotal: 829us\tremaining: 829ms\n",
      "500:\tlearn: 0.1322071\ttotal: 405ms\tremaining: 403ms\n",
      "999:\tlearn: 0.0703889\ttotal: 812ms\tremaining: 0us\n"
     ]
    }
   ],
   "source": [
    "pvc_features = pvc_summary['selected_features_names']\n",
    "X_train_pvc = X_train[pvc_features]\n",
    "pvc_cv_result = get_time_series_cv_score(X_train_pvc, y_train, {'random_state': 777}, CatBoostRegressor)"
   ]
  },
  {
   "cell_type": "code",
   "execution_count": 20,
   "id": "07f436ff-78bc-4ac3-be9f-23ad96974014",
   "metadata": {},
   "outputs": [
    {
     "data": {
      "text/plain": [
       "{'bm_mean': -0.0936528745811558,\n",
       " 'bm_std': 0.5272502579045983,\n",
       " 'mae_mean': 0.17320943677133593,\n",
       " 'mae_std': 0.030559885800084237}"
      ]
     },
     "execution_count": 20,
     "metadata": {},
     "output_type": "execute_result"
    }
   ],
   "source": [
    "pvc_cv_result"
   ]
  },
  {
   "cell_type": "code",
   "execution_count": 21,
   "id": "45d7d83f-7deb-4715-9007-0670ce84d590",
   "metadata": {},
   "outputs": [
    {
     "name": "stdout",
     "output_type": "stream",
     "text": [
      "Learning rate set to 0.031388\n",
      "0:\tlearn: 0.2153013\ttotal: 1.33ms\tremaining: 1.33s\n",
      "500:\tlearn: 0.0421070\ttotal: 276ms\tremaining: 275ms\n",
      "999:\tlearn: 0.0098989\ttotal: 554ms\tremaining: 0us\n",
      "Learning rate set to 0.034946\n",
      "0:\tlearn: 0.2313275\ttotal: 898us\tremaining: 898ms\n",
      "500:\tlearn: 0.0657918\ttotal: 404ms\tremaining: 402ms\n",
      "999:\tlearn: 0.0212323\ttotal: 805ms\tremaining: 0us\n",
      "Learning rate set to 0.037231\n",
      "0:\tlearn: 0.2596213\ttotal: 845us\tremaining: 845ms\n",
      "500:\tlearn: 0.0813060\ttotal: 424ms\tremaining: 422ms\n",
      "999:\tlearn: 0.0345584\ttotal: 858ms\tremaining: 0us\n",
      "Learning rate set to 0.038948\n",
      "0:\tlearn: 0.2632344\ttotal: 854us\tremaining: 854ms\n",
      "500:\tlearn: 0.0977212\ttotal: 436ms\tremaining: 434ms\n",
      "999:\tlearn: 0.0455284\ttotal: 872ms\tremaining: 0us\n",
      "Learning rate set to 0.040337\n",
      "0:\tlearn: 0.2823254\ttotal: 896us\tremaining: 896ms\n",
      "500:\tlearn: 0.1209281\ttotal: 449ms\tremaining: 447ms\n",
      "999:\tlearn: 0.0610015\ttotal: 896ms\tremaining: 0us\n",
      "Learning rate set to 0.04151\n",
      "0:\tlearn: 0.2845894\ttotal: 297us\tremaining: 297ms\n",
      "500:\tlearn: 0.1265990\ttotal: 453ms\tremaining: 451ms\n",
      "999:\tlearn: 0.0662496\ttotal: 1s\tremaining: 0us\n",
      "Learning rate set to 0.042529\n",
      "0:\tlearn: 0.2796117\ttotal: 236us\tremaining: 236ms\n",
      "500:\tlearn: 0.1347072\ttotal: 452ms\tremaining: 450ms\n",
      "999:\tlearn: 0.0753604\ttotal: 908ms\tremaining: 0us\n"
     ]
    }
   ],
   "source": [
    "rf_features = rf_important_features.keys()\n",
    "X_train_rf = X_train[rf_features]\n",
    "rf_cv_result = get_time_series_cv_score(X_train_rf, y_train, {'random_state': 777}, CatBoostRegressor)"
   ]
  },
  {
   "cell_type": "code",
   "execution_count": 22,
   "id": "16be2454-2a50-417b-b239-6fa7c09f9b9c",
   "metadata": {},
   "outputs": [
    {
     "data": {
      "text/plain": [
       "{'bm_mean': -0.18648658867695467,\n",
       " 'bm_std': 0.37506574512109403,\n",
       " 'mae_mean': 0.17214285856879213,\n",
       " 'mae_std': 0.03315293251585714}"
      ]
     },
     "execution_count": 22,
     "metadata": {},
     "output_type": "execute_result"
    }
   ],
   "source": [
    "rf_cv_result"
   ]
  },
  {
   "cell_type": "code",
   "execution_count": 23,
   "id": "8f8677a0-62e9-412c-8ba3-c3a0423ad68e",
   "metadata": {},
   "outputs": [
    {
     "name": "stdout",
     "output_type": "stream",
     "text": [
      "Learning rate set to 0.031388\n",
      "0:\tlearn: 0.2155245\ttotal: 768us\tremaining: 767ms\n",
      "500:\tlearn: 0.0415307\ttotal: 242ms\tremaining: 241ms\n",
      "999:\tlearn: 0.0088216\ttotal: 478ms\tremaining: 0us\n",
      "Learning rate set to 0.034946\n",
      "0:\tlearn: 0.2315590\ttotal: 708us\tremaining: 708ms\n",
      "500:\tlearn: 0.0711674\ttotal: 343ms\tremaining: 341ms\n",
      "999:\tlearn: 0.0239550\ttotal: 688ms\tremaining: 0us\n",
      "Learning rate set to 0.037231\n",
      "0:\tlearn: 0.2595348\ttotal: 729us\tremaining: 728ms\n",
      "500:\tlearn: 0.0957706\ttotal: 368ms\tremaining: 367ms\n",
      "999:\tlearn: 0.0393431\ttotal: 740ms\tremaining: 0us\n",
      "Learning rate set to 0.038948\n",
      "0:\tlearn: 0.2629346\ttotal: 653us\tremaining: 652ms\n",
      "500:\tlearn: 0.1139837\ttotal: 382ms\tremaining: 380ms\n",
      "999:\tlearn: 0.0537427\ttotal: 765ms\tremaining: 0us\n",
      "Learning rate set to 0.040337\n",
      "0:\tlearn: 0.2824908\ttotal: 794us\tremaining: 793ms\n",
      "500:\tlearn: 0.1341263\ttotal: 389ms\tremaining: 387ms\n",
      "999:\tlearn: 0.0763459\ttotal: 780ms\tremaining: 0us\n",
      "Learning rate set to 0.04151\n",
      "0:\tlearn: 0.2837535\ttotal: 729us\tremaining: 729ms\n",
      "500:\tlearn: 0.1439707\ttotal: 390ms\tremaining: 388ms\n",
      "999:\tlearn: 0.0849975\ttotal: 776ms\tremaining: 0us\n",
      "Learning rate set to 0.042529\n",
      "0:\tlearn: 0.2790055\ttotal: 688us\tremaining: 688ms\n",
      "500:\tlearn: 0.1425706\ttotal: 395ms\tremaining: 394ms\n",
      "999:\tlearn: 0.0835520\ttotal: 791ms\tremaining: 0us\n"
     ]
    }
   ],
   "source": [
    "cfs_features = cfs_important_features.index.tolist()\n",
    "X_train_cfs = X_train[cfs_features]\n",
    "cfs_cv_result = get_time_series_cv_score(X_train_cfs, y_train, {'random_state': 777}, CatBoostRegressor)"
   ]
  },
  {
   "cell_type": "code",
   "execution_count": 24,
   "id": "e5baf26a-c063-47d3-8d29-7becc6a6bea5",
   "metadata": {},
   "outputs": [
    {
     "data": {
      "text/plain": [
       "{'bm_mean': -0.0025555441902532943,\n",
       " 'bm_std': 0.6416747084611824,\n",
       " 'mae_mean': 0.19101038142554785,\n",
       " 'mae_std': 0.03222945198531938}"
      ]
     },
     "execution_count": 24,
     "metadata": {},
     "output_type": "execute_result"
    }
   ],
   "source": [
    "cfs_cv_result"
   ]
  },
  {
   "cell_type": "code",
   "execution_count": 25,
   "id": "860d5423-9948-4a26-ada2-fb97c992e73b",
   "metadata": {},
   "outputs": [
    {
     "data": {
      "text/html": [
       "<div>\n",
       "<style scoped>\n",
       "    .dataframe tbody tr th:only-of-type {\n",
       "        vertical-align: middle;\n",
       "    }\n",
       "\n",
       "    .dataframe tbody tr th {\n",
       "        vertical-align: top;\n",
       "    }\n",
       "\n",
       "    .dataframe thead th {\n",
       "        text-align: right;\n",
       "    }\n",
       "</style>\n",
       "<table border=\"1\" class=\"dataframe\">\n",
       "  <thead>\n",
       "    <tr style=\"text-align: right;\">\n",
       "      <th></th>\n",
       "      <th>Business metric mean</th>\n",
       "      <th>Business metric std</th>\n",
       "      <th>MAE mean</th>\n",
       "      <th>MAE std</th>\n",
       "    </tr>\n",
       "  </thead>\n",
       "  <tbody>\n",
       "    <tr>\n",
       "      <th>Shap</th>\n",
       "      <td>-0.093653</td>\n",
       "      <td>0.527250</td>\n",
       "      <td>0.173209</td>\n",
       "      <td>0.030560</td>\n",
       "    </tr>\n",
       "    <tr>\n",
       "      <th>Loss function change</th>\n",
       "      <td>0.023301</td>\n",
       "      <td>0.514457</td>\n",
       "      <td>0.191932</td>\n",
       "      <td>0.028185</td>\n",
       "    </tr>\n",
       "    <tr>\n",
       "      <th>Prediction values change</th>\n",
       "      <td>-0.093653</td>\n",
       "      <td>0.527250</td>\n",
       "      <td>0.173209</td>\n",
       "      <td>0.030560</td>\n",
       "    </tr>\n",
       "    <tr>\n",
       "      <th>Random forest feature importance</th>\n",
       "      <td>-0.186487</td>\n",
       "      <td>0.375066</td>\n",
       "      <td>0.172143</td>\n",
       "      <td>0.033153</td>\n",
       "    </tr>\n",
       "    <tr>\n",
       "      <th>Correlation-based</th>\n",
       "      <td>-0.002556</td>\n",
       "      <td>0.641675</td>\n",
       "      <td>0.191010</td>\n",
       "      <td>0.032229</td>\n",
       "    </tr>\n",
       "  </tbody>\n",
       "</table>\n",
       "</div>"
      ],
      "text/plain": [
       "                                  Business metric mean  Business metric std  \\\n",
       "Shap                                         -0.093653             0.527250   \n",
       "Loss function change                          0.023301             0.514457   \n",
       "Prediction values change                     -0.093653             0.527250   \n",
       "Random forest feature importance             -0.186487             0.375066   \n",
       "Correlation-based                            -0.002556             0.641675   \n",
       "\n",
       "                                  MAE mean   MAE std  \n",
       "Shap                              0.173209  0.030560  \n",
       "Loss function change              0.191932  0.028185  \n",
       "Prediction values change          0.173209  0.030560  \n",
       "Random forest feature importance  0.172143  0.033153  \n",
       "Correlation-based                 0.191010  0.032229  "
      ]
     },
     "execution_count": 25,
     "metadata": {},
     "output_type": "execute_result"
    }
   ],
   "source": [
    "# Итоговая таблица стабильности методов\n",
    "stability_result_df = pd.DataFrame(\n",
    "    [shap_cv_result, lfc_cv_result, pvc_cv_result, rf_cv_result, cfs_cv_result],\n",
    "    index=['Shap', 'Loss function change', 'Prediction values change', 'Random forest feature importance', 'Correlation-based'],\n",
    ")\n",
    "stability_result_df.columns = ['Business metric mean', 'Business metric std', 'MAE mean', 'MAE std']\n",
    "stability_result_df"
   ]
  },
  {
   "cell_type": "markdown",
   "id": "ecc1e238-7fea-480c-a1fe-af837aa79634",
   "metadata": {},
   "source": [
    "С точки зрения стабильности и показанных результатов итоговый метод выбора признаков - **CatBoost recursive loss function change based feature selection algorithm**."
   ]
  },
  {
   "cell_type": "code",
   "execution_count": 26,
   "id": "a1df9d49-ab83-4eca-9188-767f66ec62a1",
   "metadata": {},
   "outputs": [
    {
     "data": {
      "text/plain": [
       "['Налог на прибыль (при уплате только ежеквартальных авансовых платежей)',\n",
       " 'Зарплаты и авансы (не позднее 15 и 30 числа каждого месяца)',\n",
       " 'Foreign Exchange Reserves: actual',\n",
       " 'Retail Sales YoY: forecastCorrection',\n",
       " 'Markit Services PMI: actual',\n",
       " 'Business Confidence: forecastCorrection',\n",
       " 'BZ=F',\n",
       " 'IMOEX.ME',\n",
       " 'Key_rate',\n",
       " 'Euro',\n",
       " 'Dollar',\n",
       " 'Gold',\n",
       " 'Balance lag 1',\n",
       " 'Balance lag 2',\n",
       " 'Balance lag 3',\n",
       " 'Balance lag 7',\n",
       " 'Balance lag 20',\n",
       " 'Balance lag 28',\n",
       " 'weekday',\n",
       " 'quarter',\n",
       " 'is_weekend']"
      ]
     },
     "execution_count": 26,
     "metadata": {},
     "output_type": "execute_result"
    }
   ],
   "source": [
    "lfc_features"
   ]
  },
  {
   "cell_type": "markdown",
   "id": "b37bcfd2-19b7-464d-892f-ffabaa0af0cc",
   "metadata": {},
   "source": [
    "# Model tuning targeting business metric\n",
    "Модель автоматически подбирает гиперпараметры, оптимизируя целевую бизнес метрику.\n",
    "В качестве модели выступает CatBoost"
   ]
  },
  {
   "cell_type": "code",
   "execution_count": 39,
   "id": "12ed562a-ca7a-4907-956c-fe5ca10c6537",
   "metadata": {},
   "outputs": [
    {
     "name": "stderr",
     "output_type": "stream",
     "text": [
      "[I 2024-04-14 22:34:10,461] A new study created in memory with name: no-name-6df43fb9-788b-44f3-8f22-b3bb1b6c665e\n",
      "  0%|                                                                                             | 0/100 [00:00<?, ?it/s]"
     ]
    },
    {
     "name": "stdout",
     "output_type": "stream",
     "text": [
      "Learning rate set to 0.074915\n",
      "0:\tlearn: 0.2159906\ttotal: 2.23ms\tremaining: 763ms\n",
      "342:\tlearn: 0.0360598\ttotal: 285ms\tremaining: 0us\n",
      "Learning rate set to 0.083407\n",
      "0:\tlearn: 0.2316739\ttotal: 1.12ms\tremaining: 382ms\n",
      "342:\tlearn: 0.0601968\ttotal: 321ms\tremaining: 0us\n",
      "Learning rate set to 0.088861\n",
      "0:\tlearn: 0.2599135\ttotal: 2ms\tremaining: 686ms\n",
      "342:\tlearn: 0.0808665\ttotal: 354ms\tremaining: 0us\n",
      "Learning rate set to 0.09296\n",
      "0:\tlearn: 0.2623657\ttotal: 1.54ms\tremaining: 529ms\n",
      "342:\tlearn: 0.1016629\ttotal: 359ms\tremaining: 0us\n",
      "Learning rate set to 0.096275\n",
      "0:\tlearn: 0.2833340\ttotal: 1.01ms\tremaining: 346ms\n",
      "342:\tlearn: 0.1164288\ttotal: 374ms\tremaining: 0us\n",
      "Learning rate set to 0.099074\n",
      "0:\tlearn: 0.2839396\ttotal: 1.52ms\tremaining: 521ms\n",
      "342:\tlearn: 0.1244492\ttotal: 385ms\tremaining: 0us\n",
      "Learning rate set to 0.101507\n",
      "0:\tlearn: 0.2777454\ttotal: 1.47ms\tremaining: 503ms\n"
     ]
    },
    {
     "name": "stderr",
     "output_type": "stream",
     "text": [
      "Best trial: 0. Best value: 0.0634668:   1%|▎                           | 1/100 [00:02<04:21,  2.64s/it, 2.64/1200 seconds]"
     ]
    },
    {
     "name": "stdout",
     "output_type": "stream",
     "text": [
      "342:\tlearn: 0.1267611\ttotal: 399ms\tremaining: 0us\n",
      "[I 2024-04-14 22:34:13,106] Trial 0 finished with value: 0.06346676229275842 and parameters: {'loss_function': 'RMSE', 'depth': 6, 'iterations': 343, 'min_data_in_leaf': 29, 'random_strength': 8.024855189499362}. Best is trial 0 with value: 0.06346676229275842.\n",
      "0:\tlearn: 0.1121417\ttotal: 1.45ms\tremaining: 424ms\n",
      "293:\tlearn: 0.0313783\ttotal: 353ms\tremaining: 0us\n",
      "0:\tlearn: 0.1274907\ttotal: 1.68ms\tremaining: 492ms\n",
      "293:\tlearn: 0.0577159\ttotal: 536ms\tremaining: 0us\n",
      "0:\tlearn: 0.1382259\ttotal: 2.34ms\tremaining: 686ms\n",
      "293:\tlearn: 0.0718577\ttotal: 554ms\tremaining: 0us\n",
      "0:\tlearn: 0.1434193\ttotal: 2.02ms\tremaining: 592ms\n",
      "293:\tlearn: 0.0906125\ttotal: 540ms\tremaining: 0us\n",
      "0:\tlearn: 0.1601176\ttotal: 969us\tremaining: 284ms\n",
      "293:\tlearn: 0.0982293\ttotal: 610ms\tremaining: 0us\n",
      "0:\tlearn: 0.1632945\ttotal: 2.67ms\tremaining: 783ms\n",
      "293:\tlearn: 0.1116893\ttotal: 631ms\tremaining: 0us\n",
      "0:\tlearn: 0.1612851\ttotal: 2.5ms\tremaining: 732ms\n"
     ]
    },
    {
     "name": "stderr",
     "output_type": "stream",
     "text": [
      "Best trial: 0. Best value: 0.0634668:   2%|▌                           | 2/100 [00:06<05:39,  3.46s/it, 6.68/1200 seconds]"
     ]
    },
    {
     "name": "stdout",
     "output_type": "stream",
     "text": [
      "293:\tlearn: 0.1113711\ttotal: 617ms\tremaining: 0us\n",
      "[I 2024-04-14 22:34:17,143] Trial 1 finished with value: -0.1846840577980648 and parameters: {'loss_function': 'MAE', 'depth': 8, 'iterations': 294, 'min_data_in_leaf': 43, 'random_strength': 4.186634107636059}. Best is trial 0 with value: 0.06346676229275842.\n",
      "Learning rate set to 0.02944\n",
      "0:\tlearn: 0.2160794\ttotal: 751us\tremaining: 812ms\n",
      "500:\tlearn: 0.0705735\ttotal: 483ms\tremaining: 560ms\n",
      "1000:\tlearn: 0.0170577\ttotal: 1.08s\tremaining: 87.3ms\n",
      "1081:\tlearn: 0.0138318\ttotal: 1.17s\tremaining: 0us\n",
      "Learning rate set to 0.032777\n",
      "0:\tlearn: 0.2317828\ttotal: 2.2ms\tremaining: 2.38s\n",
      "500:\tlearn: 0.0956293\ttotal: 595ms\tremaining: 689ms\n",
      "1000:\tlearn: 0.0325228\ttotal: 1.27s\tremaining: 103ms\n",
      "1081:\tlearn: 0.0277786\ttotal: 1.38s\tremaining: 0us\n",
      "Learning rate set to 0.03492\n",
      "0:\tlearn: 0.2603648\ttotal: 2.22ms\tremaining: 2.4s\n",
      "500:\tlearn: 0.1188307\ttotal: 623ms\tremaining: 722ms\n",
      "1000:\tlearn: 0.0495964\ttotal: 1.33s\tremaining: 107ms\n",
      "1081:\tlearn: 0.0434720\ttotal: 1.44s\tremaining: 0us\n",
      "Learning rate set to 0.036531\n",
      "0:\tlearn: 0.2632591\ttotal: 1.28ms\tremaining: 1.38s\n",
      "500:\tlearn: 0.1376284\ttotal: 636ms\tremaining: 738ms\n",
      "1000:\tlearn: 0.0638452\ttotal: 1.36s\tremaining: 110ms\n",
      "1081:\tlearn: 0.0566421\ttotal: 1.48s\tremaining: 0us\n",
      "Learning rate set to 0.037834\n",
      "0:\tlearn: 0.2835946\ttotal: 963us\tremaining: 1.04s\n",
      "500:\tlearn: 0.1508869\ttotal: 661ms\tremaining: 766ms\n",
      "1000:\tlearn: 0.0782383\ttotal: 1.4s\tremaining: 113ms\n",
      "1081:\tlearn: 0.0706625\ttotal: 1.51s\tremaining: 0us\n",
      "Learning rate set to 0.038934\n",
      "0:\tlearn: 0.2844825\ttotal: 1.58ms\tremaining: 1.7s\n",
      "500:\tlearn: 0.1599430\ttotal: 664ms\tremaining: 770ms\n",
      "1000:\tlearn: 0.0892767\ttotal: 1.42s\tremaining: 115ms\n",
      "1081:\tlearn: 0.0823235\ttotal: 1.55s\tremaining: 0us\n",
      "Learning rate set to 0.03989\n",
      "0:\tlearn: 0.2790163\ttotal: 1.77ms\tremaining: 1.91s\n",
      "500:\tlearn: 0.1596454\ttotal: 696ms\tremaining: 807ms\n"
     ]
    },
    {
     "name": "stderr",
     "output_type": "stream",
     "text": [
      "Best trial: 0. Best value: 0.0634668:   3%|▊                          | 3/100 [00:17<10:52,  6.72s/it, 17.28/1200 seconds]"
     ]
    },
    {
     "name": "stdout",
     "output_type": "stream",
     "text": [
      "1000:\tlearn: 0.0913273\ttotal: 1.48s\tremaining: 120ms\n",
      "1081:\tlearn: 0.0845823\ttotal: 1.61s\tremaining: 0us\n",
      "[I 2024-04-14 22:34:27,746] Trial 2 finished with value: -0.05917909899509418 and parameters: {'loss_function': 'RMSE', 'depth': 7, 'iterations': 1082, 'min_data_in_leaf': 39, 'random_strength': 8.849655468946635}. Best is trial 0 with value: 0.06346676229275842.\n",
      "0:\tlearn: 0.1123276\ttotal: 752us\tremaining: 843ms\n",
      "500:\tlearn: 0.0518904\ttotal: 312ms\tremaining: 386ms\n",
      "1000:\tlearn: 0.0333412\ttotal: 664ms\tremaining: 79.6ms\n",
      "1120:\tlearn: 0.0307469\ttotal: 748ms\tremaining: 0us\n",
      "0:\tlearn: 0.1276919\ttotal: 1.09ms\tremaining: 1.23s\n",
      "500:\tlearn: 0.0752468\ttotal: 374ms\tremaining: 462ms\n",
      "1000:\tlearn: 0.0513048\ttotal: 787ms\tremaining: 94.4ms\n",
      "1120:\tlearn: 0.0481882\ttotal: 881ms\tremaining: 0us\n",
      "0:\tlearn: 0.1383636\ttotal: 1.02ms\tremaining: 1.14s\n",
      "500:\tlearn: 0.0922611\ttotal: 404ms\tremaining: 499ms\n",
      "1000:\tlearn: 0.0668454\ttotal: 838ms\tremaining: 101ms\n",
      "1120:\tlearn: 0.0630115\ttotal: 942ms\tremaining: 0us\n",
      "0:\tlearn: 0.1441570\ttotal: 1.03ms\tremaining: 1.15s\n",
      "500:\tlearn: 0.1057491\ttotal: 399ms\tremaining: 494ms\n",
      "1000:\tlearn: 0.0813540\ttotal: 853ms\tremaining: 102ms\n",
      "1120:\tlearn: 0.0776403\ttotal: 962ms\tremaining: 0us\n",
      "0:\tlearn: 0.1601176\ttotal: 1.04ms\tremaining: 1.17s\n",
      "500:\tlearn: 0.1179898\ttotal: 433ms\tremaining: 536ms\n",
      "1000:\tlearn: 0.0943119\ttotal: 943ms\tremaining: 113ms\n",
      "1120:\tlearn: 0.0904708\ttotal: 1.06s\tremaining: 0us\n",
      "0:\tlearn: 0.1634930\ttotal: 1.14ms\tremaining: 1.28s\n",
      "500:\tlearn: 0.1235959\ttotal: 437ms\tremaining: 541ms\n",
      "1000:\tlearn: 0.1013918\ttotal: 936ms\tremaining: 112ms\n",
      "1120:\tlearn: 0.0975270\ttotal: 1.05s\tremaining: 0us\n",
      "0:\tlearn: 0.1619024\ttotal: 1.1ms\tremaining: 1.23s\n",
      "500:\tlearn: 0.1260576\ttotal: 474ms\tremaining: 586ms\n"
     ]
    },
    {
     "name": "stderr",
     "output_type": "stream",
     "text": [
      "Best trial: 0. Best value: 0.0634668:   4%|█                          | 4/100 [00:24<11:00,  6.88s/it, 24.41/1200 seconds]"
     ]
    },
    {
     "name": "stdout",
     "output_type": "stream",
     "text": [
      "1000:\tlearn: 0.1043721\ttotal: 987ms\tremaining: 118ms\n",
      "1120:\tlearn: 0.1007890\ttotal: 1.11s\tremaining: 0us\n",
      "[I 2024-04-14 22:34:34,871] Trial 3 finished with value: -0.07429118210308426 and parameters: {'loss_function': 'MAE', 'depth': 5, 'iterations': 1121, 'min_data_in_leaf': 27, 'random_strength': 8.076036592696308}. Best is trial 0 with value: 0.06346676229275842.\n",
      "Learning rate set to 0.063054\n",
      "0:\tlearn: 0.2157148\ttotal: 1.25ms\tremaining: 531ms\n",
      "423:\tlearn: 0.0668844\ttotal: 215ms\tremaining: 0us\n",
      "Learning rate set to 0.070202\n",
      "0:\tlearn: 0.2317843\ttotal: 583us\tremaining: 247ms\n",
      "423:\tlearn: 0.0974768\ttotal: 244ms\tremaining: 0us\n",
      "Learning rate set to 0.074793\n",
      "0:\tlearn: 0.2602476\ttotal: 573us\tremaining: 242ms\n",
      "423:\tlearn: 0.1230311\ttotal: 263ms\tremaining: 0us\n",
      "Learning rate set to 0.078242\n",
      "0:\tlearn: 0.2628969\ttotal: 667us\tremaining: 282ms\n",
      "423:\tlearn: 0.1482227\ttotal: 263ms\tremaining: 0us\n",
      "Learning rate set to 0.081033\n",
      "0:\tlearn: 0.2826074\ttotal: 728us\tremaining: 308ms\n",
      "423:\tlearn: 0.1635211\ttotal: 264ms\tremaining: 0us\n",
      "Learning rate set to 0.083389\n",
      "0:\tlearn: 0.2842518\ttotal: 1.31ms\tremaining: 556ms\n",
      "423:\tlearn: 0.1681064\ttotal: 324ms\tremaining: 0us\n",
      "Learning rate set to 0.085436\n",
      "0:\tlearn: 0.2790116\ttotal: 1.76ms\tremaining: 746ms\n"
     ]
    },
    {
     "name": "stderr",
     "output_type": "stream",
     "text": [
      "Best trial: 4. Best value: 0.178688:   5%|█▍                          | 5/100 [00:26<08:08,  5.14s/it, 26.47/1200 seconds]"
     ]
    },
    {
     "name": "stdout",
     "output_type": "stream",
     "text": [
      "423:\tlearn: 0.1722259\ttotal: 324ms\tremaining: 0us\n",
      "[I 2024-04-14 22:34:36,931] Trial 4 finished with value: 0.1786877238825161 and parameters: {'loss_function': 'RMSE', 'depth': 4, 'iterations': 424, 'min_data_in_leaf': 56, 'random_strength': 5.131123236273451}. Best is trial 4 with value: 0.1786877238825161.\n",
      "0:\tlearn: 0.1091885\ttotal: 1.22ms\tremaining: 340ms\n",
      "280:\tlearn: 0.0833203\ttotal: 128ms\tremaining: 0us\n",
      "0:\tlearn: 0.1260221\ttotal: 1.17ms\tremaining: 327ms\n",
      "280:\tlearn: 0.1069312\ttotal: 144ms\tremaining: 0us\n",
      "0:\tlearn: 0.1336930\ttotal: 601us\tremaining: 168ms\n",
      "280:\tlearn: 0.1189550\ttotal: 158ms\tremaining: 0us\n",
      "0:\tlearn: 0.1400887\ttotal: 1.06ms\tremaining: 296ms\n",
      "280:\tlearn: 0.1275424\ttotal: 165ms\tremaining: 0us\n",
      "0:\tlearn: 0.1556683\ttotal: 1.42ms\tremaining: 396ms\n",
      "280:\tlearn: 0.1398345\ttotal: 172ms\tremaining: 0us\n",
      "0:\tlearn: 0.1592090\ttotal: 947us\tremaining: 265ms\n",
      "280:\tlearn: 0.1437598\ttotal: 201ms\tremaining: 0us\n",
      "0:\tlearn: 0.1577247\ttotal: 1.09ms\tremaining: 305ms\n"
     ]
    },
    {
     "name": "stderr",
     "output_type": "stream",
     "text": [
      "Best trial: 4. Best value: 0.178688:   6%|█▋                          | 6/100 [00:27<06:00,  3.83s/it, 27.76/1200 seconds]"
     ]
    },
    {
     "name": "stdout",
     "output_type": "stream",
     "text": [
      "280:\tlearn: 0.1449994\ttotal: 192ms\tremaining: 0us\n",
      "[I 2024-04-14 22:34:38,217] Trial 5 finished with value: -0.37383822234188546 and parameters: {'loss_function': 'MAPE', 'depth': 4, 'iterations': 281, 'min_data_in_leaf': 73, 'random_strength': 8.819049509226211}. Best is trial 4 with value: 0.1786877238825161.\n",
      "0:\tlearn: 0.1122067\ttotal: 1.54ms\tremaining: 2.25s\n",
      "500:\tlearn: 0.0232950\ttotal: 523ms\tremaining: 1s\n",
      "1000:\tlearn: 0.0082102\ttotal: 1.08s\tremaining: 500ms\n",
      "1462:\tlearn: 0.0040779\ttotal: 1.66s\tremaining: 0us\n",
      "0:\tlearn: 0.1275306\ttotal: 4.14ms\tremaining: 6.05s\n",
      "500:\tlearn: 0.0419631\ttotal: 648ms\tremaining: 1.24s\n",
      "1000:\tlearn: 0.0177233\ttotal: 1.33s\tremaining: 615ms\n",
      "1462:\tlearn: 0.0113298\ttotal: 2.01s\tremaining: 0us\n",
      "0:\tlearn: 0.1379554\ttotal: 1.98ms\tremaining: 2.89s\n",
      "500:\tlearn: 0.0569357\ttotal: 655ms\tremaining: 1.26s\n",
      "1000:\tlearn: 0.0291434\ttotal: 1.39s\tremaining: 641ms\n",
      "1462:\tlearn: 0.0197590\ttotal: 2.06s\tremaining: 0us\n",
      "0:\tlearn: 0.1438761\ttotal: 1.64ms\tremaining: 2.4s\n",
      "500:\tlearn: 0.0728029\ttotal: 724ms\tremaining: 1.39s\n",
      "1000:\tlearn: 0.0413685\ttotal: 1.51s\tremaining: 697ms\n",
      "1462:\tlearn: 0.0293731\ttotal: 2.21s\tremaining: 0us\n",
      "0:\tlearn: 0.1601176\ttotal: 1.5ms\tremaining: 2.2s\n",
      "500:\tlearn: 0.0858152\ttotal: 654ms\tremaining: 1.26s\n",
      "1000:\tlearn: 0.0543233\ttotal: 1.43s\tremaining: 661ms\n",
      "1462:\tlearn: 0.0409685\ttotal: 2.15s\tremaining: 0us\n",
      "0:\tlearn: 0.1633863\ttotal: 2.52ms\tremaining: 3.69s\n",
      "500:\tlearn: 0.0980740\ttotal: 674ms\tremaining: 1.29s\n",
      "1000:\tlearn: 0.0627375\ttotal: 1.49s\tremaining: 689ms\n",
      "1462:\tlearn: 0.0467303\ttotal: 2.25s\tremaining: 0us\n",
      "0:\tlearn: 0.1615339\ttotal: 1.68ms\tremaining: 2.45s\n",
      "500:\tlearn: 0.0990838\ttotal: 729ms\tremaining: 1.4s\n",
      "1000:\tlearn: 0.0660622\ttotal: 1.58s\tremaining: 732ms\n"
     ]
    },
    {
     "name": "stderr",
     "output_type": "stream",
     "text": [
      "Best trial: 4. Best value: 0.178688:   7%|█▉                          | 7/100 [00:43<11:47,  7.61s/it, 43.14/1200 seconds]"
     ]
    },
    {
     "name": "stdout",
     "output_type": "stream",
     "text": [
      "1462:\tlearn: 0.0524793\ttotal: 2.38s\tremaining: 0us\n",
      "[I 2024-04-14 22:34:53,600] Trial 6 finished with value: -0.06280809108164913 and parameters: {'loss_function': 'MAE', 'depth': 7, 'iterations': 1463, 'min_data_in_leaf': 57, 'random_strength': 7.066644775366263}. Best is trial 4 with value: 0.1786877238825161.\n",
      "Learning rate set to 0.034729\n",
      "0:\tlearn: 0.2156615\ttotal: 894us\tremaining: 789ms\n",
      "500:\tlearn: 0.0662944\ttotal: 397ms\tremaining: 303ms\n",
      "882:\tlearn: 0.0222625\ttotal: 723ms\tremaining: 0us\n",
      "Learning rate set to 0.038666\n",
      "0:\tlearn: 0.2318860\ttotal: 1.01ms\tremaining: 895ms\n",
      "500:\tlearn: 0.0952821\ttotal: 474ms\tremaining: 362ms\n",
      "882:\tlearn: 0.0475552\ttotal: 859ms\tremaining: 0us\n",
      "Learning rate set to 0.041195\n",
      "0:\tlearn: 0.2603686\ttotal: 922us\tremaining: 813ms\n",
      "500:\tlearn: 0.1157858\ttotal: 496ms\tremaining: 378ms\n",
      "882:\tlearn: 0.0641972\ttotal: 910ms\tremaining: 0us\n",
      "Learning rate set to 0.043095\n",
      "0:\tlearn: 0.2629405\ttotal: 1.11ms\tremaining: 983ms\n",
      "500:\tlearn: 0.1385879\ttotal: 507ms\tremaining: 387ms\n",
      "882:\tlearn: 0.0854317\ttotal: 926ms\tremaining: 0us\n",
      "Learning rate set to 0.044632\n",
      "0:\tlearn: 0.2831203\ttotal: 1.02ms\tremaining: 898ms\n",
      "500:\tlearn: 0.1549347\ttotal: 526ms\tremaining: 401ms\n",
      "882:\tlearn: 0.1019904\ttotal: 964ms\tremaining: 0us\n",
      "Learning rate set to 0.045929\n",
      "0:\tlearn: 0.2845170\ttotal: 1.31ms\tremaining: 1.16s\n",
      "500:\tlearn: 0.1593833\ttotal: 536ms\tremaining: 408ms\n",
      "882:\tlearn: 0.1113569\ttotal: 998ms\tremaining: 0us\n",
      "Learning rate set to 0.047057\n",
      "0:\tlearn: 0.2790508\ttotal: 1.18ms\tremaining: 1.04s\n",
      "500:\tlearn: 0.1597852\ttotal: 536ms\tremaining: 409ms\n"
     ]
    },
    {
     "name": "stderr",
     "output_type": "stream",
     "text": [
      "Best trial: 4. Best value: 0.178688:   8%|██▏                         | 8/100 [00:49<11:13,  7.32s/it, 49.83/1200 seconds]"
     ]
    },
    {
     "name": "stdout",
     "output_type": "stream",
     "text": [
      "882:\tlearn: 0.1114822\ttotal: 985ms\tremaining: 0us\n",
      "[I 2024-04-14 22:35:00,293] Trial 7 finished with value: 0.03057980384316506 and parameters: {'loss_function': 'RMSE', 'depth': 6, 'iterations': 883, 'min_data_in_leaf': 61, 'random_strength': 5.350275970526196}. Best is trial 4 with value: 0.1786877238825161.\n",
      "0:\tlearn: 0.1122883\ttotal: 1.74ms\tremaining: 1.93s\n",
      "500:\tlearn: 0.0460006\ttotal: 344ms\tremaining: 421ms\n",
      "1000:\tlearn: 0.0288366\ttotal: 714ms\tremaining: 80ms\n",
      "1112:\tlearn: 0.0268596\ttotal: 790ms\tremaining: 0us\n",
      "0:\tlearn: 0.1274832\ttotal: 953us\tremaining: 1.06s\n",
      "500:\tlearn: 0.0666624\ttotal: 398ms\tremaining: 486ms\n",
      "1000:\tlearn: 0.0476443\ttotal: 788ms\tremaining: 88.2ms\n",
      "1112:\tlearn: 0.0450135\ttotal: 874ms\tremaining: 0us\n",
      "0:\tlearn: 0.1383213\ttotal: 1.08ms\tremaining: 1.2s\n",
      "500:\tlearn: 0.0826538\ttotal: 410ms\tremaining: 501ms\n",
      "1000:\tlearn: 0.0621153\ttotal: 819ms\tremaining: 91.6ms\n",
      "1112:\tlearn: 0.0593309\ttotal: 914ms\tremaining: 0us\n",
      "0:\tlearn: 0.1438016\ttotal: 1.08ms\tremaining: 1.2s\n",
      "500:\tlearn: 0.0984651\ttotal: 418ms\tremaining: 511ms\n",
      "1000:\tlearn: 0.0791376\ttotal: 850ms\tremaining: 95.1ms\n",
      "1112:\tlearn: 0.0757688\ttotal: 946ms\tremaining: 0us\n",
      "0:\tlearn: 0.1598269\ttotal: 1.14ms\tremaining: 1.26s\n",
      "500:\tlearn: 0.1108338\ttotal: 450ms\tremaining: 550ms\n",
      "1000:\tlearn: 0.0898480\ttotal: 934ms\tremaining: 104ms\n",
      "1112:\tlearn: 0.0862960\ttotal: 1.04s\tremaining: 0us\n",
      "0:\tlearn: 0.1631811\ttotal: 1.79ms\tremaining: 1.99s\n",
      "500:\tlearn: 0.1172565\ttotal: 496ms\tremaining: 605ms\n",
      "1000:\tlearn: 0.0986487\ttotal: 1.02s\tremaining: 114ms\n",
      "1112:\tlearn: 0.0958961\ttotal: 1.13s\tremaining: 0us\n",
      "0:\tlearn: 0.1615962\ttotal: 1.08ms\tremaining: 1.2s\n",
      "500:\tlearn: 0.1190754\ttotal: 508ms\tremaining: 620ms\n"
     ]
    },
    {
     "name": "stderr",
     "output_type": "stream",
     "text": [
      "Best trial: 4. Best value: 0.178688:   9%|██▌                         | 9/100 [00:57<11:06,  7.33s/it, 57.18/1200 seconds]"
     ]
    },
    {
     "name": "stdout",
     "output_type": "stream",
     "text": [
      "1000:\tlearn: 0.1008478\ttotal: 1.05s\tremaining: 118ms\n",
      "1112:\tlearn: 0.0979551\ttotal: 1.17s\tremaining: 0us\n",
      "[I 2024-04-14 22:35:07,639] Trial 8 finished with value: -0.024486726014363858 and parameters: {'loss_function': 'MAE', 'depth': 5, 'iterations': 1113, 'min_data_in_leaf': 41, 'random_strength': 1.220796529835737}. Best is trial 4 with value: 0.1786877238825161.\n",
      "Learning rate set to 0.058191\n",
      "0:\tlearn: 0.2149232\ttotal: 875us\tremaining: 409ms\n",
      "467:\tlearn: 0.0246505\ttotal: 400ms\tremaining: 0us\n",
      "Learning rate set to 0.064787\n",
      "0:\tlearn: 0.2308491\ttotal: 1.32ms\tremaining: 616ms\n",
      "467:\tlearn: 0.0504430\ttotal: 472ms\tremaining: 0us\n",
      "Learning rate set to 0.069024\n",
      "0:\tlearn: 0.2587752\ttotal: 1.03ms\tremaining: 483ms\n",
      "467:\tlearn: 0.0665007\ttotal: 505ms\tremaining: 0us\n",
      "Learning rate set to 0.072207\n",
      "0:\tlearn: 0.2629290\ttotal: 1.2ms\tremaining: 563ms\n",
      "467:\tlearn: 0.0857840\ttotal: 510ms\tremaining: 0us\n",
      "Learning rate set to 0.074782\n",
      "0:\tlearn: 0.2826146\ttotal: 1.52ms\tremaining: 712ms\n",
      "467:\tlearn: 0.1037186\ttotal: 545ms\tremaining: 0us\n",
      "Learning rate set to 0.076957\n",
      "0:\tlearn: 0.2830609\ttotal: 1.98ms\tremaining: 926ms\n",
      "467:\tlearn: 0.1102031\ttotal: 545ms\tremaining: 0us\n",
      "Learning rate set to 0.078846\n",
      "0:\tlearn: 0.2781521\ttotal: 1.35ms\tremaining: 633ms\n"
     ]
    },
    {
     "name": "stderr",
     "output_type": "stream",
     "text": [
      "Best trial: 4. Best value: 0.178688:  10%|██▋                        | 10/100 [01:00<09:19,  6.22s/it, 60.92/1200 seconds]"
     ]
    },
    {
     "name": "stdout",
     "output_type": "stream",
     "text": [
      "467:\tlearn: 0.1147640\ttotal: 563ms\tremaining: 0us\n",
      "[I 2024-04-14 22:35:11,381] Trial 9 finished with value: -0.03929349590956297 and parameters: {'loss_function': 'RMSE', 'depth': 6, 'iterations': 468, 'min_data_in_leaf': 48, 'random_strength': 1.8547013898889797}. Best is trial 4 with value: 0.1786877238825161.\n",
      "0:\tlearn: 0.1091625\ttotal: 2.12ms\tremaining: 1.31s\n",
      "500:\tlearn: 0.0643499\ttotal: 249ms\tremaining: 59ms\n",
      "619:\tlearn: 0.0571488\ttotal: 311ms\tremaining: 0us\n",
      "0:\tlearn: 0.1260036\ttotal: 685us\tremaining: 424ms\n",
      "500:\tlearn: 0.0878224\ttotal: 304ms\tremaining: 72.2ms\n",
      "619:\tlearn: 0.0822421\ttotal: 382ms\tremaining: 0us\n",
      "0:\tlearn: 0.1337175\ttotal: 2.35ms\tremaining: 1.45s\n",
      "500:\tlearn: 0.0995356\ttotal: 326ms\tremaining: 77.5ms\n",
      "619:\tlearn: 0.0942376\ttotal: 409ms\tremaining: 0us\n",
      "0:\tlearn: 0.1400773\ttotal: 2ms\tremaining: 1.24s\n",
      "500:\tlearn: 0.1134119\ttotal: 349ms\tremaining: 82.8ms\n",
      "619:\tlearn: 0.1082743\ttotal: 436ms\tremaining: 0us\n",
      "0:\tlearn: 0.1556383\ttotal: 828us\tremaining: 513ms\n",
      "500:\tlearn: 0.1248038\ttotal: 388ms\tremaining: 92.2ms\n",
      "619:\tlearn: 0.1195263\ttotal: 481ms\tremaining: 0us\n",
      "0:\tlearn: 0.1592090\ttotal: 1.05ms\tremaining: 651ms\n",
      "500:\tlearn: 0.1280503\ttotal: 411ms\tremaining: 97.6ms\n",
      "619:\tlearn: 0.1234650\ttotal: 544ms\tremaining: 0us\n",
      "0:\tlearn: 0.1577917\ttotal: 1.72ms\tremaining: 1.07s\n"
     ]
    },
    {
     "name": "stderr",
     "output_type": "stream",
     "text": [
      "Best trial: 4. Best value: 0.178688:  11%|██▉                        | 11/100 [01:04<07:55,  5.34s/it, 64.28/1200 seconds]"
     ]
    },
    {
     "name": "stdout",
     "output_type": "stream",
     "text": [
      "500:\tlearn: 0.1298667\ttotal: 437ms\tremaining: 104ms\n",
      "619:\tlearn: 0.1254968\ttotal: 533ms\tremaining: 0us\n",
      "[I 2024-04-14 22:35:14,742] Trial 10 finished with value: -0.103877239172503 and parameters: {'loss_function': 'MAPE', 'depth': 4, 'iterations': 620, 'min_data_in_leaf': 1, 'random_strength': 3.4226035415219123}. Best is trial 4 with value: 0.1786877238825161.\n",
      "Learning rate set to 0.048671\n",
      "0:\tlearn: 0.2158200\ttotal: 1.03ms\tremaining: 597ms\n",
      "500:\tlearn: 0.0544610\ttotal: 330ms\tremaining: 54ms\n",
      "582:\tlearn: 0.0430494\ttotal: 384ms\tremaining: 0us\n",
      "Learning rate set to 0.054189\n",
      "0:\tlearn: 0.2318363\ttotal: 1.15ms\tremaining: 672ms\n",
      "500:\tlearn: 0.0852540\ttotal: 367ms\tremaining: 60ms\n",
      "582:\tlearn: 0.0721206\ttotal: 433ms\tremaining: 0us\n",
      "Learning rate set to 0.057732\n",
      "0:\tlearn: 0.2603638\ttotal: 999us\tremaining: 582ms\n",
      "500:\tlearn: 0.1088524\ttotal: 391ms\tremaining: 64ms\n",
      "582:\tlearn: 0.0943651\ttotal: 458ms\tremaining: 0us\n",
      "Learning rate set to 0.060395\n",
      "0:\tlearn: 0.2629060\ttotal: 958us\tremaining: 558ms\n",
      "500:\tlearn: 0.1285571\ttotal: 415ms\tremaining: 68ms\n",
      "582:\tlearn: 0.1162751\ttotal: 492ms\tremaining: 0us\n",
      "Learning rate set to 0.062549\n",
      "0:\tlearn: 0.2833272\ttotal: 877us\tremaining: 511ms\n",
      "500:\tlearn: 0.1483202\ttotal: 462ms\tremaining: 75.7ms\n",
      "582:\tlearn: 0.1350109\ttotal: 543ms\tremaining: 0us\n",
      "Learning rate set to 0.064368\n",
      "0:\tlearn: 0.2844460\ttotal: 1.1ms\tremaining: 642ms\n",
      "500:\tlearn: 0.1553986\ttotal: 442ms\tremaining: 72.3ms\n",
      "582:\tlearn: 0.1419797\ttotal: 522ms\tremaining: 0us\n",
      "Learning rate set to 0.065948\n",
      "0:\tlearn: 0.2792045\ttotal: 1.08ms\tremaining: 630ms\n"
     ]
    },
    {
     "name": "stderr",
     "output_type": "stream",
     "text": [
      "Best trial: 4. Best value: 0.178688:  12%|███▏                       | 12/100 [01:07<07:04,  4.82s/it, 67.91/1200 seconds]"
     ]
    },
    {
     "name": "stdout",
     "output_type": "stream",
     "text": [
      "500:\tlearn: 0.1559136\ttotal: 471ms\tremaining: 77.2ms\n",
      "582:\tlearn: 0.1429523\ttotal: 551ms\tremaining: 0us\n",
      "[I 2024-04-14 22:35:18,374] Trial 11 finished with value: 0.031018101197389274 and parameters: {'loss_function': 'RMSE', 'depth': 5, 'iterations': 583, 'min_data_in_leaf': 87, 'random_strength': 6.078255212490922}. Best is trial 4 with value: 0.1786877238825161.\n",
      "Learning rate set to 0.115216\n",
      "0:\tlearn: 0.2153777\ttotal: 845us\tremaining: 170ms\n",
      "201:\tlearn: 0.0781996\ttotal: 100ms\tremaining: 0us\n",
      "Learning rate set to 0.128276\n",
      "0:\tlearn: 0.2315571\ttotal: 667us\tremaining: 134ms\n",
      "201:\tlearn: 0.1125028\ttotal: 117ms\tremaining: 0us\n",
      "Learning rate set to 0.136665\n",
      "0:\tlearn: 0.2598357\ttotal: 1.41ms\tremaining: 284ms\n",
      "201:\tlearn: 0.1354879\ttotal: 127ms\tremaining: 0us\n",
      "Learning rate set to 0.142968\n",
      "0:\tlearn: 0.2620434\ttotal: 939us\tremaining: 189ms\n",
      "201:\tlearn: 0.1583964\ttotal: 147ms\tremaining: 0us\n",
      "Learning rate set to 0.148067\n",
      "0:\tlearn: 0.2827618\ttotal: 733us\tremaining: 147ms\n",
      "201:\tlearn: 0.1734386\ttotal: 145ms\tremaining: 0us\n",
      "Learning rate set to 0.152372\n",
      "0:\tlearn: 0.2835744\ttotal: 1.64ms\tremaining: 330ms\n",
      "201:\tlearn: 0.1835082\ttotal: 147ms\tremaining: 0us\n",
      "Learning rate set to 0.156113\n",
      "0:\tlearn: 0.2780818\ttotal: 1.13ms\tremaining: 227ms\n"
     ]
    },
    {
     "name": "stderr",
     "output_type": "stream",
     "text": [
      "Best trial: 4. Best value: 0.178688:  13%|███▌                       | 13/100 [01:08<05:20,  3.68s/it, 68.97/1200 seconds]"
     ]
    },
    {
     "name": "stdout",
     "output_type": "stream",
     "text": [
      "201:\tlearn: 0.1815707\ttotal: 150ms\tremaining: 0us\n",
      "[I 2024-04-14 22:35:19,428] Trial 12 finished with value: 0.0886313560777974 and parameters: {'loss_function': 'RMSE', 'depth': 4, 'iterations': 202, 'min_data_in_leaf': 19, 'random_strength': 6.521617568524256}. Best is trial 4 with value: 0.1786877238825161.\n",
      "Learning rate set to 0.112069\n",
      "0:\tlearn: 0.2140881\ttotal: 1.92ms\tremaining: 399ms\n",
      "208:\tlearn: 0.0704710\ttotal: 104ms\tremaining: 0us\n",
      "Learning rate set to 0.124772\n",
      "0:\tlearn: 0.2300719\ttotal: 632us\tremaining: 132ms\n",
      "208:\tlearn: 0.1028570\ttotal: 129ms\tremaining: 0us\n",
      "Learning rate set to 0.132932\n",
      "0:\tlearn: 0.2592059\ttotal: 523us\tremaining: 109ms\n",
      "208:\tlearn: 0.1290747\ttotal: 129ms\tremaining: 0us\n",
      "Learning rate set to 0.139063\n",
      "0:\tlearn: 0.2630550\ttotal: 1.23ms\tremaining: 257ms\n",
      "208:\tlearn: 0.1531279\ttotal: 138ms\tremaining: 0us\n",
      "Learning rate set to 0.144022\n",
      "0:\tlearn: 0.2815802\ttotal: 761us\tremaining: 158ms\n",
      "208:\tlearn: 0.1714633\ttotal: 147ms\tremaining: 0us\n",
      "Learning rate set to 0.14821\n",
      "0:\tlearn: 0.2826185\ttotal: 1.02ms\tremaining: 213ms\n"
     ]
    },
    {
     "name": "stderr",
     "output_type": "stream",
     "text": [
      "Best trial: 13. Best value: 0.186688:  14%|███▋                      | 14/100 [01:10<04:08,  2.89s/it, 70.04/1200 seconds]"
     ]
    },
    {
     "name": "stdout",
     "output_type": "stream",
     "text": [
      "208:\tlearn: 0.1767838\ttotal: 153ms\tremaining: 0us\n",
      "Learning rate set to 0.151848\n",
      "0:\tlearn: 0.2781360\ttotal: 1.67ms\tremaining: 348ms\n",
      "208:\tlearn: 0.1812023\ttotal: 158ms\tremaining: 0us\n",
      "[I 2024-04-14 22:35:20,499] Trial 13 finished with value: 0.18668849414158112 and parameters: {'loss_function': 'RMSE', 'depth': 4, 'iterations': 209, 'min_data_in_leaf': 4, 'random_strength': 2.898375619873968}. Best is trial 13 with value: 0.18668849414158112.\n",
      "Learning rate set to 0.038414\n",
      "0:\tlearn: 0.2154249\ttotal: 762us\tremaining: 594ms\n",
      "500:\tlearn: 0.0920542\ttotal: 236ms\tremaining: 131ms\n",
      "779:\tlearn: 0.0572720\ttotal: 383ms\tremaining: 0us\n",
      "Learning rate set to 0.042768\n",
      "0:\tlearn: 0.2313692\ttotal: 5.46ms\tremaining: 4.26s\n",
      "500:\tlearn: 0.1244084\ttotal: 301ms\tremaining: 168ms\n",
      "779:\tlearn: 0.0928566\ttotal: 469ms\tremaining: 0us\n",
      "Learning rate set to 0.045565\n",
      "0:\tlearn: 0.2602167\ttotal: 720us\tremaining: 562ms\n",
      "500:\tlearn: 0.1442715\ttotal: 313ms\tremaining: 174ms\n",
      "779:\tlearn: 0.1100262\ttotal: 491ms\tremaining: 0us\n",
      "Learning rate set to 0.047667\n",
      "0:\tlearn: 0.2636518\ttotal: 1.86ms\tremaining: 1.45s\n",
      "500:\tlearn: 0.1666576\ttotal: 326ms\tremaining: 182ms\n",
      "779:\tlearn: 0.1330922\ttotal: 518ms\tremaining: 0us\n",
      "Learning rate set to 0.049367\n",
      "0:\tlearn: 0.2828088\ttotal: 832us\tremaining: 648ms\n",
      "500:\tlearn: 0.1864944\ttotal: 344ms\tremaining: 192ms\n",
      "779:\tlearn: 0.1559083\ttotal: 538ms\tremaining: 0us\n",
      "Learning rate set to 0.050802\n",
      "0:\tlearn: 0.2842328\ttotal: 1.36ms\tremaining: 1.06s\n",
      "500:\tlearn: 0.1898814\ttotal: 346ms\tremaining: 193ms\n",
      "779:\tlearn: 0.1625803\ttotal: 544ms\tremaining: 0us\n",
      "Learning rate set to 0.052049\n",
      "0:\tlearn: 0.2794745\ttotal: 660us\tremaining: 515ms\n",
      "500:\tlearn: 0.1895395\ttotal: 355ms\tremaining: 197ms\n"
     ]
    },
    {
     "name": "stderr",
     "output_type": "stream",
     "text": [
      "Best trial: 14. Best value: 0.252738:  15%|███▉                      | 15/100 [01:13<04:28,  3.16s/it, 73.80/1200 seconds]"
     ]
    },
    {
     "name": "stdout",
     "output_type": "stream",
     "text": [
      "779:\tlearn: 0.1641854\ttotal: 559ms\tremaining: 0us\n",
      "[I 2024-04-14 22:35:24,266] Trial 14 finished with value: 0.25273767042549977 and parameters: {'loss_function': 'RMSE', 'depth': 4, 'iterations': 780, 'min_data_in_leaf': 95, 'random_strength': 3.1378253868362544}. Best is trial 14 with value: 0.25273767042549977.\n",
      "Learning rate set to 0.036702\n",
      "0:\tlearn: 0.2154144\ttotal: 1.37ms\tremaining: 1.13s\n",
      "500:\tlearn: 0.0717449\ttotal: 308ms\tremaining: 199ms\n",
      "824:\tlearn: 0.0340788\ttotal: 551ms\tremaining: 0us\n",
      "Learning rate set to 0.040862\n",
      "0:\tlearn: 0.2312681\ttotal: 875us\tremaining: 721ms\n",
      "500:\tlearn: 0.1031485\ttotal: 383ms\tremaining: 248ms\n",
      "824:\tlearn: 0.0633015\ttotal: 650ms\tremaining: 0us\n",
      "Learning rate set to 0.043534\n",
      "0:\tlearn: 0.2602157\ttotal: 976us\tremaining: 804ms\n",
      "500:\tlearn: 0.1253276\ttotal: 415ms\tremaining: 268ms\n",
      "824:\tlearn: 0.0853505\ttotal: 678ms\tremaining: 0us\n",
      "Learning rate set to 0.045542\n",
      "0:\tlearn: 0.2634102\ttotal: 798us\tremaining: 658ms\n",
      "500:\tlearn: 0.1450767\ttotal: 452ms\tremaining: 292ms\n",
      "824:\tlearn: 0.1051209\ttotal: 730ms\tremaining: 0us\n",
      "Learning rate set to 0.047166\n",
      "0:\tlearn: 0.2830368\ttotal: 772us\tremaining: 637ms\n",
      "500:\tlearn: 0.1679360\ttotal: 429ms\tremaining: 277ms\n",
      "824:\tlearn: 0.1265987\ttotal: 727ms\tremaining: 0us\n",
      "Learning rate set to 0.048538\n",
      "0:\tlearn: 0.2842645\ttotal: 930us\tremaining: 767ms\n",
      "500:\tlearn: 0.1704352\ttotal: 446ms\tremaining: 289ms\n",
      "824:\tlearn: 0.1339331\ttotal: 732ms\tremaining: 0us\n",
      "Learning rate set to 0.049729\n",
      "0:\tlearn: 0.2793284\ttotal: 991us\tremaining: 817ms\n",
      "500:\tlearn: 0.1741059\ttotal: 447ms\tremaining: 289ms\n"
     ]
    },
    {
     "name": "stderr",
     "output_type": "stream",
     "text": [
      "Best trial: 14. Best value: 0.252738:  16%|████▏                     | 16/100 [01:18<05:14,  3.74s/it, 78.90/1200 seconds]"
     ]
    },
    {
     "name": "stdout",
     "output_type": "stream",
     "text": [
      "824:\tlearn: 0.1375791\ttotal: 740ms\tremaining: 0us\n",
      "[I 2024-04-14 22:35:29,364] Trial 15 finished with value: 0.19178749510320894 and parameters: {'loss_function': 'RMSE', 'depth': 5, 'iterations': 825, 'min_data_in_leaf': 98, 'random_strength': 2.6378300309540594}. Best is trial 14 with value: 0.25273767042549977.\n",
      "0:\tlearn: 0.1088318\ttotal: 1.05ms\tremaining: 900ms\n",
      "500:\tlearn: 0.0470994\ttotal: 323ms\tremaining: 232ms\n",
      "860:\tlearn: 0.0373899\ttotal: 555ms\tremaining: 0us\n",
      "0:\tlearn: 0.1257161\ttotal: 1.19ms\tremaining: 1.02s\n",
      "500:\tlearn: 0.0654628\ttotal: 398ms\tremaining: 286ms\n",
      "860:\tlearn: 0.0498256\ttotal: 706ms\tremaining: 0us\n",
      "0:\tlearn: 0.1335031\ttotal: 1.51ms\tremaining: 1.3s\n",
      "500:\tlearn: 0.0783459\ttotal: 417ms\tremaining: 300ms\n",
      "860:\tlearn: 0.0631106\ttotal: 735ms\tremaining: 0us\n",
      "0:\tlearn: 0.1397577\ttotal: 1.03ms\tremaining: 890ms\n",
      "500:\tlearn: 0.0950060\ttotal: 448ms\tremaining: 322ms\n",
      "860:\tlearn: 0.0795831\ttotal: 769ms\tremaining: 0us\n",
      "0:\tlearn: 0.1552006\ttotal: 921us\tremaining: 793ms\n",
      "500:\tlearn: 0.1077203\ttotal: 457ms\tremaining: 329ms\n",
      "860:\tlearn: 0.0926461\ttotal: 782ms\tremaining: 0us\n",
      "0:\tlearn: 0.1589241\ttotal: 1.01ms\tremaining: 871ms\n",
      "500:\tlearn: 0.1107141\ttotal: 483ms\tremaining: 347ms\n",
      "860:\tlearn: 0.0980235\ttotal: 835ms\tremaining: 0us\n",
      "0:\tlearn: 0.1574381\ttotal: 976us\tremaining: 840ms\n",
      "500:\tlearn: 0.1135225\ttotal: 505ms\tremaining: 363ms\n"
     ]
    },
    {
     "name": "stderr",
     "output_type": "stream",
     "text": [
      "Best trial: 14. Best value: 0.252738:  17%|████▍                     | 17/100 [01:24<05:55,  4.28s/it, 84.45/1200 seconds]"
     ]
    },
    {
     "name": "stdout",
     "output_type": "stream",
     "text": [
      "860:\tlearn: 0.1001984\ttotal: 872ms\tremaining: 0us\n",
      "[I 2024-04-14 22:35:34,911] Trial 16 finished with value: -0.01016686357801429 and parameters: {'loss_function': 'MAPE', 'depth': 5, 'iterations': 861, 'min_data_in_leaf': 97, 'random_strength': 0.26331283263243144}. Best is trial 14 with value: 0.25273767042549977.\n",
      "Learning rate set to 0.04123\n",
      "0:\tlearn: 0.2153258\ttotal: 2.24ms\tremaining: 1.6s\n",
      "500:\tlearn: 0.0656342\ttotal: 331ms\tremaining: 141ms\n",
      "714:\tlearn: 0.0388875\ttotal: 473ms\tremaining: 0us\n",
      "Learning rate set to 0.045904\n",
      "0:\tlearn: 0.2311698\ttotal: 855us\tremaining: 611ms\n",
      "500:\tlearn: 0.0882049\ttotal: 368ms\tremaining: 157ms\n",
      "714:\tlearn: 0.0610603\ttotal: 538ms\tremaining: 0us\n",
      "Learning rate set to 0.048905\n",
      "0:\tlearn: 0.2598840\ttotal: 861us\tremaining: 615ms\n",
      "500:\tlearn: 0.1111855\ttotal: 396ms\tremaining: 169ms\n",
      "714:\tlearn: 0.0836016\ttotal: 567ms\tremaining: 0us\n",
      "Learning rate set to 0.051161\n",
      "0:\tlearn: 0.2633410\ttotal: 903us\tremaining: 645ms\n",
      "500:\tlearn: 0.1436795\ttotal: 419ms\tremaining: 179ms\n",
      "714:\tlearn: 0.1122641\ttotal: 601ms\tremaining: 0us\n",
      "Learning rate set to 0.052986\n",
      "0:\tlearn: 0.2829474\ttotal: 1.02ms\tremaining: 727ms\n",
      "500:\tlearn: 0.1594479\ttotal: 446ms\tremaining: 190ms\n",
      "714:\tlearn: 0.1288843\ttotal: 645ms\tremaining: 0us\n",
      "Learning rate set to 0.054526\n",
      "0:\tlearn: 0.2841597\ttotal: 1.02ms\tremaining: 729ms\n",
      "500:\tlearn: 0.1623066\ttotal: 451ms\tremaining: 192ms\n",
      "714:\tlearn: 0.1341880\ttotal: 650ms\tremaining: 0us\n",
      "Learning rate set to 0.055865\n",
      "0:\tlearn: 0.2792203\ttotal: 1.05ms\tremaining: 748ms\n",
      "500:\tlearn: 0.1660217\ttotal: 453ms\tremaining: 194ms\n"
     ]
    },
    {
     "name": "stderr",
     "output_type": "stream",
     "text": [
      "Best trial: 14. Best value: 0.252738:  18%|████▋                     | 18/100 [01:28<05:54,  4.32s/it, 88.85/1200 seconds]"
     ]
    },
    {
     "name": "stdout",
     "output_type": "stream",
     "text": [
      "714:\tlearn: 0.1411927\ttotal: 663ms\tremaining: 0us\n",
      "[I 2024-04-14 22:35:39,310] Trial 17 finished with value: 0.18009690590764008 and parameters: {'loss_function': 'RMSE', 'depth': 5, 'iterations': 715, 'min_data_in_leaf': 81, 'random_strength': 2.567988523963916}. Best is trial 14 with value: 0.25273767042549977.\n",
      "Learning rate set to 0.033093\n",
      "0:\tlearn: 0.2156055\ttotal: 992us\tremaining: 929ms\n",
      "500:\tlearn: 0.0841299\ttotal: 327ms\tremaining: 285ms\n",
      "936:\tlearn: 0.0342836\ttotal: 629ms\tremaining: 0us\n",
      "Learning rate set to 0.036844\n",
      "0:\tlearn: 0.2313467\ttotal: 809us\tremaining: 758ms\n",
      "500:\tlearn: 0.1154339\ttotal: 375ms\tremaining: 326ms\n",
      "936:\tlearn: 0.0653232\ttotal: 711ms\tremaining: 0us\n",
      "Learning rate set to 0.039254\n",
      "0:\tlearn: 0.2604938\ttotal: 930us\tremaining: 871ms\n",
      "500:\tlearn: 0.1384482\ttotal: 402ms\tremaining: 350ms\n",
      "936:\tlearn: 0.0840601\ttotal: 753ms\tremaining: 0us\n",
      "Learning rate set to 0.041064\n",
      "0:\tlearn: 0.2631599\ttotal: 978us\tremaining: 916ms\n",
      "500:\tlearn: 0.1597087\ttotal: 401ms\tremaining: 349ms\n",
      "936:\tlearn: 0.1088393\ttotal: 785ms\tremaining: 0us\n",
      "Learning rate set to 0.042529\n",
      "0:\tlearn: 0.2831504\ttotal: 912us\tremaining: 854ms\n",
      "500:\tlearn: 0.1770233\ttotal: 423ms\tremaining: 368ms\n",
      "936:\tlearn: 0.1231116\ttotal: 809ms\tremaining: 0us\n",
      "Learning rate set to 0.043765\n",
      "0:\tlearn: 0.2846620\ttotal: 1.01ms\tremaining: 949ms\n",
      "500:\tlearn: 0.1818125\ttotal: 436ms\tremaining: 380ms\n",
      "936:\tlearn: 0.1312456\ttotal: 841ms\tremaining: 0us\n",
      "Learning rate set to 0.04484\n",
      "0:\tlearn: 0.2795252\ttotal: 1.61ms\tremaining: 1.51s\n",
      "500:\tlearn: 0.1823132\ttotal: 444ms\tremaining: 386ms\n"
     ]
    },
    {
     "name": "stderr",
     "output_type": "stream",
     "text": [
      "Best trial: 14. Best value: 0.252738:  19%|████▉                     | 19/100 [01:34<06:24,  4.74s/it, 94.58/1200 seconds]"
     ]
    },
    {
     "name": "stdout",
     "output_type": "stream",
     "text": [
      "936:\tlearn: 0.1355477\ttotal: 880ms\tremaining: 0us\n",
      "[I 2024-04-14 22:35:45,040] Trial 18 finished with value: 0.10789763908052263 and parameters: {'loss_function': 'RMSE', 'depth': 5, 'iterations': 937, 'min_data_in_leaf': 92, 'random_strength': 4.157282840821194}. Best is trial 14 with value: 0.25273767042549977.\n",
      "0:\tlearn: 0.1085545\ttotal: 2.22ms\tremaining: 1.55s\n",
      "500:\tlearn: 0.0173704\ttotal: 735ms\tremaining: 293ms\n",
      "700:\tlearn: 0.0118427\ttotal: 1.11s\tremaining: 0us\n",
      "0:\tlearn: 0.1253190\ttotal: 1.97ms\tremaining: 1.38s\n",
      "500:\tlearn: 0.0325175\ttotal: 693ms\tremaining: 277ms\n",
      "700:\tlearn: 0.0229038\ttotal: 958ms\tremaining: 0us\n",
      "0:\tlearn: 0.1335081\ttotal: 1.27ms\tremaining: 893ms\n",
      "500:\tlearn: 0.0454195\ttotal: 693ms\tremaining: 277ms\n",
      "700:\tlearn: 0.0348034\ttotal: 973ms\tremaining: 0us\n",
      "0:\tlearn: 0.1395833\ttotal: 1.63ms\tremaining: 1.14s\n",
      "500:\tlearn: 0.0601784\ttotal: 681ms\tremaining: 272ms\n",
      "700:\tlearn: 0.0483473\ttotal: 973ms\tremaining: 0us\n",
      "0:\tlearn: 0.1551053\ttotal: 1.62ms\tremaining: 1.13s\n",
      "500:\tlearn: 0.0750087\ttotal: 729ms\tremaining: 291ms\n",
      "700:\tlearn: 0.0617715\ttotal: 1.03s\tremaining: 0us\n",
      "0:\tlearn: 0.1587260\ttotal: 1.63ms\tremaining: 1.14s\n",
      "500:\tlearn: 0.0836875\ttotal: 768ms\tremaining: 307ms\n",
      "700:\tlearn: 0.0707951\ttotal: 1.08s\tremaining: 0us\n",
      "0:\tlearn: 0.1571140\ttotal: 1.68ms\tremaining: 1.18s\n",
      "500:\tlearn: 0.0839605\ttotal: 812ms\tremaining: 324ms\n"
     ]
    },
    {
     "name": "stderr",
     "output_type": "stream",
     "text": [
      "Best trial: 14. Best value: 0.252738:  20%|█████                    | 20/100 [01:42<07:29,  5.61s/it, 102.22/1200 seconds]"
     ]
    },
    {
     "name": "stdout",
     "output_type": "stream",
     "text": [
      "700:\tlearn: 0.0713631\ttotal: 1.15s\tremaining: 0us\n",
      "[I 2024-04-14 22:35:52,683] Trial 19 finished with value: -0.08335352203776081 and parameters: {'loss_function': 'MAPE', 'depth': 7, 'iterations': 701, 'min_data_in_leaf': 71, 'random_strength': 0.8730970769393833}. Best is trial 14 with value: 0.25273767042549977.\n",
      "Learning rate set to 0.02528\n",
      "0:\tlearn: 0.2156877\ttotal: 592us\tremaining: 773ms\n",
      "500:\tlearn: 0.1163319\ttotal: 249ms\tremaining: 400ms\n",
      "1000:\tlearn: 0.0666529\ttotal: 496ms\tremaining: 151ms\n",
      "1304:\tlearn: 0.0474388\ttotal: 650ms\tremaining: 0us\n",
      "Learning rate set to 0.028145\n",
      "0:\tlearn: 0.2318735\ttotal: 583us\tremaining: 761ms\n",
      "500:\tlearn: 0.1523020\ttotal: 273ms\tremaining: 438ms\n",
      "1000:\tlearn: 0.1017601\ttotal: 547ms\tremaining: 166ms\n",
      "1304:\tlearn: 0.0821692\ttotal: 723ms\tremaining: 0us\n",
      "Learning rate set to 0.029986\n",
      "0:\tlearn: 0.2603711\ttotal: 1.29ms\tremaining: 1.69s\n",
      "500:\tlearn: 0.1724529\ttotal: 310ms\tremaining: 498ms\n",
      "1000:\tlearn: 0.1223152\ttotal: 615ms\tremaining: 187ms\n",
      "1304:\tlearn: 0.1015426\ttotal: 803ms\tremaining: 0us\n",
      "Learning rate set to 0.031369\n",
      "0:\tlearn: 0.2637459\ttotal: 904us\tremaining: 1.18s\n",
      "500:\tlearn: 0.1888199\ttotal: 311ms\tremaining: 499ms\n",
      "1000:\tlearn: 0.1476686\ttotal: 642ms\tremaining: 195ms\n",
      "1304:\tlearn: 0.1274772\ttotal: 843ms\tremaining: 0us\n",
      "Learning rate set to 0.032488\n",
      "0:\tlearn: 0.2832634\ttotal: 1.11ms\tremaining: 1.44s\n",
      "500:\tlearn: 0.2070434\ttotal: 335ms\tremaining: 538ms\n",
      "1000:\tlearn: 0.1657522\ttotal: 672ms\tremaining: 204ms\n",
      "1304:\tlearn: 0.1460943\ttotal: 887ms\tremaining: 0us\n",
      "Learning rate set to 0.033432\n",
      "0:\tlearn: 0.2845366\ttotal: 1.4ms\tremaining: 1.82s\n",
      "500:\tlearn: 0.2088701\ttotal: 341ms\tremaining: 547ms\n",
      "1000:\tlearn: 0.1722100\ttotal: 687ms\tremaining: 209ms\n",
      "1304:\tlearn: 0.1534026\ttotal: 896ms\tremaining: 0us\n",
      "Learning rate set to 0.034253\n",
      "0:\tlearn: 0.2796479\ttotal: 693us\tremaining: 904ms\n",
      "500:\tlearn: 0.2093352\ttotal: 355ms\tremaining: 570ms\n",
      "1000:\tlearn: 0.1724752\ttotal: 709ms\tremaining: 215ms\n"
     ]
    },
    {
     "name": "stderr",
     "output_type": "stream",
     "text": [
      "Best trial: 20. Best value: 0.326431:  21%|█████▎                   | 21/100 [01:48<07:35,  5.76s/it, 108.33/1200 seconds]"
     ]
    },
    {
     "name": "stdout",
     "output_type": "stream",
     "text": [
      "1304:\tlearn: 0.1562225\ttotal: 930ms\tremaining: 0us\n",
      "[I 2024-04-14 22:35:58,796] Trial 20 finished with value: 0.3264309203636528 and parameters: {'loss_function': 'RMSE', 'depth': 4, 'iterations': 1305, 'min_data_in_leaf': 98, 'random_strength': 2.0251633712991577}. Best is trial 20 with value: 0.3264309203636528.\n",
      "Learning rate set to 0.024475\n",
      "0:\tlearn: 0.2157021\ttotal: 1.27ms\tremaining: 1.73s\n",
      "500:\tlearn: 0.1204462\ttotal: 244ms\tremaining: 417ms\n",
      "1000:\tlearn: 0.0696199\ttotal: 493ms\tremaining: 176ms\n",
      "1357:\tlearn: 0.0500220\ttotal: 669ms\tremaining: 0us\n",
      "Learning rate set to 0.027249\n",
      "0:\tlearn: 0.2318799\ttotal: 527us\tremaining: 715ms\n",
      "500:\tlearn: 0.1541443\ttotal: 284ms\tremaining: 485ms\n",
      "1000:\tlearn: 0.1016548\ttotal: 577ms\tremaining: 206ms\n",
      "1357:\tlearn: 0.0790837\ttotal: 788ms\tremaining: 0us\n",
      "Learning rate set to 0.029031\n",
      "0:\tlearn: 0.2603839\ttotal: 1.04ms\tremaining: 1.41s\n",
      "500:\tlearn: 0.1743587\ttotal: 312ms\tremaining: 534ms\n",
      "1000:\tlearn: 0.1246298\ttotal: 629ms\tremaining: 224ms\n",
      "1357:\tlearn: 0.1006776\ttotal: 855ms\tremaining: 0us\n",
      "Learning rate set to 0.03037\n",
      "0:\tlearn: 0.2637533\ttotal: 748us\tremaining: 1.01s\n",
      "500:\tlearn: 0.1914258\ttotal: 321ms\tremaining: 550ms\n",
      "1000:\tlearn: 0.1510934\ttotal: 664ms\tremaining: 237ms\n",
      "1357:\tlearn: 0.1270084\ttotal: 896ms\tremaining: 0us\n",
      "Learning rate set to 0.031453\n",
      "0:\tlearn: 0.2832794\ttotal: 1.16ms\tremaining: 1.57s\n",
      "500:\tlearn: 0.2084871\ttotal: 435ms\tremaining: 744ms\n",
      "1000:\tlearn: 0.1682179\ttotal: 764ms\tremaining: 272ms\n",
      "1357:\tlearn: 0.1464254\ttotal: 1.11s\tremaining: 0us\n",
      "Learning rate set to 0.032367\n",
      "0:\tlearn: 0.2845554\ttotal: 1.46ms\tremaining: 1.98s\n",
      "500:\tlearn: 0.2083653\ttotal: 350ms\tremaining: 598ms\n",
      "1000:\tlearn: 0.1736597\ttotal: 691ms\tremaining: 247ms\n",
      "1357:\tlearn: 0.1542988\ttotal: 939ms\tremaining: 0us\n",
      "Learning rate set to 0.033162\n",
      "0:\tlearn: 0.2796661\ttotal: 1.26ms\tremaining: 1.72s\n",
      "500:\tlearn: 0.2098330\ttotal: 376ms\tremaining: 644ms\n",
      "1000:\tlearn: 0.1752577\ttotal: 751ms\tremaining: 268ms\n"
     ]
    },
    {
     "name": "stderr",
     "output_type": "stream",
     "text": [
      "Best trial: 20. Best value: 0.326431:  22%|█████▌                   | 22/100 [01:55<07:51,  6.05s/it, 115.04/1200 seconds]"
     ]
    },
    {
     "name": "stdout",
     "output_type": "stream",
     "text": [
      "1357:\tlearn: 0.1575417\ttotal: 1.01s\tremaining: 0us\n",
      "[I 2024-04-14 22:36:05,502] Trial 21 finished with value: 0.18466221971438432 and parameters: {'loss_function': 'RMSE', 'depth': 4, 'iterations': 1358, 'min_data_in_leaf': 100, 'random_strength': 1.862880785004426}. Best is trial 20 with value: 0.3264309203636528.\n",
      "Learning rate set to 0.026062\n",
      "0:\tlearn: 0.2156533\ttotal: 2.01ms\tremaining: 2.52s\n",
      "500:\tlearn: 0.1207699\ttotal: 248ms\tremaining: 374ms\n",
      "1000:\tlearn: 0.0663051\ttotal: 505ms\tremaining: 129ms\n",
      "1256:\tlearn: 0.0502366\ttotal: 638ms\tremaining: 0us\n",
      "Learning rate set to 0.029016\n",
      "0:\tlearn: 0.2315940\ttotal: 528us\tremaining: 664ms\n",
      "500:\tlearn: 0.1545017\ttotal: 279ms\tremaining: 421ms\n",
      "1000:\tlearn: 0.1019055\ttotal: 580ms\tremaining: 148ms\n",
      "1256:\tlearn: 0.0845423\ttotal: 735ms\tremaining: 0us\n",
      "Learning rate set to 0.030913\n",
      "0:\tlearn: 0.2605540\ttotal: 1.23ms\tremaining: 1.55s\n",
      "500:\tlearn: 0.1751614\ttotal: 300ms\tremaining: 453ms\n",
      "1000:\tlearn: 0.1238684\ttotal: 610ms\tremaining: 156ms\n",
      "1256:\tlearn: 0.1062333\ttotal: 773ms\tremaining: 0us\n",
      "Learning rate set to 0.032339\n",
      "0:\tlearn: 0.2637568\ttotal: 1.28ms\tremaining: 1.6s\n",
      "500:\tlearn: 0.1932937\ttotal: 318ms\tremaining: 479ms\n",
      "1000:\tlearn: 0.1446341\ttotal: 662ms\tremaining: 169ms\n",
      "1256:\tlearn: 0.1270034\ttotal: 836ms\tremaining: 0us\n",
      "Learning rate set to 0.033493\n",
      "0:\tlearn: 0.2832803\ttotal: 601us\tremaining: 756ms\n",
      "500:\tlearn: 0.2088698\ttotal: 345ms\tremaining: 521ms\n",
      "1000:\tlearn: 0.1643551\ttotal: 700ms\tremaining: 179ms\n",
      "1256:\tlearn: 0.1473475\ttotal: 884ms\tremaining: 0us\n",
      "Learning rate set to 0.034466\n",
      "0:\tlearn: 0.2846988\ttotal: 908us\tremaining: 1.14s\n",
      "500:\tlearn: 0.2107084\ttotal: 352ms\tremaining: 532ms\n",
      "1000:\tlearn: 0.1704524\ttotal: 696ms\tremaining: 178ms\n",
      "1256:\tlearn: 0.1557737\ttotal: 869ms\tremaining: 0us\n",
      "Learning rate set to 0.035313\n",
      "0:\tlearn: 0.2797123\ttotal: 1.41ms\tremaining: 1.77s\n",
      "500:\tlearn: 0.2103968\ttotal: 336ms\tremaining: 507ms\n",
      "1000:\tlearn: 0.1724990\ttotal: 693ms\tremaining: 177ms\n",
      "1256:\tlearn: 0.1577095\ttotal: 878ms\tremaining: 0us\n"
     ]
    },
    {
     "name": "stderr",
     "output_type": "stream",
     "text": [
      "Best trial: 20. Best value: 0.326431:  23%|█████▊                   | 23/100 [02:01<07:44,  6.03s/it, 121.02/1200 seconds]"
     ]
    },
    {
     "name": "stdout",
     "output_type": "stream",
     "text": [
      "[I 2024-04-14 22:36:11,485] Trial 22 finished with value: 0.23907546178449463 and parameters: {'loss_function': 'RMSE', 'depth': 4, 'iterations': 1257, 'min_data_in_leaf': 83, 'random_strength': 3.650594172968583}. Best is trial 20 with value: 0.3264309203636528.\n",
      "Learning rate set to 0.026439\n",
      "0:\tlearn: 0.2157122\ttotal: 1.22ms\tremaining: 1.51s\n",
      "500:\tlearn: 0.1225504\ttotal: 234ms\tremaining: 343ms\n",
      "1000:\tlearn: 0.0654725\ttotal: 486ms\tremaining: 114ms\n",
      "1234:\tlearn: 0.0500303\ttotal: 595ms\tremaining: 0us\n",
      "Learning rate set to 0.029436\n",
      "0:\tlearn: 0.2315871\ttotal: 629us\tremaining: 777ms\n",
      "500:\tlearn: 0.1544278\ttotal: 272ms\tremaining: 399ms\n",
      "1000:\tlearn: 0.1025983\ttotal: 559ms\tremaining: 131ms\n",
      "1234:\tlearn: 0.0846859\ttotal: 693ms\tremaining: 0us\n",
      "Learning rate set to 0.03136\n",
      "0:\tlearn: 0.2605508\ttotal: 1.78ms\tremaining: 2.2s\n",
      "500:\tlearn: 0.1743356\ttotal: 293ms\tremaining: 429ms\n",
      "1000:\tlearn: 0.1231599\ttotal: 597ms\tremaining: 139ms\n",
      "1234:\tlearn: 0.1039800\ttotal: 740ms\tremaining: 0us\n",
      "Learning rate set to 0.032807\n",
      "0:\tlearn: 0.2635204\ttotal: 757us\tremaining: 935ms\n",
      "500:\tlearn: 0.1926178\ttotal: 307ms\tremaining: 450ms\n",
      "1000:\tlearn: 0.1451888\ttotal: 621ms\tremaining: 145ms\n",
      "1234:\tlearn: 0.1300528\ttotal: 772ms\tremaining: 0us\n",
      "Learning rate set to 0.033977\n",
      "0:\tlearn: 0.2832733\ttotal: 1.31ms\tremaining: 1.62s\n",
      "500:\tlearn: 0.2091597\ttotal: 330ms\tremaining: 483ms\n",
      "1000:\tlearn: 0.1650875\ttotal: 665ms\tremaining: 155ms\n",
      "1234:\tlearn: 0.1498723\ttotal: 823ms\tremaining: 0us\n",
      "Learning rate set to 0.034965\n",
      "0:\tlearn: 0.2847561\ttotal: 848us\tremaining: 1.05s\n",
      "500:\tlearn: 0.2104503\ttotal: 330ms\tremaining: 484ms\n",
      "1000:\tlearn: 0.1710417\ttotal: 663ms\tremaining: 155ms\n",
      "1234:\tlearn: 0.1562493\ttotal: 825ms\tremaining: 0us\n",
      "Learning rate set to 0.035823\n",
      "0:\tlearn: 0.2797050\ttotal: 1.39ms\tremaining: 1.72s\n",
      "500:\tlearn: 0.2127514\ttotal: 341ms\tremaining: 499ms\n"
     ]
    },
    {
     "name": "stderr",
     "output_type": "stream",
     "text": [
      "Best trial: 20. Best value: 0.326431:  24%|██████                   | 24/100 [02:06<07:29,  5.92s/it, 126.69/1200 seconds]"
     ]
    },
    {
     "name": "stdout",
     "output_type": "stream",
     "text": [
      "1000:\tlearn: 0.1733898\ttotal: 697ms\tremaining: 163ms\n",
      "1234:\tlearn: 0.1598595\ttotal: 863ms\tremaining: 0us\n",
      "[I 2024-04-14 22:36:17,153] Trial 23 finished with value: 0.26139878824145696 and parameters: {'loss_function': 'RMSE', 'depth': 4, 'iterations': 1235, 'min_data_in_leaf': 83, 'random_strength': 4.08283014150543}. Best is trial 20 with value: 0.3264309203636528.\n",
      "Learning rate set to 0.026232\n",
      "0:\tlearn: 0.2160858\ttotal: 1.32ms\tremaining: 1.65s\n",
      "500:\tlearn: 0.1342058\ttotal: 225ms\tremaining: 335ms\n",
      "1000:\tlearn: 0.0691774\ttotal: 469ms\tremaining: 115ms\n",
      "1246:\tlearn: 0.0503847\ttotal: 588ms\tremaining: 0us\n",
      "Learning rate set to 0.029205\n",
      "0:\tlearn: 0.2319520\ttotal: 576us\tremaining: 719ms\n",
      "500:\tlearn: 0.1612443\ttotal: 264ms\tremaining: 393ms\n",
      "1000:\tlearn: 0.1063972\ttotal: 544ms\tremaining: 134ms\n",
      "1246:\tlearn: 0.0887619\ttotal: 684ms\tremaining: 0us\n",
      "Learning rate set to 0.031115\n",
      "0:\tlearn: 0.2605525\ttotal: 552us\tremaining: 689ms\n",
      "500:\tlearn: 0.1798947\ttotal: 288ms\tremaining: 428ms\n",
      "1000:\tlearn: 0.1267714\ttotal: 583ms\tremaining: 143ms\n",
      "1246:\tlearn: 0.1093444\ttotal: 737ms\tremaining: 0us\n",
      "Learning rate set to 0.03255\n",
      "0:\tlearn: 0.2635878\ttotal: 1.1ms\tremaining: 1.37s\n",
      "500:\tlearn: 0.1972601\ttotal: 295ms\tremaining: 440ms\n",
      "1000:\tlearn: 0.1488361\ttotal: 614ms\tremaining: 151ms\n",
      "1246:\tlearn: 0.1321965\ttotal: 776ms\tremaining: 0us\n",
      "Learning rate set to 0.033711\n",
      "0:\tlearn: 0.2836135\ttotal: 846us\tremaining: 1.05s\n",
      "500:\tlearn: 0.2153355\ttotal: 316ms\tremaining: 471ms\n",
      "1000:\tlearn: 0.1685053\ttotal: 664ms\tremaining: 163ms\n",
      "1246:\tlearn: 0.1522663\ttotal: 831ms\tremaining: 0us\n",
      "Learning rate set to 0.034691\n",
      "0:\tlearn: 0.2847590\ttotal: 822us\tremaining: 1.02s\n",
      "500:\tlearn: 0.2157796\ttotal: 320ms\tremaining: 476ms\n",
      "1000:\tlearn: 0.1752662\ttotal: 654ms\tremaining: 161ms\n",
      "1246:\tlearn: 0.1601543\ttotal: 825ms\tremaining: 0us\n",
      "Learning rate set to 0.035543\n",
      "0:\tlearn: 0.2797090\ttotal: 738us\tremaining: 921ms\n",
      "500:\tlearn: 0.2157457\ttotal: 331ms\tremaining: 493ms\n"
     ]
    },
    {
     "name": "stderr",
     "output_type": "stream",
     "text": [
      "Best trial: 20. Best value: 0.326431:  25%|██████▎                  | 25/100 [02:12<07:17,  5.84s/it, 132.34/1200 seconds]"
     ]
    },
    {
     "name": "stdout",
     "output_type": "stream",
     "text": [
      "1000:\tlearn: 0.1752080\ttotal: 687ms\tremaining: 169ms\n",
      "1246:\tlearn: 0.1604578\ttotal: 860ms\tremaining: 0us\n",
      "[I 2024-04-14 22:36:22,800] Trial 24 finished with value: 0.19115956283827237 and parameters: {'loss_function': 'RMSE', 'depth': 4, 'iterations': 1247, 'min_data_in_leaf': 73, 'random_strength': 9.989891400683678}. Best is trial 20 with value: 0.3264309203636528.\n",
      "Learning rate set to 0.031362\n",
      "0:\tlearn: 0.2156333\ttotal: 1.32ms\tremaining: 1.32s\n",
      "500:\tlearn: 0.1065747\ttotal: 237ms\tremaining: 236ms\n",
      "1000:\tlearn: 0.0510350\ttotal: 478ms\tremaining: 0us\n",
      "Learning rate set to 0.034918\n",
      "0:\tlearn: 0.2319283\ttotal: 638us\tremaining: 639ms\n",
      "500:\tlearn: 0.1445834\ttotal: 269ms\tremaining: 268ms\n",
      "1000:\tlearn: 0.0898272\ttotal: 557ms\tremaining: 0us\n",
      "Learning rate set to 0.037201\n",
      "0:\tlearn: 0.2605093\ttotal: 606us\tremaining: 606ms\n",
      "500:\tlearn: 0.1647946\ttotal: 289ms\tremaining: 289ms\n",
      "1000:\tlearn: 0.1084007\ttotal: 589ms\tremaining: 0us\n",
      "Learning rate set to 0.038917\n",
      "0:\tlearn: 0.2634354\ttotal: 655us\tremaining: 656ms\n",
      "500:\tlearn: 0.1827429\ttotal: 303ms\tremaining: 302ms\n",
      "1000:\tlearn: 0.1348328\ttotal: 625ms\tremaining: 0us\n",
      "Learning rate set to 0.040305\n",
      "0:\tlearn: 0.2831823\ttotal: 820us\tremaining: 820ms\n",
      "500:\tlearn: 0.1998910\ttotal: 321ms\tremaining: 320ms\n",
      "1000:\tlearn: 0.1533064\ttotal: 657ms\tremaining: 0us\n",
      "Learning rate set to 0.041477\n",
      "0:\tlearn: 0.2846869\ttotal: 917us\tremaining: 918ms\n",
      "500:\tlearn: 0.2015850\ttotal: 336ms\tremaining: 335ms\n",
      "1000:\tlearn: 0.1591808\ttotal: 672ms\tremaining: 0us\n",
      "Learning rate set to 0.042495\n",
      "0:\tlearn: 0.2796098\ttotal: 1.44ms\tremaining: 1.44s\n",
      "500:\tlearn: 0.2032902\ttotal: 351ms\tremaining: 350ms\n"
     ]
    },
    {
     "name": "stderr",
     "output_type": "stream",
     "text": [
      "Best trial: 25. Best value: 0.361784:  26%|██████▌                  | 26/100 [02:16<06:44,  5.46s/it, 136.92/1200 seconds]"
     ]
    },
    {
     "name": "stdout",
     "output_type": "stream",
     "text": [
      "1000:\tlearn: 0.1641085\ttotal: 709ms\tremaining: 0us\n",
      "[I 2024-04-14 22:36:27,379] Trial 25 finished with value: 0.3617839716018957 and parameters: {'loss_function': 'RMSE', 'depth': 4, 'iterations': 1001, 'min_data_in_leaf': 87, 'random_strength': 4.464764887263637}. Best is trial 25 with value: 0.3617839716018957.\n",
      "Learning rate set to 0.031855\n",
      "0:\tlearn: 0.2156254\ttotal: 719us\tremaining: 706ms\n",
      "500:\tlearn: 0.0448446\ttotal: 610ms\tremaining: 586ms\n",
      "981:\tlearn: 0.0080820\ttotal: 1.29s\tremaining: 0us\n",
      "Learning rate set to 0.035466\n",
      "0:\tlearn: 0.2316777\ttotal: 2.6ms\tremaining: 2.55s\n",
      "500:\tlearn: 0.0664564\ttotal: 982ms\tremaining: 942ms\n",
      "981:\tlearn: 0.0185754\ttotal: 2.12s\tremaining: 0us\n",
      "Learning rate set to 0.037785\n",
      "0:\tlearn: 0.2597964\ttotal: 2.75ms\tremaining: 2.7s\n",
      "500:\tlearn: 0.0863119\ttotal: 1.03s\tremaining: 991ms\n",
      "981:\tlearn: 0.0284513\ttotal: 2.1s\tremaining: 0us\n",
      "Learning rate set to 0.039528\n",
      "0:\tlearn: 0.2629369\ttotal: 2.63ms\tremaining: 2.58s\n",
      "500:\tlearn: 0.1047034\ttotal: 1.08s\tremaining: 1.04s\n",
      "981:\tlearn: 0.0407864\ttotal: 2.21s\tremaining: 0us\n",
      "Learning rate set to 0.040938\n",
      "0:\tlearn: 0.2831732\ttotal: 1.5ms\tremaining: 1.47s\n",
      "500:\tlearn: 0.1203228\ttotal: 1.07s\tremaining: 1.03s\n",
      "981:\tlearn: 0.0501331\ttotal: 2.21s\tremaining: 0us\n",
      "Learning rate set to 0.042128\n",
      "0:\tlearn: 0.2845704\ttotal: 2.17ms\tremaining: 2.12s\n",
      "500:\tlearn: 0.1258162\ttotal: 1.09s\tremaining: 1.05s\n",
      "981:\tlearn: 0.0597498\ttotal: 2.27s\tremaining: 0us\n",
      "Learning rate set to 0.043162\n",
      "0:\tlearn: 0.2786425\ttotal: 2.31ms\tremaining: 2.27s\n",
      "500:\tlearn: 0.1273125\ttotal: 1.07s\tremaining: 1.03s\n"
     ]
    },
    {
     "name": "stderr",
     "output_type": "stream",
     "text": [
      "Best trial: 25. Best value: 0.361784:  27%|██████▊                  | 27/100 [02:31<10:04,  8.28s/it, 151.78/1200 seconds]"
     ]
    },
    {
     "name": "stdout",
     "output_type": "stream",
     "text": [
      "981:\tlearn: 0.0616005\ttotal: 2.14s\tremaining: 0us\n",
      "[I 2024-04-14 22:36:42,246] Trial 26 finished with value: -0.13455042889404906 and parameters: {'loss_function': 'RMSE', 'depth': 8, 'iterations': 982, 'min_data_in_leaf': 79, 'random_strength': 4.465186318163956}. Best is trial 25 with value: 0.3617839716018957.\n",
      "Learning rate set to 0.026508\n",
      "0:\tlearn: 0.2159639\ttotal: 741us\tremaining: 912ms\n",
      "500:\tlearn: 0.1088371\ttotal: 297ms\tremaining: 432ms\n",
      "1000:\tlearn: 0.0459784\ttotal: 618ms\tremaining: 142ms\n",
      "1230:\tlearn: 0.0314510\ttotal: 771ms\tremaining: 0us\n",
      "Learning rate set to 0.029513\n",
      "0:\tlearn: 0.2319438\ttotal: 810us\tremaining: 996ms\n",
      "500:\tlearn: 0.1331871\ttotal: 348ms\tremaining: 507ms\n",
      "1000:\tlearn: 0.0795072\ttotal: 725ms\tremaining: 167ms\n",
      "1230:\tlearn: 0.0615776\ttotal: 898ms\tremaining: 0us\n",
      "Learning rate set to 0.031443\n",
      "0:\tlearn: 0.2605493\ttotal: 816us\tremaining: 1s\n",
      "500:\tlearn: 0.1607052\ttotal: 365ms\tremaining: 531ms\n",
      "1000:\tlearn: 0.0994349\ttotal: 755ms\tremaining: 173ms\n",
      "1230:\tlearn: 0.0813323\ttotal: 939ms\tremaining: 0us\n",
      "Learning rate set to 0.032894\n",
      "0:\tlearn: 0.2633918\ttotal: 915us\tremaining: 1.13s\n",
      "500:\tlearn: 0.1785517\ttotal: 382ms\tremaining: 556ms\n",
      "1000:\tlearn: 0.1210084\ttotal: 796ms\tremaining: 183ms\n",
      "1230:\tlearn: 0.1020762\ttotal: 987ms\tremaining: 0us\n",
      "Learning rate set to 0.034067\n",
      "0:\tlearn: 0.2835260\ttotal: 883us\tremaining: 1.09s\n",
      "500:\tlearn: 0.1942281\ttotal: 395ms\tremaining: 576ms\n",
      "1000:\tlearn: 0.1411955\ttotal: 826ms\tremaining: 190ms\n",
      "1230:\tlearn: 0.1221020\ttotal: 1.03s\tremaining: 0us\n",
      "Learning rate set to 0.035057\n",
      "0:\tlearn: 0.2847546\ttotal: 991us\tremaining: 1.22s\n",
      "500:\tlearn: 0.1985498\ttotal: 402ms\tremaining: 585ms\n",
      "1000:\tlearn: 0.1460543\ttotal: 835ms\tremaining: 192ms\n",
      "1230:\tlearn: 0.1290191\ttotal: 1.03s\tremaining: 0us\n",
      "Learning rate set to 0.035918\n",
      "0:\tlearn: 0.2796626\ttotal: 885us\tremaining: 1.09s\n",
      "500:\tlearn: 0.1986369\ttotal: 416ms\tremaining: 606ms\n",
      "1000:\tlearn: 0.1513350\ttotal: 871ms\tremaining: 200ms\n"
     ]
    },
    {
     "name": "stderr",
     "output_type": "stream",
     "text": [
      "Best trial: 25. Best value: 0.361784:  28%|███████                  | 28/100 [02:38<09:31,  7.93s/it, 158.90/1200 seconds]"
     ]
    },
    {
     "name": "stdout",
     "output_type": "stream",
     "text": [
      "1230:\tlearn: 0.1352616\ttotal: 1.08s\tremaining: 0us\n",
      "[I 2024-04-14 22:36:49,360] Trial 27 finished with value: 0.13850477319014012 and parameters: {'loss_function': 'RMSE', 'depth': 5, 'iterations': 1231, 'min_data_in_leaf': 66, 'random_strength': 5.466522369205345}. Best is trial 25 with value: 0.3617839716018957.\n",
      "0:\tlearn: 0.1123081\ttotal: 1.46ms\tremaining: 2.06s\n",
      "500:\tlearn: 0.0644527\ttotal: 238ms\tremaining: 432ms\n",
      "1000:\tlearn: 0.0472976\ttotal: 495ms\tremaining: 202ms\n",
      "1408:\tlearn: 0.0408157\ttotal: 718ms\tremaining: 0us\n",
      "0:\tlearn: 0.1275658\ttotal: 1.09ms\tremaining: 1.54s\n",
      "500:\tlearn: 0.0867594\ttotal: 309ms\tremaining: 559ms\n",
      "1000:\tlearn: 0.0669076\ttotal: 609ms\tremaining: 248ms\n",
      "1408:\tlearn: 0.0578015\ttotal: 854ms\tremaining: 0us\n",
      "0:\tlearn: 0.1380961\ttotal: 1.54ms\tremaining: 2.16s\n",
      "500:\tlearn: 0.1015574\ttotal: 318ms\tremaining: 576ms\n",
      "1000:\tlearn: 0.0836152\ttotal: 641ms\tremaining: 261ms\n",
      "1408:\tlearn: 0.0750189\ttotal: 903ms\tremaining: 0us\n",
      "0:\tlearn: 0.1441771\ttotal: 720us\tremaining: 1.01s\n",
      "500:\tlearn: 0.1149164\ttotal: 320ms\tremaining: 580ms\n",
      "1000:\tlearn: 0.0983391\ttotal: 663ms\tremaining: 270ms\n",
      "1408:\tlearn: 0.0898026\ttotal: 946ms\tremaining: 0us\n",
      "0:\tlearn: 0.1600342\ttotal: 755us\tremaining: 1.06s\n",
      "500:\tlearn: 0.1257862\ttotal: 355ms\tremaining: 643ms\n",
      "1000:\tlearn: 0.1091189\ttotal: 714ms\tremaining: 291ms\n",
      "1408:\tlearn: 0.1008500\ttotal: 1.01s\tremaining: 0us\n",
      "0:\tlearn: 0.1634664\ttotal: 926us\tremaining: 1.3s\n",
      "500:\tlearn: 0.1292274\ttotal: 373ms\tremaining: 676ms\n",
      "1000:\tlearn: 0.1153328\ttotal: 744ms\tremaining: 303ms\n",
      "1408:\tlearn: 0.1071457\ttotal: 1.05s\tremaining: 0us\n",
      "0:\tlearn: 0.1618520\ttotal: 1.35ms\tremaining: 1.91s\n",
      "500:\tlearn: 0.1312751\ttotal: 381ms\tremaining: 691ms\n",
      "1000:\tlearn: 0.1175547\ttotal: 774ms\tremaining: 316ms\n"
     ]
    },
    {
     "name": "stderr",
     "output_type": "stream",
     "text": [
      "Best trial: 25. Best value: 0.361784:  29%|███████▏                 | 29/100 [02:45<09:02,  7.64s/it, 165.87/1200 seconds]"
     ]
    },
    {
     "name": "stdout",
     "output_type": "stream",
     "text": [
      "1408:\tlearn: 0.1101469\ttotal: 1.09s\tremaining: 0us\n",
      "[I 2024-04-14 22:36:56,331] Trial 28 finished with value: 0.0197938417482517 and parameters: {'loss_function': 'MAE', 'depth': 4, 'iterations': 1409, 'min_data_in_leaf': 91, 'random_strength': 2.0498591947509226}. Best is trial 25 with value: 0.3617839716018957.\n",
      "0:\tlearn: 0.1091885\ttotal: 620us\tremaining: 827ms\n",
      "500:\tlearn: 0.0339993\ttotal: 397ms\tremaining: 662ms\n",
      "1000:\tlearn: 0.0158193\ttotal: 831ms\tremaining: 277ms\n",
      "1334:\tlearn: 0.0113053\ttotal: 1.12s\tremaining: 0us\n",
      "0:\tlearn: 0.1258055\ttotal: 1.58ms\tremaining: 2.12s\n",
      "500:\tlearn: 0.0535874\ttotal: 455ms\tremaining: 757ms\n",
      "1000:\tlearn: 0.0296778\ttotal: 963ms\tremaining: 321ms\n",
      "1334:\tlearn: 0.0226023\ttotal: 1.3s\tremaining: 0us\n",
      "0:\tlearn: 0.1336504\ttotal: 1.03ms\tremaining: 1.37s\n",
      "500:\tlearn: 0.0701165\ttotal: 485ms\tremaining: 808ms\n",
      "1000:\tlearn: 0.0455234\ttotal: 1.01s\tremaining: 337ms\n",
      "1334:\tlearn: 0.0375394\ttotal: 1.37s\tremaining: 0us\n",
      "0:\tlearn: 0.1398598\ttotal: 1.11ms\tremaining: 1.48s\n",
      "500:\tlearn: 0.0880822\ttotal: 489ms\tremaining: 815ms\n",
      "1000:\tlearn: 0.0600045\ttotal: 1.05s\tremaining: 350ms\n",
      "1334:\tlearn: 0.0505785\ttotal: 1.42s\tremaining: 0us\n",
      "0:\tlearn: 0.1555855\ttotal: 1.25ms\tremaining: 1.67s\n",
      "500:\tlearn: 0.0982301\ttotal: 516ms\tremaining: 858ms\n",
      "1000:\tlearn: 0.0734729\ttotal: 1.07s\tremaining: 356ms\n",
      "1334:\tlearn: 0.0639793\ttotal: 1.45s\tremaining: 0us\n",
      "0:\tlearn: 0.1591208\ttotal: 1.49ms\tremaining: 1.98s\n",
      "500:\tlearn: 0.1093807\ttotal: 535ms\tremaining: 890ms\n",
      "1000:\tlearn: 0.0815949\ttotal: 1.12s\tremaining: 375ms\n",
      "1334:\tlearn: 0.0716746\ttotal: 1.51s\tremaining: 0us\n",
      "0:\tlearn: 0.1575937\ttotal: 1.34ms\tremaining: 1.79s\n",
      "500:\tlearn: 0.1098435\ttotal: 558ms\tremaining: 929ms\n",
      "1000:\tlearn: 0.0836942\ttotal: 1.18s\tremaining: 394ms\n"
     ]
    },
    {
     "name": "stderr",
     "output_type": "stream",
     "text": [
      "Best trial: 25. Best value: 0.361784:  30%|███████▌                 | 30/100 [02:56<09:49,  8.42s/it, 176.09/1200 seconds]"
     ]
    },
    {
     "name": "stdout",
     "output_type": "stream",
     "text": [
      "1334:\tlearn: 0.0739710\ttotal: 1.59s\tremaining: 0us\n",
      "[I 2024-04-14 22:37:06,555] Trial 29 finished with value: -0.02383939930945524 and parameters: {'loss_function': 'MAPE', 'depth': 6, 'iterations': 1335, 'min_data_in_leaf': 88, 'random_strength': 4.62873753449967}. Best is trial 25 with value: 0.3617839716018957.\n",
      "Learning rate set to 0.030474\n",
      "0:\tlearn: 0.2155781\ttotal: 1.63ms\tremaining: 1.69s\n",
      "500:\tlearn: 0.0906290\ttotal: 303ms\tremaining: 324ms\n",
      "1000:\tlearn: 0.0381724\ttotal: 588ms\tremaining: 21.2ms\n",
      "1036:\tlearn: 0.0361771\ttotal: 612ms\tremaining: 0us\n",
      "Learning rate set to 0.033929\n",
      "0:\tlearn: 0.2314037\ttotal: 691us\tremaining: 716ms\n",
      "500:\tlearn: 0.1202294\ttotal: 349ms\tremaining: 374ms\n",
      "1000:\tlearn: 0.0646992\ttotal: 722ms\tremaining: 26ms\n",
      "1036:\tlearn: 0.0617352\ttotal: 749ms\tremaining: 0us\n",
      "Learning rate set to 0.036148\n",
      "0:\tlearn: 0.2605158\ttotal: 785us\tremaining: 814ms\n",
      "500:\tlearn: 0.1460951\ttotal: 377ms\tremaining: 403ms\n",
      "1000:\tlearn: 0.0875023\ttotal: 775ms\tremaining: 27.9ms\n",
      "1036:\tlearn: 0.0844055\ttotal: 803ms\tremaining: 0us\n",
      "Learning rate set to 0.037815\n",
      "0:\tlearn: 0.2635590\ttotal: 851us\tremaining: 882ms\n",
      "500:\tlearn: 0.1615866\ttotal: 389ms\tremaining: 416ms\n",
      "1000:\tlearn: 0.1051163\ttotal: 805ms\tremaining: 29ms\n",
      "1036:\tlearn: 0.1017732\ttotal: 835ms\tremaining: 0us\n",
      "Learning rate set to 0.039163\n",
      "0:\tlearn: 0.2831987\ttotal: 832us\tremaining: 863ms\n",
      "500:\tlearn: 0.1823513\ttotal: 407ms\tremaining: 436ms\n",
      "1000:\tlearn: 0.1273435\ttotal: 835ms\tremaining: 30ms\n",
      "1036:\tlearn: 0.1243101\ttotal: 867ms\tremaining: 0us\n",
      "Learning rate set to 0.040302\n",
      "0:\tlearn: 0.2846315\ttotal: 1.03ms\tremaining: 1.07s\n",
      "500:\tlearn: 0.1860437\ttotal: 416ms\tremaining: 445ms\n",
      "1000:\tlearn: 0.1344917\ttotal: 845ms\tremaining: 30.4ms\n",
      "1036:\tlearn: 0.1319303\ttotal: 877ms\tremaining: 0us\n",
      "Learning rate set to 0.041291\n",
      "0:\tlearn: 0.2795798\ttotal: 1.05ms\tremaining: 1.09s\n",
      "500:\tlearn: 0.1861222\ttotal: 435ms\tremaining: 465ms\n"
     ]
    },
    {
     "name": "stderr",
     "output_type": "stream",
     "text": [
      "Best trial: 25. Best value: 0.361784:  31%|███████▊                 | 31/100 [03:02<08:50,  7.69s/it, 182.08/1200 seconds]"
     ]
    },
    {
     "name": "stdout",
     "output_type": "stream",
     "text": [
      "1000:\tlearn: 0.1381264\ttotal: 888ms\tremaining: 31.9ms\n",
      "1036:\tlearn: 0.1349962\ttotal: 919ms\tremaining: 0us\n",
      "[I 2024-04-14 22:37:12,544] Trial 30 finished with value: 0.044301254137651215 and parameters: {'loss_function': 'RMSE', 'depth': 5, 'iterations': 1037, 'min_data_in_leaf': 79, 'random_strength': 3.7697121736915395}. Best is trial 25 with value: 0.3617839716018957.\n",
      "Learning rate set to 0.027723\n",
      "0:\tlearn: 0.2156225\ttotal: 1.82ms\tremaining: 2.11s\n",
      "500:\tlearn: 0.1185618\ttotal: 235ms\tremaining: 312ms\n",
      "1000:\tlearn: 0.0632306\ttotal: 476ms\tremaining: 78ms\n",
      "1164:\tlearn: 0.0512852\ttotal: 556ms\tremaining: 0us\n",
      "Learning rate set to 0.030866\n",
      "0:\tlearn: 0.2315637\ttotal: 1.19ms\tremaining: 1.39s\n",
      "500:\tlearn: 0.1497138\ttotal: 271ms\tremaining: 360ms\n",
      "1000:\tlearn: 0.0968083\ttotal: 559ms\tremaining: 91.6ms\n",
      "1164:\tlearn: 0.0850055\ttotal: 649ms\tremaining: 0us\n",
      "Learning rate set to 0.032884\n",
      "0:\tlearn: 0.2605399\ttotal: 1.07ms\tremaining: 1.24s\n",
      "500:\tlearn: 0.1706116\ttotal: 292ms\tremaining: 387ms\n",
      "1000:\tlearn: 0.1176006\ttotal: 591ms\tremaining: 96.8ms\n",
      "1164:\tlearn: 0.1058495\ttotal: 688ms\tremaining: 0us\n",
      "Learning rate set to 0.034401\n",
      "0:\tlearn: 0.2637426\ttotal: 611us\tremaining: 712ms\n",
      "500:\tlearn: 0.1886208\ttotal: 306ms\tremaining: 405ms\n",
      "1000:\tlearn: 0.1416583\ttotal: 623ms\tremaining: 102ms\n",
      "1164:\tlearn: 0.1301865\ttotal: 729ms\tremaining: 0us\n",
      "Learning rate set to 0.035627\n",
      "0:\tlearn: 0.2830728\ttotal: 698us\tremaining: 813ms\n",
      "500:\tlearn: 0.2047386\ttotal: 318ms\tremaining: 421ms\n",
      "1000:\tlearn: 0.1599622\ttotal: 648ms\tremaining: 106ms\n",
      "1164:\tlearn: 0.1489259\ttotal: 757ms\tremaining: 0us\n",
      "Learning rate set to 0.036663\n",
      "0:\tlearn: 0.2844798\ttotal: 1.37ms\tremaining: 1.59s\n",
      "500:\tlearn: 0.2081585\ttotal: 335ms\tremaining: 444ms\n",
      "1000:\tlearn: 0.1673423\ttotal: 687ms\tremaining: 113ms\n",
      "1164:\tlearn: 0.1573475\ttotal: 802ms\tremaining: 0us\n",
      "Learning rate set to 0.037563\n",
      "0:\tlearn: 0.2796801\ttotal: 759us\tremaining: 884ms\n",
      "500:\tlearn: 0.2082750\ttotal: 334ms\tremaining: 443ms\n"
     ]
    },
    {
     "name": "stderr",
     "output_type": "stream",
     "text": [
      "Best trial: 25. Best value: 0.361784:  32%|████████                 | 32/100 [03:07<07:54,  6.97s/it, 187.38/1200 seconds]"
     ]
    },
    {
     "name": "stdout",
     "output_type": "stream",
     "text": [
      "1000:\tlearn: 0.1701910\ttotal: 678ms\tremaining: 111ms\n",
      "1164:\tlearn: 0.1597699\ttotal: 793ms\tremaining: 0us\n",
      "[I 2024-04-14 22:37:17,845] Trial 31 finished with value: 0.25945008520656854 and parameters: {'loss_function': 'RMSE', 'depth': 4, 'iterations': 1165, 'min_data_in_leaf': 93, 'random_strength': 3.2730098239641827}. Best is trial 25 with value: 0.3617839716018957.\n",
      "Learning rate set to 0.027211\n",
      "0:\tlearn: 0.2156534\ttotal: 2ms\tremaining: 2.39s\n",
      "500:\tlearn: 0.1137933\ttotal: 235ms\tremaining: 324ms\n",
      "1000:\tlearn: 0.0615970\ttotal: 479ms\tremaining: 91.3ms\n",
      "1191:\tlearn: 0.0488963\ttotal: 570ms\tremaining: 0us\n",
      "Learning rate set to 0.030296\n",
      "0:\tlearn: 0.2318582\ttotal: 684us\tremaining: 815ms\n",
      "500:\tlearn: 0.1490290\ttotal: 265ms\tremaining: 366ms\n",
      "1000:\tlearn: 0.0996642\ttotal: 550ms\tremaining: 105ms\n",
      "1191:\tlearn: 0.0851902\ttotal: 659ms\tremaining: 0us\n",
      "Learning rate set to 0.032277\n",
      "0:\tlearn: 0.2603406\ttotal: 1.18ms\tremaining: 1.4s\n",
      "500:\tlearn: 0.1662801\ttotal: 291ms\tremaining: 402ms\n",
      "1000:\tlearn: 0.1172704\ttotal: 587ms\tremaining: 112ms\n",
      "1191:\tlearn: 0.1034464\ttotal: 700ms\tremaining: 0us\n",
      "Learning rate set to 0.033766\n",
      "0:\tlearn: 0.2635227\ttotal: 672us\tremaining: 800ms\n",
      "500:\tlearn: 0.1876703\ttotal: 315ms\tremaining: 435ms\n",
      "1000:\tlearn: 0.1396042\ttotal: 633ms\tremaining: 121ms\n",
      "1191:\tlearn: 0.1270823\ttotal: 758ms\tremaining: 0us\n",
      "Learning rate set to 0.03497\n",
      "0:\tlearn: 0.2832250\ttotal: 565us\tremaining: 674ms\n",
      "500:\tlearn: 0.2048479\ttotal: 314ms\tremaining: 432ms\n",
      "1000:\tlearn: 0.1634599\ttotal: 639ms\tremaining: 122ms\n",
      "1191:\tlearn: 0.1492937\ttotal: 768ms\tremaining: 0us\n",
      "Learning rate set to 0.035987\n",
      "0:\tlearn: 0.2844916\ttotal: 824us\tremaining: 982ms\n",
      "500:\tlearn: 0.2065472\ttotal: 323ms\tremaining: 445ms\n",
      "1000:\tlearn: 0.1681782\ttotal: 652ms\tremaining: 124ms\n",
      "1191:\tlearn: 0.1567724\ttotal: 780ms\tremaining: 0us\n",
      "Learning rate set to 0.03687\n",
      "0:\tlearn: 0.2796045\ttotal: 837us\tremaining: 998ms\n",
      "500:\tlearn: 0.2065133\ttotal: 338ms\tremaining: 466ms\n"
     ]
    },
    {
     "name": "stderr",
     "output_type": "stream",
     "text": [
      "Best trial: 25. Best value: 0.361784:  33%|████████▎                | 33/100 [03:12<07:15,  6.50s/it, 192.77/1200 seconds]"
     ]
    },
    {
     "name": "stdout",
     "output_type": "stream",
     "text": [
      "1000:\tlearn: 0.1688895\ttotal: 683ms\tremaining: 130ms\n",
      "1191:\tlearn: 0.1575054\ttotal: 818ms\tremaining: 0us\n",
      "[I 2024-04-14 22:37:23,234] Trial 32 finished with value: 0.09751250595692584 and parameters: {'loss_function': 'RMSE', 'depth': 4, 'iterations': 1192, 'min_data_in_leaf': 86, 'random_strength': 2.322795072008094}. Best is trial 25 with value: 0.3617839716018957.\n",
      "Learning rate set to 0.02782\n",
      "0:\tlearn: 0.2158560\ttotal: 706us\tremaining: 818ms\n",
      "500:\tlearn: 0.1093581\ttotal: 242ms\tremaining: 318ms\n",
      "1000:\tlearn: 0.0571027\ttotal: 484ms\tremaining: 76.9ms\n",
      "1159:\tlearn: 0.0465914\ttotal: 565ms\tremaining: 0us\n",
      "Learning rate set to 0.030974\n",
      "0:\tlearn: 0.2316943\ttotal: 709us\tremaining: 823ms\n",
      "500:\tlearn: 0.1400728\ttotal: 273ms\tremaining: 359ms\n",
      "1000:\tlearn: 0.0937209\ttotal: 552ms\tremaining: 87.7ms\n",
      "1159:\tlearn: 0.0825330\ttotal: 640ms\tremaining: 0us\n",
      "Learning rate set to 0.032999\n",
      "0:\tlearn: 0.2602562\ttotal: 699us\tremaining: 811ms\n",
      "500:\tlearn: 0.1615694\ttotal: 295ms\tremaining: 388ms\n",
      "1000:\tlearn: 0.1121208\ttotal: 598ms\tremaining: 95ms\n",
      "1159:\tlearn: 0.1003329\ttotal: 694ms\tremaining: 0us\n",
      "Learning rate set to 0.034521\n",
      "0:\tlearn: 0.2633812\ttotal: 589us\tremaining: 683ms\n",
      "500:\tlearn: 0.1786141\ttotal: 322ms\tremaining: 423ms\n",
      "1000:\tlearn: 0.1355716\ttotal: 634ms\tremaining: 101ms\n",
      "1159:\tlearn: 0.1245129\ttotal: 733ms\tremaining: 0us\n",
      "Learning rate set to 0.035752\n",
      "0:\tlearn: 0.2832327\ttotal: 1.3ms\tremaining: 1.51s\n",
      "500:\tlearn: 0.2007037\ttotal: 331ms\tremaining: 436ms\n",
      "1000:\tlearn: 0.1588452\ttotal: 664ms\tremaining: 106ms\n",
      "1159:\tlearn: 0.1489057\ttotal: 770ms\tremaining: 0us\n",
      "Learning rate set to 0.036792\n",
      "0:\tlearn: 0.2842611\ttotal: 751us\tremaining: 871ms\n",
      "500:\tlearn: 0.1991718\ttotal: 336ms\tremaining: 442ms\n",
      "1000:\tlearn: 0.1633110\ttotal: 665ms\tremaining: 106ms\n",
      "1159:\tlearn: 0.1530719\ttotal: 768ms\tremaining: 0us\n",
      "Learning rate set to 0.037695\n",
      "0:\tlearn: 0.2793628\ttotal: 1.26ms\tremaining: 1.46s\n",
      "500:\tlearn: 0.2029136\ttotal: 346ms\tremaining: 456ms\n"
     ]
    },
    {
     "name": "stderr",
     "output_type": "stream",
     "text": [
      "Best trial: 25. Best value: 0.361784:  34%|████████▌                | 34/100 [03:18<06:45,  6.14s/it, 198.08/1200 seconds]"
     ]
    },
    {
     "name": "stdout",
     "output_type": "stream",
     "text": [
      "1000:\tlearn: 0.1663896\ttotal: 699ms\tremaining: 111ms\n",
      "1159:\tlearn: 0.1572159\ttotal: 808ms\tremaining: 0us\n",
      "[I 2024-04-14 22:37:28,541] Trial 33 finished with value: 0.1598963412185724 and parameters: {'loss_function': 'RMSE', 'depth': 4, 'iterations': 1160, 'min_data_in_leaf': 91, 'random_strength': 1.1257777968706943}. Best is trial 25 with value: 0.3617839716018957.\n",
      "Learning rate set to 0.024817\n",
      "0:\tlearn: 0.2156764\ttotal: 1.17ms\tremaining: 1.55s\n",
      "500:\tlearn: 0.1267203\ttotal: 243ms\tremaining: 404ms\n",
      "1000:\tlearn: 0.0717976\ttotal: 484ms\tremaining: 162ms\n",
      "1334:\tlearn: 0.0506474\ttotal: 653ms\tremaining: 0us\n",
      "Learning rate set to 0.02763\n",
      "0:\tlearn: 0.2316168\ttotal: 618us\tremaining: 825ms\n",
      "500:\tlearn: 0.1567273\ttotal: 279ms\tremaining: 465ms\n",
      "1000:\tlearn: 0.1058770\ttotal: 567ms\tremaining: 189ms\n",
      "1334:\tlearn: 0.0827194\ttotal: 758ms\tremaining: 0us\n",
      "Learning rate set to 0.029437\n",
      "0:\tlearn: 0.2605645\ttotal: 1.21ms\tremaining: 1.61s\n",
      "500:\tlearn: 0.1800579\ttotal: 285ms\tremaining: 474ms\n",
      "1000:\tlearn: 0.1277299\ttotal: 564ms\tremaining: 188ms\n",
      "1334:\tlearn: 0.1047431\ttotal: 758ms\tremaining: 0us\n",
      "Learning rate set to 0.030795\n",
      "0:\tlearn: 0.2637675\ttotal: 710us\tremaining: 948ms\n",
      "500:\tlearn: 0.1969386\ttotal: 287ms\tremaining: 479ms\n",
      "1000:\tlearn: 0.1512518\ttotal: 605ms\tremaining: 202ms\n",
      "1334:\tlearn: 0.1284627\ttotal: 820ms\tremaining: 0us\n",
      "Learning rate set to 0.031893\n",
      "0:\tlearn: 0.2833034\ttotal: 1.14ms\tremaining: 1.52s\n",
      "500:\tlearn: 0.2110238\ttotal: 320ms\tremaining: 533ms\n",
      "1000:\tlearn: 0.1682130\ttotal: 646ms\tremaining: 216ms\n",
      "1334:\tlearn: 0.1481661\ttotal: 868ms\tremaining: 0us\n",
      "Learning rate set to 0.03282\n",
      "0:\tlearn: 0.2847790\ttotal: 1.42ms\tremaining: 1.9s\n",
      "500:\tlearn: 0.2129302\ttotal: 320ms\tremaining: 532ms\n",
      "1000:\tlearn: 0.1737272\ttotal: 656ms\tremaining: 219ms\n",
      "1334:\tlearn: 0.1552151\ttotal: 877ms\tremaining: 0us\n",
      "Learning rate set to 0.033626\n",
      "0:\tlearn: 0.2797365\ttotal: 774us\tremaining: 1.03s\n",
      "500:\tlearn: 0.2149734\ttotal: 330ms\tremaining: 549ms\n",
      "1000:\tlearn: 0.1763382\ttotal: 682ms\tremaining: 227ms\n"
     ]
    },
    {
     "name": "stderr",
     "output_type": "stream",
     "text": [
      "Best trial: 25. Best value: 0.361784:  35%|████████▊                | 35/100 [03:24<06:37,  6.11s/it, 204.11/1200 seconds]"
     ]
    },
    {
     "name": "stdout",
     "output_type": "stream",
     "text": [
      "1334:\tlearn: 0.1578023\ttotal: 913ms\tremaining: 0us\n",
      "[I 2024-04-14 22:37:34,575] Trial 34 finished with value: 0.2790597219947083 and parameters: {'loss_function': 'RMSE', 'depth': 4, 'iterations': 1335, 'min_data_in_leaf': 100, 'random_strength': 3.9560102375653523}. Best is trial 25 with value: 0.3617839716018957.\n",
      "0:\tlearn: 0.1122067\ttotal: 1.31ms\tremaining: 1.96s\n",
      "500:\tlearn: 0.0667574\ttotal: 244ms\tremaining: 483ms\n",
      "1000:\tlearn: 0.0484432\ttotal: 503ms\tremaining: 248ms\n",
      "1494:\tlearn: 0.0392908\ttotal: 760ms\tremaining: 0us\n",
      "0:\tlearn: 0.1276019\ttotal: 684us\tremaining: 1.02s\n",
      "500:\tlearn: 0.0888220\ttotal: 287ms\tremaining: 570ms\n",
      "1000:\tlearn: 0.0662880\ttotal: 583ms\tremaining: 288ms\n",
      "1494:\tlearn: 0.0555747\ttotal: 874ms\tremaining: 0us\n",
      "0:\tlearn: 0.1383636\ttotal: 768us\tremaining: 1.15s\n",
      "500:\tlearn: 0.1030437\ttotal: 304ms\tremaining: 603ms\n",
      "1000:\tlearn: 0.0844282\ttotal: 623ms\tremaining: 307ms\n",
      "1494:\tlearn: 0.0737193\ttotal: 943ms\tremaining: 0us\n",
      "0:\tlearn: 0.1441874\ttotal: 704us\tremaining: 1.05s\n",
      "500:\tlearn: 0.1177652\ttotal: 320ms\tremaining: 636ms\n",
      "1000:\tlearn: 0.1001463\ttotal: 668ms\tremaining: 330ms\n",
      "1494:\tlearn: 0.0896242\ttotal: 1s\tremaining: 0us\n",
      "0:\tlearn: 0.1601176\ttotal: 791us\tremaining: 1.18s\n",
      "500:\tlearn: 0.1287018\ttotal: 339ms\tremaining: 672ms\n",
      "1000:\tlearn: 0.1110556\ttotal: 691ms\tremaining: 341ms\n",
      "1494:\tlearn: 0.1000840\ttotal: 1.05s\tremaining: 0us\n",
      "0:\tlearn: 0.1634930\ttotal: 1.62ms\tremaining: 2.42s\n",
      "500:\tlearn: 0.1324504\ttotal: 490ms\tremaining: 972ms\n",
      "1000:\tlearn: 0.1173918\ttotal: 860ms\tremaining: 424ms\n",
      "1494:\tlearn: 0.1075080\ttotal: 1.22s\tremaining: 0us\n",
      "0:\tlearn: 0.1619270\ttotal: 2.06ms\tremaining: 3.08s\n",
      "500:\tlearn: 0.1341487\ttotal: 356ms\tremaining: 705ms\n",
      "1000:\tlearn: 0.1194667\ttotal: 727ms\tremaining: 359ms\n"
     ]
    },
    {
     "name": "stderr",
     "output_type": "stream",
     "text": [
      "Best trial: 25. Best value: 0.361784:  36%|█████████                | 36/100 [03:31<06:54,  6.48s/it, 211.46/1200 seconds]"
     ]
    },
    {
     "name": "stdout",
     "output_type": "stream",
     "text": [
      "1494:\tlearn: 0.1102189\ttotal: 1.09s\tremaining: 0us\n",
      "[I 2024-04-14 22:37:41,922] Trial 35 finished with value: -0.017130308234950882 and parameters: {'loss_function': 'MAE', 'depth': 4, 'iterations': 1495, 'min_data_in_leaf': 100, 'random_strength': 6.028724987572002}. Best is trial 25 with value: 0.3617839716018957.\n",
      "Learning rate set to 0.025264\n",
      "0:\tlearn: 0.2157311\ttotal: 750us\tremaining: 979ms\n",
      "500:\tlearn: 0.1113030\ttotal: 271ms\tremaining: 435ms\n",
      "1000:\tlearn: 0.0479811\ttotal: 591ms\tremaining: 180ms\n",
      "1305:\tlearn: 0.0295567\ttotal: 784ms\tremaining: 0us\n",
      "Learning rate set to 0.028128\n",
      "0:\tlearn: 0.2319499\ttotal: 824us\tremaining: 1.07s\n",
      "500:\tlearn: 0.1369985\ttotal: 337ms\tremaining: 542ms\n",
      "1000:\tlearn: 0.0821490\ttotal: 693ms\tremaining: 211ms\n",
      "1305:\tlearn: 0.0599558\ttotal: 916ms\tremaining: 0us\n",
      "Learning rate set to 0.029967\n",
      "0:\tlearn: 0.2605599\ttotal: 826us\tremaining: 1.08s\n",
      "500:\tlearn: 0.1620257\ttotal: 355ms\tremaining: 570ms\n",
      "1000:\tlearn: 0.1030176\ttotal: 736ms\tremaining: 224ms\n",
      "1305:\tlearn: 0.0802765\ttotal: 971ms\tremaining: 0us\n",
      "Learning rate set to 0.031349\n",
      "0:\tlearn: 0.2633527\ttotal: 732us\tremaining: 956ms\n",
      "500:\tlearn: 0.1797150\ttotal: 360ms\tremaining: 578ms\n",
      "1000:\tlearn: 0.1235883\ttotal: 758ms\tremaining: 231ms\n",
      "1305:\tlearn: 0.0992758\ttotal: 996ms\tremaining: 0us\n",
      "Learning rate set to 0.032467\n",
      "0:\tlearn: 0.2832951\ttotal: 767us\tremaining: 1s\n",
      "500:\tlearn: 0.1969476\ttotal: 390ms\tremaining: 626ms\n",
      "1000:\tlearn: 0.1443797\ttotal: 803ms\tremaining: 245ms\n",
      "1305:\tlearn: 0.1202047\ttotal: 1.05s\tremaining: 0us\n",
      "Learning rate set to 0.033411\n",
      "0:\tlearn: 0.2847722\ttotal: 1.07ms\tremaining: 1.4s\n",
      "500:\tlearn: 0.2003581\ttotal: 385ms\tremaining: 619ms\n",
      "1000:\tlearn: 0.1496632\ttotal: 798ms\tremaining: 243ms\n",
      "1305:\tlearn: 0.1286672\ttotal: 1.05s\tremaining: 0us\n",
      "Learning rate set to 0.034232\n",
      "0:\tlearn: 0.2796887\ttotal: 811us\tremaining: 1.06s\n",
      "500:\tlearn: 0.2010909\ttotal: 419ms\tremaining: 673ms\n",
      "1000:\tlearn: 0.1539746\ttotal: 865ms\tremaining: 264ms\n"
     ]
    },
    {
     "name": "stderr",
     "output_type": "stream",
     "text": [
      "Best trial: 25. Best value: 0.361784:  37%|█████████▎               | 37/100 [03:38<07:02,  6.71s/it, 218.72/1200 seconds]"
     ]
    },
    {
     "name": "stdout",
     "output_type": "stream",
     "text": [
      "1305:\tlearn: 0.1332975\ttotal: 1.13s\tremaining: 0us\n",
      "[I 2024-04-14 22:37:49,181] Trial 36 finished with value: 0.22561106630408403 and parameters: {'loss_function': 'RMSE', 'depth': 5, 'iterations': 1306, 'min_data_in_leaf': 78, 'random_strength': 4.82363905773598}. Best is trial 25 with value: 0.3617839716018957.\n",
      "Learning rate set to 0.03074\n",
      "0:\tlearn: 0.2156432\ttotal: 1.31ms\tremaining: 1.35s\n",
      "500:\tlearn: 0.1080434\ttotal: 218ms\tremaining: 228ms\n",
      "1000:\tlearn: 0.0532033\ttotal: 444ms\tremaining: 11.1ms\n",
      "1025:\tlearn: 0.0517146\ttotal: 456ms\tremaining: 0us\n",
      "Learning rate set to 0.034224\n",
      "0:\tlearn: 0.2315086\ttotal: 593us\tremaining: 608ms\n",
      "500:\tlearn: 0.1442518\ttotal: 250ms\tremaining: 262ms\n",
      "1000:\tlearn: 0.0910067\ttotal: 517ms\tremaining: 12.9ms\n",
      "1025:\tlearn: 0.0889493\ttotal: 531ms\tremaining: 0us\n",
      "Learning rate set to 0.036462\n",
      "0:\tlearn: 0.2605146\ttotal: 629us\tremaining: 645ms\n",
      "500:\tlearn: 0.1645894\ttotal: 274ms\tremaining: 288ms\n",
      "1000:\tlearn: 0.1107672\ttotal: 556ms\tremaining: 13.9ms\n",
      "1025:\tlearn: 0.1087754\ttotal: 571ms\tremaining: 0us\n",
      "Learning rate set to 0.038144\n",
      "0:\tlearn: 0.2634461\ttotal: 1.3ms\tremaining: 1.34s\n",
      "500:\tlearn: 0.1816851\ttotal: 294ms\tremaining: 308ms\n",
      "1000:\tlearn: 0.1325912\ttotal: 594ms\tremaining: 14.8ms\n",
      "1025:\tlearn: 0.1305471\ttotal: 609ms\tremaining: 0us\n",
      "Learning rate set to 0.039504\n",
      "0:\tlearn: 0.2831938\ttotal: 1.32ms\tremaining: 1.35s\n",
      "500:\tlearn: 0.2018196\ttotal: 303ms\tremaining: 317ms\n",
      "1000:\tlearn: 0.1527041\ttotal: 622ms\tremaining: 15.5ms\n",
      "1025:\tlearn: 0.1508920\ttotal: 637ms\tremaining: 0us\n",
      "Learning rate set to 0.040653\n",
      "0:\tlearn: 0.2846957\ttotal: 749us\tremaining: 768ms\n",
      "500:\tlearn: 0.2038527\ttotal: 312ms\tremaining: 326ms\n",
      "1000:\tlearn: 0.1605595\ttotal: 637ms\tremaining: 15.9ms\n",
      "1025:\tlearn: 0.1593178\ttotal: 653ms\tremaining: 0us\n",
      "Learning rate set to 0.041651\n",
      "0:\tlearn: 0.2796218\ttotal: 841us\tremaining: 862ms\n",
      "500:\tlearn: 0.2037949\ttotal: 336ms\tremaining: 352ms\n"
     ]
    },
    {
     "name": "stderr",
     "output_type": "stream",
     "text": [
      "Best trial: 25. Best value: 0.361784:  38%|█████████▌               | 38/100 [03:43<06:13,  6.03s/it, 223.14/1200 seconds]"
     ]
    },
    {
     "name": "stdout",
     "output_type": "stream",
     "text": [
      "1000:\tlearn: 0.1642851\ttotal: 676ms\tremaining: 16.9ms\n",
      "1025:\tlearn: 0.1629948\ttotal: 692ms\tremaining: 0us\n",
      "[I 2024-04-14 22:37:53,603] Trial 37 finished with value: 0.25626743902472005 and parameters: {'loss_function': 'RMSE', 'depth': 4, 'iterations': 1026, 'min_data_in_leaf': 34, 'random_strength': 4.084863075065264}. Best is trial 25 with value: 0.3617839716018957.\n",
      "Learning rate set to 0.023876\n",
      "0:\tlearn: 0.2157191\ttotal: 1.39ms\tremaining: 1.95s\n",
      "500:\tlearn: 0.0935321\ttotal: 426ms\tremaining: 764ms\n",
      "1000:\tlearn: 0.0264260\ttotal: 934ms\tremaining: 372ms\n",
      "1399:\tlearn: 0.0108852\ttotal: 1.33s\tremaining: 0us\n",
      "Learning rate set to 0.026582\n",
      "0:\tlearn: 0.2318375\ttotal: 1.39ms\tremaining: 1.94s\n",
      "500:\tlearn: 0.1146083\ttotal: 529ms\tremaining: 949ms\n",
      "1000:\tlearn: 0.0484923\ttotal: 1.15s\tremaining: 457ms\n",
      "1399:\tlearn: 0.0256926\ttotal: 1.66s\tremaining: 0us\n",
      "Learning rate set to 0.028321\n",
      "0:\tlearn: 0.2604419\ttotal: 1.68ms\tremaining: 2.35s\n",
      "500:\tlearn: 0.1386503\ttotal: 570ms\tremaining: 1.02s\n",
      "1000:\tlearn: 0.0666686\ttotal: 1.22s\tremaining: 487ms\n",
      "1399:\tlearn: 0.0386379\ttotal: 1.74s\tremaining: 0us\n",
      "Learning rate set to 0.029627\n",
      "0:\tlearn: 0.2631583\ttotal: 1.63ms\tremaining: 2.28s\n",
      "500:\tlearn: 0.1585610\ttotal: 554ms\tremaining: 993ms\n",
      "1000:\tlearn: 0.0856576\ttotal: 1.24s\tremaining: 495ms\n",
      "1399:\tlearn: 0.0534719\ttotal: 1.78s\tremaining: 0us\n",
      "Learning rate set to 0.030684\n",
      "0:\tlearn: 0.2835499\ttotal: 787us\tremaining: 1.1s\n",
      "500:\tlearn: 0.1694700\ttotal: 602ms\tremaining: 1.08s\n",
      "1000:\tlearn: 0.1014014\ttotal: 1.28s\tremaining: 511ms\n",
      "1399:\tlearn: 0.0690127\ttotal: 1.83s\tremaining: 0us\n",
      "Learning rate set to 0.031576\n",
      "0:\tlearn: 0.2847099\ttotal: 1.58ms\tremaining: 2.21s\n",
      "500:\tlearn: 0.1763417\ttotal: 603ms\tremaining: 1.08s\n",
      "1000:\tlearn: 0.1081174\ttotal: 1.31s\tremaining: 523ms\n",
      "1399:\tlearn: 0.0749811\ttotal: 1.88s\tremaining: 0us\n",
      "Learning rate set to 0.032351\n",
      "0:\tlearn: 0.2792424\ttotal: 1.46ms\tremaining: 2.05s\n",
      "500:\tlearn: 0.1739874\ttotal: 642ms\tremaining: 1.15s\n",
      "1000:\tlearn: 0.1120215\ttotal: 1.38s\tremaining: 548ms\n"
     ]
    },
    {
     "name": "stderr",
     "output_type": "stream",
     "text": [
      "Best trial: 25. Best value: 0.361784:  39%|█████████▊               | 39/100 [03:55<08:08,  8.01s/it, 235.79/1200 seconds]"
     ]
    },
    {
     "name": "stdout",
     "output_type": "stream",
     "text": [
      "1399:\tlearn: 0.0795254\ttotal: 1.96s\tremaining: 0us\n",
      "[I 2024-04-14 22:38:06,257] Trial 38 finished with value: -0.06523389574811612 and parameters: {'loss_function': 'RMSE', 'depth': 7, 'iterations': 1400, 'min_data_in_leaf': 70, 'random_strength': 5.753430453999327}. Best is trial 25 with value: 0.3617839716018957.\n",
      "0:\tlearn: 0.1123276\ttotal: 1.28ms\tremaining: 1.37s\n",
      "500:\tlearn: 0.0657815\ttotal: 228ms\tremaining: 260ms\n",
      "1000:\tlearn: 0.0479353\ttotal: 469ms\tremaining: 34.2ms\n",
      "1073:\tlearn: 0.0461197\ttotal: 505ms\tremaining: 0us\n",
      "0:\tlearn: 0.1277117\ttotal: 821us\tremaining: 881ms\n",
      "500:\tlearn: 0.0895525\ttotal: 269ms\tremaining: 307ms\n",
      "1000:\tlearn: 0.0676499\ttotal: 559ms\tremaining: 40.8ms\n",
      "1073:\tlearn: 0.0652411\ttotal: 601ms\tremaining: 0us\n",
      "0:\tlearn: 0.1383636\ttotal: 1.31ms\tremaining: 1.41s\n",
      "500:\tlearn: 0.1064314\ttotal: 283ms\tremaining: 324ms\n",
      "1000:\tlearn: 0.0848937\ttotal: 589ms\tremaining: 43ms\n",
      "1073:\tlearn: 0.0830924\ttotal: 635ms\tremaining: 0us\n",
      "0:\tlearn: 0.1441874\ttotal: 646us\tremaining: 694ms\n",
      "500:\tlearn: 0.1181311\ttotal: 297ms\tremaining: 339ms\n",
      "1000:\tlearn: 0.0991771\ttotal: 621ms\tremaining: 45.3ms\n",
      "1073:\tlearn: 0.0972734\ttotal: 668ms\tremaining: 0us\n",
      "0:\tlearn: 0.1601176\ttotal: 686us\tremaining: 737ms\n",
      "500:\tlearn: 0.1287243\ttotal: 318ms\tremaining: 364ms\n",
      "1000:\tlearn: 0.1100388\ttotal: 656ms\tremaining: 47.8ms\n",
      "1073:\tlearn: 0.1081035\ttotal: 705ms\tremaining: 0us\n",
      "0:\tlearn: 0.1634930\ttotal: 895us\tremaining: 961ms\n",
      "500:\tlearn: 0.1327758\ttotal: 339ms\tremaining: 388ms\n",
      "1000:\tlearn: 0.1174130\ttotal: 698ms\tremaining: 50.9ms\n",
      "1073:\tlearn: 0.1154348\ttotal: 752ms\tremaining: 0us\n",
      "0:\tlearn: 0.1619270\ttotal: 907us\tremaining: 974ms\n",
      "500:\tlearn: 0.1347818\ttotal: 346ms\tremaining: 396ms\n"
     ]
    },
    {
     "name": "stderr",
     "output_type": "stream",
     "text": [
      "Best trial: 25. Best value: 0.361784:  40%|██████████               | 40/100 [04:00<07:05,  7.08s/it, 240.71/1200 seconds]"
     ]
    },
    {
     "name": "stdout",
     "output_type": "stream",
     "text": [
      "1000:\tlearn: 0.1194075\ttotal: 720ms\tremaining: 52.5ms\n",
      "1073:\tlearn: 0.1178485\ttotal: 776ms\tremaining: 0us\n",
      "[I 2024-04-14 22:38:11,170] Trial 39 finished with value: -0.04197090658369792 and parameters: {'loss_function': 'MAE', 'depth': 4, 'iterations': 1074, 'min_data_in_leaf': 85, 'random_strength': 7.3026938039675855}. Best is trial 25 with value: 0.3617839716018957.\n",
      "Learning rate set to 0.02528\n",
      "0:\tlearn: 0.2157360\ttotal: 1.42ms\tremaining: 1.86s\n",
      "500:\tlearn: 0.0471623\ttotal: 633ms\tremaining: 1.02s\n",
      "1000:\tlearn: 0.0102967\ttotal: 1.3s\tremaining: 395ms\n",
      "1304:\tlearn: 0.0045570\ttotal: 1.7s\tremaining: 0us\n",
      "Learning rate set to 0.028145\n",
      "0:\tlearn: 0.2316183\ttotal: 1.89ms\tremaining: 2.46s\n",
      "500:\tlearn: 0.0638222\ttotal: 1.13s\tremaining: 1.81s\n",
      "1000:\tlearn: 0.0229408\ttotal: 2.29s\tremaining: 694ms\n",
      "1304:\tlearn: 0.0133191\ttotal: 2.96s\tremaining: 0us\n",
      "Learning rate set to 0.029986\n",
      "0:\tlearn: 0.2596265\ttotal: 1.82ms\tremaining: 2.38s\n",
      "500:\tlearn: 0.0771074\ttotal: 1.11s\tremaining: 1.79s\n",
      "1000:\tlearn: 0.0305124\ttotal: 2.23s\tremaining: 676ms\n",
      "1304:\tlearn: 0.0189890\ttotal: 2.9s\tremaining: 0us\n",
      "Learning rate set to 0.031369\n",
      "0:\tlearn: 0.2630324\ttotal: 2.86ms\tremaining: 3.73s\n",
      "500:\tlearn: 0.0975937\ttotal: 1.1s\tremaining: 1.77s\n",
      "1000:\tlearn: 0.0454122\ttotal: 2.21s\tremaining: 672ms\n",
      "1304:\tlearn: 0.0287460\ttotal: 2.9s\tremaining: 0us\n",
      "Learning rate set to 0.032488\n",
      "0:\tlearn: 0.2824077\ttotal: 2.13ms\tremaining: 2.78s\n",
      "500:\tlearn: 0.1092547\ttotal: 1.14s\tremaining: 1.82s\n",
      "1000:\tlearn: 0.0544831\ttotal: 2.27s\tremaining: 688ms\n",
      "1304:\tlearn: 0.0353847\ttotal: 2.95s\tremaining: 0us\n",
      "Learning rate set to 0.033432\n",
      "0:\tlearn: 0.2833973\ttotal: 2.03ms\tremaining: 2.64s\n",
      "500:\tlearn: 0.1134252\ttotal: 1.17s\tremaining: 1.88s\n",
      "1000:\tlearn: 0.0611269\ttotal: 2.37s\tremaining: 721ms\n",
      "1304:\tlearn: 0.0435989\ttotal: 3.07s\tremaining: 0us\n",
      "Learning rate set to 0.034253\n",
      "0:\tlearn: 0.2786042\ttotal: 2.79ms\tremaining: 3.63s\n",
      "500:\tlearn: 0.1214710\ttotal: 1.12s\tremaining: 1.79s\n",
      "1000:\tlearn: 0.0680780\ttotal: 2.22s\tremaining: 675ms\n"
     ]
    },
    {
     "name": "stderr",
     "output_type": "stream",
     "text": [
      "Best trial: 25. Best value: 0.361784:  41%|██████████▎              | 41/100 [04:20<10:46, 10.96s/it, 260.71/1200 seconds]"
     ]
    },
    {
     "name": "stdout",
     "output_type": "stream",
     "text": [
      "1304:\tlearn: 0.0491018\ttotal: 2.88s\tremaining: 0us\n",
      "[I 2024-04-14 22:38:31,175] Trial 40 finished with value: 0.012905225069841113 and parameters: {'loss_function': 'RMSE', 'depth': 8, 'iterations': 1305, 'min_data_in_leaf': 63, 'random_strength': 0.05031073084537385}. Best is trial 25 with value: 0.3617839716018957.\n",
      "Learning rate set to 0.027762\n",
      "0:\tlearn: 0.2156218\ttotal: 1.4ms\tremaining: 1.62s\n",
      "500:\tlearn: 0.1208330\ttotal: 222ms\tremaining: 293ms\n",
      "1000:\tlearn: 0.0608625\ttotal: 445ms\tremaining: 72.1ms\n",
      "1162:\tlearn: 0.0497597\ttotal: 521ms\tremaining: 0us\n",
      "Learning rate set to 0.030909\n",
      "0:\tlearn: 0.2315630\ttotal: 546us\tremaining: 635ms\n",
      "500:\tlearn: 0.1446241\ttotal: 255ms\tremaining: 337ms\n",
      "1000:\tlearn: 0.0939927\ttotal: 521ms\tremaining: 84.3ms\n",
      "1162:\tlearn: 0.0828103\ttotal: 609ms\tremaining: 0us\n",
      "Learning rate set to 0.03293\n",
      "0:\tlearn: 0.2605396\ttotal: 655us\tremaining: 761ms\n",
      "500:\tlearn: 0.1724917\ttotal: 268ms\tremaining: 355ms\n",
      "1000:\tlearn: 0.1174695\ttotal: 552ms\tremaining: 89.4ms\n",
      "1162:\tlearn: 0.1056976\ttotal: 646ms\tremaining: 0us\n",
      "Learning rate set to 0.034449\n",
      "0:\tlearn: 0.2637423\ttotal: 607us\tremaining: 705ms\n",
      "500:\tlearn: 0.1867899\ttotal: 292ms\tremaining: 386ms\n",
      "1000:\tlearn: 0.1410569\ttotal: 594ms\tremaining: 96.2ms\n",
      "1162:\tlearn: 0.1290766\ttotal: 692ms\tremaining: 0us\n",
      "Learning rate set to 0.035677\n",
      "0:\tlearn: 0.2830718\ttotal: 1.41ms\tremaining: 1.64s\n",
      "500:\tlearn: 0.2044317\ttotal: 308ms\tremaining: 407ms\n",
      "1000:\tlearn: 0.1603587\ttotal: 627ms\tremaining: 101ms\n",
      "1162:\tlearn: 0.1484112\ttotal: 729ms\tremaining: 0us\n",
      "Learning rate set to 0.036715\n",
      "0:\tlearn: 0.2844788\ttotal: 734us\tremaining: 853ms\n",
      "500:\tlearn: 0.2076273\ttotal: 313ms\tremaining: 414ms\n",
      "1000:\tlearn: 0.1691101\ttotal: 635ms\tremaining: 103ms\n",
      "1162:\tlearn: 0.1589867\ttotal: 743ms\tremaining: 0us\n",
      "Learning rate set to 0.037616\n",
      "0:\tlearn: 0.2796794\ttotal: 702us\tremaining: 817ms\n",
      "500:\tlearn: 0.2085525\ttotal: 326ms\tremaining: 430ms\n"
     ]
    },
    {
     "name": "stderr",
     "output_type": "stream",
     "text": [
      "Best trial: 25. Best value: 0.361784:  42%|██████████▌              | 42/100 [04:25<08:51,  9.17s/it, 265.70/1200 seconds]"
     ]
    },
    {
     "name": "stdout",
     "output_type": "stream",
     "text": [
      "1000:\tlearn: 0.1695351\ttotal: 663ms\tremaining: 107ms\n",
      "1162:\tlearn: 0.1592919\ttotal: 772ms\tremaining: 0us\n",
      "[I 2024-04-14 22:38:36,166] Trial 41 finished with value: 0.2212086056813001 and parameters: {'loss_function': 'RMSE', 'depth': 4, 'iterations': 1163, 'min_data_in_leaf': 94, 'random_strength': 3.258682167901206}. Best is trial 25 with value: 0.3617839716018957.\n",
      "Learning rate set to 0.028941\n",
      "0:\tlearn: 0.2156000\ttotal: 552us\tremaining: 610ms\n",
      "500:\tlearn: 0.1114169\ttotal: 218ms\tremaining: 263ms\n",
      "1000:\tlearn: 0.0575097\ttotal: 440ms\tremaining: 45.7ms\n",
      "1104:\tlearn: 0.0511031\ttotal: 487ms\tremaining: 0us\n",
      "Learning rate set to 0.032221\n",
      "0:\tlearn: 0.2315414\ttotal: 1.14ms\tremaining: 1.26s\n",
      "500:\tlearn: 0.1466282\ttotal: 251ms\tremaining: 302ms\n",
      "1000:\tlearn: 0.0934848\ttotal: 511ms\tremaining: 53.1ms\n",
      "1104:\tlearn: 0.0844611\ttotal: 566ms\tremaining: 0us\n",
      "Learning rate set to 0.034328\n",
      "0:\tlearn: 0.2605297\ttotal: 1.15ms\tremaining: 1.27s\n",
      "500:\tlearn: 0.1660707\ttotal: 279ms\tremaining: 336ms\n",
      "1000:\tlearn: 0.1129643\ttotal: 565ms\tremaining: 58.7ms\n",
      "1104:\tlearn: 0.1043966\ttotal: 625ms\tremaining: 0us\n",
      "Learning rate set to 0.035912\n",
      "0:\tlearn: 0.2637322\ttotal: 1.21ms\tremaining: 1.34s\n",
      "500:\tlearn: 0.1852857\ttotal: 298ms\tremaining: 359ms\n",
      "1000:\tlearn: 0.1380436\ttotal: 609ms\tremaining: 63.3ms\n",
      "1104:\tlearn: 0.1299052\ttotal: 674ms\tremaining: 0us\n",
      "Learning rate set to 0.037192\n",
      "0:\tlearn: 0.2832270\ttotal: 710us\tremaining: 784ms\n",
      "500:\tlearn: 0.2043807\ttotal: 306ms\tremaining: 369ms\n",
      "1000:\tlearn: 0.1610224\ttotal: 621ms\tremaining: 64.5ms\n",
      "1104:\tlearn: 0.1535843\ttotal: 699ms\tremaining: 0us\n",
      "Learning rate set to 0.038274\n",
      "0:\tlearn: 0.2847209\ttotal: 1.55ms\tremaining: 1.71s\n",
      "500:\tlearn: 0.2055899\ttotal: 330ms\tremaining: 398ms\n",
      "1000:\tlearn: 0.1653345\ttotal: 664ms\tremaining: 68.9ms\n",
      "1104:\tlearn: 0.1587877\ttotal: 731ms\tremaining: 0us\n",
      "Learning rate set to 0.039213\n",
      "0:\tlearn: 0.2796566\ttotal: 721us\tremaining: 796ms\n",
      "500:\tlearn: 0.2053001\ttotal: 326ms\tremaining: 393ms\n"
     ]
    },
    {
     "name": "stderr",
     "output_type": "stream",
     "text": [
      "Best trial: 25. Best value: 0.361784:  43%|██████████▊              | 43/100 [04:30<07:27,  7.86s/it, 270.50/1200 seconds]"
     ]
    },
    {
     "name": "stdout",
     "output_type": "stream",
     "text": [
      "1000:\tlearn: 0.1668034\ttotal: 671ms\tremaining: 69.7ms\n",
      "1104:\tlearn: 0.1602540\ttotal: 740ms\tremaining: 0us\n",
      "[I 2024-04-14 22:38:40,959] Trial 42 finished with value: 0.08492251309941952 and parameters: {'loss_function': 'RMSE', 'depth': 4, 'iterations': 1105, 'min_data_in_leaf': 90, 'random_strength': 3.783775188490065}. Best is trial 25 with value: 0.3617839716018957.\n",
      "Learning rate set to 0.023548\n",
      "0:\tlearn: 0.2157587\ttotal: 1.35ms\tremaining: 1.93s\n",
      "500:\tlearn: 0.1372851\ttotal: 223ms\tremaining: 411ms\n",
      "1000:\tlearn: 0.0766429\ttotal: 453ms\tremaining: 191ms\n",
      "1423:\tlearn: 0.0501503\ttotal: 644ms\tremaining: 0us\n",
      "Learning rate set to 0.026218\n",
      "0:\tlearn: 0.2319645\ttotal: 1.27ms\tremaining: 1.81s\n",
      "500:\tlearn: 0.1649596\ttotal: 244ms\tremaining: 449ms\n",
      "1000:\tlearn: 0.1102352\ttotal: 507ms\tremaining: 214ms\n",
      "1423:\tlearn: 0.0805925\ttotal: 738ms\tremaining: 0us\n",
      "Learning rate set to 0.027932\n",
      "0:\tlearn: 0.2605752\ttotal: 626us\tremaining: 892ms\n",
      "500:\tlearn: 0.1851454\ttotal: 266ms\tremaining: 491ms\n",
      "1000:\tlearn: 0.1346631\ttotal: 545ms\tremaining: 230ms\n",
      "1423:\tlearn: 0.1071341\ttotal: 797ms\tremaining: 0us\n",
      "Learning rate set to 0.02922\n",
      "0:\tlearn: 0.2635705\ttotal: 711us\tremaining: 1.01s\n",
      "500:\tlearn: 0.2016555\ttotal: 283ms\tremaining: 522ms\n",
      "1000:\tlearn: 0.1551706\ttotal: 582ms\tremaining: 246ms\n",
      "1423:\tlearn: 0.1285028\ttotal: 834ms\tremaining: 0us\n",
      "Learning rate set to 0.030262\n",
      "0:\tlearn: 0.2833270\ttotal: 607us\tremaining: 864ms\n",
      "500:\tlearn: 0.2173716\ttotal: 292ms\tremaining: 539ms\n",
      "1000:\tlearn: 0.1749432\ttotal: 605ms\tremaining: 256ms\n",
      "1423:\tlearn: 0.1501006\ttotal: 868ms\tremaining: 0us\n",
      "Learning rate set to 0.031142\n",
      "0:\tlearn: 0.2847969\ttotal: 1.33ms\tremaining: 1.9s\n",
      "500:\tlearn: 0.2181228\ttotal: 311ms\tremaining: 574ms\n",
      "1000:\tlearn: 0.1794452\ttotal: 633ms\tremaining: 268ms\n",
      "1423:\tlearn: 0.1559578\ttotal: 903ms\tremaining: 0us\n",
      "Learning rate set to 0.031907\n",
      "0:\tlearn: 0.2797612\ttotal: 673us\tremaining: 958ms\n",
      "500:\tlearn: 0.2179025\ttotal: 325ms\tremaining: 599ms\n",
      "1000:\tlearn: 0.1798744\ttotal: 659ms\tremaining: 279ms\n"
     ]
    },
    {
     "name": "stderr",
     "output_type": "stream",
     "text": [
      "Best trial: 25. Best value: 0.361784:  44%|███████████              | 44/100 [04:36<06:49,  7.32s/it, 276.56/1200 seconds]"
     ]
    },
    {
     "name": "stdout",
     "output_type": "stream",
     "text": [
      "1423:\tlearn: 0.1575608\ttotal: 943ms\tremaining: 0us\n",
      "[I 2024-04-14 22:38:47,026] Trial 43 finished with value: 0.21568983517812754 and parameters: {'loss_function': 'RMSE', 'depth': 4, 'iterations': 1424, 'min_data_in_leaf': 94, 'random_strength': 5.0749399987787305}. Best is trial 25 with value: 0.3617839716018957.\n",
      "Learning rate set to 0.033064\n",
      "0:\tlearn: 0.2152675\ttotal: 1.35ms\tremaining: 1.27s\n",
      "500:\tlearn: 0.0748330\ttotal: 297ms\tremaining: 259ms\n",
      "937:\tlearn: 0.0323012\ttotal: 567ms\tremaining: 0us\n",
      "Learning rate set to 0.036813\n",
      "0:\tlearn: 0.2316064\ttotal: 859us\tremaining: 805ms\n",
      "500:\tlearn: 0.1087660\ttotal: 344ms\tremaining: 300ms\n",
      "937:\tlearn: 0.0628174\ttotal: 652ms\tremaining: 0us\n",
      "Learning rate set to 0.03922\n",
      "0:\tlearn: 0.2600583\ttotal: 815us\tremaining: 764ms\n",
      "500:\tlearn: 0.1286530\ttotal: 361ms\tremaining: 315ms\n",
      "937:\tlearn: 0.0775427\ttotal: 688ms\tremaining: 0us\n",
      "Learning rate set to 0.041029\n",
      "0:\tlearn: 0.2634342\ttotal: 807us\tremaining: 757ms\n",
      "500:\tlearn: 0.1513451\ttotal: 382ms\tremaining: 333ms\n",
      "937:\tlearn: 0.1075720\ttotal: 723ms\tremaining: 0us\n",
      "Learning rate set to 0.042492\n",
      "0:\tlearn: 0.2831088\ttotal: 824us\tremaining: 772ms\n",
      "500:\tlearn: 0.1690967\ttotal: 403ms\tremaining: 352ms\n",
      "937:\tlearn: 0.1202964\ttotal: 764ms\tremaining: 0us\n",
      "Learning rate set to 0.043728\n",
      "0:\tlearn: 0.2840873\ttotal: 859us\tremaining: 805ms\n",
      "500:\tlearn: 0.1728513\ttotal: 412ms\tremaining: 359ms\n",
      "937:\tlearn: 0.1286272\ttotal: 781ms\tremaining: 0us\n",
      "Learning rate set to 0.044801\n",
      "0:\tlearn: 0.2794157\ttotal: 1.63ms\tremaining: 1.53s\n",
      "500:\tlearn: 0.1763855\ttotal: 428ms\tremaining: 374ms\n"
     ]
    },
    {
     "name": "stderr",
     "output_type": "stream",
     "text": [
      "Best trial: 25. Best value: 0.361784:  45%|███████████▎             | 45/100 [04:41<06:08,  6.70s/it, 281.81/1200 seconds]"
     ]
    },
    {
     "name": "stdout",
     "output_type": "stream",
     "text": [
      "937:\tlearn: 0.1327285\ttotal: 807ms\tremaining: 0us\n",
      "[I 2024-04-14 22:38:52,274] Trial 44 finished with value: 0.15560288442651707 and parameters: {'loss_function': 'RMSE', 'depth': 5, 'iterations': 938, 'min_data_in_leaf': 76, 'random_strength': 1.5671703057510384}. Best is trial 25 with value: 0.3617839716018957.\n",
      "0:\tlearn: 0.1091885\ttotal: 1.37ms\tremaining: 1.64s\n",
      "500:\tlearn: 0.0647310\ttotal: 233ms\tremaining: 323ms\n",
      "1000:\tlearn: 0.0471281\ttotal: 478ms\tremaining: 93ms\n",
      "1195:\tlearn: 0.0435472\ttotal: 569ms\tremaining: 0us\n",
      "0:\tlearn: 0.1260221\ttotal: 661us\tremaining: 791ms\n",
      "500:\tlearn: 0.0863528\ttotal: 285ms\tremaining: 395ms\n",
      "1000:\tlearn: 0.0668695\ttotal: 584ms\tremaining: 114ms\n",
      "1195:\tlearn: 0.0612716\ttotal: 706ms\tremaining: 0us\n",
      "0:\tlearn: 0.1337175\ttotal: 696us\tremaining: 832ms\n",
      "500:\tlearn: 0.1002678\ttotal: 303ms\tremaining: 420ms\n",
      "1000:\tlearn: 0.0826970\ttotal: 630ms\tremaining: 123ms\n",
      "1195:\tlearn: 0.0780090\ttotal: 757ms\tremaining: 0us\n",
      "0:\tlearn: 0.1400887\ttotal: 763us\tremaining: 912ms\n",
      "500:\tlearn: 0.1141927\ttotal: 313ms\tremaining: 434ms\n",
      "1000:\tlearn: 0.0964389\ttotal: 651ms\tremaining: 127ms\n",
      "1195:\tlearn: 0.0921454\ttotal: 784ms\tremaining: 0us\n",
      "0:\tlearn: 0.1556944\ttotal: 687us\tremaining: 822ms\n",
      "500:\tlearn: 0.1241686\ttotal: 322ms\tremaining: 447ms\n",
      "1000:\tlearn: 0.1076961\ttotal: 673ms\tremaining: 131ms\n",
      "1195:\tlearn: 0.1036798\ttotal: 815ms\tremaining: 0us\n",
      "0:\tlearn: 0.1592090\ttotal: 1.48ms\tremaining: 1.77s\n",
      "500:\tlearn: 0.1288789\ttotal: 350ms\tremaining: 485ms\n",
      "1000:\tlearn: 0.1140605\ttotal: 718ms\tremaining: 140ms\n",
      "1195:\tlearn: 0.1096318\ttotal: 864ms\tremaining: 0us\n",
      "0:\tlearn: 0.1577247\ttotal: 931us\tremaining: 1.11s\n",
      "500:\tlearn: 0.1304296\ttotal: 361ms\tremaining: 500ms\n"
     ]
    },
    {
     "name": "stderr",
     "output_type": "stream",
     "text": [
      "Best trial: 25. Best value: 0.361784:  46%|███████████▌             | 46/100 [04:47<05:45,  6.40s/it, 287.53/1200 seconds]"
     ]
    },
    {
     "name": "stdout",
     "output_type": "stream",
     "text": [
      "1000:\tlearn: 0.1157846\ttotal: 750ms\tremaining: 146ms\n",
      "1195:\tlearn: 0.1119606\ttotal: 901ms\tremaining: 0us\n",
      "[I 2024-04-14 22:38:57,993] Trial 45 finished with value: -0.05446473985089754 and parameters: {'loss_function': 'MAPE', 'depth': 4, 'iterations': 1196, 'min_data_in_leaf': 51, 'random_strength': 4.2949047571137005}. Best is trial 25 with value: 0.3617839716018957.\n",
      "Learning rate set to 0.025648\n",
      "0:\tlearn: 0.2156609\ttotal: 1.3ms\tremaining: 1.66s\n",
      "500:\tlearn: 0.1214456\ttotal: 221ms\tremaining: 345ms\n",
      "1000:\tlearn: 0.0642122\ttotal: 465ms\tremaining: 131ms\n",
      "1281:\tlearn: 0.0459653\ttotal: 606ms\tremaining: 0us\n",
      "Learning rate set to 0.028555\n",
      "0:\tlearn: 0.2316016\ttotal: 667us\tremaining: 855ms\n",
      "500:\tlearn: 0.1534915\ttotal: 266ms\tremaining: 414ms\n",
      "1000:\tlearn: 0.1009224\ttotal: 546ms\tremaining: 153ms\n",
      "1281:\tlearn: 0.0801666\ttotal: 705ms\tremaining: 0us\n",
      "Learning rate set to 0.030422\n",
      "0:\tlearn: 0.2604003\ttotal: 611us\tremaining: 783ms\n",
      "500:\tlearn: 0.1742710\ttotal: 287ms\tremaining: 447ms\n",
      "1000:\tlearn: 0.1223992\ttotal: 581ms\tremaining: 163ms\n",
      "1281:\tlearn: 0.1027823\ttotal: 747ms\tremaining: 0us\n",
      "Learning rate set to 0.031826\n",
      "0:\tlearn: 0.2637604\ttotal: 836us\tremaining: 1.07s\n",
      "500:\tlearn: 0.1923214\ttotal: 303ms\tremaining: 472ms\n",
      "1000:\tlearn: 0.1449227\ttotal: 626ms\tremaining: 176ms\n",
      "1281:\tlearn: 0.1279807\ttotal: 802ms\tremaining: 0us\n",
      "Learning rate set to 0.032961\n",
      "0:\tlearn: 0.2831243\ttotal: 792us\tremaining: 1.01s\n",
      "500:\tlearn: 0.2076000\ttotal: 312ms\tremaining: 486ms\n",
      "1000:\tlearn: 0.1668602\ttotal: 624ms\tremaining: 175ms\n",
      "1281:\tlearn: 0.1490944\ttotal: 802ms\tremaining: 0us\n",
      "Learning rate set to 0.033919\n",
      "0:\tlearn: 0.2845281\ttotal: 721us\tremaining: 924ms\n",
      "500:\tlearn: 0.2116723\ttotal: 314ms\tremaining: 490ms\n",
      "1000:\tlearn: 0.1722869\ttotal: 640ms\tremaining: 180ms\n",
      "1281:\tlearn: 0.1551558\ttotal: 817ms\tremaining: 0us\n",
      "Learning rate set to 0.034752\n",
      "0:\tlearn: 0.2797203\ttotal: 932us\tremaining: 1.19s\n",
      "500:\tlearn: 0.2100215\ttotal: 323ms\tremaining: 504ms\n",
      "1000:\tlearn: 0.1731110\ttotal: 661ms\tremaining: 186ms\n",
      "1281:\tlearn: 0.1571652\ttotal: 853ms\tremaining: 0us\n"
     ]
    },
    {
     "name": "stderr",
     "output_type": "stream",
     "text": [
      "Best trial: 25. Best value: 0.361784:  47%|███████████▊             | 47/100 [04:53<05:27,  6.18s/it, 293.18/1200 seconds]"
     ]
    },
    {
     "name": "stdout",
     "output_type": "stream",
     "text": [
      "[I 2024-04-14 22:39:03,644] Trial 46 finished with value: 0.21301696111883597 and parameters: {'loss_function': 'RMSE', 'depth': 4, 'iterations': 1282, 'min_data_in_leaf': 85, 'random_strength': 3.045319625622878}. Best is trial 25 with value: 0.3617839716018957.\n",
      "0:\tlearn: 0.1120422\ttotal: 1.32ms\tremaining: 1.81s\n",
      "500:\tlearn: 0.0494950\ttotal: 306ms\tremaining: 529ms\n",
      "1000:\tlearn: 0.0326750\ttotal: 628ms\tremaining: 230ms\n",
      "1366:\tlearn: 0.0267203\ttotal: 851ms\tremaining: 0us\n",
      "0:\tlearn: 0.1275841\ttotal: 867us\tremaining: 1.19s\n",
      "500:\tlearn: 0.0726113\ttotal: 349ms\tremaining: 603ms\n",
      "1000:\tlearn: 0.0500313\ttotal: 725ms\tremaining: 265ms\n",
      "1366:\tlearn: 0.0424969\ttotal: 998ms\tremaining: 0us\n",
      "0:\tlearn: 0.1380300\ttotal: 878us\tremaining: 1.2s\n",
      "500:\tlearn: 0.0889651\ttotal: 373ms\tremaining: 645ms\n",
      "1000:\tlearn: 0.0662783\ttotal: 780ms\tremaining: 285ms\n",
      "1366:\tlearn: 0.0567635\ttotal: 1.08s\tremaining: 0us\n",
      "0:\tlearn: 0.1440045\ttotal: 1.71ms\tremaining: 2.33s\n",
      "500:\tlearn: 0.1024968\ttotal: 392ms\tremaining: 677ms\n",
      "1000:\tlearn: 0.0806997\ttotal: 817ms\tremaining: 299ms\n",
      "1366:\tlearn: 0.0710715\ttotal: 1.13s\tremaining: 0us\n",
      "0:\tlearn: 0.1597616\ttotal: 951us\tremaining: 1.3s\n",
      "500:\tlearn: 0.1121343\ttotal: 419ms\tremaining: 725ms\n",
      "1000:\tlearn: 0.0911143\ttotal: 860ms\tremaining: 314ms\n",
      "1366:\tlearn: 0.0812092\ttotal: 1.19s\tremaining: 0us\n",
      "0:\tlearn: 0.1634425\ttotal: 926us\tremaining: 1.26s\n",
      "500:\tlearn: 0.1211137\ttotal: 433ms\tremaining: 748ms\n",
      "1000:\tlearn: 0.0998360\ttotal: 898ms\tremaining: 328ms\n",
      "1366:\tlearn: 0.0904102\ttotal: 1.23s\tremaining: 0us\n",
      "0:\tlearn: 0.1616693\ttotal: 1.07ms\tremaining: 1.46s\n",
      "500:\tlearn: 0.1225757\ttotal: 450ms\tremaining: 778ms\n",
      "1000:\tlearn: 0.1020625\ttotal: 931ms\tremaining: 340ms\n"
     ]
    },
    {
     "name": "stderr",
     "output_type": "stream",
     "text": [
      "Best trial: 25. Best value: 0.361784:  48%|████████████             | 48/100 [05:01<05:51,  6.76s/it, 301.29/1200 seconds]"
     ]
    },
    {
     "name": "stdout",
     "output_type": "stream",
     "text": [
      "1366:\tlearn: 0.0933023\ttotal: 1.28s\tremaining: 0us\n",
      "[I 2024-04-14 22:39:11,751] Trial 47 finished with value: 0.018549622954242985 and parameters: {'loss_function': 'MAE', 'depth': 5, 'iterations': 1367, 'min_data_in_leaf': 96, 'random_strength': 2.757560339270339}. Best is trial 25 with value: 0.3617839716018957.\n",
      "Learning rate set to 0.028277\n",
      "0:\tlearn: 0.2156122\ttotal: 728us\tremaining: 828ms\n",
      "500:\tlearn: 0.1121037\ttotal: 218ms\tremaining: 277ms\n",
      "1000:\tlearn: 0.0635799\ttotal: 441ms\tremaining: 59.9ms\n",
      "1136:\tlearn: 0.0546559\ttotal: 501ms\tremaining: 0us\n",
      "Learning rate set to 0.031482\n",
      "0:\tlearn: 0.2315536\ttotal: 538us\tremaining: 611ms\n",
      "500:\tlearn: 0.1460838\ttotal: 254ms\tremaining: 323ms\n",
      "1000:\tlearn: 0.0949342\ttotal: 513ms\tremaining: 69.7ms\n",
      "1136:\tlearn: 0.0843089\ttotal: 585ms\tremaining: 0us\n",
      "Learning rate set to 0.033541\n",
      "0:\tlearn: 0.2605353\ttotal: 671us\tremaining: 762ms\n",
      "500:\tlearn: 0.1698890\ttotal: 271ms\tremaining: 344ms\n",
      "1000:\tlearn: 0.1153778\ttotal: 554ms\tremaining: 75.3ms\n",
      "1136:\tlearn: 0.1045534\ttotal: 631ms\tremaining: 0us\n",
      "Learning rate set to 0.035088\n",
      "0:\tlearn: 0.2637379\ttotal: 672us\tremaining: 763ms\n",
      "500:\tlearn: 0.1908651\ttotal: 282ms\tremaining: 358ms\n",
      "1000:\tlearn: 0.1458830\ttotal: 578ms\tremaining: 78.5ms\n",
      "1136:\tlearn: 0.1356637\ttotal: 654ms\tremaining: 0us\n",
      "Learning rate set to 0.036339\n",
      "0:\tlearn: 0.2832393\ttotal: 1.09ms\tremaining: 1.24s\n",
      "500:\tlearn: 0.2026049\ttotal: 301ms\tremaining: 382ms\n",
      "1000:\tlearn: 0.1586010\ttotal: 610ms\tremaining: 82.9ms\n",
      "1136:\tlearn: 0.1490704\ttotal: 695ms\tremaining: 0us\n",
      "Learning rate set to 0.037396\n",
      "0:\tlearn: 0.2846624\ttotal: 720us\tremaining: 818ms\n",
      "500:\tlearn: 0.2057091\ttotal: 314ms\tremaining: 398ms\n",
      "1000:\tlearn: 0.1668098\ttotal: 641ms\tremaining: 87.1ms\n",
      "1136:\tlearn: 0.1583269\ttotal: 727ms\tremaining: 0us\n",
      "Learning rate set to 0.038314\n",
      "0:\tlearn: 0.2796694\ttotal: 859us\tremaining: 976ms\n",
      "500:\tlearn: 0.2079849\ttotal: 332ms\tremaining: 422ms\n"
     ]
    },
    {
     "name": "stderr",
     "output_type": "stream",
     "text": [
      "Best trial: 25. Best value: 0.361784:  49%|████████████▎            | 49/100 [05:06<05:15,  6.18s/it, 306.12/1200 seconds]"
     ]
    },
    {
     "name": "stdout",
     "output_type": "stream",
     "text": [
      "1000:\tlearn: 0.1689515\ttotal: 674ms\tremaining: 91.5ms\n",
      "1136:\tlearn: 0.1605252\ttotal: 767ms\tremaining: 0us\n",
      "[I 2024-04-14 22:39:16,579] Trial 48 finished with value: 0.22445009259788926 and parameters: {'loss_function': 'RMSE', 'depth': 4, 'iterations': 1137, 'min_data_in_leaf': 100, 'random_strength': 3.4960196440588995}. Best is trial 25 with value: 0.3617839716018957.\n",
      "Learning rate set to 0.02964\n",
      "0:\tlearn: 0.2156609\ttotal: 598us\tremaining: 642ms\n",
      "500:\tlearn: 0.0929076\ttotal: 279ms\tremaining: 319ms\n",
      "1000:\tlearn: 0.0374391\ttotal: 579ms\tremaining: 41.6ms\n",
      "1072:\tlearn: 0.0340251\ttotal: 622ms\tremaining: 0us\n",
      "Learning rate set to 0.033\n",
      "0:\tlearn: 0.2319285\ttotal: 871us\tremaining: 934ms\n",
      "500:\tlearn: 0.1232463\ttotal: 323ms\tremaining: 369ms\n",
      "1000:\tlearn: 0.0673673\ttotal: 669ms\tremaining: 48.1ms\n",
      "1072:\tlearn: 0.0621619\ttotal: 721ms\tremaining: 0us\n",
      "Learning rate set to 0.035158\n",
      "0:\tlearn: 0.2605229\ttotal: 864us\tremaining: 927ms\n",
      "500:\tlearn: 0.1492560\ttotal: 352ms\tremaining: 402ms\n",
      "1000:\tlearn: 0.0917334\ttotal: 728ms\tremaining: 52.3ms\n",
      "1072:\tlearn: 0.0864081\ttotal: 781ms\tremaining: 0us\n",
      "Learning rate set to 0.03678\n",
      "0:\tlearn: 0.2632448\ttotal: 780us\tremaining: 837ms\n",
      "500:\tlearn: 0.1698899\ttotal: 361ms\tremaining: 412ms\n",
      "1000:\tlearn: 0.1126735\ttotal: 755ms\tremaining: 54.3ms\n",
      "1072:\tlearn: 0.1072083\ttotal: 810ms\tremaining: 0us\n",
      "Learning rate set to 0.038092\n",
      "0:\tlearn: 0.2832141\ttotal: 738us\tremaining: 792ms\n",
      "500:\tlearn: 0.1851012\ttotal: 389ms\tremaining: 445ms\n",
      "1000:\tlearn: 0.1299550\ttotal: 801ms\tremaining: 57.6ms\n",
      "1072:\tlearn: 0.1241835\ttotal: 860ms\tremaining: 0us\n",
      "Learning rate set to 0.039199\n",
      "0:\tlearn: 0.2847105\ttotal: 881us\tremaining: 945ms\n",
      "500:\tlearn: 0.1883003\ttotal: 396ms\tremaining: 452ms\n",
      "1000:\tlearn: 0.1378194\ttotal: 819ms\tremaining: 58.9ms\n",
      "1072:\tlearn: 0.1316904\ttotal: 881ms\tremaining: 0us\n",
      "Learning rate set to 0.040162\n",
      "0:\tlearn: 0.2795971\ttotal: 963us\tremaining: 1.03s\n",
      "500:\tlearn: 0.1926487\ttotal: 407ms\tremaining: 464ms\n"
     ]
    },
    {
     "name": "stderr",
     "output_type": "stream",
     "text": [
      "Best trial: 25. Best value: 0.361784:  50%|████████████▌            | 50/100 [05:11<05:04,  6.09s/it, 311.99/1200 seconds]"
     ]
    },
    {
     "name": "stdout",
     "output_type": "stream",
     "text": [
      "1000:\tlearn: 0.1400933\ttotal: 846ms\tremaining: 60.8ms\n",
      "1072:\tlearn: 0.1353089\ttotal: 908ms\tremaining: 0us\n",
      "[I 2024-04-14 22:39:22,451] Trial 49 finished with value: 0.20689640810310514 and parameters: {'loss_function': 'RMSE', 'depth': 5, 'iterations': 1073, 'min_data_in_leaf': 25, 'random_strength': 4.850452121209121}. Best is trial 25 with value: 0.3617839716018957.\n",
      "Learning rate set to 0.023178\n",
      "0:\tlearn: 0.2157251\ttotal: 1.43ms\tremaining: 2.08s\n",
      "500:\tlearn: 0.1279724\ttotal: 212ms\tremaining: 403ms\n",
      "1000:\tlearn: 0.0758508\ttotal: 430ms\tremaining: 194ms\n",
      "1451:\tlearn: 0.0485214\ttotal: 633ms\tremaining: 0us\n",
      "Learning rate set to 0.025806\n",
      "0:\tlearn: 0.2318902\ttotal: 581us\tremaining: 844ms\n",
      "500:\tlearn: 0.1576930\ttotal: 252ms\tremaining: 478ms\n",
      "1000:\tlearn: 0.1103592\ttotal: 517ms\tremaining: 233ms\n",
      "1451:\tlearn: 0.0808299\ttotal: 758ms\tremaining: 0us\n",
      "Learning rate set to 0.027493\n",
      "0:\tlearn: 0.2604045\ttotal: 536us\tremaining: 779ms\n",
      "500:\tlearn: 0.1794950\ttotal: 275ms\tremaining: 522ms\n",
      "1000:\tlearn: 0.1315004\ttotal: 554ms\tremaining: 249ms\n",
      "1451:\tlearn: 0.1021135\ttotal: 808ms\tremaining: 0us\n",
      "Learning rate set to 0.028762\n",
      "0:\tlearn: 0.2635902\ttotal: 663us\tremaining: 963ms\n",
      "500:\tlearn: 0.1955447\ttotal: 300ms\tremaining: 570ms\n",
      "1000:\tlearn: 0.1540402\ttotal: 597ms\tremaining: 269ms\n",
      "1451:\tlearn: 0.1261022\ttotal: 874ms\tremaining: 0us\n",
      "Learning rate set to 0.029787\n",
      "0:\tlearn: 0.2833053\ttotal: 792us\tremaining: 1.15s\n",
      "500:\tlearn: 0.2113220\ttotal: 310ms\tremaining: 588ms\n",
      "1000:\tlearn: 0.1734910\ttotal: 619ms\tremaining: 279ms\n",
      "1451:\tlearn: 0.1477263\ttotal: 903ms\tremaining: 0us\n",
      "Learning rate set to 0.030653\n",
      "0:\tlearn: 0.2845857\ttotal: 1.37ms\tremaining: 1.99s\n",
      "500:\tlearn: 0.2136925\ttotal: 320ms\tremaining: 607ms\n",
      "1000:\tlearn: 0.1789427\ttotal: 643ms\tremaining: 290ms\n",
      "1451:\tlearn: 0.1550160\ttotal: 931ms\tremaining: 0us\n",
      "Learning rate set to 0.031406\n",
      "0:\tlearn: 0.2796953\ttotal: 654us\tremaining: 950ms\n",
      "500:\tlearn: 0.2137778\ttotal: 330ms\tremaining: 626ms\n",
      "1000:\tlearn: 0.1808664\ttotal: 667ms\tremaining: 301ms\n"
     ]
    },
    {
     "name": "stderr",
     "output_type": "stream",
     "text": [
      "Best trial: 25. Best value: 0.361784:  51%|████████████▊            | 51/100 [05:18<05:00,  6.12s/it, 318.20/1200 seconds]"
     ]
    },
    {
     "name": "stdout",
     "output_type": "stream",
     "text": [
      "1451:\tlearn: 0.1578668\ttotal: 978ms\tremaining: 0us\n",
      "[I 2024-04-14 22:39:28,659] Trial 50 finished with value: 0.3455831701840898 and parameters: {'loss_function': 'RMSE', 'depth': 4, 'iterations': 1452, 'min_data_in_leaf': 89, 'random_strength': 2.294609866383139}. Best is trial 25 with value: 0.3617839716018957.\n",
      "Learning rate set to 0.02314\n",
      "0:\tlearn: 0.2156751\ttotal: 1.2ms\tremaining: 1.74s\n",
      "500:\tlearn: 0.1306944\ttotal: 220ms\tremaining: 419ms\n",
      "1000:\tlearn: 0.0764232\ttotal: 449ms\tremaining: 204ms\n",
      "1454:\tlearn: 0.0504247\ttotal: 677ms\tremaining: 0us\n",
      "Learning rate set to 0.025763\n",
      "0:\tlearn: 0.2318905\ttotal: 592us\tremaining: 861ms\n",
      "500:\tlearn: 0.1596087\ttotal: 260ms\tremaining: 494ms\n",
      "1000:\tlearn: 0.1081943\ttotal: 524ms\tremaining: 238ms\n",
      "1454:\tlearn: 0.0792211\ttotal: 912ms\tremaining: 0us\n",
      "Learning rate set to 0.027447\n",
      "0:\tlearn: 0.2604051\ttotal: 743us\tremaining: 1.08s\n",
      "500:\tlearn: 0.1788169\ttotal: 303ms\tremaining: 576ms\n",
      "1000:\tlearn: 0.1297111\ttotal: 591ms\tremaining: 268ms\n",
      "1454:\tlearn: 0.1004969\ttotal: 852ms\tremaining: 0us\n",
      "Learning rate set to 0.028713\n",
      "0:\tlearn: 0.2637819\ttotal: 708us\tremaining: 1.03s\n",
      "500:\tlearn: 0.1971040\ttotal: 297ms\tremaining: 566ms\n",
      "1000:\tlearn: 0.1558732\ttotal: 598ms\tremaining: 271ms\n",
      "1454:\tlearn: 0.1279937\ttotal: 874ms\tremaining: 0us\n",
      "Learning rate set to 0.029737\n",
      "0:\tlearn: 0.2833060\ttotal: 659us\tremaining: 960ms\n",
      "500:\tlearn: 0.2135092\ttotal: 306ms\tremaining: 583ms\n",
      "1000:\tlearn: 0.1743593\ttotal: 616ms\tremaining: 279ms\n",
      "1454:\tlearn: 0.1487969\ttotal: 895ms\tremaining: 0us\n",
      "Learning rate set to 0.030602\n",
      "0:\tlearn: 0.2845866\ttotal: 767us\tremaining: 1.11s\n",
      "500:\tlearn: 0.2146751\ttotal: 334ms\tremaining: 637ms\n",
      "1000:\tlearn: 0.1782647\ttotal: 660ms\tremaining: 299ms\n",
      "1454:\tlearn: 0.1543242\ttotal: 957ms\tremaining: 0us\n",
      "Learning rate set to 0.031353\n",
      "0:\tlearn: 0.2796962\ttotal: 683us\tremaining: 994ms\n",
      "500:\tlearn: 0.2140252\ttotal: 336ms\tremaining: 640ms\n",
      "1000:\tlearn: 0.1788225\ttotal: 672ms\tremaining: 305ms\n"
     ]
    },
    {
     "name": "stderr",
     "output_type": "stream",
     "text": [
      "Best trial: 25. Best value: 0.361784:  52%|█████████████            | 52/100 [05:24<04:59,  6.24s/it, 324.71/1200 seconds]"
     ]
    },
    {
     "name": "stdout",
     "output_type": "stream",
     "text": [
      "1454:\tlearn: 0.1555869\ttotal: 980ms\tremaining: 0us\n",
      "[I 2024-04-14 22:39:35,175] Trial 51 finished with value: 0.2568768106408631 and parameters: {'loss_function': 'RMSE', 'depth': 4, 'iterations': 1455, 'min_data_in_leaf': 89, 'random_strength': 2.4793896807110665}. Best is trial 25 with value: 0.3617839716018957.\n",
      "Learning rate set to 0.022635\n",
      "0:\tlearn: 0.2157221\ttotal: 548us\tremaining: 819ms\n",
      "500:\tlearn: 0.1271047\ttotal: 212ms\tremaining: 421ms\n",
      "1000:\tlearn: 0.0754790\ttotal: 435ms\tremaining: 215ms\n",
      "1494:\tlearn: 0.0471264\ttotal: 650ms\tremaining: 0us\n",
      "Learning rate set to 0.025201\n",
      "0:\tlearn: 0.2318945\ttotal: 641us\tremaining: 959ms\n",
      "500:\tlearn: 0.1537648\ttotal: 259ms\tremaining: 514ms\n",
      "1000:\tlearn: 0.1078140\ttotal: 522ms\tremaining: 258ms\n",
      "1494:\tlearn: 0.0776945\ttotal: 818ms\tremaining: 0us\n",
      "Learning rate set to 0.026849\n",
      "0:\tlearn: 0.2604131\ttotal: 625us\tremaining: 935ms\n",
      "500:\tlearn: 0.1755073\ttotal: 278ms\tremaining: 551ms\n",
      "1000:\tlearn: 0.1294911\ttotal: 561ms\tremaining: 277ms\n",
      "1494:\tlearn: 0.0976141\ttotal: 838ms\tremaining: 0us\n",
      "Learning rate set to 0.028087\n",
      "0:\tlearn: 0.2637704\ttotal: 676us\tremaining: 1.01s\n",
      "500:\tlearn: 0.1937246\ttotal: 295ms\tremaining: 586ms\n",
      "1000:\tlearn: 0.1527382\ttotal: 599ms\tremaining: 296ms\n",
      "1494:\tlearn: 0.1237954\ttotal: 905ms\tremaining: 0us\n",
      "Learning rate set to 0.029089\n",
      "0:\tlearn: 0.2833161\ttotal: 1.29ms\tremaining: 1.92s\n",
      "500:\tlearn: 0.2099095\ttotal: 323ms\tremaining: 642ms\n",
      "1000:\tlearn: 0.1719074\ttotal: 644ms\tremaining: 318ms\n",
      "1494:\tlearn: 0.1437131\ttotal: 958ms\tremaining: 0us\n",
      "Learning rate set to 0.029935\n",
      "0:\tlearn: 0.2844182\ttotal: 788us\tremaining: 1.18s\n",
      "500:\tlearn: 0.2123756\ttotal: 321ms\tremaining: 636ms\n",
      "1000:\tlearn: 0.1774343\ttotal: 645ms\tremaining: 318ms\n",
      "1494:\tlearn: 0.1526762\ttotal: 968ms\tremaining: 0us\n",
      "Learning rate set to 0.030669\n",
      "0:\tlearn: 0.2795216\ttotal: 1.43ms\tremaining: 2.14s\n",
      "500:\tlearn: 0.2129004\ttotal: 343ms\tremaining: 680ms\n",
      "1000:\tlearn: 0.1779391\ttotal: 681ms\tremaining: 336ms\n"
     ]
    },
    {
     "name": "stderr",
     "output_type": "stream",
     "text": [
      "Best trial: 25. Best value: 0.361784:  53%|█████████████▎           | 53/100 [05:31<04:57,  6.32s/it, 331.22/1200 seconds]"
     ]
    },
    {
     "name": "stdout",
     "output_type": "stream",
     "text": [
      "1494:\tlearn: 0.1540159\ttotal: 1.02s\tremaining: 0us\n",
      "[I 2024-04-14 22:39:41,678] Trial 52 finished with value: 0.29190167678668705 and parameters: {'loss_function': 'RMSE', 'depth': 4, 'iterations': 1495, 'min_data_in_leaf': 95, 'random_strength': 1.5654404334212488}. Best is trial 25 with value: 0.3617839716018957.\n",
      "Learning rate set to 0.023075\n",
      "0:\tlearn: 0.2158070\ttotal: 718us\tremaining: 1.05s\n",
      "500:\tlearn: 0.1157313\ttotal: 227ms\tremaining: 434ms\n",
      "1000:\tlearn: 0.0673398\ttotal: 453ms\tremaining: 208ms\n",
      "1459:\tlearn: 0.0435748\ttotal: 652ms\tremaining: 0us\n",
      "Learning rate set to 0.025691\n",
      "0:\tlearn: 0.2318819\ttotal: 500us\tremaining: 730ms\n",
      "500:\tlearn: 0.1478681\ttotal: 256ms\tremaining: 490ms\n",
      "1000:\tlearn: 0.1015576\ttotal: 519ms\tremaining: 238ms\n",
      "1459:\tlearn: 0.0747756\ttotal: 765ms\tremaining: 0us\n",
      "Learning rate set to 0.027371\n",
      "0:\tlearn: 0.2602102\ttotal: 670us\tremaining: 978ms\n",
      "500:\tlearn: 0.1674891\ttotal: 299ms\tremaining: 572ms\n",
      "1000:\tlearn: 0.1262465\ttotal: 586ms\tremaining: 268ms\n",
      "1459:\tlearn: 0.0976295\ttotal: 845ms\tremaining: 0us\n",
      "Learning rate set to 0.028633\n",
      "0:\tlearn: 0.2635031\ttotal: 728us\tremaining: 1.06s\n",
      "500:\tlearn: 0.1855684\ttotal: 306ms\tremaining: 586ms\n",
      "1000:\tlearn: 0.1455554\ttotal: 605ms\tremaining: 277ms\n",
      "1459:\tlearn: 0.1184068\ttotal: 883ms\tremaining: 0us\n",
      "Learning rate set to 0.029654\n",
      "0:\tlearn: 0.2831169\ttotal: 665us\tremaining: 970ms\n",
      "500:\tlearn: 0.2030788\ttotal: 309ms\tremaining: 592ms\n",
      "1000:\tlearn: 0.1651097\ttotal: 624ms\tremaining: 286ms\n",
      "1459:\tlearn: 0.1402136\ttotal: 914ms\tremaining: 0us\n",
      "Learning rate set to 0.030517\n",
      "0:\tlearn: 0.2842056\ttotal: 688us\tremaining: 1s\n",
      "500:\tlearn: 0.2050638\ttotal: 331ms\tremaining: 633ms\n",
      "1000:\tlearn: 0.1717161\ttotal: 654ms\tremaining: 300ms\n",
      "1459:\tlearn: 0.1503468\ttotal: 954ms\tremaining: 0us\n",
      "Learning rate set to 0.031266\n",
      "0:\tlearn: 0.2793085\ttotal: 747us\tremaining: 1.09s\n",
      "500:\tlearn: 0.2044577\ttotal: 336ms\tremaining: 644ms\n",
      "1000:\tlearn: 0.1728098\ttotal: 675ms\tremaining: 310ms\n"
     ]
    },
    {
     "name": "stderr",
     "output_type": "stream",
     "text": [
      "Best trial: 53. Best value: 0.393419:  54%|█████████████▌           | 54/100 [05:37<04:50,  6.32s/it, 337.54/1200 seconds]"
     ]
    },
    {
     "name": "stdout",
     "output_type": "stream",
     "text": [
      "1459:\tlearn: 0.1519461\ttotal: 984ms\tremaining: 0us\n",
      "[I 2024-04-14 22:39:48,005] Trial 53 finished with value: 0.3934193594275624 and parameters: {'loss_function': 'RMSE', 'depth': 4, 'iterations': 1460, 'min_data_in_leaf': 82, 'random_strength': 0.5023749544452265}. Best is trial 53 with value: 0.3934193594275624.\n",
      "Learning rate set to 0.02261\n",
      "0:\tlearn: 0.2159089\ttotal: 579us\tremaining: 868ms\n",
      "500:\tlearn: 0.1193253\ttotal: 220ms\tremaining: 437ms\n",
      "1000:\tlearn: 0.0691873\ttotal: 445ms\tremaining: 221ms\n",
      "1496:\tlearn: 0.0417955\ttotal: 675ms\tremaining: 0us\n",
      "Learning rate set to 0.025173\n",
      "0:\tlearn: 0.2318269\ttotal: 1.15ms\tremaining: 1.73s\n",
      "500:\tlearn: 0.1528682\ttotal: 260ms\tremaining: 517ms\n",
      "1000:\tlearn: 0.1063333\ttotal: 520ms\tremaining: 258ms\n",
      "1496:\tlearn: 0.0754192\ttotal: 790ms\tremaining: 0us\n",
      "Learning rate set to 0.02682\n",
      "0:\tlearn: 0.2604887\ttotal: 560us\tremaining: 838ms\n",
      "500:\tlearn: 0.1728464\ttotal: 277ms\tremaining: 551ms\n",
      "1000:\tlearn: 0.1263997\ttotal: 566ms\tremaining: 281ms\n",
      "1496:\tlearn: 0.0966443\ttotal: 850ms\tremaining: 0us\n",
      "Learning rate set to 0.028057\n",
      "0:\tlearn: 0.2636397\ttotal: 667us\tremaining: 998ms\n",
      "500:\tlearn: 0.1906040\ttotal: 299ms\tremaining: 595ms\n",
      "1000:\tlearn: 0.1506240\ttotal: 600ms\tremaining: 297ms\n",
      "1496:\tlearn: 0.1201432\ttotal: 902ms\tremaining: 0us\n",
      "Learning rate set to 0.029057\n",
      "0:\tlearn: 0.2832061\ttotal: 628us\tremaining: 941ms\n",
      "500:\tlearn: 0.2075168\ttotal: 313ms\tremaining: 623ms\n",
      "1000:\tlearn: 0.1717374\ttotal: 620ms\tremaining: 307ms\n",
      "1496:\tlearn: 0.1426699\ttotal: 931ms\tremaining: 0us\n",
      "Learning rate set to 0.029902\n",
      "0:\tlearn: 0.2843955\ttotal: 662us\tremaining: 992ms\n",
      "500:\tlearn: 0.2063925\ttotal: 324ms\tremaining: 645ms\n",
      "1000:\tlearn: 0.1740810\ttotal: 642ms\tremaining: 318ms\n",
      "1496:\tlearn: 0.1501092\ttotal: 962ms\tremaining: 0us\n",
      "Learning rate set to 0.030636\n",
      "0:\tlearn: 0.2795531\ttotal: 692us\tremaining: 1.03s\n",
      "500:\tlearn: 0.2079429\ttotal: 339ms\tremaining: 674ms\n",
      "1000:\tlearn: 0.1768437\ttotal: 681ms\tremaining: 337ms\n"
     ]
    },
    {
     "name": "stderr",
     "output_type": "stream",
     "text": [
      "Best trial: 53. Best value: 0.393419:  55%|█████████████▊           | 55/100 [05:44<04:46,  6.36s/it, 344.00/1200 seconds]"
     ]
    },
    {
     "name": "stdout",
     "output_type": "stream",
     "text": [
      "1496:\tlearn: 0.1531100\ttotal: 1.02s\tremaining: 0us\n",
      "[I 2024-04-14 22:39:54,467] Trial 54 finished with value: 0.2708534113279795 and parameters: {'loss_function': 'RMSE', 'depth': 4, 'iterations': 1497, 'min_data_in_leaf': 96, 'random_strength': 0.8683545455957975}. Best is trial 53 with value: 0.3934193594275624.\n",
      "0:\tlearn: 0.1088932\ttotal: 547us\tremaining: 792ms\n",
      "500:\tlearn: 0.0635611\ttotal: 233ms\tremaining: 440ms\n",
      "1000:\tlearn: 0.0496481\ttotal: 477ms\tremaining: 212ms\n",
      "1446:\tlearn: 0.0421340\ttotal: 686ms\tremaining: 0us\n",
      "0:\tlearn: 0.1259462\ttotal: 570us\tremaining: 824ms\n",
      "500:\tlearn: 0.0840502\ttotal: 277ms\tremaining: 523ms\n",
      "1000:\tlearn: 0.0662834\ttotal: 567ms\tremaining: 253ms\n",
      "1446:\tlearn: 0.0567818\ttotal: 817ms\tremaining: 0us\n",
      "0:\tlearn: 0.1336725\ttotal: 727us\tremaining: 1.05s\n",
      "500:\tlearn: 0.0973280\ttotal: 306ms\tremaining: 578ms\n",
      "1000:\tlearn: 0.0793773\ttotal: 609ms\tremaining: 271ms\n",
      "1446:\tlearn: 0.0704028\ttotal: 881ms\tremaining: 0us\n",
      "0:\tlearn: 0.1399912\ttotal: 762us\tremaining: 1.1s\n",
      "500:\tlearn: 0.1107357\ttotal: 324ms\tremaining: 611ms\n",
      "1000:\tlearn: 0.0955840\ttotal: 647ms\tremaining: 288ms\n",
      "1446:\tlearn: 0.0868025\ttotal: 932ms\tremaining: 0us\n",
      "0:\tlearn: 0.1553748\ttotal: 718us\tremaining: 1.04s\n",
      "500:\tlearn: 0.1295829\ttotal: 323ms\tremaining: 610ms\n",
      "1000:\tlearn: 0.1161573\ttotal: 658ms\tremaining: 293ms\n",
      "1446:\tlearn: 0.1038599\ttotal: 965ms\tremaining: 0us\n",
      "0:\tlearn: 0.1590035\ttotal: 749us\tremaining: 1.08s\n",
      "500:\tlearn: 0.1282048\ttotal: 346ms\tremaining: 654ms\n",
      "1000:\tlearn: 0.1131649\ttotal: 699ms\tremaining: 311ms\n",
      "1446:\tlearn: 0.1047507\ttotal: 1.02s\tremaining: 0us\n",
      "0:\tlearn: 0.1575222\ttotal: 795us\tremaining: 1.15s\n",
      "500:\tlearn: 0.1278863\ttotal: 371ms\tremaining: 700ms\n",
      "1000:\tlearn: 0.1156845\ttotal: 750ms\tremaining: 334ms\n"
     ]
    },
    {
     "name": "stderr",
     "output_type": "stream",
     "text": [
      "Best trial: 53. Best value: 0.393419:  56%|██████████████           | 56/100 [05:50<04:44,  6.47s/it, 350.72/1200 seconds]"
     ]
    },
    {
     "name": "stdout",
     "output_type": "stream",
     "text": [
      "1446:\tlearn: 0.1078885\ttotal: 1.08s\tremaining: 0us\n",
      "[I 2024-04-14 22:40:01,180] Trial 55 finished with value: 0.004543992960124722 and parameters: {'loss_function': 'MAPE', 'depth': 4, 'iterations': 1447, 'min_data_in_leaf': 75, 'random_strength': 0.48652561857136956}. Best is trial 53 with value: 0.3934193594275624.\n",
      "Learning rate set to 0.024185\n",
      "0:\tlearn: 0.2155007\ttotal: 860us\tremaining: 1.18s\n",
      "500:\tlearn: 0.0981061\ttotal: 291ms\tremaining: 510ms\n",
      "1000:\tlearn: 0.0461587\ttotal: 590ms\tremaining: 222ms\n",
      "1377:\tlearn: 0.0269135\ttotal: 829ms\tremaining: 0us\n",
      "Learning rate set to 0.026927\n",
      "0:\tlearn: 0.2317316\ttotal: 838us\tremaining: 1.15s\n",
      "500:\tlearn: 0.1257758\ttotal: 346ms\tremaining: 606ms\n",
      "1000:\tlearn: 0.0774285\ttotal: 688ms\tremaining: 259ms\n",
      "1377:\tlearn: 0.0530995\ttotal: 958ms\tremaining: 0us\n",
      "Learning rate set to 0.028688\n",
      "0:\tlearn: 0.2602492\ttotal: 688us\tremaining: 948ms\n",
      "500:\tlearn: 0.1566113\ttotal: 365ms\tremaining: 639ms\n",
      "1000:\tlearn: 0.0998964\ttotal: 737ms\tremaining: 278ms\n",
      "1377:\tlearn: 0.0726119\ttotal: 1.02s\tremaining: 0us\n",
      "Learning rate set to 0.030011\n",
      "0:\tlearn: 0.2635798\ttotal: 757us\tremaining: 1.04s\n",
      "500:\tlearn: 0.1730663\ttotal: 383ms\tremaining: 671ms\n",
      "1000:\tlearn: 0.1232801\ttotal: 776ms\tremaining: 292ms\n",
      "1377:\tlearn: 0.0952700\ttotal: 1.07s\tremaining: 0us\n",
      "Learning rate set to 0.031081\n",
      "0:\tlearn: 0.2832769\ttotal: 775us\tremaining: 1.07s\n",
      "500:\tlearn: 0.1895328\ttotal: 401ms\tremaining: 703ms\n",
      "1000:\tlearn: 0.1406576\ttotal: 810ms\tremaining: 305ms\n",
      "1377:\tlearn: 0.1139087\ttotal: 1.12s\tremaining: 0us\n",
      "Learning rate set to 0.031985\n",
      "0:\tlearn: 0.2843650\ttotal: 876us\tremaining: 1.21s\n",
      "500:\tlearn: 0.1924437\ttotal: 413ms\tremaining: 723ms\n",
      "1000:\tlearn: 0.1491676\ttotal: 835ms\tremaining: 314ms\n",
      "1377:\tlearn: 0.1234020\ttotal: 1.15s\tremaining: 0us\n",
      "Learning rate set to 0.03277\n",
      "0:\tlearn: 0.2793350\ttotal: 1.02ms\tremaining: 1.41s\n",
      "500:\tlearn: 0.1929962\ttotal: 426ms\tremaining: 746ms\n",
      "1000:\tlearn: 0.1518989\ttotal: 867ms\tremaining: 326ms\n"
     ]
    },
    {
     "name": "stderr",
     "output_type": "stream",
     "text": [
      "Best trial: 53. Best value: 0.393419:  57%|██████████████▏          | 57/100 [05:58<04:55,  6.87s/it, 358.51/1200 seconds]"
     ]
    },
    {
     "name": "stdout",
     "output_type": "stream",
     "text": [
      "1377:\tlearn: 0.1295427\ttotal: 1.2s\tremaining: 0us\n",
      "[I 2024-04-14 22:40:08,972] Trial 56 finished with value: 0.1492584526500466 and parameters: {'loss_function': 'RMSE', 'depth': 5, 'iterations': 1378, 'min_data_in_leaf': 82, 'random_strength': 1.4004957335278876}. Best is trial 53 with value: 0.3934193594275624.\n",
      "Learning rate set to 0.024682\n",
      "0:\tlearn: 0.2158428\ttotal: 1.27ms\tremaining: 1.71s\n",
      "500:\tlearn: 0.1119545\ttotal: 220ms\tremaining: 370ms\n",
      "1000:\tlearn: 0.0610162\ttotal: 447ms\tremaining: 153ms\n",
      "1343:\tlearn: 0.0430490\ttotal: 605ms\tremaining: 0us\n",
      "Learning rate set to 0.027479\n",
      "0:\tlearn: 0.2318684\ttotal: 752us\tremaining: 1.01s\n",
      "500:\tlearn: 0.1425105\ttotal: 259ms\tremaining: 435ms\n",
      "1000:\tlearn: 0.0977474\ttotal: 522ms\tremaining: 179ms\n",
      "1343:\tlearn: 0.0761672\ttotal: 708ms\tremaining: 0us\n",
      "Learning rate set to 0.029276\n",
      "0:\tlearn: 0.2601711\ttotal: 600us\tremaining: 806ms\n",
      "500:\tlearn: 0.1608842\ttotal: 279ms\tremaining: 469ms\n",
      "1000:\tlearn: 0.1169273\ttotal: 564ms\tremaining: 193ms\n",
      "1343:\tlearn: 0.0961816\ttotal: 767ms\tremaining: 0us\n",
      "Learning rate set to 0.030627\n",
      "0:\tlearn: 0.2634700\ttotal: 683us\tremaining: 917ms\n",
      "500:\tlearn: 0.1819821\ttotal: 297ms\tremaining: 500ms\n",
      "1000:\tlearn: 0.1411467\ttotal: 597ms\tremaining: 205ms\n",
      "1343:\tlearn: 0.1211917\ttotal: 809ms\tremaining: 0us\n",
      "Learning rate set to 0.031719\n",
      "0:\tlearn: 0.2830720\ttotal: 1.28ms\tremaining: 1.73s\n",
      "500:\tlearn: 0.2003588\ttotal: 313ms\tremaining: 526ms\n",
      "1000:\tlearn: 0.1632023\ttotal: 627ms\tremaining: 215ms\n",
      "1343:\tlearn: 0.1421550\ttotal: 844ms\tremaining: 0us\n",
      "Learning rate set to 0.032641\n",
      "0:\tlearn: 0.2843132\ttotal: 756us\tremaining: 1.01s\n",
      "500:\tlearn: 0.2000678\ttotal: 330ms\tremaining: 555ms\n",
      "1000:\tlearn: 0.1661239\ttotal: 660ms\tremaining: 226ms\n",
      "1343:\tlearn: 0.1488415\ttotal: 878ms\tremaining: 0us\n",
      "Learning rate set to 0.033443\n",
      "0:\tlearn: 0.2792455\ttotal: 1.3ms\tremaining: 1.75s\n",
      "500:\tlearn: 0.2017884\ttotal: 339ms\tremaining: 571ms\n",
      "1000:\tlearn: 0.1690123\ttotal: 675ms\tremaining: 231ms\n"
     ]
    },
    {
     "name": "stderr",
     "output_type": "stream",
     "text": [
      "Best trial: 53. Best value: 0.393419:  58%|██████████████▍          | 58/100 [06:04<04:35,  6.55s/it, 364.33/1200 seconds]"
     ]
    },
    {
     "name": "stdout",
     "output_type": "stream",
     "text": [
      "1343:\tlearn: 0.1520501\ttotal: 902ms\tremaining: 0us\n",
      "[I 2024-04-14 22:40:14,789] Trial 57 finished with value: 0.2539223480530624 and parameters: {'loss_function': 'RMSE', 'depth': 4, 'iterations': 1344, 'min_data_in_leaf': 97, 'random_strength': 0.47483082334256377}. Best is trial 53 with value: 0.3934193594275624.\n",
      "Learning rate set to 0.022647\n",
      "0:\tlearn: 0.2157346\ttotal: 641us\tremaining: 957ms\n",
      "500:\tlearn: 0.1281529\ttotal: 217ms\tremaining: 429ms\n",
      "1000:\tlearn: 0.0768895\ttotal: 415ms\tremaining: 204ms\n",
      "1493:\tlearn: 0.0486576\ttotal: 643ms\tremaining: 0us\n",
      "Learning rate set to 0.025214\n",
      "0:\tlearn: 0.2318944\ttotal: 582us\tremaining: 870ms\n",
      "500:\tlearn: 0.1591062\ttotal: 254ms\tremaining: 503ms\n",
      "1000:\tlearn: 0.1111589\ttotal: 520ms\tremaining: 256ms\n",
      "1493:\tlearn: 0.0801549\ttotal: 800ms\tremaining: 0us\n",
      "Learning rate set to 0.026863\n",
      "0:\tlearn: 0.2604129\ttotal: 690us\tremaining: 1.03s\n",
      "500:\tlearn: 0.1787674\ttotal: 285ms\tremaining: 564ms\n",
      "1000:\tlearn: 0.1309700\ttotal: 569ms\tremaining: 280ms\n",
      "1493:\tlearn: 0.1002761\ttotal: 853ms\tremaining: 0us\n",
      "Learning rate set to 0.028102\n",
      "0:\tlearn: 0.2637703\ttotal: 631us\tremaining: 943ms\n",
      "500:\tlearn: 0.1978406\ttotal: 290ms\tremaining: 575ms\n",
      "1000:\tlearn: 0.1562418\ttotal: 592ms\tremaining: 291ms\n",
      "1493:\tlearn: 0.1273573\ttotal: 897ms\tremaining: 0us\n",
      "Learning rate set to 0.029105\n",
      "0:\tlearn: 0.2833158\ttotal: 728us\tremaining: 1.09s\n",
      "500:\tlearn: 0.2149755\ttotal: 318ms\tremaining: 629ms\n",
      "1000:\tlearn: 0.1748043\ttotal: 631ms\tremaining: 311ms\n",
      "1493:\tlearn: 0.1469022\ttotal: 948ms\tremaining: 0us\n",
      "Learning rate set to 0.029951\n",
      "0:\tlearn: 0.2845981\ttotal: 721us\tremaining: 1.08s\n",
      "500:\tlearn: 0.2160975\ttotal: 327ms\tremaining: 647ms\n",
      "1000:\tlearn: 0.1789043\ttotal: 650ms\tremaining: 320ms\n",
      "1493:\tlearn: 0.1535540\ttotal: 971ms\tremaining: 0us\n",
      "Learning rate set to 0.030686\n",
      "0:\tlearn: 0.2797073\ttotal: 663us\tremaining: 990ms\n",
      "500:\tlearn: 0.2147697\ttotal: 339ms\tremaining: 671ms\n",
      "1000:\tlearn: 0.1814985\ttotal: 675ms\tremaining: 332ms\n"
     ]
    },
    {
     "name": "stderr",
     "output_type": "stream",
     "text": [
      "Best trial: 53. Best value: 0.393419:  59%|██████████████▊          | 59/100 [06:10<04:27,  6.53s/it, 370.80/1200 seconds]"
     ]
    },
    {
     "name": "stdout",
     "output_type": "stream",
     "text": [
      "1493:\tlearn: 0.1561581\ttotal: 1.01s\tremaining: 0us\n",
      "[I 2024-04-14 22:40:21,262] Trial 58 finished with value: 0.24150951963203277 and parameters: {'loss_function': 'RMSE', 'depth': 4, 'iterations': 1494, 'min_data_in_leaf': 87, 'random_strength': 2.201775822911701}. Best is trial 53 with value: 0.3934193594275624.\n",
      "Learning rate set to 0.023643\n",
      "0:\tlearn: 0.2158984\ttotal: 821us\tremaining: 1.16s\n",
      "500:\tlearn: 0.1019164\ttotal: 292ms\tremaining: 534ms\n",
      "1000:\tlearn: 0.0493101\ttotal: 587ms\tremaining: 244ms\n",
      "1416:\tlearn: 0.0280388\ttotal: 844ms\tremaining: 0us\n",
      "Learning rate set to 0.026323\n",
      "0:\tlearn: 0.2314841\ttotal: 819us\tremaining: 1.16s\n",
      "500:\tlearn: 0.1253265\ttotal: 351ms\tremaining: 642ms\n",
      "1000:\tlearn: 0.0777043\ttotal: 707ms\tremaining: 294ms\n",
      "1416:\tlearn: 0.0520416\ttotal: 1s\tremaining: 0us\n",
      "Learning rate set to 0.028044\n",
      "0:\tlearn: 0.2601602\ttotal: 825us\tremaining: 1.17s\n",
      "500:\tlearn: 0.1503920\ttotal: 372ms\tremaining: 680ms\n",
      "1000:\tlearn: 0.0987542\ttotal: 746ms\tremaining: 310ms\n",
      "1416:\tlearn: 0.0703193\ttotal: 1.07s\tremaining: 0us\n",
      "Learning rate set to 0.029338\n",
      "0:\tlearn: 0.2635201\ttotal: 951us\tremaining: 1.35s\n",
      "500:\tlearn: 0.1722233\ttotal: 385ms\tremaining: 704ms\n",
      "1000:\tlearn: 0.1253675\ttotal: 776ms\tremaining: 322ms\n",
      "1416:\tlearn: 0.0971862\ttotal: 1.1s\tremaining: 0us\n",
      "Learning rate set to 0.030384\n",
      "0:\tlearn: 0.2829374\ttotal: 874us\tremaining: 1.24s\n",
      "500:\tlearn: 0.1882076\ttotal: 405ms\tremaining: 741ms\n",
      "1000:\tlearn: 0.1416618\ttotal: 814ms\tremaining: 338ms\n",
      "1416:\tlearn: 0.1132322\ttotal: 1.16s\tremaining: 0us\n",
      "Learning rate set to 0.031267\n",
      "0:\tlearn: 0.2843650\ttotal: 869us\tremaining: 1.23s\n",
      "500:\tlearn: 0.1915230\ttotal: 422ms\tremaining: 771ms\n",
      "1000:\tlearn: 0.1478384\ttotal: 856ms\tremaining: 356ms\n",
      "1416:\tlearn: 0.1206141\ttotal: 1.21s\tremaining: 0us\n",
      "Learning rate set to 0.032035\n",
      "0:\tlearn: 0.2791982\ttotal: 1.07ms\tremaining: 1.51s\n",
      "500:\tlearn: 0.1920986\ttotal: 432ms\tremaining: 791ms\n",
      "1000:\tlearn: 0.1510672\ttotal: 875ms\tremaining: 364ms\n"
     ]
    },
    {
     "name": "stderr",
     "output_type": "stream",
     "text": [
      "Best trial: 53. Best value: 0.393419:  60%|███████████████          | 60/100 [06:18<04:38,  6.97s/it, 378.79/1200 seconds]"
     ]
    },
    {
     "name": "stdout",
     "output_type": "stream",
     "text": [
      "1416:\tlearn: 0.1252498\ttotal: 1.24s\tremaining: 0us\n",
      "[I 2024-04-14 22:40:29,251] Trial 59 finished with value: 0.1052673687488224 and parameters: {'loss_function': 'RMSE', 'depth': 5, 'iterations': 1417, 'min_data_in_leaf': 56, 'random_strength': 0.9341040428849254}. Best is trial 53 with value: 0.3934193594275624.\n",
      "0:\tlearn: 0.1119750\ttotal: 991us\tremaining: 1.31s\n",
      "500:\tlearn: 0.0348470\ttotal: 393ms\tremaining: 644ms\n",
      "1000:\tlearn: 0.0174987\ttotal: 801ms\tremaining: 256ms\n",
      "1320:\tlearn: 0.0138394\ttotal: 1.06s\tremaining: 0us\n",
      "0:\tlearn: 0.1274750\ttotal: 1.36ms\tremaining: 1.79s\n",
      "500:\tlearn: 0.0507850\ttotal: 465ms\tremaining: 761ms\n",
      "1000:\tlearn: 0.0289609\ttotal: 950ms\tremaining: 304ms\n",
      "1320:\tlearn: 0.0231580\ttotal: 1.26s\tremaining: 0us\n",
      "0:\tlearn: 0.1379948\ttotal: 1.31ms\tremaining: 1.73s\n",
      "500:\tlearn: 0.0676980\ttotal: 492ms\tremaining: 805ms\n",
      "1000:\tlearn: 0.0434073\ttotal: 1.01s\tremaining: 322ms\n",
      "1320:\tlearn: 0.0360584\ttotal: 1.33s\tremaining: 0us\n",
      "0:\tlearn: 0.1435318\ttotal: 1.07ms\tremaining: 1.42s\n",
      "500:\tlearn: 0.0837798\ttotal: 506ms\tremaining: 829ms\n",
      "1000:\tlearn: 0.0573750\ttotal: 1.04s\tremaining: 334ms\n",
      "1320:\tlearn: 0.0489461\ttotal: 1.39s\tremaining: 0us\n",
      "0:\tlearn: 0.1597616\ttotal: 1.25ms\tremaining: 1.65s\n",
      "500:\tlearn: 0.0941927\ttotal: 548ms\tremaining: 898ms\n",
      "1000:\tlearn: 0.0694893\ttotal: 1.11s\tremaining: 357ms\n",
      "1320:\tlearn: 0.0606206\ttotal: 1.47s\tremaining: 0us\n",
      "0:\tlearn: 0.1632040\ttotal: 1.51ms\tremaining: 2s\n",
      "500:\tlearn: 0.1048998\ttotal: 564ms\tremaining: 923ms\n",
      "1000:\tlearn: 0.0796843\ttotal: 1.15s\tremaining: 368ms\n",
      "1320:\tlearn: 0.0692586\ttotal: 1.53s\tremaining: 0us\n",
      "0:\tlearn: 0.1615855\ttotal: 1.58ms\tremaining: 2.08s\n",
      "500:\tlearn: 0.1067513\ttotal: 570ms\tremaining: 933ms\n",
      "1000:\tlearn: 0.0830840\ttotal: 1.18s\tremaining: 376ms\n"
     ]
    },
    {
     "name": "stderr",
     "output_type": "stream",
     "text": [
      "Best trial: 53. Best value: 0.393419:  61%|███████████████▎         | 61/100 [06:28<05:07,  7.87s/it, 388.78/1200 seconds]"
     ]
    },
    {
     "name": "stdout",
     "output_type": "stream",
     "text": [
      "1320:\tlearn: 0.0738056\ttotal: 1.57s\tremaining: 0us\n",
      "[I 2024-04-14 22:40:39,239] Trial 60 finished with value: -0.04291512142522049 and parameters: {'loss_function': 'MAE', 'depth': 6, 'iterations': 1321, 'min_data_in_leaf': 15, 'random_strength': 1.7894536681368305}. Best is trial 53 with value: 0.3934193594275624.\n",
      "Learning rate set to 0.022574\n",
      "0:\tlearn: 0.2159092\ttotal: 547us\tremaining: 821ms\n",
      "500:\tlearn: 0.1171208\ttotal: 215ms\tremaining: 429ms\n",
      "1000:\tlearn: 0.0708929\ttotal: 434ms\tremaining: 216ms\n",
      "1499:\tlearn: 0.0427880\ttotal: 657ms\tremaining: 0us\n",
      "Learning rate set to 0.025132\n",
      "0:\tlearn: 0.2318273\ttotal: 561us\tremaining: 842ms\n",
      "500:\tlearn: 0.1523941\ttotal: 260ms\tremaining: 518ms\n",
      "1000:\tlearn: 0.1089779\ttotal: 526ms\tremaining: 262ms\n",
      "1499:\tlearn: 0.0763141\ttotal: 796ms\tremaining: 0us\n",
      "Learning rate set to 0.026776\n",
      "0:\tlearn: 0.2601483\ttotal: 551us\tremaining: 827ms\n",
      "500:\tlearn: 0.1714003\ttotal: 284ms\tremaining: 567ms\n",
      "1000:\tlearn: 0.1261793\ttotal: 565ms\tremaining: 281ms\n",
      "1499:\tlearn: 0.0947683\ttotal: 851ms\tremaining: 0us\n",
      "Learning rate set to 0.028011\n",
      "0:\tlearn: 0.2636403\ttotal: 640us\tremaining: 960ms\n",
      "500:\tlearn: 0.1880191\ttotal: 296ms\tremaining: 590ms\n",
      "1000:\tlearn: 0.1487674\ttotal: 598ms\tremaining: 298ms\n",
      "1499:\tlearn: 0.1183393\ttotal: 905ms\tremaining: 0us\n",
      "Learning rate set to 0.02901\n",
      "0:\tlearn: 0.2831041\ttotal: 707us\tremaining: 1.06s\n",
      "500:\tlearn: 0.2053187\ttotal: 307ms\tremaining: 612ms\n",
      "1000:\tlearn: 0.1687637\ttotal: 615ms\tremaining: 306ms\n",
      "1499:\tlearn: 0.1411135\ttotal: 928ms\tremaining: 0us\n",
      "Learning rate set to 0.029853\n",
      "0:\tlearn: 0.2843967\ttotal: 1.42ms\tremaining: 2.12s\n",
      "500:\tlearn: 0.2081662\ttotal: 323ms\tremaining: 644ms\n",
      "1000:\tlearn: 0.1740893\ttotal: 656ms\tremaining: 327ms\n",
      "1499:\tlearn: 0.1491348\ttotal: 982ms\tremaining: 0us\n",
      "Learning rate set to 0.030586\n",
      "0:\tlearn: 0.2793439\ttotal: 976us\tremaining: 1.46s\n",
      "500:\tlearn: 0.2087419\ttotal: 335ms\tremaining: 668ms\n",
      "1000:\tlearn: 0.1768987\ttotal: 671ms\tremaining: 334ms\n"
     ]
    },
    {
     "name": "stderr",
     "output_type": "stream",
     "text": [
      "Best trial: 53. Best value: 0.393419:  62%|███████████████▌         | 62/100 [06:35<04:43,  7.45s/it, 395.24/1200 seconds]"
     ]
    },
    {
     "name": "stdout",
     "output_type": "stream",
     "text": [
      "1499:\tlearn: 0.1528689\ttotal: 1.01s\tremaining: 0us\n",
      "[I 2024-04-14 22:40:45,697] Trial 61 finished with value: 0.32391205174155285 and parameters: {'loss_function': 'RMSE', 'depth': 4, 'iterations': 1500, 'min_data_in_leaf': 96, 'random_strength': 0.7708370049481114}. Best is trial 53 with value: 0.3934193594275624.\n",
      "Learning rate set to 0.023204\n",
      "0:\tlearn: 0.2157247\ttotal: 1.09ms\tremaining: 1.58s\n",
      "500:\tlearn: 0.1207913\ttotal: 225ms\tremaining: 426ms\n",
      "1000:\tlearn: 0.0700769\ttotal: 448ms\tremaining: 201ms\n",
      "1449:\tlearn: 0.0438675\ttotal: 656ms\tremaining: 0us\n",
      "Learning rate set to 0.025835\n",
      "0:\tlearn: 0.2318900\ttotal: 571us\tremaining: 828ms\n",
      "500:\tlearn: 0.1529439\ttotal: 255ms\tremaining: 483ms\n",
      "1000:\tlearn: 0.1039194\ttotal: 520ms\tremaining: 233ms\n",
      "1449:\tlearn: 0.0769881\ttotal: 756ms\tremaining: 0us\n",
      "Learning rate set to 0.027524\n",
      "0:\tlearn: 0.2604041\ttotal: 692us\tremaining: 1s\n",
      "500:\tlearn: 0.1751047\ttotal: 285ms\tremaining: 540ms\n",
      "1000:\tlearn: 0.1264282\ttotal: 565ms\tremaining: 254ms\n",
      "1449:\tlearn: 0.0961960\ttotal: 821ms\tremaining: 0us\n",
      "Learning rate set to 0.028794\n",
      "0:\tlearn: 0.2637651\ttotal: 661us\tremaining: 959ms\n",
      "500:\tlearn: 0.1948789\ttotal: 291ms\tremaining: 551ms\n",
      "1000:\tlearn: 0.1510046\ttotal: 592ms\tremaining: 266ms\n",
      "1449:\tlearn: 0.1223758\ttotal: 865ms\tremaining: 0us\n",
      "Learning rate set to 0.029821\n",
      "0:\tlearn: 0.2833047\ttotal: 1.79ms\tremaining: 2.6s\n",
      "500:\tlearn: 0.2105079\ttotal: 312ms\tremaining: 592ms\n",
      "1000:\tlearn: 0.1706710\ttotal: 629ms\tremaining: 282ms\n",
      "1449:\tlearn: 0.1455272\ttotal: 910ms\tremaining: 0us\n",
      "Learning rate set to 0.030688\n",
      "0:\tlearn: 0.2844004\ttotal: 1.31ms\tremaining: 1.91s\n",
      "500:\tlearn: 0.2117424\ttotal: 325ms\tremaining: 616ms\n",
      "1000:\tlearn: 0.1762396\ttotal: 645ms\tremaining: 289ms\n",
      "1449:\tlearn: 0.1527464\ttotal: 935ms\tremaining: 0us\n",
      "Learning rate set to 0.031441\n",
      "0:\tlearn: 0.2796947\ttotal: 1.4ms\tremaining: 2.02s\n",
      "500:\tlearn: 0.2109653\ttotal: 341ms\tremaining: 646ms\n",
      "1000:\tlearn: 0.1784153\ttotal: 684ms\tremaining: 307ms\n"
     ]
    },
    {
     "name": "stderr",
     "output_type": "stream",
     "text": [
      "Best trial: 53. Best value: 0.393419:  63%|███████████████▊         | 63/100 [06:41<04:22,  7.09s/it, 401.50/1200 seconds]"
     ]
    },
    {
     "name": "stdout",
     "output_type": "stream",
     "text": [
      "1449:\tlearn: 0.1553986\ttotal: 994ms\tremaining: 0us\n",
      "[I 2024-04-14 22:40:51,966] Trial 62 finished with value: 0.17613247275826197 and parameters: {'loss_function': 'RMSE', 'depth': 4, 'iterations': 1450, 'min_data_in_leaf': 92, 'random_strength': 1.7573406978113382}. Best is trial 53 with value: 0.3934193594275624.\n",
      "Learning rate set to 0.059968\n",
      "0:\tlearn: 0.2155313\ttotal: 1.29ms\tremaining: 581ms\n",
      "450:\tlearn: 0.0614711\ttotal: 204ms\tremaining: 0us\n",
      "Learning rate set to 0.066765\n",
      "0:\tlearn: 0.2313727\ttotal: 672us\tremaining: 303ms\n",
      "450:\tlearn: 0.0901896\ttotal: 247ms\tremaining: 0us\n",
      "Learning rate set to 0.071131\n",
      "0:\tlearn: 0.2591210\ttotal: 631us\tremaining: 284ms\n",
      "450:\tlearn: 0.1120575\ttotal: 261ms\tremaining: 0us\n",
      "Learning rate set to 0.074412\n",
      "0:\tlearn: 0.2630842\ttotal: 696us\tremaining: 313ms\n",
      "450:\tlearn: 0.1354151\ttotal: 272ms\tremaining: 0us\n",
      "Learning rate set to 0.077066\n",
      "0:\tlearn: 0.2823105\ttotal: 694us\tremaining: 313ms\n",
      "450:\tlearn: 0.1564527\ttotal: 281ms\tremaining: 0us\n",
      "Learning rate set to 0.079307\n",
      "0:\tlearn: 0.2832168\ttotal: 814us\tremaining: 367ms\n",
      "450:\tlearn: 0.1614004\ttotal: 299ms\tremaining: 0us\n",
      "Learning rate set to 0.081254\n",
      "0:\tlearn: 0.2779312\ttotal: 984us\tremaining: 443ms\n"
     ]
    },
    {
     "name": "stderr",
     "output_type": "stream",
     "text": [
      "Best trial: 53. Best value: 0.393419:  64%|████████████████         | 64/100 [06:43<03:20,  5.57s/it, 403.53/1200 seconds]"
     ]
    },
    {
     "name": "stdout",
     "output_type": "stream",
     "text": [
      "450:\tlearn: 0.1656550\ttotal: 313ms\tremaining: 0us\n",
      "[I 2024-04-14 22:40:53,988] Trial 63 finished with value: 0.31401630165480593 and parameters: {'loss_function': 'RMSE', 'depth': 4, 'iterations': 451, 'min_data_in_leaf': 100, 'random_strength': 0.6940642577986967}. Best is trial 53 with value: 0.3934193594275624.\n",
      "Learning rate set to 0.057102\n",
      "0:\tlearn: 0.2153215\ttotal: 563us\tremaining: 269ms\n",
      "478:\tlearn: 0.0606139\ttotal: 218ms\tremaining: 0us\n",
      "Learning rate set to 0.063575\n",
      "0:\tlearn: 0.2315989\ttotal: 662us\tremaining: 316ms\n",
      "478:\tlearn: 0.0893972\ttotal: 255ms\tremaining: 0us\n",
      "Learning rate set to 0.067732\n",
      "0:\tlearn: 0.2597921\ttotal: 578us\tremaining: 276ms\n",
      "478:\tlearn: 0.1085467\ttotal: 270ms\tremaining: 0us\n",
      "Learning rate set to 0.070856\n",
      "0:\tlearn: 0.2628119\ttotal: 1ms\tremaining: 480ms\n",
      "478:\tlearn: 0.1350830\ttotal: 287ms\tremaining: 0us\n",
      "Learning rate set to 0.073383\n",
      "0:\tlearn: 0.2822612\ttotal: 1.41ms\tremaining: 676ms\n",
      "478:\tlearn: 0.1540677\ttotal: 299ms\tremaining: 0us\n",
      "Learning rate set to 0.075517\n",
      "0:\tlearn: 0.2828774\ttotal: 1.59ms\tremaining: 759ms\n",
      "478:\tlearn: 0.1599669\ttotal: 310ms\tremaining: 0us\n",
      "Learning rate set to 0.077371\n",
      "0:\tlearn: 0.2779983\ttotal: 799us\tremaining: 382ms\n"
     ]
    },
    {
     "name": "stderr",
     "output_type": "stream",
     "text": [
      "Best trial: 53. Best value: 0.393419:  65%|████████████████▎        | 65/100 [06:45<02:38,  4.54s/it, 405.64/1200 seconds]"
     ]
    },
    {
     "name": "stdout",
     "output_type": "stream",
     "text": [
      "478:\tlearn: 0.1643764\ttotal: 326ms\tremaining: 0us\n",
      "[I 2024-04-14 22:40:56,103] Trial 64 finished with value: 0.13121875351043902 and parameters: {'loss_function': 'RMSE', 'depth': 4, 'iterations': 479, 'min_data_in_leaf': 89, 'random_strength': 0.566301277119114}. Best is trial 53 with value: 0.3934193594275624.\n",
      "Learning rate set to 0.072683\n",
      "0:\tlearn: 0.2154036\ttotal: 634us\tremaining: 225ms\n",
      "355:\tlearn: 0.0656340\ttotal: 161ms\tremaining: 0us\n",
      "Learning rate set to 0.080922\n",
      "0:\tlearn: 0.2315005\ttotal: 575us\tremaining: 204ms\n",
      "355:\tlearn: 0.0957500\ttotal: 190ms\tremaining: 0us\n",
      "Learning rate set to 0.086214\n",
      "0:\tlearn: 0.2594327\ttotal: 683us\tremaining: 243ms\n",
      "355:\tlearn: 0.1158590\ttotal: 203ms\tremaining: 0us\n",
      "Learning rate set to 0.090191\n",
      "0:\tlearn: 0.2624380\ttotal: 739us\tremaining: 262ms\n",
      "355:\tlearn: 0.1391764\ttotal: 216ms\tremaining: 0us\n",
      "Learning rate set to 0.093407\n",
      "0:\tlearn: 0.2823981\ttotal: 1.38ms\tremaining: 488ms\n",
      "355:\tlearn: 0.1608114\ttotal: 221ms\tremaining: 0us\n",
      "Learning rate set to 0.096123\n",
      "0:\tlearn: 0.2829136\ttotal: 1.35ms\tremaining: 480ms\n",
      "355:\tlearn: 0.1689637\ttotal: 227ms\tremaining: 0us\n",
      "Learning rate set to 0.098483\n",
      "0:\tlearn: 0.2780308\ttotal: 765us\tremaining: 272ms\n"
     ]
    },
    {
     "name": "stderr",
     "output_type": "stream",
     "text": [
      "Best trial: 53. Best value: 0.393419:  66%|████████████████▌        | 66/100 [06:47<02:04,  3.65s/it, 407.22/1200 seconds]"
     ]
    },
    {
     "name": "stdout",
     "output_type": "stream",
     "text": [
      "355:\tlearn: 0.1694930\ttotal: 240ms\tremaining: 0us\n",
      "[I 2024-04-14 22:40:57,683] Trial 65 finished with value: 0.33905857885191104 and parameters: {'loss_function': 'RMSE', 'depth': 4, 'iterations': 356, 'min_data_in_leaf': 94, 'random_strength': 1.2190632017261716}. Best is trial 53 with value: 0.3934193594275624.\n",
      "Learning rate set to 0.078271\n",
      "0:\tlearn: 0.2153475\ttotal: 586us\tremaining: 190ms\n",
      "324:\tlearn: 0.0613052\ttotal: 140ms\tremaining: 0us\n",
      "Learning rate set to 0.087144\n",
      "0:\tlearn: 0.2304639\ttotal: 849us\tremaining: 275ms\n",
      "324:\tlearn: 0.0949139\ttotal: 175ms\tremaining: 0us\n",
      "Learning rate set to 0.092842\n",
      "0:\tlearn: 0.2593331\ttotal: 511us\tremaining: 166ms\n",
      "324:\tlearn: 0.1187848\ttotal: 182ms\tremaining: 0us\n",
      "Learning rate set to 0.097125\n",
      "0:\tlearn: 0.2623228\ttotal: 579us\tremaining: 188ms\n",
      "324:\tlearn: 0.1423113\ttotal: 193ms\tremaining: 0us\n",
      "Learning rate set to 0.100588\n",
      "0:\tlearn: 0.2822970\ttotal: 654us\tremaining: 212ms\n",
      "324:\tlearn: 0.1647476\ttotal: 202ms\tremaining: 0us\n",
      "Learning rate set to 0.103513\n",
      "0:\tlearn: 0.2827512\ttotal: 1.37ms\tremaining: 444ms\n",
      "324:\tlearn: 0.1693952\ttotal: 216ms\tremaining: 0us\n",
      "Learning rate set to 0.106054\n",
      "0:\tlearn: 0.2778703\ttotal: 752us\tremaining: 244ms\n"
     ]
    },
    {
     "name": "stderr",
     "output_type": "stream",
     "text": [
      "Best trial: 53. Best value: 0.393419:  67%|████████████████▊        | 67/100 [06:48<01:39,  3.03s/it, 408.81/1200 seconds]"
     ]
    },
    {
     "name": "stdout",
     "output_type": "stream",
     "text": [
      "324:\tlearn: 0.1698890\ttotal: 299ms\tremaining: 0us\n",
      "[I 2024-04-14 22:40:59,257] Trial 66 finished with value: 0.1979247176852797 and parameters: {'loss_function': 'RMSE', 'depth': 4, 'iterations': 325, 'min_data_in_leaf': 82, 'random_strength': 1.1834356154949086}. Best is trial 53 with value: 0.3934193594275624.\n",
      "0:\tlearn: 0.1088932\ttotal: 1.25ms\tremaining: 674ms\n",
      "500:\tlearn: 0.0621728\ttotal: 253ms\tremaining: 20.7ms\n",
      "541:\tlearn: 0.0604686\ttotal: 272ms\tremaining: 0us\n",
      "0:\tlearn: 0.1257996\ttotal: 622us\tremaining: 337ms\n",
      "500:\tlearn: 0.0831379\ttotal: 285ms\tremaining: 23.3ms\n",
      "541:\tlearn: 0.0817087\ttotal: 309ms\tremaining: 0us\n",
      "0:\tlearn: 0.1336187\ttotal: 1.26ms\tremaining: 680ms\n",
      "500:\tlearn: 0.0963997\ttotal: 304ms\tremaining: 24.9ms\n",
      "541:\tlearn: 0.0947953\ttotal: 339ms\tremaining: 0us\n",
      "0:\tlearn: 0.1399159\ttotal: 717us\tremaining: 388ms\n",
      "500:\tlearn: 0.1100984\ttotal: 331ms\tremaining: 27.1ms\n",
      "541:\tlearn: 0.1085219\ttotal: 357ms\tremaining: 0us\n",
      "0:\tlearn: 0.1554168\ttotal: 779us\tremaining: 422ms\n",
      "500:\tlearn: 0.1211504\ttotal: 345ms\tremaining: 28.2ms\n",
      "541:\tlearn: 0.1196296\ttotal: 375ms\tremaining: 0us\n",
      "0:\tlearn: 0.1590177\ttotal: 752us\tremaining: 407ms\n",
      "500:\tlearn: 0.1287795\ttotal: 361ms\tremaining: 29.6ms\n",
      "541:\tlearn: 0.1277366\ttotal: 389ms\tremaining: 0us\n",
      "0:\tlearn: 0.1575075\ttotal: 905us\tremaining: 490ms\n"
     ]
    },
    {
     "name": "stderr",
     "output_type": "stream",
     "text": [
      "Best trial: 53. Best value: 0.393419:  68%|█████████████████        | 68/100 [06:51<01:32,  2.91s/it, 411.42/1200 seconds]"
     ]
    },
    {
     "name": "stdout",
     "output_type": "stream",
     "text": [
      "500:\tlearn: 0.1259279\ttotal: 371ms\tremaining: 30.4ms\n",
      "541:\tlearn: 0.1244077\ttotal: 403ms\tremaining: 0us\n",
      "[I 2024-04-14 22:41:01,885] Trial 67 finished with value: -0.05816776691401363 and parameters: {'loss_function': 'MAPE', 'depth': 4, 'iterations': 542, 'min_data_in_leaf': 98, 'random_strength': 0.294289802683108}. Best is trial 53 with value: 0.3934193594275624.\n",
      "Learning rate set to 0.074386\n",
      "0:\tlearn: 0.2152140\ttotal: 600us\tremaining: 207ms\n",
      "345:\tlearn: 0.0617821\ttotal: 147ms\tremaining: 0us\n",
      "Learning rate set to 0.082819\n",
      "0:\tlearn: 0.2311995\ttotal: 581us\tremaining: 201ms\n",
      "345:\tlearn: 0.0946367\ttotal: 194ms\tremaining: 0us\n",
      "Learning rate set to 0.088234\n",
      "0:\tlearn: 0.2590389\ttotal: 812us\tremaining: 280ms\n",
      "345:\tlearn: 0.1122501\ttotal: 195ms\tremaining: 0us\n",
      "Learning rate set to 0.092304\n",
      "0:\tlearn: 0.2625235\ttotal: 613us\tremaining: 212ms\n",
      "345:\tlearn: 0.1364271\ttotal: 206ms\tremaining: 0us\n",
      "Learning rate set to 0.095596\n",
      "0:\tlearn: 0.2813842\ttotal: 652us\tremaining: 225ms\n",
      "345:\tlearn: 0.1511242\ttotal: 212ms\tremaining: 0us\n",
      "Learning rate set to 0.098376\n",
      "0:\tlearn: 0.2822340\ttotal: 686us\tremaining: 237ms\n",
      "345:\tlearn: 0.1596422\ttotal: 219ms\tremaining: 0us\n",
      "Learning rate set to 0.100791\n",
      "0:\tlearn: 0.2773125\ttotal: 958us\tremaining: 331ms\n"
     ]
    },
    {
     "name": "stderr",
     "output_type": "stream",
     "text": [
      "Best trial: 53. Best value: 0.393419:  69%|█████████████████▎       | 69/100 [06:52<01:17,  2.50s/it, 412.97/1200 seconds]"
     ]
    },
    {
     "name": "stdout",
     "output_type": "stream",
     "text": [
      "345:\tlearn: 0.1646546\ttotal: 239ms\tremaining: 0us\n",
      "[I 2024-04-14 22:41:03,431] Trial 68 finished with value: 0.35067929839589657 and parameters: {'loss_function': 'RMSE', 'depth': 4, 'iterations': 346, 'min_data_in_leaf': 93, 'random_strength': 0.03718921750198578}. Best is trial 53 with value: 0.3934193594275624.\n",
      "Learning rate set to 0.0682\n",
      "0:\tlearn: 0.2152758\ttotal: 747us\tremaining: 287ms\n",
      "384:\tlearn: 0.0407108\ttotal: 232ms\tremaining: 0us\n",
      "Learning rate set to 0.075931\n",
      "0:\tlearn: 0.2314137\ttotal: 701us\tremaining: 269ms\n",
      "384:\tlearn: 0.0669103\ttotal: 278ms\tremaining: 0us\n",
      "Learning rate set to 0.080896\n",
      "0:\tlearn: 0.2589164\ttotal: 826us\tremaining: 317ms\n",
      "384:\tlearn: 0.0852809\ttotal: 292ms\tremaining: 0us\n",
      "Learning rate set to 0.084627\n",
      "0:\tlearn: 0.2623232\ttotal: 941us\tremaining: 362ms\n",
      "384:\tlearn: 0.1038368\ttotal: 306ms\tremaining: 0us\n",
      "Learning rate set to 0.087645\n",
      "0:\tlearn: 0.2813149\ttotal: 884us\tremaining: 340ms\n",
      "384:\tlearn: 0.1207779\ttotal: 318ms\tremaining: 0us\n",
      "Learning rate set to 0.090194\n",
      "0:\tlearn: 0.2815793\ttotal: 959us\tremaining: 369ms\n",
      "384:\tlearn: 0.1299203\ttotal: 330ms\tremaining: 0us\n",
      "Learning rate set to 0.092408\n",
      "0:\tlearn: 0.2770778\ttotal: 1.01ms\tremaining: 389ms\n"
     ]
    },
    {
     "name": "stderr",
     "output_type": "stream",
     "text": [
      "Best trial: 53. Best value: 0.393419:  70%|█████████████████▌       | 70/100 [06:55<01:12,  2.42s/it, 415.22/1200 seconds]"
     ]
    },
    {
     "name": "stdout",
     "output_type": "stream",
     "text": [
      "384:\tlearn: 0.1391988\ttotal: 349ms\tremaining: 0us\n",
      "[I 2024-04-14 22:41:05,683] Trial 69 finished with value: 0.31089661019128706 and parameters: {'loss_function': 'RMSE', 'depth': 5, 'iterations': 385, 'min_data_in_leaf': 84, 'random_strength': 0.06230052293690709}. Best is trial 53 with value: 0.3934193594275624.\n",
      "Learning rate set to 0.086353\n",
      "0:\tlearn: 0.2152666\ttotal: 783us\tremaining: 225ms\n",
      "287:\tlearn: 0.0627456\ttotal: 135ms\tremaining: 0us\n",
      "Learning rate set to 0.096141\n",
      "0:\tlearn: 0.2313942\ttotal: 1.2ms\tremaining: 344ms\n",
      "287:\tlearn: 0.1006051\ttotal: 154ms\tremaining: 0us\n",
      "Learning rate set to 0.102428\n",
      "0:\tlearn: 0.2591900\ttotal: 580us\tremaining: 166ms\n",
      "287:\tlearn: 0.1185498\ttotal: 163ms\tremaining: 0us\n",
      "Learning rate set to 0.107153\n",
      "0:\tlearn: 0.2621573\ttotal: 623us\tremaining: 179ms\n",
      "287:\tlearn: 0.1428364\ttotal: 175ms\tremaining: 0us\n",
      "Learning rate set to 0.110974\n",
      "0:\tlearn: 0.2821519\ttotal: 644us\tremaining: 185ms\n",
      "287:\tlearn: 0.1626375\ttotal: 182ms\tremaining: 0us\n",
      "Learning rate set to 0.114201\n",
      "0:\tlearn: 0.2825183\ttotal: 672us\tremaining: 193ms\n",
      "287:\tlearn: 0.1702085\ttotal: 188ms\tremaining: 0us\n",
      "Learning rate set to 0.117004\n",
      "0:\tlearn: 0.2776401\ttotal: 877us\tremaining: 252ms\n"
     ]
    },
    {
     "name": "stderr",
     "output_type": "stream",
     "text": [
      "Best trial: 53. Best value: 0.393419:  71%|█████████████████▊       | 71/100 [06:56<01:00,  2.09s/it, 416.53/1200 seconds]"
     ]
    },
    {
     "name": "stdout",
     "output_type": "stream",
     "text": [
      "287:\tlearn: 0.1747905\ttotal: 194ms\tremaining: 0us\n",
      "[I 2024-04-14 22:41:06,991] Trial 70 finished with value: 0.23370039638603712 and parameters: {'loss_function': 'RMSE', 'depth': 4, 'iterations': 288, 'min_data_in_leaf': 88, 'random_strength': 1.237593251770224}. Best is trial 53 with value: 0.3934193594275624.\n",
      "Learning rate set to 0.101528\n",
      "0:\tlearn: 0.2151151\ttotal: 662us\tremaining: 156ms\n",
      "235:\tlearn: 0.0670400\ttotal: 104ms\tremaining: 0us\n",
      "Learning rate set to 0.113037\n",
      "0:\tlearn: 0.2308970\ttotal: 598us\tremaining: 141ms\n",
      "235:\tlearn: 0.0948252\ttotal: 129ms\tremaining: 0us\n",
      "Learning rate set to 0.120429\n",
      "0:\tlearn: 0.2578734\ttotal: 494us\tremaining: 116ms\n",
      "235:\tlearn: 0.1184103\ttotal: 136ms\tremaining: 0us\n",
      "Learning rate set to 0.125983\n",
      "0:\tlearn: 0.2619395\ttotal: 612us\tremaining: 144ms\n",
      "235:\tlearn: 0.1442914\ttotal: 144ms\tremaining: 0us\n",
      "Learning rate set to 0.130476\n",
      "0:\tlearn: 0.2813523\ttotal: 591us\tremaining: 139ms\n",
      "235:\tlearn: 0.1626614\ttotal: 145ms\tremaining: 0us\n",
      "Learning rate set to 0.13427\n",
      "0:\tlearn: 0.2819694\ttotal: 700us\tremaining: 165ms\n"
     ]
    },
    {
     "name": "stderr",
     "output_type": "stream",
     "text": [
      "Best trial: 53. Best value: 0.393419:  72%|██████████████████       | 72/100 [06:57<00:50,  1.79s/it, 417.61/1200 seconds]"
     ]
    },
    {
     "name": "stdout",
     "output_type": "stream",
     "text": [
      "235:\tlearn: 0.1691457\ttotal: 154ms\tremaining: 0us\n",
      "Learning rate set to 0.137566\n",
      "0:\tlearn: 0.2767945\ttotal: 1.25ms\tremaining: 293ms\n",
      "235:\tlearn: 0.1688861\ttotal: 165ms\tremaining: 0us\n",
      "[I 2024-04-14 22:41:08,071] Trial 71 finished with value: 0.09274558781172382 and parameters: {'loss_function': 'RMSE', 'depth': 4, 'iterations': 236, 'min_data_in_leaf': 91, 'random_strength': 0.6596568437118351}. Best is trial 53 with value: 0.3934193594275624.\n",
      "Learning rate set to 0.067069\n",
      "0:\tlearn: 0.2154599\ttotal: 613us\tremaining: 240ms\n",
      "392:\tlearn: 0.0636506\ttotal: 177ms\tremaining: 0us\n",
      "Learning rate set to 0.074672\n",
      "0:\tlearn: 0.2313456\ttotal: 497us\tremaining: 195ms\n",
      "392:\tlearn: 0.0909185\ttotal: 206ms\tremaining: 0us\n",
      "Learning rate set to 0.079555\n",
      "0:\tlearn: 0.2599352\ttotal: 1.29ms\tremaining: 505ms\n",
      "392:\tlearn: 0.1140258\ttotal: 224ms\tremaining: 0us\n",
      "Learning rate set to 0.083224\n",
      "0:\tlearn: 0.2629802\ttotal: 600us\tremaining: 235ms\n",
      "392:\tlearn: 0.1384280\ttotal: 239ms\tremaining: 0us\n",
      "Learning rate set to 0.086192\n",
      "0:\tlearn: 0.2821373\ttotal: 1.39ms\tremaining: 547ms\n",
      "392:\tlearn: 0.1552260\ttotal: 248ms\tremaining: 0us\n",
      "Learning rate set to 0.088698\n",
      "0:\tlearn: 0.2829989\ttotal: 1.36ms\tremaining: 534ms\n",
      "392:\tlearn: 0.1633467\ttotal: 266ms\tremaining: 0us\n",
      "Learning rate set to 0.090876\n",
      "0:\tlearn: 0.2782831\ttotal: 765us\tremaining: 300ms\n"
     ]
    },
    {
     "name": "stderr",
     "output_type": "stream",
     "text": [
      "Best trial: 53. Best value: 0.393419:  73%|██████████████████▎      | 73/100 [06:59<00:47,  1.78s/it, 419.36/1200 seconds]"
     ]
    },
    {
     "name": "stdout",
     "output_type": "stream",
     "text": [
      "392:\tlearn: 0.1692613\ttotal: 262ms\tremaining: 0us\n",
      "[I 2024-04-14 22:41:09,827] Trial 72 finished with value: 0.18186919119340608 and parameters: {'loss_function': 'RMSE', 'depth': 4, 'iterations': 393, 'min_data_in_leaf': 93, 'random_strength': 0.8628094703082106}. Best is trial 53 with value: 0.3934193594275624.\n",
      "Learning rate set to 0.059117\n",
      "0:\tlearn: 0.2149981\ttotal: 1.38ms\tremaining: 630ms\n",
      "458:\tlearn: 0.0555748\ttotal: 206ms\tremaining: 0us\n",
      "Learning rate set to 0.065818\n",
      "0:\tlearn: 0.2314139\ttotal: 478us\tremaining: 219ms\n",
      "458:\tlearn: 0.0923658\ttotal: 238ms\tremaining: 0us\n",
      "Learning rate set to 0.070122\n",
      "0:\tlearn: 0.2597286\ttotal: 629us\tremaining: 288ms\n",
      "458:\tlearn: 0.1085118\ttotal: 263ms\tremaining: 0us\n",
      "Learning rate set to 0.073356\n",
      "0:\tlearn: 0.2628026\ttotal: 1.22ms\tremaining: 561ms\n",
      "458:\tlearn: 0.1323161\ttotal: 277ms\tremaining: 0us\n",
      "Learning rate set to 0.075972\n",
      "0:\tlearn: 0.2819590\ttotal: 703us\tremaining: 322ms\n",
      "458:\tlearn: 0.1521165\ttotal: 293ms\tremaining: 0us\n",
      "Learning rate set to 0.078181\n",
      "0:\tlearn: 0.2826294\ttotal: 1.18ms\tremaining: 541ms\n",
      "458:\tlearn: 0.1611435\ttotal: 309ms\tremaining: 0us\n",
      "Learning rate set to 0.0801\n",
      "0:\tlearn: 0.2776956\ttotal: 1.28ms\tremaining: 587ms\n"
     ]
    },
    {
     "name": "stderr",
     "output_type": "stream",
     "text": [
      "Best trial: 53. Best value: 0.393419:  74%|██████████████████▌      | 74/100 [07:01<00:48,  1.86s/it, 421.40/1200 seconds]"
     ]
    },
    {
     "name": "stdout",
     "output_type": "stream",
     "text": [
      "458:\tlearn: 0.1608183\ttotal: 309ms\tremaining: 0us\n",
      "[I 2024-04-14 22:41:11,864] Trial 73 finished with value: 0.2956918107928451 and parameters: {'loss_function': 'RMSE', 'depth': 4, 'iterations': 459, 'min_data_in_leaf': 97, 'random_strength': 0.25293059499579273}. Best is trial 53 with value: 0.3934193594275624.\n",
      "Learning rate set to 0.075633\n",
      "0:\tlearn: 0.2148004\ttotal: 1.87ms\tremaining: 631ms\n",
      "338:\tlearn: 0.0679561\ttotal: 146ms\tremaining: 0us\n",
      "Learning rate set to 0.084206\n",
      "0:\tlearn: 0.2314775\ttotal: 485us\tremaining: 164ms\n",
      "338:\tlearn: 0.0980114\ttotal: 184ms\tremaining: 0us\n",
      "Learning rate set to 0.089713\n",
      "0:\tlearn: 0.2595935\ttotal: 591us\tremaining: 200ms\n",
      "338:\tlearn: 0.1172460\ttotal: 198ms\tremaining: 0us\n",
      "Learning rate set to 0.093851\n",
      "0:\tlearn: 0.2632914\ttotal: 850us\tremaining: 288ms\n",
      "338:\tlearn: 0.1405563\ttotal: 205ms\tremaining: 0us\n",
      "Learning rate set to 0.097198\n",
      "0:\tlearn: 0.2822760\ttotal: 666us\tremaining: 225ms\n",
      "338:\tlearn: 0.1615339\ttotal: 226ms\tremaining: 0us\n",
      "Learning rate set to 0.100024\n",
      "0:\tlearn: 0.2833980\ttotal: 815us\tremaining: 276ms\n",
      "338:\tlearn: 0.1708414\ttotal: 227ms\tremaining: 0us\n",
      "Learning rate set to 0.102479\n",
      "0:\tlearn: 0.2785499\ttotal: 1.33ms\tremaining: 451ms\n"
     ]
    },
    {
     "name": "stderr",
     "output_type": "stream",
     "text": [
      "Best trial: 53. Best value: 0.393419:  75%|██████████████████▊      | 75/100 [07:02<00:44,  1.76s/it, 422.95/1200 seconds]"
     ]
    },
    {
     "name": "stdout",
     "output_type": "stream",
     "text": [
      "338:\tlearn: 0.1723825\ttotal: 226ms\tremaining: 0us\n",
      "[I 2024-04-14 22:41:13,411] Trial 74 finished with value: 0.07911689543354504 and parameters: {'loss_function': 'RMSE', 'depth': 4, 'iterations': 339, 'min_data_in_leaf': 100, 'random_strength': 1.9933760827919795}. Best is trial 53 with value: 0.3934193594275624.\n",
      "Learning rate set to 0.044552\n",
      "0:\tlearn: 0.2153221\ttotal: 1.25ms\tremaining: 808ms\n",
      "500:\tlearn: 0.0716974\ttotal: 235ms\tremaining: 70ms\n",
      "649:\tlearn: 0.0551384\ttotal: 306ms\tremaining: 0us\n",
      "Learning rate set to 0.049602\n",
      "0:\tlearn: 0.2317210\ttotal: 550us\tremaining: 357ms\n",
      "500:\tlearn: 0.1107705\ttotal: 268ms\tremaining: 79.8ms\n",
      "649:\tlearn: 0.0922877\ttotal: 348ms\tremaining: 0us\n",
      "Learning rate set to 0.052846\n",
      "0:\tlearn: 0.2600687\ttotal: 1.22ms\tremaining: 789ms\n",
      "500:\tlearn: 0.1287592\ttotal: 283ms\tremaining: 84ms\n",
      "649:\tlearn: 0.1082891\ttotal: 371ms\tremaining: 0us\n",
      "Learning rate set to 0.055283\n",
      "0:\tlearn: 0.2635691\ttotal: 764us\tremaining: 496ms\n",
      "500:\tlearn: 0.1525498\ttotal: 306ms\tremaining: 90.9ms\n",
      "649:\tlearn: 0.1335190\ttotal: 397ms\tremaining: 0us\n",
      "Learning rate set to 0.057254\n",
      "0:\tlearn: 0.2828820\ttotal: 720us\tremaining: 467ms\n",
      "500:\tlearn: 0.1688931\ttotal: 320ms\tremaining: 95.2ms\n",
      "649:\tlearn: 0.1503810\ttotal: 413ms\tremaining: 0us\n",
      "Learning rate set to 0.058919\n",
      "0:\tlearn: 0.2837411\ttotal: 694us\tremaining: 451ms\n",
      "500:\tlearn: 0.1748224\ttotal: 329ms\tremaining: 98ms\n",
      "649:\tlearn: 0.1589074\ttotal: 428ms\tremaining: 0us\n",
      "Learning rate set to 0.060366\n",
      "0:\tlearn: 0.2788572\ttotal: 695us\tremaining: 452ms\n"
     ]
    },
    {
     "name": "stderr",
     "output_type": "stream",
     "text": [
      "Best trial: 53. Best value: 0.393419:  76%|███████████████████      | 76/100 [07:05<00:50,  2.10s/it, 425.84/1200 seconds]"
     ]
    },
    {
     "name": "stdout",
     "output_type": "stream",
     "text": [
      "500:\tlearn: 0.1784202\ttotal: 340ms\tremaining: 101ms\n",
      "649:\tlearn: 0.1640077\ttotal: 440ms\tremaining: 0us\n",
      "[I 2024-04-14 22:41:16,301] Trial 75 finished with value: 0.33763730639686884 and parameters: {'loss_function': 'RMSE', 'depth': 4, 'iterations': 650, 'min_data_in_leaf': 79, 'random_strength': 1.4975933931109346}. Best is trial 53 with value: 0.3934193594275624.\n",
      "Learning rate set to 0.038535\n",
      "0:\tlearn: 0.2154315\ttotal: 628us\tremaining: 488ms\n",
      "500:\tlearn: 0.0818661\ttotal: 225ms\tremaining: 124ms\n",
      "776:\tlearn: 0.0538529\ttotal: 345ms\tremaining: 0us\n",
      "Learning rate set to 0.042903\n",
      "0:\tlearn: 0.2317685\ttotal: 599us\tremaining: 465ms\n",
      "500:\tlearn: 0.1197573\ttotal: 259ms\tremaining: 143ms\n",
      "776:\tlearn: 0.0856212\ttotal: 411ms\tremaining: 0us\n",
      "Learning rate set to 0.045708\n",
      "0:\tlearn: 0.2601625\ttotal: 710us\tremaining: 551ms\n",
      "500:\tlearn: 0.1379483\ttotal: 284ms\tremaining: 157ms\n",
      "776:\tlearn: 0.1063633\ttotal: 440ms\tremaining: 0us\n",
      "Learning rate set to 0.047817\n",
      "0:\tlearn: 0.2636239\ttotal: 691us\tremaining: 537ms\n",
      "500:\tlearn: 0.1639508\ttotal: 295ms\tremaining: 162ms\n",
      "776:\tlearn: 0.1342202\ttotal: 462ms\tremaining: 0us\n",
      "Learning rate set to 0.049522\n",
      "0:\tlearn: 0.2830006\ttotal: 665us\tremaining: 517ms\n",
      "500:\tlearn: 0.1830143\ttotal: 314ms\tremaining: 173ms\n",
      "776:\tlearn: 0.1538899\ttotal: 490ms\tremaining: 0us\n",
      "Learning rate set to 0.050962\n",
      "0:\tlearn: 0.2839253\ttotal: 817us\tremaining: 634ms\n",
      "500:\tlearn: 0.1837738\ttotal: 323ms\tremaining: 178ms\n",
      "776:\tlearn: 0.1593339\ttotal: 504ms\tremaining: 0us\n",
      "Learning rate set to 0.052213\n",
      "0:\tlearn: 0.2790378\ttotal: 1.01ms\tremaining: 786ms\n",
      "500:\tlearn: 0.1854669\ttotal: 347ms\tremaining: 191ms\n",
      "776:\tlearn: 0.1625367\ttotal: 535ms\tremaining: 0us\n"
     ]
    },
    {
     "name": "stderr",
     "output_type": "stream",
     "text": [
      "Best trial: 53. Best value: 0.393419:  77%|███████████████████▎     | 77/100 [07:09<00:57,  2.49s/it, 429.24/1200 seconds]"
     ]
    },
    {
     "name": "stdout",
     "output_type": "stream",
     "text": [
      "[I 2024-04-14 22:41:19,698] Trial 76 finished with value: 0.28661106057093716 and parameters: {'loss_function': 'RMSE', 'depth': 4, 'iterations': 777, 'min_data_in_leaf': 79, 'random_strength': 1.3835806908727692}. Best is trial 53 with value: 0.3934193594275624.\n",
      "Learning rate set to 0.043786\n",
      "0:\tlearn: 0.2156945\ttotal: 616us\tremaining: 409ms\n",
      "500:\tlearn: 0.0736030\ttotal: 222ms\tremaining: 72.3ms\n",
      "663:\tlearn: 0.0533922\ttotal: 295ms\tremaining: 0us\n",
      "Learning rate set to 0.04875\n",
      "0:\tlearn: 0.2311726\ttotal: 1.13ms\tremaining: 751ms\n",
      "500:\tlearn: 0.1094657\ttotal: 270ms\tremaining: 87.9ms\n",
      "663:\tlearn: 0.0898292\ttotal: 359ms\tremaining: 0us\n",
      "Learning rate set to 0.051938\n",
      "0:\tlearn: 0.2599629\ttotal: 1.26ms\tremaining: 834ms\n",
      "500:\tlearn: 0.1255972\ttotal: 288ms\tremaining: 93.7ms\n",
      "663:\tlearn: 0.1060724\ttotal: 381ms\tremaining: 0us\n",
      "Learning rate set to 0.054334\n",
      "0:\tlearn: 0.2633230\ttotal: 787us\tremaining: 522ms\n",
      "500:\tlearn: 0.1501444\ttotal: 301ms\tremaining: 98.1ms\n",
      "663:\tlearn: 0.1301593\ttotal: 402ms\tremaining: 0us\n",
      "Learning rate set to 0.056271\n",
      "0:\tlearn: 0.2826517\ttotal: 536us\tremaining: 356ms\n",
      "500:\tlearn: 0.1716736\ttotal: 331ms\tremaining: 108ms\n",
      "663:\tlearn: 0.1521762\ttotal: 437ms\tremaining: 0us\n",
      "Learning rate set to 0.057907\n",
      "0:\tlearn: 0.2837728\ttotal: 2.21ms\tremaining: 1.46s\n",
      "500:\tlearn: 0.1795635\ttotal: 334ms\tremaining: 109ms\n",
      "663:\tlearn: 0.1626940\ttotal: 442ms\tremaining: 0us\n",
      "Learning rate set to 0.059329\n",
      "0:\tlearn: 0.2788801\ttotal: 911us\tremaining: 604ms\n"
     ]
    },
    {
     "name": "stderr",
     "output_type": "stream",
     "text": [
      "Best trial: 53. Best value: 0.393419:  78%|███████████████████▌     | 78/100 [07:12<00:57,  2.63s/it, 432.20/1200 seconds]"
     ]
    },
    {
     "name": "stdout",
     "output_type": "stream",
     "text": [
      "500:\tlearn: 0.1799759\ttotal: 342ms\tremaining: 111ms\n",
      "663:\tlearn: 0.1648367\ttotal: 452ms\tremaining: 0us\n",
      "[I 2024-04-14 22:41:22,663] Trial 77 finished with value: 0.30630087213728546 and parameters: {'loss_function': 'RMSE', 'depth': 4, 'iterations': 664, 'min_data_in_leaf': 70, 'random_strength': 1.0577943180302365}. Best is trial 53 with value: 0.3934193594275624.\n",
      "Learning rate set to 0.054177\n",
      "0:\tlearn: 0.2160306\ttotal: 1.43ms\tremaining: 728ms\n",
      "500:\tlearn: 0.0184076\ttotal: 476ms\tremaining: 9.5ms\n",
      "510:\tlearn: 0.0176080\ttotal: 485ms\tremaining: 0us\n",
      "Learning rate set to 0.060319\n",
      "0:\tlearn: 0.2315424\ttotal: 1.48ms\tremaining: 756ms\n",
      "500:\tlearn: 0.0407985\ttotal: 582ms\tremaining: 11.6ms\n",
      "510:\tlearn: 0.0397305\ttotal: 595ms\tremaining: 0us\n",
      "Learning rate set to 0.064263\n",
      "0:\tlearn: 0.2600266\ttotal: 1.21ms\tremaining: 615ms\n",
      "500:\tlearn: 0.0605418\ttotal: 618ms\tremaining: 12.3ms\n",
      "510:\tlearn: 0.0585908\ttotal: 631ms\tremaining: 0us\n",
      "Learning rate set to 0.067227\n",
      "0:\tlearn: 0.2626631\ttotal: 1.39ms\tremaining: 707ms\n",
      "500:\tlearn: 0.0749968\ttotal: 626ms\tremaining: 12.5ms\n",
      "510:\tlearn: 0.0733497\ttotal: 640ms\tremaining: 0us\n",
      "Learning rate set to 0.069624\n",
      "0:\tlearn: 0.2834512\ttotal: 872us\tremaining: 445ms\n",
      "500:\tlearn: 0.0872224\ttotal: 656ms\tremaining: 13.1ms\n",
      "510:\tlearn: 0.0854131\ttotal: 671ms\tremaining: 0us\n",
      "Learning rate set to 0.071649\n",
      "0:\tlearn: 0.2839510\ttotal: 1.57ms\tremaining: 803ms\n",
      "500:\tlearn: 0.0973401\ttotal: 664ms\tremaining: 13.2ms\n",
      "510:\tlearn: 0.0955440\ttotal: 679ms\tremaining: 0us\n",
      "Learning rate set to 0.073408\n",
      "0:\tlearn: 0.2780260\ttotal: 1.47ms\tremaining: 748ms\n"
     ]
    },
    {
     "name": "stderr",
     "output_type": "stream",
     "text": [
      "Best trial: 53. Best value: 0.393419:  79%|███████████████████▊     | 79/100 [07:16<01:07,  3.23s/it, 436.81/1200 seconds]"
     ]
    },
    {
     "name": "stdout",
     "output_type": "stream",
     "text": [
      "500:\tlearn: 0.1034185\ttotal: 684ms\tremaining: 13.7ms\n",
      "510:\tlearn: 0.1019253\ttotal: 698ms\tremaining: 0us\n",
      "[I 2024-04-14 22:41:27,272] Trial 78 finished with value: -0.07933088411035503 and parameters: {'loss_function': 'RMSE', 'depth': 7, 'iterations': 511, 'min_data_in_leaf': 86, 'random_strength': 8.456126479945976}. Best is trial 53 with value: 0.3934193594275624.\n",
      "0:\tlearn: 0.1119624\ttotal: 868us\tremaining: 534ms\n",
      "500:\tlearn: 0.0489006\ttotal: 309ms\tremaining: 70.8ms\n",
      "615:\tlearn: 0.0431306\ttotal: 383ms\tremaining: 0us\n",
      "0:\tlearn: 0.1275754\ttotal: 726us\tremaining: 447ms\n",
      "500:\tlearn: 0.0681965\ttotal: 358ms\tremaining: 82.3ms\n",
      "615:\tlearn: 0.0613309\ttotal: 445ms\tremaining: 0us\n",
      "0:\tlearn: 0.1379914\ttotal: 1.02ms\tremaining: 629ms\n",
      "500:\tlearn: 0.0857092\ttotal: 380ms\tremaining: 87.2ms\n",
      "615:\tlearn: 0.0791328\ttotal: 470ms\tremaining: 0us\n",
      "0:\tlearn: 0.1439162\ttotal: 1.52ms\tremaining: 937ms\n",
      "500:\tlearn: 0.1024321\ttotal: 395ms\tremaining: 90.7ms\n",
      "615:\tlearn: 0.0958123\ttotal: 498ms\tremaining: 0us\n",
      "0:\tlearn: 0.1597616\ttotal: 1ms\tremaining: 616ms\n",
      "500:\tlearn: 0.1119892\ttotal: 421ms\tremaining: 96.7ms\n",
      "615:\tlearn: 0.1052709\ttotal: 522ms\tremaining: 0us\n",
      "0:\tlearn: 0.1634425\ttotal: 1.1ms\tremaining: 676ms\n",
      "500:\tlearn: 0.1192318\ttotal: 439ms\tremaining: 101ms\n",
      "615:\tlearn: 0.1125556\ttotal: 546ms\tremaining: 0us\n",
      "0:\tlearn: 0.1618310\ttotal: 1.08ms\tremaining: 662ms\n"
     ]
    },
    {
     "name": "stderr",
     "output_type": "stream",
     "text": [
      "Best trial: 53. Best value: 0.393419:  80%|████████████████████     | 80/100 [07:20<01:06,  3.35s/it, 440.44/1200 seconds]"
     ]
    },
    {
     "name": "stdout",
     "output_type": "stream",
     "text": [
      "500:\tlearn: 0.1213618\ttotal: 460ms\tremaining: 105ms\n",
      "615:\tlearn: 0.1158138\ttotal: 575ms\tremaining: 0us\n",
      "[I 2024-04-14 22:41:30,907] Trial 79 finished with value: -0.07189734341389602 and parameters: {'loss_function': 'MAE', 'depth': 5, 'iterations': 616, 'min_data_in_leaf': 44, 'random_strength': 2.3073279088615766}. Best is trial 53 with value: 0.3934193594275624.\n",
      "Learning rate set to 0.09816\n",
      "0:\tlearn: 0.2144083\ttotal: 2.39ms\tremaining: 587ms\n",
      "245:\tlearn: 0.0683533\ttotal: 121ms\tremaining: 0us\n",
      "Learning rate set to 0.109287\n",
      "0:\tlearn: 0.2313028\ttotal: 509us\tremaining: 125ms\n",
      "245:\tlearn: 0.0985192\ttotal: 133ms\tremaining: 0us\n",
      "Learning rate set to 0.116433\n",
      "0:\tlearn: 0.2592587\ttotal: 1.4ms\tremaining: 342ms\n",
      "245:\tlearn: 0.1243228\ttotal: 146ms\tremaining: 0us\n",
      "Learning rate set to 0.121804\n",
      "0:\tlearn: 0.2630959\ttotal: 616us\tremaining: 151ms\n",
      "245:\tlearn: 0.1516238\ttotal: 152ms\tremaining: 0us\n",
      "Learning rate set to 0.126147\n",
      "0:\tlearn: 0.2818440\ttotal: 531us\tremaining: 130ms\n",
      "245:\tlearn: 0.1652819\ttotal: 156ms\tremaining: 0us\n",
      "Learning rate set to 0.129815\n",
      "0:\tlearn: 0.2821563\ttotal: 798us\tremaining: 196ms\n",
      "245:\tlearn: 0.1723512\ttotal: 170ms\tremaining: 0us\n",
      "Learning rate set to 0.133002\n",
      "0:\tlearn: 0.2780822\ttotal: 786us\tremaining: 193ms\n"
     ]
    },
    {
     "name": "stderr",
     "output_type": "stream",
     "text": [
      "Best trial: 53. Best value: 0.393419:  81%|████████████████████▎    | 81/100 [07:21<00:51,  2.69s/it, 441.61/1200 seconds]"
     ]
    },
    {
     "name": "stdout",
     "output_type": "stream",
     "text": [
      "245:\tlearn: 0.1744494\ttotal: 175ms\tremaining: 0us\n",
      "[I 2024-04-14 22:41:32,075] Trial 80 finished with value: 0.23998524482723063 and parameters: {'loss_function': 'RMSE', 'depth': 4, 'iterations': 246, 'min_data_in_leaf': 81, 'random_strength': 1.6293101347390033}. Best is trial 53 with value: 0.3934193594275624.\n",
      "Learning rate set to 0.065449\n",
      "0:\tlearn: 0.2154762\ttotal: 729us\tremaining: 295ms\n",
      "404:\tlearn: 0.0598095\ttotal: 188ms\tremaining: 0us\n",
      "Learning rate set to 0.072868\n",
      "0:\tlearn: 0.2313094\ttotal: 648us\tremaining: 262ms\n",
      "404:\tlearn: 0.0909577\ttotal: 213ms\tremaining: 0us\n",
      "Learning rate set to 0.077633\n",
      "0:\tlearn: 0.2589719\ttotal: 1.27ms\tremaining: 515ms\n",
      "404:\tlearn: 0.1110562\ttotal: 237ms\tremaining: 0us\n",
      "Learning rate set to 0.081214\n",
      "0:\tlearn: 0.2630039\ttotal: 1.34ms\tremaining: 542ms\n",
      "404:\tlearn: 0.1407045\ttotal: 239ms\tremaining: 0us\n",
      "Learning rate set to 0.08411\n",
      "0:\tlearn: 0.2821816\ttotal: 1.39ms\tremaining: 560ms\n",
      "404:\tlearn: 0.1570200\ttotal: 260ms\tremaining: 0us\n",
      "Learning rate set to 0.086556\n",
      "0:\tlearn: 0.2830484\ttotal: 761us\tremaining: 308ms\n",
      "404:\tlearn: 0.1644280\ttotal: 264ms\tremaining: 0us\n",
      "Learning rate set to 0.08868\n",
      "0:\tlearn: 0.2777293\ttotal: 734us\tremaining: 297ms\n"
     ]
    },
    {
     "name": "stderr",
     "output_type": "stream",
     "text": [
      "Best trial: 53. Best value: 0.393419:  82%|████████████████████▌    | 82/100 [07:23<00:43,  2.44s/it, 443.44/1200 seconds]"
     ]
    },
    {
     "name": "stdout",
     "output_type": "stream",
     "text": [
      "404:\tlearn: 0.1651901\ttotal: 277ms\tremaining: 0us\n",
      "[I 2024-04-14 22:41:33,906] Trial 81 finished with value: 0.21150614033041024 and parameters: {'loss_function': 'RMSE', 'depth': 4, 'iterations': 405, 'min_data_in_leaf': 92, 'random_strength': 0.7283451280231952}. Best is trial 53 with value: 0.3934193594275624.\n",
      "Learning rate set to 0.037631\n",
      "0:\tlearn: 0.2156693\ttotal: 1.88ms\tremaining: 1.5s\n",
      "500:\tlearn: 0.0809645\ttotal: 220ms\tremaining: 131ms\n",
      "799:\tlearn: 0.0509864\ttotal: 352ms\tremaining: 0us\n",
      "Learning rate set to 0.041897\n",
      "0:\tlearn: 0.2316289\ttotal: 719us\tremaining: 575ms\n",
      "500:\tlearn: 0.1146238\ttotal: 256ms\tremaining: 153ms\n",
      "799:\tlearn: 0.0830883\ttotal: 415ms\tremaining: 0us\n",
      "Learning rate set to 0.044637\n",
      "0:\tlearn: 0.2599077\ttotal: 1.36ms\tremaining: 1.09s\n",
      "500:\tlearn: 0.1310948\ttotal: 282ms\tremaining: 169ms\n",
      "799:\tlearn: 0.0972644\ttotal: 455ms\tremaining: 0us\n",
      "Learning rate set to 0.046696\n",
      "0:\tlearn: 0.2632319\ttotal: 1.11ms\tremaining: 888ms\n",
      "500:\tlearn: 0.1584106\ttotal: 303ms\tremaining: 181ms\n",
      "799:\tlearn: 0.1268339\ttotal: 481ms\tremaining: 0us\n",
      "Learning rate set to 0.048361\n",
      "0:\tlearn: 0.2823278\ttotal: 1.2ms\tremaining: 957ms\n",
      "500:\tlearn: 0.1743620\ttotal: 308ms\tremaining: 184ms\n",
      "799:\tlearn: 0.1453948\ttotal: 496ms\tremaining: 0us\n",
      "Learning rate set to 0.049767\n",
      "0:\tlearn: 0.2833662\ttotal: 730us\tremaining: 583ms\n",
      "500:\tlearn: 0.1782257\ttotal: 321ms\tremaining: 192ms\n",
      "799:\tlearn: 0.1541113\ttotal: 515ms\tremaining: 0us\n",
      "Learning rate set to 0.050989\n",
      "0:\tlearn: 0.2787229\ttotal: 752us\tremaining: 602ms\n",
      "500:\tlearn: 0.1806235\ttotal: 343ms\tremaining: 205ms\n"
     ]
    },
    {
     "name": "stderr",
     "output_type": "stream",
     "text": [
      "Best trial: 53. Best value: 0.393419:  83%|████████████████████▊    | 83/100 [07:26<00:46,  2.75s/it, 446.91/1200 seconds]"
     ]
    },
    {
     "name": "stdout",
     "output_type": "stream",
     "text": [
      "799:\tlearn: 0.1544211\ttotal: 547ms\tremaining: 0us\n",
      "[I 2024-04-14 22:41:37,374] Trial 82 finished with value: 0.2909914032731424 and parameters: {'loss_function': 'RMSE', 'depth': 4, 'iterations': 800, 'min_data_in_leaf': 94, 'random_strength': 0.021894135160421824}. Best is trial 53 with value: 0.3934193594275624.\n",
      "Learning rate set to 0.060959\n",
      "0:\tlearn: 0.2154106\ttotal: 736us\tremaining: 325ms\n",
      "441:\tlearn: 0.0589661\ttotal: 187ms\tremaining: 0us\n",
      "Learning rate set to 0.067869\n",
      "0:\tlearn: 0.2313935\ttotal: 515us\tremaining: 227ms\n",
      "441:\tlearn: 0.0903409\ttotal: 231ms\tremaining: 0us\n",
      "Learning rate set to 0.072307\n",
      "0:\tlearn: 0.2592977\ttotal: 551us\tremaining: 243ms\n",
      "441:\tlearn: 0.1105835\ttotal: 254ms\tremaining: 0us\n",
      "Learning rate set to 0.075642\n",
      "0:\tlearn: 0.2628844\ttotal: 677us\tremaining: 299ms\n",
      "441:\tlearn: 0.1326198\ttotal: 267ms\tremaining: 0us\n",
      "Learning rate set to 0.078339\n",
      "0:\tlearn: 0.2820768\ttotal: 1.33ms\tremaining: 586ms\n",
      "441:\tlearn: 0.1535923\ttotal: 276ms\tremaining: 0us\n",
      "Learning rate set to 0.080617\n",
      "0:\tlearn: 0.2831459\ttotal: 714us\tremaining: 315ms\n",
      "441:\tlearn: 0.1601243\ttotal: 294ms\tremaining: 0us\n",
      "Learning rate set to 0.082596\n",
      "0:\tlearn: 0.2778531\ttotal: 706us\tremaining: 312ms\n"
     ]
    },
    {
     "name": "stderr",
     "output_type": "stream",
     "text": [
      "Best trial: 53. Best value: 0.393419:  84%|█████████████████████    | 84/100 [07:28<00:40,  2.52s/it, 448.89/1200 seconds]"
     ]
    },
    {
     "name": "stdout",
     "output_type": "stream",
     "text": [
      "441:\tlearn: 0.1636001\ttotal: 321ms\tremaining: 0us\n",
      "[I 2024-04-14 22:41:39,353] Trial 83 finished with value: 0.13505102182128764 and parameters: {'loss_function': 'RMSE', 'depth': 4, 'iterations': 442, 'min_data_in_leaf': 90, 'random_strength': 0.3588306922559771}. Best is trial 53 with value: 0.3934193594275624.\n",
      "Learning rate set to 0.051413\n",
      "0:\tlearn: 0.2156175\ttotal: 690us\tremaining: 376ms\n",
      "500:\tlearn: 0.0646288\ttotal: 239ms\tremaining: 21ms\n",
      "544:\tlearn: 0.0577946\ttotal: 259ms\tremaining: 0us\n",
      "Learning rate set to 0.057241\n",
      "0:\tlearn: 0.2316670\ttotal: 620us\tremaining: 338ms\n",
      "500:\tlearn: 0.0956737\ttotal: 266ms\tremaining: 23.3ms\n",
      "544:\tlearn: 0.0891109\ttotal: 289ms\tremaining: 0us\n",
      "Learning rate set to 0.060984\n",
      "0:\tlearn: 0.2599625\ttotal: 647us\tremaining: 352ms\n",
      "500:\tlearn: 0.1193654\ttotal: 287ms\tremaining: 25.2ms\n",
      "544:\tlearn: 0.1117792\ttotal: 313ms\tremaining: 0us\n",
      "Learning rate set to 0.063797\n",
      "0:\tlearn: 0.2635070\ttotal: 752us\tremaining: 409ms\n",
      "500:\tlearn: 0.1425038\ttotal: 298ms\tremaining: 26.2ms\n",
      "544:\tlearn: 0.1365669\ttotal: 326ms\tremaining: 0us\n",
      "Learning rate set to 0.066072\n",
      "0:\tlearn: 0.2827472\ttotal: 653us\tremaining: 355ms\n",
      "500:\tlearn: 0.1623988\ttotal: 310ms\tremaining: 27.2ms\n",
      "544:\tlearn: 0.1566401\ttotal: 338ms\tremaining: 0us\n",
      "Learning rate set to 0.067993\n",
      "0:\tlearn: 0.2835326\ttotal: 659us\tremaining: 359ms\n",
      "500:\tlearn: 0.1683553\ttotal: 324ms\tremaining: 28.5ms\n",
      "544:\tlearn: 0.1630079\ttotal: 352ms\tremaining: 0us\n",
      "Learning rate set to 0.069662\n",
      "0:\tlearn: 0.2786529\ttotal: 1.03ms\tremaining: 563ms\n"
     ]
    },
    {
     "name": "stderr",
     "output_type": "stream",
     "text": [
      "Best trial: 53. Best value: 0.393419:  85%|█████████████████████▎   | 85/100 [07:31<00:37,  2.48s/it, 451.30/1200 seconds]"
     ]
    },
    {
     "name": "stdout",
     "output_type": "stream",
     "text": [
      "500:\tlearn: 0.1696273\ttotal: 339ms\tremaining: 29.8ms\n",
      "544:\tlearn: 0.1648567\ttotal: 370ms\tremaining: 0us\n",
      "[I 2024-04-14 22:41:41,765] Trial 84 finished with value: 0.28941707489019286 and parameters: {'loss_function': 'RMSE', 'depth': 4, 'iterations': 545, 'min_data_in_leaf': 98, 'random_strength': 1.3438530292668105}. Best is trial 53 with value: 0.3934193594275624.\n",
      "Learning rate set to 0.073017\n",
      "0:\tlearn: 0.2154002\ttotal: 786us\tremaining: 278ms\n",
      "353:\tlearn: 0.0266145\ttotal: 268ms\tremaining: 0us\n",
      "Learning rate set to 0.081294\n",
      "0:\tlearn: 0.2302493\ttotal: 1.19ms\tremaining: 420ms\n",
      "353:\tlearn: 0.0515798\ttotal: 329ms\tremaining: 0us\n",
      "Learning rate set to 0.08661\n",
      "0:\tlearn: 0.2586447\ttotal: 1.02ms\tremaining: 360ms\n",
      "353:\tlearn: 0.0713314\ttotal: 348ms\tremaining: 0us\n",
      "Learning rate set to 0.090605\n",
      "0:\tlearn: 0.2623079\ttotal: 1.06ms\tremaining: 374ms\n",
      "353:\tlearn: 0.0899660\ttotal: 356ms\tremaining: 0us\n",
      "Learning rate set to 0.093836\n",
      "0:\tlearn: 0.2811621\ttotal: 1.13ms\tremaining: 398ms\n",
      "353:\tlearn: 0.1061907\ttotal: 373ms\tremaining: 0us\n",
      "Learning rate set to 0.096564\n",
      "0:\tlearn: 0.2814942\ttotal: 1.13ms\tremaining: 399ms\n",
      "353:\tlearn: 0.1113109\ttotal: 385ms\tremaining: 0us\n",
      "Learning rate set to 0.098935\n",
      "0:\tlearn: 0.2768967\ttotal: 1.33ms\tremaining: 469ms\n"
     ]
    },
    {
     "name": "stderr",
     "output_type": "stream",
     "text": [
      "Best trial: 53. Best value: 0.393419:  86%|█████████████████████▌   | 86/100 [07:33<00:35,  2.52s/it, 453.91/1200 seconds]"
     ]
    },
    {
     "name": "stdout",
     "output_type": "stream",
     "text": [
      "353:\tlearn: 0.1150135\ttotal: 401ms\tremaining: 0us\n",
      "[I 2024-04-14 22:41:44,374] Trial 85 finished with value: 0.09045464474883105 and parameters: {'loss_function': 'RMSE', 'depth': 6, 'iterations': 354, 'min_data_in_leaf': 86, 'random_strength': 0.7003257957291792}. Best is trial 53 with value: 0.3934193594275624.\n",
      "0:\tlearn: 0.1089650\ttotal: 882us\tremaining: 806ms\n",
      "500:\tlearn: 0.0632403\ttotal: 232ms\tremaining: 191ms\n",
      "913:\tlearn: 0.0494156\ttotal: 430ms\tremaining: 0us\n",
      "0:\tlearn: 0.1260036\ttotal: 654us\tremaining: 597ms\n",
      "500:\tlearn: 0.0828992\ttotal: 281ms\tremaining: 231ms\n",
      "913:\tlearn: 0.0682573\ttotal: 506ms\tremaining: 0us\n",
      "0:\tlearn: 0.1336725\ttotal: 709us\tremaining: 648ms\n",
      "500:\tlearn: 0.0969058\ttotal: 301ms\tremaining: 248ms\n",
      "913:\tlearn: 0.0815143\ttotal: 552ms\tremaining: 0us\n",
      "0:\tlearn: 0.1399896\ttotal: 690us\tremaining: 630ms\n",
      "500:\tlearn: 0.1121339\ttotal: 323ms\tremaining: 267ms\n",
      "913:\tlearn: 0.0982809\ttotal: 586ms\tremaining: 0us\n",
      "0:\tlearn: 0.1553748\ttotal: 706us\tremaining: 645ms\n",
      "500:\tlearn: 0.1294780\ttotal: 337ms\tremaining: 278ms\n",
      "913:\tlearn: 0.1141760\ttotal: 622ms\tremaining: 0us\n",
      "0:\tlearn: 0.1589685\ttotal: 810us\tremaining: 740ms\n",
      "500:\tlearn: 0.1333441\ttotal: 351ms\tremaining: 290ms\n",
      "913:\tlearn: 0.1186763\ttotal: 651ms\tremaining: 0us\n",
      "0:\tlearn: 0.1577359\ttotal: 1.49ms\tremaining: 1.36s\n",
      "500:\tlearn: 0.1277579\ttotal: 371ms\tremaining: 306ms\n"
     ]
    },
    {
     "name": "stderr",
     "output_type": "stream",
     "text": [
      "Best trial: 53. Best value: 0.393419:  87%|█████████████████████▊   | 87/100 [07:38<00:39,  3.04s/it, 458.17/1200 seconds]"
     ]
    },
    {
     "name": "stdout",
     "output_type": "stream",
     "text": [
      "913:\tlearn: 0.1160823\ttotal: 685ms\tremaining: 0us\n",
      "[I 2024-04-14 22:41:48,637] Trial 86 finished with value: -0.033202622225577426 and parameters: {'loss_function': 'MAPE', 'depth': 4, 'iterations': 914, 'min_data_in_leaf': 66, 'random_strength': 1.0454343372739303}. Best is trial 53 with value: 0.3934193594275624.\n",
      "Learning rate set to 0.039659\n",
      "0:\tlearn: 0.2154328\ttotal: 563us\tremaining: 422ms\n",
      "500:\tlearn: 0.0859491\ttotal: 214ms\tremaining: 106ms\n",
      "749:\tlearn: 0.0563821\ttotal: 320ms\tremaining: 0us\n",
      "Learning rate set to 0.044154\n",
      "0:\tlearn: 0.2317596\ttotal: 1.05ms\tremaining: 786ms\n",
      "500:\tlearn: 0.1220754\ttotal: 262ms\tremaining: 130ms\n",
      "749:\tlearn: 0.0885390\ttotal: 393ms\tremaining: 0us\n",
      "Learning rate set to 0.047042\n",
      "0:\tlearn: 0.2601449\ttotal: 1.18ms\tremaining: 887ms\n",
      "500:\tlearn: 0.1404859\ttotal: 281ms\tremaining: 140ms\n",
      "749:\tlearn: 0.1123797\ttotal: 425ms\tremaining: 0us\n",
      "Learning rate set to 0.049211\n",
      "0:\tlearn: 0.2636136\ttotal: 731us\tremaining: 548ms\n",
      "500:\tlearn: 0.1619193\ttotal: 296ms\tremaining: 147ms\n",
      "749:\tlearn: 0.1342020\ttotal: 448ms\tremaining: 0us\n",
      "Learning rate set to 0.050966\n",
      "0:\tlearn: 0.2829784\ttotal: 1.39ms\tremaining: 1.04s\n",
      "500:\tlearn: 0.1779836\ttotal: 313ms\tremaining: 156ms\n",
      "749:\tlearn: 0.1508838\ttotal: 473ms\tremaining: 0us\n",
      "Learning rate set to 0.052448\n",
      "0:\tlearn: 0.2842042\ttotal: 644us\tremaining: 483ms\n",
      "500:\tlearn: 0.1863404\ttotal: 323ms\tremaining: 161ms\n",
      "749:\tlearn: 0.1609090\ttotal: 488ms\tremaining: 0us\n",
      "Learning rate set to 0.053736\n",
      "0:\tlearn: 0.2793270\ttotal: 1.27ms\tremaining: 955ms\n"
     ]
    },
    {
     "name": "stderr",
     "output_type": "stream",
     "text": [
      "Best trial: 53. Best value: 0.393419:  88%|██████████████████████   | 88/100 [07:41<00:37,  3.11s/it, 461.45/1200 seconds]"
     ]
    },
    {
     "name": "stdout",
     "output_type": "stream",
     "text": [
      "500:\tlearn: 0.1874132\ttotal: 347ms\tremaining: 173ms\n",
      "749:\tlearn: 0.1635113\ttotal: 518ms\tremaining: 0us\n",
      "[I 2024-04-14 22:41:51,911] Trial 87 finished with value: 0.3375663651235429 and parameters: {'loss_function': 'RMSE', 'depth': 4, 'iterations': 750, 'min_data_in_leaf': 76, 'random_strength': 2.017239767140991}. Best is trial 53 with value: 0.3934193594275624.\n",
      "Learning rate set to 0.041277\n",
      "0:\tlearn: 0.2160559\ttotal: 747us\tremaining: 533ms\n",
      "500:\tlearn: 0.0877211\ttotal: 218ms\tremaining: 92.6ms\n",
      "713:\tlearn: 0.0577693\ttotal: 319ms\tremaining: 0us\n",
      "Learning rate set to 0.045956\n",
      "0:\tlearn: 0.2318828\ttotal: 640us\tremaining: 457ms\n",
      "500:\tlearn: 0.1254129\ttotal: 257ms\tremaining: 109ms\n",
      "713:\tlearn: 0.0960132\ttotal: 374ms\tremaining: 0us\n",
      "Learning rate set to 0.048961\n",
      "0:\tlearn: 0.2604265\ttotal: 636us\tremaining: 454ms\n",
      "500:\tlearn: 0.1461514\ttotal: 288ms\tremaining: 122ms\n",
      "713:\tlearn: 0.1187835\ttotal: 410ms\tremaining: 0us\n",
      "Learning rate set to 0.051219\n",
      "0:\tlearn: 0.2632653\ttotal: 704us\tremaining: 502ms\n",
      "500:\tlearn: 0.1651617\ttotal: 319ms\tremaining: 136ms\n",
      "713:\tlearn: 0.1398961\ttotal: 462ms\tremaining: 0us\n",
      "Learning rate set to 0.053046\n",
      "0:\tlearn: 0.2833930\ttotal: 722us\tremaining: 515ms\n",
      "500:\tlearn: 0.1819214\ttotal: 334ms\tremaining: 142ms\n",
      "713:\tlearn: 0.1559395\ttotal: 485ms\tremaining: 0us\n",
      "Learning rate set to 0.054588\n",
      "0:\tlearn: 0.2845489\ttotal: 875us\tremaining: 624ms\n",
      "500:\tlearn: 0.1863819\ttotal: 349ms\tremaining: 148ms\n",
      "713:\tlearn: 0.1644516\ttotal: 495ms\tremaining: 0us\n",
      "Learning rate set to 0.055928\n",
      "0:\tlearn: 0.2794200\ttotal: 1.38ms\tremaining: 985ms\n"
     ]
    },
    {
     "name": "stderr",
     "output_type": "stream",
     "text": [
      "Best trial: 53. Best value: 0.393419:  89%|██████████████████████▎  | 89/100 [07:44<00:34,  3.16s/it, 464.72/1200 seconds]"
     ]
    },
    {
     "name": "stdout",
     "output_type": "stream",
     "text": [
      "500:\tlearn: 0.1906030\ttotal: 357ms\tremaining: 152ms\n",
      "713:\tlearn: 0.1682027\ttotal: 504ms\tremaining: 0us\n",
      "[I 2024-04-14 22:41:55,186] Trial 88 finished with value: 0.2832928496323196 and parameters: {'loss_function': 'RMSE', 'depth': 4, 'iterations': 714, 'min_data_in_leaf': 75, 'random_strength': 6.950336971007854}. Best is trial 53 with value: 0.3934193594275624.\n",
      "Learning rate set to 0.035856\n",
      "0:\tlearn: 0.2154721\ttotal: 651us\tremaining: 552ms\n",
      "500:\tlearn: 0.0944626\ttotal: 221ms\tremaining: 154ms\n",
      "848:\tlearn: 0.0559485\ttotal: 401ms\tremaining: 0us\n",
      "Learning rate set to 0.03992\n",
      "0:\tlearn: 0.2314156\ttotal: 626us\tremaining: 532ms\n",
      "500:\tlearn: 0.1289753\ttotal: 288ms\tremaining: 200ms\n",
      "848:\tlearn: 0.0869170\ttotal: 486ms\tremaining: 0us\n",
      "Learning rate set to 0.042531\n",
      "0:\tlearn: 0.2602533\ttotal: 1.27ms\tremaining: 1.08s\n",
      "500:\tlearn: 0.1496017\ttotal: 311ms\tremaining: 216ms\n",
      "848:\tlearn: 0.1058258\ttotal: 519ms\tremaining: 0us\n",
      "Learning rate set to 0.044493\n",
      "0:\tlearn: 0.2636734\ttotal: 777us\tremaining: 660ms\n",
      "500:\tlearn: 0.1716748\ttotal: 302ms\tremaining: 210ms\n",
      "848:\tlearn: 0.1365842\ttotal: 512ms\tremaining: 0us\n",
      "Learning rate set to 0.046079\n",
      "0:\tlearn: 0.2830535\ttotal: 711us\tremaining: 603ms\n",
      "500:\tlearn: 0.1923396\ttotal: 328ms\tremaining: 228ms\n",
      "848:\tlearn: 0.1572462\ttotal: 560ms\tremaining: 0us\n",
      "Learning rate set to 0.047419\n",
      "0:\tlearn: 0.2842916\ttotal: 1.59ms\tremaining: 1.35s\n",
      "500:\tlearn: 0.1918559\ttotal: 332ms\tremaining: 231ms\n",
      "848:\tlearn: 0.1583959\ttotal: 567ms\tremaining: 0us\n",
      "Learning rate set to 0.048583\n",
      "0:\tlearn: 0.2794113\ttotal: 1.48ms\tremaining: 1.25s\n",
      "500:\tlearn: 0.1924628\ttotal: 340ms\tremaining: 236ms\n"
     ]
    },
    {
     "name": "stderr",
     "output_type": "stream",
     "text": [
      "Best trial: 53. Best value: 0.393419:  90%|██████████████████████▌  | 90/100 [07:48<00:33,  3.38s/it, 468.62/1200 seconds]"
     ]
    },
    {
     "name": "stdout",
     "output_type": "stream",
     "text": [
      "848:\tlearn: 0.1611790\ttotal: 593ms\tremaining: 0us\n",
      "[I 2024-04-14 22:41:59,086] Trial 89 finished with value: 0.26103311597992 and parameters: {'loss_function': 'RMSE', 'depth': 4, 'iterations': 849, 'min_data_in_leaf': 78, 'random_strength': 2.8447892662590286}. Best is trial 53 with value: 0.3934193594275624.\n",
      "Learning rate set to 0.024072\n",
      "0:\tlearn: 0.2157092\ttotal: 1.77ms\tremaining: 2.45s\n",
      "500:\tlearn: 0.1225461\ttotal: 222ms\tremaining: 393ms\n",
      "1000:\tlearn: 0.0691001\ttotal: 454ms\tremaining: 175ms\n",
      "1385:\tlearn: 0.0466637\ttotal: 635ms\tremaining: 0us\n",
      "Learning rate set to 0.026801\n",
      "0:\tlearn: 0.2318831\ttotal: 592us\tremaining: 821ms\n",
      "500:\tlearn: 0.1514535\ttotal: 269ms\tremaining: 476ms\n",
      "1000:\tlearn: 0.1029758\ttotal: 540ms\tremaining: 208ms\n",
      "1385:\tlearn: 0.0778433\ttotal: 745ms\tremaining: 0us\n",
      "Learning rate set to 0.028553\n",
      "0:\tlearn: 0.2603903\ttotal: 766us\tremaining: 1.06s\n",
      "500:\tlearn: 0.1739581\ttotal: 286ms\tremaining: 504ms\n",
      "1000:\tlearn: 0.1251489\ttotal: 571ms\tremaining: 220ms\n",
      "1385:\tlearn: 0.0990395\ttotal: 796ms\tremaining: 0us\n",
      "Learning rate set to 0.02987\n",
      "0:\tlearn: 0.2637571\ttotal: 755us\tremaining: 1.05s\n",
      "500:\tlearn: 0.1922986\ttotal: 292ms\tremaining: 516ms\n",
      "1000:\tlearn: 0.1502703\ttotal: 601ms\tremaining: 231ms\n",
      "1385:\tlearn: 0.1278158\ttotal: 835ms\tremaining: 0us\n",
      "Learning rate set to 0.030935\n",
      "0:\tlearn: 0.2832875\ttotal: 1.28ms\tremaining: 1.77s\n",
      "500:\tlearn: 0.2081927\ttotal: 308ms\tremaining: 545ms\n",
      "1000:\tlearn: 0.1693224\ttotal: 619ms\tremaining: 238ms\n",
      "1385:\tlearn: 0.1468421\ttotal: 865ms\tremaining: 0us\n",
      "Learning rate set to 0.031835\n",
      "0:\tlearn: 0.2845648\ttotal: 1.28ms\tremaining: 1.78s\n",
      "500:\tlearn: 0.2113490\ttotal: 322ms\tremaining: 569ms\n",
      "1000:\tlearn: 0.1754453\ttotal: 644ms\tremaining: 248ms\n",
      "1385:\tlearn: 0.1542985\ttotal: 893ms\tremaining: 0us\n",
      "Learning rate set to 0.032616\n",
      "0:\tlearn: 0.2796752\ttotal: 716us\tremaining: 993ms\n",
      "500:\tlearn: 0.2126651\ttotal: 361ms\tremaining: 638ms\n",
      "1000:\tlearn: 0.1764622\ttotal: 733ms\tremaining: 282ms\n"
     ]
    },
    {
     "name": "stderr",
     "output_type": "stream",
     "text": [
      "Best trial: 53. Best value: 0.393419:  91%|██████████████████████▊  | 91/100 [07:54<00:37,  4.21s/it, 474.76/1200 seconds]"
     ]
    },
    {
     "name": "stdout",
     "output_type": "stream",
     "text": [
      "1385:\tlearn: 0.1559858\ttotal: 1.01s\tremaining: 0us\n",
      "[I 2024-04-14 22:42:05,227] Trial 90 finished with value: 0.3399600533543 and parameters: {'loss_function': 'RMSE', 'depth': 4, 'iterations': 1386, 'min_data_in_leaf': 72, 'random_strength': 1.9790155744407714}. Best is trial 53 with value: 0.3934193594275624.\n",
      "Learning rate set to 0.023711\n",
      "0:\tlearn: 0.2157156\ttotal: 1.17ms\tremaining: 1.65s\n",
      "500:\tlearn: 0.1260035\ttotal: 233ms\tremaining: 423ms\n",
      "1000:\tlearn: 0.0703190\ttotal: 458ms\tremaining: 188ms\n",
      "1411:\tlearn: 0.0447334\ttotal: 650ms\tremaining: 0us\n",
      "Learning rate set to 0.026399\n",
      "0:\tlearn: 0.2318860\ttotal: 691us\tremaining: 976ms\n",
      "500:\tlearn: 0.1593813\ttotal: 258ms\tremaining: 469ms\n",
      "1000:\tlearn: 0.1082270\ttotal: 524ms\tremaining: 215ms\n",
      "1411:\tlearn: 0.0815132\ttotal: 746ms\tremaining: 0us\n",
      "Learning rate set to 0.028125\n",
      "0:\tlearn: 0.2603960\ttotal: 739us\tremaining: 1.04s\n",
      "500:\tlearn: 0.1778695\ttotal: 283ms\tremaining: 514ms\n",
      "1000:\tlearn: 0.1244879\ttotal: 569ms\tremaining: 234ms\n",
      "1411:\tlearn: 0.0966692\ttotal: 807ms\tremaining: 0us\n",
      "Learning rate set to 0.029422\n",
      "0:\tlearn: 0.2637604\ttotal: 691us\tremaining: 976ms\n",
      "500:\tlearn: 0.1950694\ttotal: 290ms\tremaining: 528ms\n",
      "1000:\tlearn: 0.1540975\ttotal: 591ms\tremaining: 243ms\n",
      "1411:\tlearn: 0.1306708\ttotal: 839ms\tremaining: 0us\n",
      "Learning rate set to 0.030471\n",
      "0:\tlearn: 0.2832947\ttotal: 640us\tremaining: 904ms\n",
      "500:\tlearn: 0.2112517\ttotal: 316ms\tremaining: 575ms\n",
      "1000:\tlearn: 0.1719400\ttotal: 693ms\tremaining: 285ms\n",
      "1411:\tlearn: 0.1477727\ttotal: 956ms\tremaining: 0us\n",
      "Learning rate set to 0.031357\n",
      "0:\tlearn: 0.2845733\ttotal: 754us\tremaining: 1.06s\n",
      "500:\tlearn: 0.2130684\ttotal: 334ms\tremaining: 608ms\n",
      "1000:\tlearn: 0.1768655\ttotal: 659ms\tremaining: 271ms\n",
      "1411:\tlearn: 0.1551299\ttotal: 931ms\tremaining: 0us\n",
      "Learning rate set to 0.032127\n",
      "0:\tlearn: 0.2796833\ttotal: 760us\tremaining: 1.07s\n",
      "500:\tlearn: 0.2132097\ttotal: 331ms\tremaining: 602ms\n",
      "1000:\tlearn: 0.1782886\ttotal: 680ms\tremaining: 279ms\n"
     ]
    },
    {
     "name": "stderr",
     "output_type": "stream",
     "text": [
      "Best trial: 53. Best value: 0.393419:  92%|███████████████████████  | 92/100 [08:01<00:38,  4.82s/it, 481.01/1200 seconds]"
     ]
    },
    {
     "name": "stdout",
     "output_type": "stream",
     "text": [
      "1411:\tlearn: 0.1579375\ttotal: 967ms\tremaining: 0us\n",
      "[I 2024-04-14 22:42:11,475] Trial 91 finished with value: 0.1913595952567805 and parameters: {'loss_function': 'RMSE', 'depth': 4, 'iterations': 1412, 'min_data_in_leaf': 83, 'random_strength': 2.204694761090837}. Best is trial 53 with value: 0.3934193594275624.\n",
      "Learning rate set to 0.024243\n",
      "0:\tlearn: 0.2157062\ttotal: 1.23ms\tremaining: 1.68s\n",
      "500:\tlearn: 0.1228937\ttotal: 220ms\tremaining: 383ms\n",
      "1000:\tlearn: 0.0685756\ttotal: 453ms\tremaining: 169ms\n",
      "1373:\tlearn: 0.0461868\ttotal: 625ms\tremaining: 0us\n",
      "Learning rate set to 0.026991\n",
      "0:\tlearn: 0.2318818\ttotal: 556us\tremaining: 764ms\n",
      "500:\tlearn: 0.1568315\ttotal: 265ms\tremaining: 462ms\n",
      "1000:\tlearn: 0.1044282\ttotal: 537ms\tremaining: 200ms\n",
      "1373:\tlearn: 0.0784527\ttotal: 736ms\tremaining: 0us\n",
      "Learning rate set to 0.028756\n",
      "0:\tlearn: 0.2603876\ttotal: 1.29ms\tremaining: 1.78s\n",
      "500:\tlearn: 0.1733843\ttotal: 284ms\tremaining: 495ms\n",
      "1000:\tlearn: 0.1220946\ttotal: 575ms\tremaining: 214ms\n",
      "1373:\tlearn: 0.0977974\ttotal: 787ms\tremaining: 0us\n",
      "Learning rate set to 0.030082\n",
      "0:\tlearn: 0.2637555\ttotal: 827us\tremaining: 1.14s\n",
      "500:\tlearn: 0.1924443\ttotal: 301ms\tremaining: 524ms\n",
      "1000:\tlearn: 0.1505113\ttotal: 599ms\tremaining: 223ms\n",
      "1373:\tlearn: 0.1270517\ttotal: 834ms\tremaining: 0us\n",
      "Learning rate set to 0.031155\n",
      "0:\tlearn: 0.2832841\ttotal: 1.26ms\tremaining: 1.73s\n",
      "500:\tlearn: 0.2086496\ttotal: 326ms\tremaining: 568ms\n",
      "1000:\tlearn: 0.1703522\ttotal: 640ms\tremaining: 239ms\n",
      "1373:\tlearn: 0.1465848\ttotal: 883ms\tremaining: 0us\n",
      "Learning rate set to 0.032061\n",
      "0:\tlearn: 0.2845608\ttotal: 734us\tremaining: 1.01s\n",
      "500:\tlearn: 0.2119396\ttotal: 331ms\tremaining: 577ms\n",
      "1000:\tlearn: 0.1754274\ttotal: 656ms\tremaining: 244ms\n",
      "1373:\tlearn: 0.1538310\ttotal: 899ms\tremaining: 0us\n",
      "Learning rate set to 0.032848\n",
      "0:\tlearn: 0.2796713\ttotal: 1.22ms\tremaining: 1.67s\n",
      "500:\tlearn: 0.2101846\ttotal: 340ms\tremaining: 592ms\n",
      "1000:\tlearn: 0.1751842\ttotal: 684ms\tremaining: 255ms\n"
     ]
    },
    {
     "name": "stderr",
     "output_type": "stream",
     "text": [
      "Best trial: 53. Best value: 0.393419:  93%|███████████████████████▎ | 93/100 [08:07<00:36,  5.19s/it, 487.06/1200 seconds]"
     ]
    },
    {
     "name": "stdout",
     "output_type": "stream",
     "text": [
      "1373:\tlearn: 0.1571704\ttotal: 939ms\tremaining: 0us\n",
      "[I 2024-04-14 22:42:17,521] Trial 92 finished with value: 0.24578144116716244 and parameters: {'loss_function': 'RMSE', 'depth': 4, 'iterations': 1374, 'min_data_in_leaf': 72, 'random_strength': 1.9762431866973917}. Best is trial 53 with value: 0.3934193594275624.\n",
      "Learning rate set to 0.025697\n",
      "0:\tlearn: 0.2156660\ttotal: 725us\tremaining: 927ms\n",
      "500:\tlearn: 0.1171286\ttotal: 217ms\tremaining: 337ms\n",
      "1000:\tlearn: 0.0640934\ttotal: 441ms\tremaining: 122ms\n",
      "1278:\tlearn: 0.0475407\ttotal: 573ms\tremaining: 0us\n",
      "Learning rate set to 0.02861\n",
      "0:\tlearn: 0.2318702\ttotal: 1.29ms\tremaining: 1.65s\n",
      "500:\tlearn: 0.1490142\ttotal: 270ms\tremaining: 419ms\n",
      "1000:\tlearn: 0.1003189\ttotal: 540ms\tremaining: 150ms\n",
      "1278:\tlearn: 0.0794387\ttotal: 687ms\tremaining: 0us\n",
      "Learning rate set to 0.03048\n",
      "0:\tlearn: 0.2603645\ttotal: 687us\tremaining: 878ms\n",
      "500:\tlearn: 0.1705518\ttotal: 285ms\tremaining: 442ms\n",
      "1000:\tlearn: 0.1209762\ttotal: 567ms\tremaining: 158ms\n",
      "1278:\tlearn: 0.1014368\ttotal: 726ms\tremaining: 0us\n",
      "Learning rate set to 0.031886\n",
      "0:\tlearn: 0.2637420\ttotal: 771us\tremaining: 985ms\n",
      "500:\tlearn: 0.1887313\ttotal: 301ms\tremaining: 467ms\n",
      "1000:\tlearn: 0.1465053\ttotal: 607ms\tremaining: 169ms\n",
      "1278:\tlearn: 0.1282528\ttotal: 778ms\tremaining: 0us\n",
      "Learning rate set to 0.033023\n",
      "0:\tlearn: 0.2832551\ttotal: 1.18ms\tremaining: 1.5s\n",
      "500:\tlearn: 0.2040156\ttotal: 310ms\tremaining: 482ms\n",
      "1000:\tlearn: 0.1631447\ttotal: 640ms\tremaining: 178ms\n",
      "1278:\tlearn: 0.1453532\ttotal: 821ms\tremaining: 0us\n",
      "Learning rate set to 0.033984\n",
      "0:\tlearn: 0.2843226\ttotal: 699us\tremaining: 895ms\n",
      "500:\tlearn: 0.2064165\ttotal: 331ms\tremaining: 514ms\n",
      "1000:\tlearn: 0.1693147\ttotal: 798ms\tremaining: 222ms\n",
      "1278:\tlearn: 0.1524266\ttotal: 981ms\tremaining: 0us\n",
      "Learning rate set to 0.034818\n",
      "0:\tlearn: 0.2794277\ttotal: 1.49ms\tremaining: 1.9s\n",
      "500:\tlearn: 0.2056985\ttotal: 352ms\tremaining: 547ms\n",
      "1000:\tlearn: 0.1710737\ttotal: 694ms\tremaining: 193ms\n",
      "1278:\tlearn: 0.1563102\ttotal: 884ms\tremaining: 0us\n"
     ]
    },
    {
     "name": "stderr",
     "output_type": "stream",
     "text": [
      "Best trial: 53. Best value: 0.393419:  94%|███████████████████████▌ | 94/100 [08:12<00:32,  5.37s/it, 492.84/1200 seconds]"
     ]
    },
    {
     "name": "stdout",
     "output_type": "stream",
     "text": [
      "[I 2024-04-14 22:42:23,305] Trial 93 finished with value: 0.14934305973457057 and parameters: {'loss_function': 'RMSE', 'depth': 4, 'iterations': 1279, 'min_data_in_leaf': 81, 'random_strength': 1.5110348386585768}. Best is trial 53 with value: 0.3934193594275624.\n",
      "Learning rate set to 0.044832\n",
      "0:\tlearn: 0.2152443\ttotal: 1.35ms\tremaining: 869ms\n",
      "500:\tlearn: 0.0762477\ttotal: 229ms\tremaining: 65.8ms\n",
      "644:\tlearn: 0.0584950\ttotal: 292ms\tremaining: 0us\n",
      "Learning rate set to 0.049914\n",
      "0:\tlearn: 0.2312532\ttotal: 517us\tremaining: 333ms\n",
      "500:\tlearn: 0.1122001\ttotal: 261ms\tremaining: 75.1ms\n",
      "644:\tlearn: 0.0929084\ttotal: 339ms\tremaining: 0us\n",
      "Learning rate set to 0.053178\n",
      "0:\tlearn: 0.2601253\ttotal: 579us\tremaining: 373ms\n",
      "500:\tlearn: 0.1343014\ttotal: 286ms\tremaining: 82.3ms\n",
      "644:\tlearn: 0.1129122\ttotal: 371ms\tremaining: 0us\n",
      "Learning rate set to 0.055631\n",
      "0:\tlearn: 0.2635977\ttotal: 710us\tremaining: 457ms\n",
      "500:\tlearn: 0.1574489\ttotal: 300ms\tremaining: 86.2ms\n",
      "644:\tlearn: 0.1381911\ttotal: 388ms\tremaining: 0us\n",
      "Learning rate set to 0.057615\n",
      "0:\tlearn: 0.2828764\ttotal: 598us\tremaining: 386ms\n",
      "500:\tlearn: 0.1754205\ttotal: 319ms\tremaining: 91.6ms\n",
      "644:\tlearn: 0.1578647\ttotal: 413ms\tremaining: 0us\n",
      "Learning rate set to 0.05929\n",
      "0:\tlearn: 0.2840861\ttotal: 772us\tremaining: 497ms\n",
      "500:\tlearn: 0.1787727\ttotal: 333ms\tremaining: 95.7ms\n",
      "644:\tlearn: 0.1643512\ttotal: 429ms\tremaining: 0us\n",
      "Learning rate set to 0.060746\n",
      "0:\tlearn: 0.2792129\ttotal: 656us\tremaining: 423ms\n"
     ]
    },
    {
     "name": "stderr",
     "output_type": "stream",
     "text": [
      "Best trial: 53. Best value: 0.393419:  95%|███████████████████████▊ | 95/100 [08:15<00:23,  4.62s/it, 495.73/1200 seconds]"
     ]
    },
    {
     "name": "stdout",
     "output_type": "stream",
     "text": [
      "500:\tlearn: 0.1799822\ttotal: 341ms\tremaining: 98ms\n",
      "644:\tlearn: 0.1645048\ttotal: 442ms\tremaining: 0us\n",
      "[I 2024-04-14 22:42:26,188] Trial 94 finished with value: 0.2623055093921129 and parameters: {'loss_function': 'RMSE', 'depth': 4, 'iterations': 645, 'min_data_in_leaf': 68, 'random_strength': 2.6490169320117745}. Best is trial 53 with value: 0.3934193594275624.\n",
      "Learning rate set to 0.039702\n",
      "0:\tlearn: 0.2153458\ttotal: 588us\tremaining: 440ms\n",
      "500:\tlearn: 0.0842297\ttotal: 231ms\tremaining: 114ms\n",
      "748:\tlearn: 0.0554071\ttotal: 345ms\tremaining: 0us\n",
      "Learning rate set to 0.044202\n",
      "0:\tlearn: 0.2313459\ttotal: 549us\tremaining: 411ms\n",
      "500:\tlearn: 0.1214185\ttotal: 267ms\tremaining: 132ms\n",
      "748:\tlearn: 0.0918938\ttotal: 405ms\tremaining: 0us\n",
      "Learning rate set to 0.047093\n",
      "0:\tlearn: 0.2601443\ttotal: 586us\tremaining: 439ms\n",
      "500:\tlearn: 0.1406564\ttotal: 286ms\tremaining: 142ms\n",
      "748:\tlearn: 0.1089630\ttotal: 429ms\tremaining: 0us\n",
      "Learning rate set to 0.049265\n",
      "0:\tlearn: 0.2636409\ttotal: 805us\tremaining: 602ms\n",
      "500:\tlearn: 0.1655207\ttotal: 306ms\tremaining: 151ms\n",
      "748:\tlearn: 0.1386599\ttotal: 455ms\tremaining: 0us\n",
      "Learning rate set to 0.051022\n",
      "0:\tlearn: 0.2829775\ttotal: 608us\tremaining: 455ms\n",
      "500:\tlearn: 0.1831841\ttotal: 312ms\tremaining: 155ms\n",
      "748:\tlearn: 0.1526791\ttotal: 472ms\tremaining: 0us\n",
      "Learning rate set to 0.052505\n",
      "0:\tlearn: 0.2842033\ttotal: 1.42ms\tremaining: 1.06s\n",
      "500:\tlearn: 0.1878231\ttotal: 332ms\tremaining: 164ms\n",
      "748:\tlearn: 0.1616498\ttotal: 489ms\tremaining: 0us\n",
      "Learning rate set to 0.053794\n",
      "0:\tlearn: 0.2793260\ttotal: 751us\tremaining: 562ms\n"
     ]
    },
    {
     "name": "stderr",
     "output_type": "stream",
     "text": [
      "Best trial: 53. Best value: 0.393419:  96%|████████████████████████ | 96/100 [08:19<00:16,  4.23s/it, 499.04/1200 seconds]"
     ]
    },
    {
     "name": "stdout",
     "output_type": "stream",
     "text": [
      "500:\tlearn: 0.1892801\ttotal: 340ms\tremaining: 168ms\n",
      "748:\tlearn: 0.1657128\ttotal: 510ms\tremaining: 0us\n",
      "[I 2024-04-14 22:42:29,498] Trial 95 finished with value: 0.2494996467791321 and parameters: {'loss_function': 'RMSE', 'depth': 4, 'iterations': 749, 'min_data_in_leaf': 77, 'random_strength': 2.538841900748441}. Best is trial 53 with value: 0.3934193594275624.\n",
      "Learning rate set to 0.023283\n",
      "0:\tlearn: 0.2157232\ttotal: 1.86ms\tremaining: 2.69s\n",
      "500:\tlearn: 0.1225472\ttotal: 225ms\tremaining: 424ms\n",
      "1000:\tlearn: 0.0710250\ttotal: 455ms\tremaining: 201ms\n",
      "1443:\tlearn: 0.0458495\ttotal: 664ms\tremaining: 0us\n",
      "Learning rate set to 0.025922\n",
      "0:\tlearn: 0.2318894\ttotal: 701us\tremaining: 1.01s\n",
      "500:\tlearn: 0.1571651\ttotal: 258ms\tremaining: 485ms\n",
      "1000:\tlearn: 0.1083651\ttotal: 538ms\tremaining: 238ms\n",
      "1443:\tlearn: 0.0782638\ttotal: 780ms\tremaining: 0us\n",
      "Learning rate set to 0.027617\n",
      "0:\tlearn: 0.2604028\ttotal: 748us\tremaining: 1.08s\n",
      "500:\tlearn: 0.1772626\ttotal: 281ms\tremaining: 528ms\n",
      "1000:\tlearn: 0.1272795\ttotal: 574ms\tremaining: 254ms\n",
      "1443:\tlearn: 0.0996771\ttotal: 828ms\tremaining: 0us\n",
      "Learning rate set to 0.028891\n",
      "0:\tlearn: 0.2637644\ttotal: 1.38ms\tremaining: 1.99s\n",
      "500:\tlearn: 0.1911712\ttotal: 293ms\tremaining: 552ms\n",
      "1000:\tlearn: 0.1521640\ttotal: 598ms\tremaining: 265ms\n",
      "1443:\tlearn: 0.1263033\ttotal: 861ms\tremaining: 0us\n",
      "Learning rate set to 0.029921\n",
      "0:\tlearn: 0.2833032\ttotal: 1.27ms\tremaining: 1.83s\n",
      "500:\tlearn: 0.2111425\ttotal: 305ms\tremaining: 573ms\n",
      "1000:\tlearn: 0.1725744\ttotal: 625ms\tremaining: 277ms\n",
      "1443:\tlearn: 0.1466194\ttotal: 910ms\tremaining: 0us\n",
      "Learning rate set to 0.030791\n",
      "0:\tlearn: 0.2843979\ttotal: 1.26ms\tremaining: 1.82s\n",
      "500:\tlearn: 0.2119611\ttotal: 323ms\tremaining: 609ms\n",
      "1000:\tlearn: 0.1768340\ttotal: 652ms\tremaining: 288ms\n",
      "1443:\tlearn: 0.1532018\ttotal: 943ms\tremaining: 0us\n",
      "Learning rate set to 0.031547\n",
      "0:\tlearn: 0.2796930\ttotal: 1.41ms\tremaining: 2.03s\n",
      "500:\tlearn: 0.2126510\ttotal: 341ms\tremaining: 643ms\n",
      "1000:\tlearn: 0.1775010\ttotal: 683ms\tremaining: 302ms\n"
     ]
    },
    {
     "name": "stderr",
     "output_type": "stream",
     "text": [
      "Best trial: 53. Best value: 0.393419:  97%|████████████████████████▎| 97/100 [08:25<00:14,  4.86s/it, 505.35/1200 seconds]"
     ]
    },
    {
     "name": "stdout",
     "output_type": "stream",
     "text": [
      "1443:\tlearn: 0.1555403\ttotal: 982ms\tremaining: 0us\n",
      "[I 2024-04-14 22:42:35,815] Trial 96 finished with value: 0.22918970393112717 and parameters: {'loss_function': 'RMSE', 'depth': 4, 'iterations': 1444, 'min_data_in_leaf': 74, 'random_strength': 1.8388622202181093}. Best is trial 53 with value: 0.3934193594275624.\n",
      "0:\tlearn: 0.1121417\ttotal: 675us\tremaining: 929ms\n",
      "500:\tlearn: 0.0644518\ttotal: 245ms\tremaining: 427ms\n",
      "1000:\tlearn: 0.0493157\ttotal: 494ms\tremaining: 185ms\n",
      "1375:\tlearn: 0.0407161\ttotal: 687ms\tremaining: 0us\n",
      "0:\tlearn: 0.1275863\ttotal: 628us\tremaining: 864ms\n",
      "500:\tlearn: 0.0856426\ttotal: 283ms\tremaining: 495ms\n",
      "1000:\tlearn: 0.0680364\ttotal: 577ms\tremaining: 216ms\n",
      "1375:\tlearn: 0.0592065\ttotal: 811ms\tremaining: 0us\n",
      "0:\tlearn: 0.1383248\ttotal: 655us\tremaining: 901ms\n",
      "500:\tlearn: 0.1029399\ttotal: 297ms\tremaining: 518ms\n",
      "1000:\tlearn: 0.0836753\ttotal: 606ms\tremaining: 227ms\n",
      "1375:\tlearn: 0.0752974\ttotal: 845ms\tremaining: 0us\n",
      "0:\tlearn: 0.1441874\ttotal: 710us\tremaining: 976ms\n",
      "500:\tlearn: 0.1159396\ttotal: 320ms\tremaining: 558ms\n",
      "1000:\tlearn: 0.0996256\ttotal: 665ms\tremaining: 249ms\n",
      "1375:\tlearn: 0.0908316\ttotal: 919ms\tremaining: 0us\n",
      "0:\tlearn: 0.1600342\ttotal: 755us\tremaining: 1.04s\n",
      "500:\tlearn: 0.1265071\ttotal: 337ms\tremaining: 589ms\n",
      "1000:\tlearn: 0.1101109\ttotal: 693ms\tremaining: 259ms\n",
      "1375:\tlearn: 0.1010907\ttotal: 954ms\tremaining: 0us\n",
      "0:\tlearn: 0.1634664\ttotal: 1.55ms\tremaining: 2.13s\n",
      "500:\tlearn: 0.1313320\ttotal: 348ms\tremaining: 609ms\n",
      "1000:\tlearn: 0.1163247\ttotal: 706ms\tremaining: 265ms\n",
      "1375:\tlearn: 0.1086012\ttotal: 980ms\tremaining: 0us\n",
      "0:\tlearn: 0.1618873\ttotal: 1.55ms\tremaining: 2.13s\n",
      "500:\tlearn: 0.1322838\ttotal: 370ms\tremaining: 646ms\n",
      "1000:\tlearn: 0.1178327\ttotal: 756ms\tremaining: 283ms\n"
     ]
    },
    {
     "name": "stderr",
     "output_type": "stream",
     "text": [
      "Best trial: 53. Best value: 0.393419:  98%|████████████████████████▌| 98/100 [08:31<00:10,  5.38s/it, 511.97/1200 seconds]"
     ]
    },
    {
     "name": "stdout",
     "output_type": "stream",
     "text": [
      "1375:\tlearn: 0.1108991\ttotal: 1.07s\tremaining: 0us\n",
      "[I 2024-04-14 22:42:42,433] Trial 97 finished with value: 0.0011060855213732648 and parameters: {'loss_function': 'MAE', 'depth': 4, 'iterations': 1376, 'min_data_in_leaf': 88, 'random_strength': 2.937189699296083}. Best is trial 53 with value: 0.3934193594275624.\n",
      "Learning rate set to 0.022973\n",
      "0:\tlearn: 0.2157288\ttotal: 677us\tremaining: 994ms\n",
      "500:\tlearn: 0.1266921\ttotal: 221ms\tremaining: 426ms\n",
      "1000:\tlearn: 0.0750739\ttotal: 438ms\tremaining: 204ms\n",
      "1467:\tlearn: 0.0465052\ttotal: 645ms\tremaining: 0us\n",
      "Learning rate set to 0.025577\n",
      "0:\tlearn: 0.2318918\ttotal: 630us\tremaining: 925ms\n",
      "500:\tlearn: 0.1565171\ttotal: 268ms\tremaining: 517ms\n",
      "1000:\tlearn: 0.1080296\ttotal: 550ms\tremaining: 257ms\n",
      "1467:\tlearn: 0.0770031\ttotal: 826ms\tremaining: 0us\n",
      "Learning rate set to 0.02725\n",
      "0:\tlearn: 0.2604077\ttotal: 664us\tremaining: 974ms\n",
      "500:\tlearn: 0.1769808\ttotal: 347ms\tremaining: 670ms\n",
      "1000:\tlearn: 0.1285786\ttotal: 650ms\tremaining: 303ms\n",
      "1467:\tlearn: 0.1005759\ttotal: 920ms\tremaining: 0us\n",
      "Learning rate set to 0.028506\n",
      "0:\tlearn: 0.2637673\ttotal: 771us\tremaining: 1.13s\n",
      "500:\tlearn: 0.1952071\ttotal: 301ms\tremaining: 582ms\n",
      "1000:\tlearn: 0.1545611\ttotal: 610ms\tremaining: 285ms\n",
      "1467:\tlearn: 0.1268855\ttotal: 900ms\tremaining: 0us\n",
      "Learning rate set to 0.029523\n",
      "0:\tlearn: 0.2833094\ttotal: 617us\tremaining: 906ms\n",
      "500:\tlearn: 0.2124272\ttotal: 320ms\tremaining: 617ms\n",
      "1000:\tlearn: 0.1725529\ttotal: 632ms\tremaining: 295ms\n",
      "1467:\tlearn: 0.1466075\ttotal: 920ms\tremaining: 0us\n",
      "Learning rate set to 0.030381\n",
      "0:\tlearn: 0.2845905\ttotal: 1.36ms\tremaining: 2s\n",
      "500:\tlearn: 0.2129006\ttotal: 322ms\tremaining: 622ms\n",
      "1000:\tlearn: 0.1757621\ttotal: 647ms\tremaining: 302ms\n",
      "1467:\tlearn: 0.1523178\ttotal: 948ms\tremaining: 0us\n",
      "Learning rate set to 0.031127\n",
      "0:\tlearn: 0.2797000\ttotal: 725us\tremaining: 1.06s\n",
      "500:\tlearn: 0.2139463\ttotal: 329ms\tremaining: 635ms\n",
      "1000:\tlearn: 0.1787548\ttotal: 671ms\tremaining: 313ms\n"
     ]
    },
    {
     "name": "stderr",
     "output_type": "stream",
     "text": [
      "Best trial: 53. Best value: 0.393419:  99%|████████████████████████▊| 99/100 [08:38<00:05,  5.72s/it, 518.48/1200 seconds]"
     ]
    },
    {
     "name": "stdout",
     "output_type": "stream",
     "text": [
      "1467:\tlearn: 0.1558930\ttotal: 987ms\tremaining: 0us\n",
      "[I 2024-04-14 22:42:48,944] Trial 98 finished with value: 0.20966425163487792 and parameters: {'loss_function': 'RMSE', 'depth': 4, 'iterations': 1468, 'min_data_in_leaf': 62, 'random_strength': 2.0635852536632844}. Best is trial 53 with value: 0.3934193594275624.\n",
      "Learning rate set to 0.031236\n",
      "0:\tlearn: 0.2155820\ttotal: 610us\tremaining: 614ms\n",
      "500:\tlearn: 0.1011976\ttotal: 221ms\tremaining: 223ms\n",
      "1000:\tlearn: 0.0511592\ttotal: 453ms\tremaining: 2.26ms\n",
      "1005:\tlearn: 0.0507868\ttotal: 456ms\tremaining: 0us\n",
      "Learning rate set to 0.034776\n",
      "0:\tlearn: 0.2318263\ttotal: 598us\tremaining: 601ms\n",
      "500:\tlearn: 0.1390490\ttotal: 269ms\tremaining: 271ms\n",
      "1000:\tlearn: 0.0874004\ttotal: 534ms\tremaining: 2.67ms\n",
      "1005:\tlearn: 0.0870836\ttotal: 536ms\tremaining: 0us\n",
      "Learning rate set to 0.037051\n",
      "0:\tlearn: 0.2602770\ttotal: 619us\tremaining: 623ms\n",
      "500:\tlearn: 0.1586197\ttotal: 298ms\tremaining: 300ms\n",
      "1000:\tlearn: 0.1088609\ttotal: 594ms\tremaining: 2.97ms\n",
      "1005:\tlearn: 0.1085094\ttotal: 597ms\tremaining: 0us\n",
      "Learning rate set to 0.03876\n",
      "0:\tlearn: 0.2634556\ttotal: 715us\tremaining: 719ms\n",
      "500:\tlearn: 0.1804467\ttotal: 291ms\tremaining: 293ms\n",
      "1000:\tlearn: 0.1347145\ttotal: 600ms\tremaining: 3ms\n",
      "1005:\tlearn: 0.1345308\ttotal: 604ms\tremaining: 0us\n",
      "Learning rate set to 0.040142\n",
      "0:\tlearn: 0.2831450\ttotal: 809us\tremaining: 813ms\n",
      "500:\tlearn: 0.1953286\ttotal: 305ms\tremaining: 308ms\n",
      "1000:\tlearn: 0.1509188\ttotal: 619ms\tremaining: 3.09ms\n",
      "1005:\tlearn: 0.1505926\ttotal: 622ms\tremaining: 0us\n",
      "Learning rate set to 0.041309\n",
      "0:\tlearn: 0.2843982\ttotal: 1.54ms\tremaining: 1.54s\n",
      "500:\tlearn: 0.1990643\ttotal: 328ms\tremaining: 330ms\n",
      "1000:\tlearn: 0.1574419\ttotal: 656ms\tremaining: 3.27ms\n",
      "1005:\tlearn: 0.1571539\ttotal: 659ms\tremaining: 0us\n",
      "Learning rate set to 0.042323\n",
      "0:\tlearn: 0.2795143\ttotal: 709us\tremaining: 713ms\n",
      "500:\tlearn: 0.2003228\ttotal: 332ms\tremaining: 335ms\n"
     ]
    },
    {
     "name": "stderr",
     "output_type": "stream",
     "text": [
      "Best trial: 53. Best value: 0.393419: 100%|████████████████████████| 100/100 [08:42<00:00,  5.23s/it, 522.90/1200 seconds]"
     ]
    },
    {
     "name": "stdout",
     "output_type": "stream",
     "text": [
      "1000:\tlearn: 0.1609279\ttotal: 669ms\tremaining: 3.34ms\n",
      "1005:\tlearn: 0.1606351\ttotal: 673ms\tremaining: 0us\n",
      "[I 2024-04-14 22:42:53,361] Trial 99 finished with value: 0.3534575347073223 and parameters: {'loss_function': 'RMSE', 'depth': 4, 'iterations': 1006, 'min_data_in_leaf': 95, 'random_strength': 2.375123673141643}. Best is trial 53 with value: 0.3934193594275624.\n"
     ]
    },
    {
     "name": "stderr",
     "output_type": "stream",
     "text": [
      "\n"
     ]
    }
   ],
   "source": [
    "# DataFrame с отобранными признаками\n",
    "X_train_opt, X_test_opt = X_train[lfc_features], X_test[lfc_features]\n",
    "study = optuna.create_study(direction='maximize')\n",
    "study.optimize(lambda trial: objective(trial, X_train_opt, y_train), n_trials=100, timeout=1200, show_progress_bar=True)"
   ]
  },
  {
   "cell_type": "code",
   "execution_count": 40,
   "id": "a57fe2ae-fd1d-4ec7-ae65-c1e95fa1c62e",
   "metadata": {},
   "outputs": [
    {
     "name": "stdout",
     "output_type": "stream",
     "text": [
      "Number of finished trials: 100\n",
      "Best trial:\n",
      "\tValue: 0.3934193594275624\n",
      "\tParams:\n",
      "\t\tloss_function: RMSE\n",
      "\t\tdepth: 4\n",
      "\t\titerations: 1460\n",
      "\t\tmin_data_in_leaf: 82\n",
      "\t\trandom_strength: 0.5023749544452265\n"
     ]
    }
   ],
   "source": [
    "print('Number of finished trials: {}'.format(len(study.trials)))\n",
    "\n",
    "print('Best trial:')\n",
    "trial = study.best_trial\n",
    "\n",
    "print('\\tValue: {}'.format(trial.value))\n",
    "\n",
    "print('\\tParams:')\n",
    "for key, value in trial.params.items():\n",
    "    print('\\t\\t{}: {}'.format(key, value))"
   ]
  },
  {
   "cell_type": "code",
   "execution_count": 41,
   "id": "8e7f175b-4e33-4e89-a1ca-88fb6d247231",
   "metadata": {},
   "outputs": [
    {
     "name": "stdout",
     "output_type": "stream",
     "text": [
      "Learning rate set to 0.03193\n",
      "0:\tlearn: 0.2755514\ttotal: 30.4ms\tremaining: 44.3s\n",
      "100:\tlearn: 0.2413884\ttotal: 104ms\tremaining: 1.4s\n",
      "200:\tlearn: 0.2306079\ttotal: 176ms\tremaining: 1.1s\n",
      "300:\tlearn: 0.2239481\ttotal: 247ms\tremaining: 950ms\n",
      "400:\tlearn: 0.2162041\ttotal: 315ms\tremaining: 833ms\n",
      "500:\tlearn: 0.2087819\ttotal: 380ms\tremaining: 727ms\n",
      "600:\tlearn: 0.2015938\ttotal: 450ms\tremaining: 644ms\n",
      "700:\tlearn: 0.1957900\ttotal: 518ms\tremaining: 561ms\n",
      "800:\tlearn: 0.1903583\ttotal: 588ms\tremaining: 484ms\n",
      "900:\tlearn: 0.1846558\ttotal: 661ms\tremaining: 410ms\n",
      "1000:\tlearn: 0.1795257\ttotal: 734ms\tremaining: 336ms\n",
      "1100:\tlearn: 0.1746193\ttotal: 803ms\tremaining: 262ms\n",
      "1200:\tlearn: 0.1699373\ttotal: 875ms\tremaining: 189ms\n",
      "1300:\tlearn: 0.1649262\ttotal: 947ms\tremaining: 116ms\n",
      "1400:\tlearn: 0.1605632\ttotal: 1.02s\tremaining: 42.9ms\n",
      "1459:\tlearn: 0.1579480\ttotal: 1.06s\tremaining: 0us\n"
     ]
    }
   ],
   "source": [
    "catboost_model = CatBoostRegressor(cat_features=['weekday', 'quarter'], random_state=777, **trial.params)\n",
    "catboost_model.fit(X_train_opt, y_train, verbose_eval=100);"
   ]
  },
  {
   "cell_type": "code",
   "execution_count": 43,
   "id": "dd1e952f-6da0-49fd-9091-2c6d28995c73",
   "metadata": {},
   "outputs": [
    {
     "name": "stdout",
     "output_type": "stream",
     "text": [
      "Train evaluation MAE: 0.10596311907376973\n",
      "Out of time evaluation MAE: 0.28012685811308186\n"
     ]
    }
   ],
   "source": [
    "train_predictions = pd.Series(catboost_model.predict(X_train_opt), X_train.index)\n",
    "test_predictions = pd.Series(catboost_model.predict(X_test_opt), X_test.index)\n",
    "print(f'Train evaluation MAE: {mean_absolute_error(y_train, train_predictions)}')\n",
    "print(f'Out of time evaluation MAE: {mean_absolute_error(y_test, test_predictions)}')"
   ]
  },
  {
   "cell_type": "code",
   "execution_count": 44,
   "id": "3ca1c0dc-a362-451c-8754-ff80aa8db221",
   "metadata": {},
   "outputs": [
    {
     "data": {
      "image/png": "[encoded data removed]",
      "text/plain": [
       "<Figure size 1200x400 with 1 Axes>"
      ]
     },
     "metadata": {},
     "output_type": "display_data"
    }
   ],
   "source": [
    "plt.figure(figsize=(12, 4))\n",
    "plt.plot(train_predictions, color='r', label='CatBoost predictions')\n",
    "plt.plot(test_predictions, color='r', linestyle='--', label='CatBoost forecast')\n",
    "plt.plot(y_train, label='Ground truth', alpha=0.5)\n",
    "plt.plot(y_test, color='b', label='Out-of-time', linestyle='--', alpha=0.5)\n",
    "forecast_start = y_test.index[0]\n",
    "forecast_end = y_test.index[-1]\n",
    "plt.axvspan(forecast_start, forecast_end, alpha=0.5, color='lightgrey', label='forecast zone')\n",
    "plt.legend();"
   ]
  },
  {
   "cell_type": "code",
   "execution_count": 47,
   "id": "d5fc58fc-6008-4962-af38-92c95bc016ff",
   "metadata": {},
   "outputs": [],
   "source": [
    "catboost_model.save_model('../data/artifacts/catboost_regressor.cbm')\n",
    "X_train_opt.to_csv('../data/train.csv')\n",
    "y_train.to_csv('../data/train_y.csv')\n",
    "X_test_opt.to_csv('../data/test.csv')\n",
    "y_test.to_csv('../data/test_y.csv')"
   ]
  },
  {
   "cell_type": "code",
   "execution_count": null,
   "id": "1d1c03f7-4aad-4725-9144-97ab9769dd66",
   "metadata": {},
   "outputs": [],
   "source": []
  }
 ],
 "metadata": {
  "kernelspec": {
   "display_name": "Python 3 (ipykernel)",
   "language": "python",
   "name": "python3"
  },
  "language_info": {
   "codemirror_mode": {
    "name": "ipython",
    "version": 3
   },
   "file_extension": ".py",
   "mimetype": "text/x-python",
   "name": "python",
   "nbconvert_exporter": "python",
   "pygments_lexer": "ipython3",
   "version": "3.12.2"
  }
 },
 "nbformat": 4,
 "nbformat_minor": 5
}
