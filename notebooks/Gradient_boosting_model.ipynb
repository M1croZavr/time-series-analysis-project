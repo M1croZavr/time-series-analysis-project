{
 "cells": [
  {
   "cell_type": "code",
   "execution_count": 1,
   "id": "d45e4ddb-d673-4cab-ad0a-ba600360a0a1",
   "metadata": {},
   "outputs": [
    {
     "name": "stderr",
     "output_type": "stream",
     "text": [
      "/Users/m1crozavr/anaconda3/envs/time-series/lib/python3.12/site-packages/tqdm/auto.py:21: TqdmWarning: IProgress not found. Please update jupyter and ipywidgets. See https://ipywidgets.readthedocs.io/en/stable/user_install.html\n",
      "  from .autonotebook import tqdm as notebook_tqdm\n"
     ]
    }
   ],
   "source": [
    "import datetime\n",
    "\n",
    "import numpy as np\n",
    "import optuna\n",
    "import pandas as pd\n",
    "from catboost import CatBoostRegressor, EFeaturesSelectionAlgorithm\n",
    "from catboost import Pool\n",
    "from matplotlib import pyplot as plt\n",
    "from sklearn.ensemble import RandomForestRegressor\n",
    "from sklearn.linear_model import Lasso\n",
    "from sklearn.metrics import mean_absolute_error\n",
    "from sklearn.model_selection import train_test_split\n",
    "from sklearn.preprocessing import StandardScaler\n",
    "\n",
    "from ts_package.feature_engineering.utils import make_time_based_features\n",
    "from ts_package.tuning import objective\n",
    "from ts_package.validation.feature_selection import get_catboost_feature_importances, select_features_wrapped_catboost\n",
    "from ts_package.validation.validation import get_time_series_cv_score"
   ]
  },
  {
   "cell_type": "code",
   "execution_count": 2,
   "id": "391856ee-af53-49f1-8dfa-829aeb764a2a",
   "metadata": {},
   "outputs": [],
   "source": [
    "import warnings\n",
    "\n",
    "\n",
    "warnings.filterwarnings('ignore')\n",
    "\n",
    "%load_ext autoreload\n",
    "%autoreload 2"
   ]
  },
  {
   "cell_type": "code",
   "execution_count": 3,
   "id": "fc1ceb95-3daa-4b39-bf71-99d3d86a08b0",
   "metadata": {},
   "outputs": [],
   "source": [
    "# time-based features\n",
    "# optuna with target metric\n",
    "# feature selection methods"
   ]
  },
  {
   "cell_type": "code",
   "execution_count": 4,
   "id": "97328ec1-a950-49a8-8cf6-87fe5ae0498c",
   "metadata": {},
   "outputs": [
    {
     "data": {
      "text/html": [
       "<div>\n",
       "<style scoped>\n",
       "    .dataframe tbody tr th:only-of-type {\n",
       "        vertical-align: middle;\n",
       "    }\n",
       "\n",
       "    .dataframe tbody tr th {\n",
       "        vertical-align: top;\n",
       "    }\n",
       "\n",
       "    .dataframe thead th {\n",
       "        text-align: right;\n",
       "    }\n",
       "</style>\n",
       "<table border=\"1\" class=\"dataframe\">\n",
       "  <thead>\n",
       "    <tr style=\"text-align: right;\">\n",
       "      <th></th>\n",
       "      <th>Income</th>\n",
       "      <th>Outcome</th>\n",
       "      <th>Balance</th>\n",
       "      <th>Налог на прибыль (при уплате только ежеквартальных авансовых платежей)</th>\n",
       "      <th>Зарплаты и авансы (не позднее 15 и 30 числа каждого месяца)</th>\n",
       "      <th>Праздники РФ</th>\n",
       "      <th>Inflation Rate MoM: actual</th>\n",
       "      <th>Inflation Rate MoM: forecastCorrection</th>\n",
       "      <th>Balance of Trade: actual</th>\n",
       "      <th>Balance of Trade: forecastCorrection</th>\n",
       "      <th>...</th>\n",
       "      <th>Balance lag 20</th>\n",
       "      <th>Balance lag 21</th>\n",
       "      <th>Balance lag 22</th>\n",
       "      <th>Balance lag 23</th>\n",
       "      <th>Balance lag 24</th>\n",
       "      <th>Balance lag 25</th>\n",
       "      <th>Balance lag 26</th>\n",
       "      <th>Balance lag 27</th>\n",
       "      <th>Balance lag 28</th>\n",
       "      <th>Balance lag 29</th>\n",
       "    </tr>\n",
       "    <tr>\n",
       "      <th>Date</th>\n",
       "      <th></th>\n",
       "      <th></th>\n",
       "      <th></th>\n",
       "      <th></th>\n",
       "      <th></th>\n",
       "      <th></th>\n",
       "      <th></th>\n",
       "      <th></th>\n",
       "      <th></th>\n",
       "      <th></th>\n",
       "      <th></th>\n",
       "      <th></th>\n",
       "      <th></th>\n",
       "      <th></th>\n",
       "      <th></th>\n",
       "      <th></th>\n",
       "      <th></th>\n",
       "      <th></th>\n",
       "      <th></th>\n",
       "      <th></th>\n",
       "      <th></th>\n",
       "    </tr>\n",
       "  </thead>\n",
       "  <tbody>\n",
       "    <tr>\n",
       "      <th>2017-01-09</th>\n",
       "      <td>1.340000</td>\n",
       "      <td>1.490000</td>\n",
       "      <td>-0.155904</td>\n",
       "      <td>0.0</td>\n",
       "      <td>0.600000</td>\n",
       "      <td>0.0</td>\n",
       "      <td>0.6</td>\n",
       "      <td>-0.1</td>\n",
       "      <td>11.45</td>\n",
       "      <td>-0.65</td>\n",
       "      <td>...</td>\n",
       "      <td>NaN</td>\n",
       "      <td>NaN</td>\n",
       "      <td>NaN</td>\n",
       "      <td>NaN</td>\n",
       "      <td>NaN</td>\n",
       "      <td>NaN</td>\n",
       "      <td>NaN</td>\n",
       "      <td>NaN</td>\n",
       "      <td>NaN</td>\n",
       "      <td>NaN</td>\n",
       "    </tr>\n",
       "    <tr>\n",
       "      <th>2017-01-10</th>\n",
       "      <td>1.068610</td>\n",
       "      <td>1.194182</td>\n",
       "      <td>-0.125572</td>\n",
       "      <td>0.0</td>\n",
       "      <td>0.666667</td>\n",
       "      <td>0.0</td>\n",
       "      <td>0.6</td>\n",
       "      <td>-0.1</td>\n",
       "      <td>11.45</td>\n",
       "      <td>-0.65</td>\n",
       "      <td>...</td>\n",
       "      <td>NaN</td>\n",
       "      <td>NaN</td>\n",
       "      <td>NaN</td>\n",
       "      <td>NaN</td>\n",
       "      <td>NaN</td>\n",
       "      <td>NaN</td>\n",
       "      <td>NaN</td>\n",
       "      <td>NaN</td>\n",
       "      <td>NaN</td>\n",
       "      <td>NaN</td>\n",
       "    </tr>\n",
       "    <tr>\n",
       "      <th>2017-01-11</th>\n",
       "      <td>0.944429</td>\n",
       "      <td>0.936663</td>\n",
       "      <td>0.007767</td>\n",
       "      <td>0.0</td>\n",
       "      <td>0.733333</td>\n",
       "      <td>0.0</td>\n",
       "      <td>0.6</td>\n",
       "      <td>-0.1</td>\n",
       "      <td>11.45</td>\n",
       "      <td>-0.65</td>\n",
       "      <td>...</td>\n",
       "      <td>NaN</td>\n",
       "      <td>NaN</td>\n",
       "      <td>NaN</td>\n",
       "      <td>NaN</td>\n",
       "      <td>NaN</td>\n",
       "      <td>NaN</td>\n",
       "      <td>NaN</td>\n",
       "      <td>NaN</td>\n",
       "      <td>NaN</td>\n",
       "      <td>NaN</td>\n",
       "    </tr>\n",
       "    <tr>\n",
       "      <th>2017-01-12</th>\n",
       "      <td>1.670000</td>\n",
       "      <td>0.875379</td>\n",
       "      <td>0.800391</td>\n",
       "      <td>0.0</td>\n",
       "      <td>0.800000</td>\n",
       "      <td>0.0</td>\n",
       "      <td>0.6</td>\n",
       "      <td>-0.1</td>\n",
       "      <td>11.45</td>\n",
       "      <td>-0.65</td>\n",
       "      <td>...</td>\n",
       "      <td>NaN</td>\n",
       "      <td>NaN</td>\n",
       "      <td>NaN</td>\n",
       "      <td>NaN</td>\n",
       "      <td>NaN</td>\n",
       "      <td>NaN</td>\n",
       "      <td>NaN</td>\n",
       "      <td>NaN</td>\n",
       "      <td>NaN</td>\n",
       "      <td>NaN</td>\n",
       "    </tr>\n",
       "    <tr>\n",
       "      <th>2017-01-13</th>\n",
       "      <td>0.955924</td>\n",
       "      <td>0.975645</td>\n",
       "      <td>-0.019721</td>\n",
       "      <td>0.0</td>\n",
       "      <td>0.866667</td>\n",
       "      <td>0.0</td>\n",
       "      <td>0.6</td>\n",
       "      <td>-0.1</td>\n",
       "      <td>11.45</td>\n",
       "      <td>-0.65</td>\n",
       "      <td>...</td>\n",
       "      <td>NaN</td>\n",
       "      <td>NaN</td>\n",
       "      <td>NaN</td>\n",
       "      <td>NaN</td>\n",
       "      <td>NaN</td>\n",
       "      <td>NaN</td>\n",
       "      <td>NaN</td>\n",
       "      <td>NaN</td>\n",
       "      <td>NaN</td>\n",
       "      <td>NaN</td>\n",
       "    </tr>\n",
       "  </tbody>\n",
       "</table>\n",
       "<p>5 rows × 66 columns</p>\n",
       "</div>"
      ],
      "text/plain": [
       "              Income   Outcome   Balance  \\\n",
       "Date                                       \n",
       "2017-01-09  1.340000  1.490000 -0.155904   \n",
       "2017-01-10  1.068610  1.194182 -0.125572   \n",
       "2017-01-11  0.944429  0.936663  0.007767   \n",
       "2017-01-12  1.670000  0.875379  0.800391   \n",
       "2017-01-13  0.955924  0.975645 -0.019721   \n",
       "\n",
       "            Налог на прибыль (при уплате только ежеквартальных авансовых платежей)  \\\n",
       "Date                                                                                 \n",
       "2017-01-09                                                0.0                        \n",
       "2017-01-10                                                0.0                        \n",
       "2017-01-11                                                0.0                        \n",
       "2017-01-12                                                0.0                        \n",
       "2017-01-13                                                0.0                        \n",
       "\n",
       "            Зарплаты и авансы (не позднее 15 и 30 числа каждого месяца)  \\\n",
       "Date                                                                      \n",
       "2017-01-09                                           0.600000             \n",
       "2017-01-10                                           0.666667             \n",
       "2017-01-11                                           0.733333             \n",
       "2017-01-12                                           0.800000             \n",
       "2017-01-13                                           0.866667             \n",
       "\n",
       "            Праздники РФ  Inflation Rate MoM: actual  \\\n",
       "Date                                                   \n",
       "2017-01-09           0.0                         0.6   \n",
       "2017-01-10           0.0                         0.6   \n",
       "2017-01-11           0.0                         0.6   \n",
       "2017-01-12           0.0                         0.6   \n",
       "2017-01-13           0.0                         0.6   \n",
       "\n",
       "            Inflation Rate MoM: forecastCorrection  Balance of Trade: actual  \\\n",
       "Date                                                                           \n",
       "2017-01-09                                    -0.1                     11.45   \n",
       "2017-01-10                                    -0.1                     11.45   \n",
       "2017-01-11                                    -0.1                     11.45   \n",
       "2017-01-12                                    -0.1                     11.45   \n",
       "2017-01-13                                    -0.1                     11.45   \n",
       "\n",
       "            Balance of Trade: forecastCorrection  ...  Balance lag 20  \\\n",
       "Date                                              ...                   \n",
       "2017-01-09                                 -0.65  ...             NaN   \n",
       "2017-01-10                                 -0.65  ...             NaN   \n",
       "2017-01-11                                 -0.65  ...             NaN   \n",
       "2017-01-12                                 -0.65  ...             NaN   \n",
       "2017-01-13                                 -0.65  ...             NaN   \n",
       "\n",
       "            Balance lag 21  Balance lag 22  Balance lag 23  Balance lag 24  \\\n",
       "Date                                                                         \n",
       "2017-01-09             NaN             NaN             NaN             NaN   \n",
       "2017-01-10             NaN             NaN             NaN             NaN   \n",
       "2017-01-11             NaN             NaN             NaN             NaN   \n",
       "2017-01-12             NaN             NaN             NaN             NaN   \n",
       "2017-01-13             NaN             NaN             NaN             NaN   \n",
       "\n",
       "            Balance lag 25  Balance lag 26  Balance lag 27  Balance lag 28  \\\n",
       "Date                                                                         \n",
       "2017-01-09             NaN             NaN             NaN             NaN   \n",
       "2017-01-10             NaN             NaN             NaN             NaN   \n",
       "2017-01-11             NaN             NaN             NaN             NaN   \n",
       "2017-01-12             NaN             NaN             NaN             NaN   \n",
       "2017-01-13             NaN             NaN             NaN             NaN   \n",
       "\n",
       "            Balance lag 29  \n",
       "Date                        \n",
       "2017-01-09             NaN  \n",
       "2017-01-10             NaN  \n",
       "2017-01-11             NaN  \n",
       "2017-01-12             NaN  \n",
       "2017-01-13             NaN  \n",
       "\n",
       "[5 rows x 66 columns]"
      ]
     },
     "execution_count": 4,
     "metadata": {},
     "output_type": "execute_result"
    }
   ],
   "source": [
    "df = pd.read_csv('../data/finalFeatures.csv', parse_dates=['Date'], index_col='Date')\n",
    "df.head()"
   ]
  },
  {
   "cell_type": "code",
   "execution_count": 5,
   "id": "4e7e9171-c4af-41bd-aaa5-6dbade0f0dfe",
   "metadata": {},
   "outputs": [],
   "source": [
    "df = make_time_based_features(df)"
   ]
  },
  {
   "cell_type": "code",
   "execution_count": 6,
   "id": "e1ac9725-5bd5-458f-aa50-c52e0f7e40e9",
   "metadata": {},
   "outputs": [
    {
     "name": "stdout",
     "output_type": "stream",
     "text": [
      "Train size: 1453, Test size: 90\n"
     ]
    }
   ],
   "source": [
    "OOT_THRESHOLD = datetime.datetime(2021, 1, 1)\n",
    "COLUMNS_TO_DROP = ['Balance', 'Outcome', 'Income']\n",
    "X_train, y_train, X_test, y_test = df[df.index < OOT_THRESHOLD].drop(COLUMNS_TO_DROP, axis=1), df.loc[df.index < OOT_THRESHOLD, 'Balance'],\\\n",
    "    df[df.index >= OOT_THRESHOLD].drop(COLUMNS_TO_DROP, axis=1), df.loc[df.index >= OOT_THRESHOLD, 'Balance']\n",
    "print(f'Train size: {X_train.shape[0]}, Test size: {X_test.shape[0]}')"
   ]
  },
  {
   "cell_type": "markdown",
   "id": "61ddec08-aa96-4a78-9ed9-f4c7b6af94d6",
   "metadata": {},
   "source": [
    "# Feature selection"
   ]
  },
  {
   "cell_type": "markdown",
   "id": "a3e9e16e-b260-4def-aa30-3984e9f65b59",
   "metadata": {},
   "source": [
    "**Feature selection techniques can be divided in groups:**\n",
    "\n",
    "- Wrapper methods - eliminating of features based on weights/coefficients of a trained model.\n",
    "- Filter methods - eliminating of features based on some statistics and correlations between features and target variable (without training a model).\n",
    "- Embedded methods - eliminating of features during a model training, for example, by applying L1 regularization or calculation tree's criterion gain.\n",
    "\n",
    "\n",
    "**Отбираться будет порядка 15-21 главных признаков**\n",
    "(По итогу на 21-м признаке лучше качество)"
   ]
  },
  {
   "cell_type": "markdown",
   "id": "6d246c5f-6fa8-44c3-99bc-3a677b82abd0",
   "metadata": {},
   "source": [
    "## Wrapper methods\n",
    "В качестве 3-х оберточных методов в работе используются реализации библиотеки CatBoost:\n",
    "\n",
    "1. Based on Prediction Values Change. EFeaturesSelectionAlgorithm.RecursiveByPredictionValuesChange\n",
    "3. Based on Loss Function Change. EFeaturesSelectionAlgorithm.RecursiveByLossFunctionChange\n",
    "4. Based on Shap Values. EFeaturesSelectionAlgorithm.RecursiveByShapValues\n",
    "\n",
    "**Исследуют нелинейность**"
   ]
  },
  {
   "cell_type": "code",
   "execution_count": 7,
   "id": "5e080f6e-9dc7-48a8-a64f-88abf6dfa5a8",
   "metadata": {},
   "outputs": [],
   "source": [
    "N_IMPORTANT_FEATURES = 21\n",
    "# fs - feature selection\n",
    "# Для фильтрации признаков можно сформировать обычную случайную out of fold валидационную выборку\n",
    "X_train_fs, X_val_fs, y_train_fs, y_val_fs = train_test_split(X_train, y_train, train_size=0.8, random_state=777)\n",
    "feature_names = X_train.columns.tolist()\n",
    "cat_features = ['weekday', 'Праздники РФ', 'quarter']\n",
    "train_pool = Pool(X_train_fs, y_train_fs, feature_names=feature_names, cat_features=cat_features)\n",
    "val_pool = Pool(X_val_fs, y_val_fs, feature_names=feature_names, cat_features=cat_features)"
   ]
  },
  {
   "cell_type": "code",
   "execution_count": 8,
   "id": "299602c7-eb25-4223-a604-2e11b8cf5e75",
   "metadata": {},
   "outputs": [
    {
     "name": "stdout",
     "output_type": "stream",
     "text": [
      "Algorithm for feature selection: EFeaturesSelectionAlgorithm.RecursiveByPredictionValuesChange\n",
      "{'selected_features': [1, 5, 15, 20, 22, 23, 28, 31, 34, 39, 40, 41, 47, 48, 50, 51, 53, 54, 60, 61, 63], 'eliminated_features_names': ['is_weekend', 'Праздники РФ', 'quarter', 'Inflation Rate MoM: actual', 'Unemployment Rate: actual', 'Inflation Rate MoM: forecastCorrection', 'Balance lag 23', 'Balance lag 10', 'Налог на прибыль (при уплате только ежеквартальных авансовых платежей)', 'Markit Manufacturing PMI: actual', 'Retail Sales YoY: forecastCorrection', 'Real Wage Growth YoY: actual', 'Balance lag 12', 'Balance lag 9', 'Balance lag 11', 'Business Confidence: actual', 'PPI MoM: forecastCorrection', 'BZ=F', 'Balance lag 24', 'Business Confidence: forecastCorrection', 'Balance of Trade: forecastCorrection', 'Real Wage Growth YoY: forecastCorrection', 'Dollar', 'Key_rate', 'Balance lag 5', 'Retail Sales YoY: actual', 'Industrial Production YoY: actual', 'Foreign Exchange Reserves: forecastCorrection', 'Unemployment Rate: forecastCorrection', 'Industrial Production YoY: forecastCorrection', 'Corporate Profits: actual', 'USDRUB=X', 'Balance lag 16', 'Balance lag 2', 'Balance lag 19', 'Markit Services PMI: forecastCorrection', 'Balance lag 26', 'Balance lag 29', 'Balance lag 22', 'Balance lag 4', 'Balance lag 13', 'Foreign Exchange Reserves: actual', 'Gold', 'Balance lag 3', 'Balance lag 25'], 'loss_graph': {'main_indices': [0, 1, 2, 3, 4, 5, 6, 7, 8, 9, 10, 11, 12, 13, 14, 15], 'removed_features_count': [0, 5, 9, 14, 17, 21, 24, 27, 30, 33, 35, 38, 40, 42, 43, 45], 'loss_values': [0.24370962137839247, 0.24553008392270986, 0.24712360044592177, 0.24366196665651935, 0.2423462549353565, 0.2451239343818503, 0.24296478799909446, 0.24618305603237853, 0.24646550863506964, 0.24582173960699547, 0.2455023578628479, 0.24583719254212508, 0.24517128079125072, 0.24773702543003956, 0.24415937007533992, 0.24450288450550067]}, 'eliminated_features': [65, 2, 64, 3, 11, 4, 56, 43, 0, 21, 18, 13, 45, 42, 44, 25, 16, 27, 57, 26, 6, 14, 32, 30, 38, 17, 9, 8, 12, 10, 19, 29, 49, 35, 52, 24, 59, 62, 55, 37, 46, 7, 33, 36, 58], 'selected_features_names': ['Зарплаты и авансы (не позднее 15 и 30 числа каждого месяца)', 'Balance of Trade: actual', 'PPI MoM: actual', 'Corporate Profits: forecastCorrection', 'Markit Manufacturing PMI: forecastCorrection', 'Markit Services PMI: actual', 'IMOEX.ME', 'Euro', 'Balance lag 1', 'Balance lag 6', 'Balance lag 7', 'Balance lag 8', 'Balance lag 14', 'Balance lag 15', 'Balance lag 17', 'Balance lag 18', 'Balance lag 20', 'Balance lag 21', 'Balance lag 27', 'Balance lag 28', 'weekday']}\n"
     ]
    }
   ],
   "source": [
    "shap_summary = select_features_wrapped_catboost(\n",
    "    feature_names,\n",
    "    EFeaturesSelectionAlgorithm.RecursiveByPredictionValuesChange,\n",
    "    train_pool, val_pool,\n",
    "    steps=15,\n",
    "    n_features=N_IMPORTANT_FEATURES\n",
    ")\n",
    "print(shap_summary)"
   ]
  },
  {
   "cell_type": "code",
   "execution_count": 9,
   "id": "8ae2fcf3-8947-46f8-a2b7-773fe1bc213c",
   "metadata": {},
   "outputs": [
    {
     "name": "stdout",
     "output_type": "stream",
     "text": [
      "Algorithm for feature selection: EFeaturesSelectionAlgorithm.RecursiveByLossFunctionChange\n",
      "{'selected_features': [0, 1, 7, 18, 23, 26, 27, 28, 30, 31, 32, 33, 34, 35, 36, 40, 53, 61, 63, 64, 65], 'eliminated_features_names': ['Balance lag 8', 'Balance lag 26', 'Markit Services PMI: forecastCorrection', 'Balance lag 14', 'Balance lag 22', 'Balance lag 27', 'Balance lag 25', 'PPI MoM: actual', 'Balance lag 13', 'Balance lag 6', 'Balance of Trade: actual', 'Balance lag 21', 'Balance lag 15', 'Balance lag 29', 'Corporate Profits: forecastCorrection', 'Balance lag 24', 'Real Wage Growth YoY: forecastCorrection', 'Inflation Rate MoM: forecastCorrection', 'Balance lag 17', 'Balance lag 19', 'PPI MoM: forecastCorrection', 'Balance lag 18', 'Corporate Profits: actual', 'Balance lag 10', 'Balance lag 16', 'Balance of Trade: forecastCorrection', 'Balance lag 12', 'Retail Sales YoY: actual', 'Balance lag 5', 'Markit Manufacturing PMI: actual', 'Foreign Exchange Reserves: forecastCorrection', 'Industrial Production YoY: forecastCorrection', 'Balance lag 4', 'Unemployment Rate: forecastCorrection', 'Balance lag 11', 'USDRUB=X', 'Праздники РФ', 'Balance lag 23', 'Real Wage Growth YoY: actual', 'Balance lag 9', 'Industrial Production YoY: actual', 'Markit Manufacturing PMI: forecastCorrection', 'Business Confidence: actual', 'Inflation Rate MoM: actual', 'Unemployment Rate: actual'], 'loss_graph': {'main_indices': [0, 5, 9, 14, 17, 21, 24, 27, 30, 33, 35, 38, 40, 42, 43, 45], 'removed_features_count': [0, 1, 2, 3, 4, 5, 6, 7, 8, 9, 10, 11, 12, 13, 14, 15, 16, 17, 18, 19, 20, 21, 22, 23, 24, 25, 26, 27, 28, 29, 30, 31, 32, 33, 34, 35, 36, 37, 38, 39, 40, 41, 42, 43, 44, 45], 'loss_values': [0.24370962137839247, 0.2435791904853041, 0.24351622369299905, 0.24347108188198013, 0.24342683831460774, 0.24338745067822976, 0.24228368654336607, 0.2414757167621226, 0.24093658690193212, 0.24062109296235554, 0.23925476055255432, 0.23789083431642138, 0.23654794998865256, 0.23543285920351933, 0.2343951594942016, 0.23515925334430837, 0.2357289134722272, 0.23622803243778984, 0.23544380515900856, 0.23489797828065592, 0.2344240314064126, 0.23396140492150264, 0.23469456949111625, 0.23495366863958, 0.23516864315680655, 0.23409617900094098, 0.23318686864417473, 0.23258953646532943, 0.2339735833123925, 0.23509355655075936, 0.2356262492763282, 0.23514461498751305, 0.23482235477721644, 0.23452639277138315, 0.23335273150869304, 0.23257106964416746, 0.23020483881542236, 0.2301581316474332, 0.23013256710397292, 0.230273089225273, 0.23037246974704245, 0.2311254269784341, 0.23140907461789215, 0.23168318170983007, 0.23354875853758464, 0.23345820332359324]}, 'eliminated_features': [41, 59, 24, 47, 55, 60, 58, 15, 46, 39, 5, 54, 48, 62, 20, 57, 14, 4, 50, 52, 16, 51, 19, 43, 49, 6, 45, 17, 38, 21, 8, 10, 37, 12, 44, 29, 2, 56, 13, 42, 9, 22, 25, 3, 11], 'selected_features_names': ['Налог на прибыль (при уплате только ежеквартальных авансовых платежей)', 'Зарплаты и авансы (не позднее 15 и 30 числа каждого месяца)', 'Foreign Exchange Reserves: actual', 'Retail Sales YoY: forecastCorrection', 'Markit Services PMI: actual', 'Business Confidence: forecastCorrection', 'BZ=F', 'IMOEX.ME', 'Key_rate', 'Euro', 'Dollar', 'Gold', 'Balance lag 1', 'Balance lag 2', 'Balance lag 3', 'Balance lag 7', 'Balance lag 20', 'Balance lag 28', 'weekday', 'quarter', 'is_weekend']}\n"
     ]
    }
   ],
   "source": [
    "lfc_summary = select_features_wrapped_catboost(\n",
    "    feature_names,\n",
    "    EFeaturesSelectionAlgorithm.RecursiveByLossFunctionChange,\n",
    "    train_pool, val_pool,\n",
    "    steps=15,\n",
    "    n_features=N_IMPORTANT_FEATURES\n",
    ")\n",
    "print(lfc_summary)"
   ]
  },
  {
   "cell_type": "code",
   "execution_count": 10,
   "id": "d1ffa14b-e155-4ebb-ba07-e62842895178",
   "metadata": {
    "scrolled": true
   },
   "outputs": [
    {
     "name": "stdout",
     "output_type": "stream",
     "text": [
      "Algorithm for feature selection: EFeaturesSelectionAlgorithm.RecursiveByPredictionValuesChange\n",
      "{'selected_features': [1, 5, 15, 20, 22, 23, 28, 31, 34, 39, 40, 41, 47, 48, 50, 51, 53, 54, 60, 61, 63], 'eliminated_features_names': ['is_weekend', 'Праздники РФ', 'quarter', 'Inflation Rate MoM: actual', 'Unemployment Rate: actual', 'Inflation Rate MoM: forecastCorrection', 'Balance lag 23', 'Balance lag 10', 'Налог на прибыль (при уплате только ежеквартальных авансовых платежей)', 'Markit Manufacturing PMI: actual', 'Retail Sales YoY: forecastCorrection', 'Real Wage Growth YoY: actual', 'Balance lag 12', 'Balance lag 9', 'Balance lag 11', 'Business Confidence: actual', 'PPI MoM: forecastCorrection', 'BZ=F', 'Balance lag 24', 'Business Confidence: forecastCorrection', 'Balance of Trade: forecastCorrection', 'Real Wage Growth YoY: forecastCorrection', 'Dollar', 'Key_rate', 'Balance lag 5', 'Retail Sales YoY: actual', 'Industrial Production YoY: actual', 'Foreign Exchange Reserves: forecastCorrection', 'Unemployment Rate: forecastCorrection', 'Industrial Production YoY: forecastCorrection', 'Corporate Profits: actual', 'USDRUB=X', 'Balance lag 16', 'Balance lag 2', 'Balance lag 19', 'Markit Services PMI: forecastCorrection', 'Balance lag 26', 'Balance lag 29', 'Balance lag 22', 'Balance lag 4', 'Balance lag 13', 'Foreign Exchange Reserves: actual', 'Gold', 'Balance lag 3', 'Balance lag 25'], 'loss_graph': {'main_indices': [0, 1, 2, 3, 4, 5, 6, 7, 8, 9, 10, 11, 12, 13, 14, 15], 'removed_features_count': [0, 5, 9, 14, 17, 21, 24, 27, 30, 33, 35, 38, 40, 42, 43, 45], 'loss_values': [0.24370962137839247, 0.24553008392270986, 0.24712360044592177, 0.24366196665651935, 0.2423462549353565, 0.2451239343818503, 0.24296478799909446, 0.24618305603237853, 0.24646550863506964, 0.24582173960699547, 0.2455023578628479, 0.24583719254212508, 0.24517128079125072, 0.24773702543003956, 0.24415937007533992, 0.24450288450550067]}, 'eliminated_features': [65, 2, 64, 3, 11, 4, 56, 43, 0, 21, 18, 13, 45, 42, 44, 25, 16, 27, 57, 26, 6, 14, 32, 30, 38, 17, 9, 8, 12, 10, 19, 29, 49, 35, 52, 24, 59, 62, 55, 37, 46, 7, 33, 36, 58], 'selected_features_names': ['Зарплаты и авансы (не позднее 15 и 30 числа каждого месяца)', 'Balance of Trade: actual', 'PPI MoM: actual', 'Corporate Profits: forecastCorrection', 'Markit Manufacturing PMI: forecastCorrection', 'Markit Services PMI: actual', 'IMOEX.ME', 'Euro', 'Balance lag 1', 'Balance lag 6', 'Balance lag 7', 'Balance lag 8', 'Balance lag 14', 'Balance lag 15', 'Balance lag 17', 'Balance lag 18', 'Balance lag 20', 'Balance lag 21', 'Balance lag 27', 'Balance lag 28', 'weekday']}\n"
     ]
    }
   ],
   "source": [
    "pvc_summary = select_features_wrapped_catboost(\n",
    "    feature_names,\n",
    "    EFeaturesSelectionAlgorithm.RecursiveByPredictionValuesChange,\n",
    "    train_pool, val_pool,\n",
    "    steps=15,\n",
    "    n_features=N_IMPORTANT_FEATURES\n",
    ")\n",
    "print(pvc_summary)"
   ]
  },
  {
   "cell_type": "markdown",
   "id": "193833f0-96c5-468c-9a76-44894a8bea68",
   "metadata": {},
   "source": [
    "## Embedded method\n",
    "В качестве встроенного метода в работе используется важность признаков при построении алгоритма случайного леса.\n",
    "\n",
    "The impurity-based feature importances.\n",
    "The higher, the more important the feature. The importance of a feature is computed as the (normalized) total reduction of the criterion brought by that feature. Squared error for RandomForestRegressor.\n",
    "\n",
    "**Исследует нелинейность**"
   ]
  },
  {
   "cell_type": "code",
   "execution_count": 12,
   "id": "4786a103-0f51-4d63-affd-ff066bbf0296",
   "metadata": {},
   "outputs": [
    {
     "data": {
      "text/plain": [
       "{'Balance lag 22': 0.01632464852045337,\n",
       " 'Balance lag 29': 0.017691214917885407,\n",
       " 'Balance lag 25': 0.0182296401806807,\n",
       " 'Balance lag 10': 0.018451857359232594,\n",
       " 'Balance lag 18': 0.018878742632061362,\n",
       " 'Balance lag 15': 0.01899171236639701,\n",
       " 'Balance lag 27': 0.019123509004386866,\n",
       " 'Balance lag 16': 0.01944279216646284,\n",
       " 'Balance lag 9': 0.019479556743735433,\n",
       " 'Balance lag 20': 0.020834128566369087,\n",
       " 'Balance lag 4': 0.02356867522237286,\n",
       " 'Balance lag 26': 0.023855578457039433,\n",
       " 'Balance lag 6': 0.024599923839461458,\n",
       " 'Balance lag 19': 0.027979691789012898,\n",
       " 'Balance lag 14': 0.03027907238650555,\n",
       " 'Balance lag 8': 0.03717103713419924,\n",
       " 'weekday': 0.0401110216410937,\n",
       " 'Balance lag 21': 0.04133489551177642,\n",
       " 'Balance lag 28': 0.047411680511556996,\n",
       " 'Balance lag 1': 0.05434388357700047,\n",
       " 'Balance lag 7': 0.0878235419847851}"
      ]
     },
     "execution_count": 12,
     "metadata": {},
     "output_type": "execute_result"
    }
   ],
   "source": [
    "rf_model = RandomForestRegressor(n_estimators=200, random_state=777)\n",
    "rf_model.fit(X_train_fs[~X_train_fs.isna().any(axis=1)], y_train_fs[~X_train_fs.isna().any(axis=1)])\n",
    "feature_importance_sorted_indexes = np.argsort(rf_model.feature_importances_)[-N_IMPORTANT_FEATURES:]\n",
    "rf_important_features = dict(\n",
    "    zip(\n",
    "        rf_model.feature_names_in_[feature_importance_sorted_indexes],\n",
    "        rf_model.feature_importances_[feature_importance_sorted_indexes]\n",
    "    )\n",
    ")\n",
    "rf_important_features"
   ]
  },
  {
   "cell_type": "markdown",
   "id": "133eeb92-4a9b-4527-b0b9-5fcced4746df",
   "metadata": {},
   "source": [
    "## Filter method\n",
    "В качестве фильтрационного метода в работе используется Correlation-based Feature Selection.\n",
    "\n",
    "Его преимущество в простоте и интерпретируемости, недостатки в ограничении линейности, так как используется корреляция Пирсона.\n",
    "\n",
    "**Не исследует нелинейность**"
   ]
  },
  {
   "cell_type": "code",
   "execution_count": 13,
   "id": "f058a56a-9c4b-46c1-9f98-45858f00ae9d",
   "metadata": {},
   "outputs": [
    {
     "data": {
      "text/plain": [
       "Налог на прибыль (при уплате только ежеквартальных авансовых платежей)   -0.112321\n",
       "Зарплаты и авансы (не позднее 15 и 30 числа каждого месяца)               0.055371\n",
       "Праздники РФ                                                              0.000935\n",
       "Inflation Rate MoM: actual                                               -0.002128\n",
       "Inflation Rate MoM: forecastCorrection                                   -0.023608\n",
       "                                                                            ...   \n",
       "Balance lag 28                                                            0.182461\n",
       "Balance lag 29                                                            0.068180\n",
       "weekday                                                                   0.188907\n",
       "quarter                                                                  -0.004390\n",
       "is_weekend                                                                0.077867\n",
       "Length: 66, dtype: float64"
      ]
     },
     "execution_count": 13,
     "metadata": {},
     "output_type": "execute_result"
    }
   ],
   "source": [
    "feature_target_correlation = X_train[~X_train.isna().any(axis=1)].corrwith(y_train[~X_train.isna().any(axis=1)])\n",
    "feature_target_correlation"
   ]
  },
  {
   "cell_type": "code",
   "execution_count": 14,
   "id": "c576e30b-60b0-4036-a827-6e76bcd759ef",
   "metadata": {},
   "outputs": [
    {
     "data": {
      "text/plain": [
       "Balance lag 7                                                             0.246458\n",
       "weekday                                                                   0.188907\n",
       "Balance lag 28                                                            0.182461\n",
       "Foreign Exchange Reserves: actual                                         0.165658\n",
       "IMOEX.ME                                                                  0.160397\n",
       "Gold                                                                      0.151527\n",
       "Key_rate                                                                  0.150408\n",
       "Balance lag 14                                                            0.147700\n",
       "Balance lag 21                                                            0.144671\n",
       "Dollar                                                                    0.122576\n",
       "USDRUB=X                                                                  0.118958\n",
       "Balance lag 1                                                             0.116534\n",
       "Налог на прибыль (при уплате только ежеквартальных авансовых платежей)    0.112321\n",
       "Balance lag 8                                                             0.105948\n",
       "Foreign Exchange Reserves: forecastCorrection                             0.096180\n",
       "Business Confidence: forecastCorrection                                   0.091521\n",
       "Unemployment Rate: actual                                                 0.086472\n",
       "Balance lag 6                                                             0.086031\n",
       "BZ=F                                                                      0.085541\n",
       "Balance lag 15                                                            0.085298\n",
       "Unemployment Rate: forecastCorrection                                     0.082170\n",
       "dtype: float64"
      ]
     },
     "execution_count": 14,
     "metadata": {},
     "output_type": "execute_result"
    }
   ],
   "source": [
    "cfs_important_features = np.abs(feature_target_correlation).sort_values(ascending=False)[:N_IMPORTANT_FEATURES]\n",
    "cfs_important_features"
   ]
  },
  {
   "cell_type": "markdown",
   "id": "9684d150-d2cf-4d50-881a-8da3ff961103",
   "metadata": {},
   "source": [
    "## Stability\n",
    "Стабильность альтернативных методов отбора признаков будет проверена при помощи упорядоченной во времени кросс-валидации, подсчета среднего значения и стандартного отклонения целевой бизнес метрики и MAE на тренировочном и валидационном фолде."
   ]
  },
  {
   "cell_type": "code",
   "execution_count": 15,
   "id": "f8d424b9-b744-451b-8e05-f78af8352dd3",
   "metadata": {},
   "outputs": [
    {
     "name": "stdout",
     "output_type": "stream",
     "text": [
      "Learning rate set to 0.031388\n",
      "0:\tlearn: 0.2153595\ttotal: 1.81ms\tremaining: 1.8s\n",
      "500:\tlearn: 0.0433082\ttotal: 242ms\tremaining: 241ms\n",
      "999:\tlearn: 0.0093059\ttotal: 474ms\tremaining: 0us\n",
      "Learning rate set to 0.034946\n",
      "0:\tlearn: 0.2306059\ttotal: 1.26ms\tremaining: 1.26s\n",
      "500:\tlearn: 0.0603189\ttotal: 364ms\tremaining: 363ms\n",
      "999:\tlearn: 0.0209816\ttotal: 728ms\tremaining: 0us\n",
      "Learning rate set to 0.037231\n",
      "0:\tlearn: 0.2598573\ttotal: 1.05ms\tremaining: 1.05s\n",
      "500:\tlearn: 0.0786027\ttotal: 380ms\tremaining: 378ms\n",
      "999:\tlearn: 0.0296456\ttotal: 766ms\tremaining: 0us\n",
      "Learning rate set to 0.038948\n",
      "0:\tlearn: 0.2629822\ttotal: 696us\tremaining: 696ms\n",
      "500:\tlearn: 0.0970865\ttotal: 388ms\tremaining: 387ms\n",
      "999:\tlearn: 0.0408342\ttotal: 786ms\tremaining: 0us\n",
      "Learning rate set to 0.040337\n",
      "0:\tlearn: 0.2826025\ttotal: 790us\tremaining: 790ms\n",
      "500:\tlearn: 0.1119486\ttotal: 401ms\tremaining: 399ms\n",
      "999:\tlearn: 0.0520378\ttotal: 803ms\tremaining: 0us\n",
      "Learning rate set to 0.04151\n",
      "0:\tlearn: 0.2839401\ttotal: 767us\tremaining: 767ms\n",
      "500:\tlearn: 0.1268385\ttotal: 406ms\tremaining: 404ms\n",
      "999:\tlearn: 0.0636751\ttotal: 806ms\tremaining: 0us\n",
      "Learning rate set to 0.042529\n",
      "0:\tlearn: 0.2789052\ttotal: 840us\tremaining: 840ms\n",
      "500:\tlearn: 0.1322071\ttotal: 409ms\tremaining: 407ms\n",
      "999:\tlearn: 0.0703889\ttotal: 826ms\tremaining: 0us\n"
     ]
    }
   ],
   "source": [
    "shap_features = shap_summary['selected_features_names']\n",
    "X_train_shap = X_train[shap_features]\n",
    "shap_cv_result = get_time_series_cv_score(X_train_shap, y_train, {'random_state': 777}, CatBoostRegressor)"
   ]
  },
  {
   "cell_type": "code",
   "execution_count": 16,
   "id": "e50da427-2c68-4345-a943-f9235cfb7237",
   "metadata": {},
   "outputs": [
    {
     "data": {
      "text/plain": [
       "{'bm_mean': -0.0936528745811558,\n",
       " 'bm_std': 0.5272502579045983,\n",
       " 'mae_mean': 0.17320943677133593,\n",
       " 'mae_std': 0.030559885800084237}"
      ]
     },
     "execution_count": 16,
     "metadata": {},
     "output_type": "execute_result"
    }
   ],
   "source": [
    "shap_cv_result"
   ]
  },
  {
   "cell_type": "code",
   "execution_count": 17,
   "id": "38d1ec2e-0f1f-471a-8b7e-e5c07d87e911",
   "metadata": {},
   "outputs": [
    {
     "name": "stdout",
     "output_type": "stream",
     "text": [
      "Learning rate set to 0.031388\n",
      "0:\tlearn: 0.2151209\ttotal: 1.57ms\tremaining: 1.57s\n",
      "500:\tlearn: 0.0465168\ttotal: 240ms\tremaining: 239ms\n",
      "999:\tlearn: 0.0092835\ttotal: 465ms\tremaining: 0us\n",
      "Learning rate set to 0.034946\n",
      "0:\tlearn: 0.2317590\ttotal: 695us\tremaining: 695ms\n",
      "500:\tlearn: 0.0794302\ttotal: 318ms\tremaining: 317ms\n",
      "999:\tlearn: 0.0271743\ttotal: 642ms\tremaining: 0us\n",
      "Learning rate set to 0.037231\n",
      "0:\tlearn: 0.2597895\ttotal: 606us\tremaining: 606ms\n",
      "500:\tlearn: 0.0949573\ttotal: 349ms\tremaining: 347ms\n",
      "999:\tlearn: 0.0384848\ttotal: 694ms\tremaining: 0us\n",
      "Learning rate set to 0.038948\n",
      "0:\tlearn: 0.2631152\ttotal: 688us\tremaining: 688ms\n",
      "500:\tlearn: 0.1194160\ttotal: 356ms\tremaining: 355ms\n",
      "999:\tlearn: 0.0596220\ttotal: 712ms\tremaining: 0us\n",
      "Learning rate set to 0.040337\n",
      "0:\tlearn: 0.2823576\ttotal: 725us\tremaining: 725ms\n",
      "500:\tlearn: 0.1337175\ttotal: 367ms\tremaining: 366ms\n",
      "999:\tlearn: 0.0742764\ttotal: 739ms\tremaining: 0us\n",
      "Learning rate set to 0.04151\n",
      "0:\tlearn: 0.2834385\ttotal: 813us\tremaining: 813ms\n",
      "500:\tlearn: 0.1420099\ttotal: 367ms\tremaining: 366ms\n",
      "999:\tlearn: 0.0821181\ttotal: 734ms\tremaining: 0us\n",
      "Learning rate set to 0.042529\n",
      "0:\tlearn: 0.2783316\ttotal: 675us\tremaining: 675ms\n",
      "500:\tlearn: 0.1514705\ttotal: 374ms\tremaining: 373ms\n",
      "999:\tlearn: 0.0970081\ttotal: 753ms\tremaining: 0us\n"
     ]
    }
   ],
   "source": [
    "lfc_features = lfc_summary['selected_features_names']\n",
    "X_train_lfc = X_train[lfc_features]\n",
    "lfc_cv_result = get_time_series_cv_score(X_train_lfc, y_train, {'random_state': 777}, CatBoostRegressor)"
   ]
  },
  {
   "cell_type": "code",
   "execution_count": 18,
   "id": "220e6d91-c1c2-4052-bbde-f180c7955294",
   "metadata": {},
   "outputs": [
    {
     "data": {
      "text/plain": [
       "{'bm_mean': 0.02330100955097547,\n",
       " 'bm_std': 0.5144565935383005,\n",
       " 'mae_mean': 0.191931789337524,\n",
       " 'mae_std': 0.028184625449289492}"
      ]
     },
     "execution_count": 18,
     "metadata": {},
     "output_type": "execute_result"
    }
   ],
   "source": [
    "lfc_cv_result"
   ]
  },
  {
   "cell_type": "code",
   "execution_count": 19,
   "id": "27c77c47-9d26-4975-b697-abcb0aa8ecb3",
   "metadata": {},
   "outputs": [
    {
     "name": "stdout",
     "output_type": "stream",
     "text": [
      "Learning rate set to 0.031388\n",
      "0:\tlearn: 0.2153595\ttotal: 1.12ms\tremaining: 1.12s\n",
      "500:\tlearn: 0.0433082\ttotal: 247ms\tremaining: 246ms\n",
      "999:\tlearn: 0.0093059\ttotal: 492ms\tremaining: 0us\n",
      "Learning rate set to 0.034946\n",
      "0:\tlearn: 0.2306059\ttotal: 664us\tremaining: 664ms\n",
      "500:\tlearn: 0.0603189\ttotal: 358ms\tremaining: 357ms\n",
      "999:\tlearn: 0.0209816\ttotal: 718ms\tremaining: 0us\n",
      "Learning rate set to 0.037231\n",
      "0:\tlearn: 0.2598573\ttotal: 680us\tremaining: 680ms\n",
      "500:\tlearn: 0.0786027\ttotal: 377ms\tremaining: 376ms\n",
      "999:\tlearn: 0.0296456\ttotal: 754ms\tremaining: 0us\n",
      "Learning rate set to 0.038948\n",
      "0:\tlearn: 0.2629822\ttotal: 703us\tremaining: 703ms\n",
      "500:\tlearn: 0.0970865\ttotal: 464ms\tremaining: 462ms\n",
      "999:\tlearn: 0.0408342\ttotal: 854ms\tremaining: 0us\n",
      "Learning rate set to 0.040337\n",
      "0:\tlearn: 0.2826025\ttotal: 797us\tremaining: 796ms\n",
      "500:\tlearn: 0.1119486\ttotal: 398ms\tremaining: 397ms\n",
      "999:\tlearn: 0.0520378\ttotal: 800ms\tremaining: 0us\n",
      "Learning rate set to 0.04151\n",
      "0:\tlearn: 0.2839401\ttotal: 804us\tremaining: 804ms\n",
      "500:\tlearn: 0.1268385\ttotal: 394ms\tremaining: 392ms\n",
      "999:\tlearn: 0.0636751\ttotal: 798ms\tremaining: 0us\n",
      "Learning rate set to 0.042529\n",
      "0:\tlearn: 0.2789052\ttotal: 829us\tremaining: 829ms\n",
      "500:\tlearn: 0.1322071\ttotal: 405ms\tremaining: 403ms\n",
      "999:\tlearn: 0.0703889\ttotal: 812ms\tremaining: 0us\n"
     ]
    }
   ],
   "source": [
    "pvc_features = pvc_summary['selected_features_names']\n",
    "X_train_pvc = X_train[pvc_features]\n",
    "pvc_cv_result = get_time_series_cv_score(X_train_pvc, y_train, {'random_state': 777}, CatBoostRegressor)"
   ]
  },
  {
   "cell_type": "code",
   "execution_count": 20,
   "id": "07f436ff-78bc-4ac3-be9f-23ad96974014",
   "metadata": {},
   "outputs": [
    {
     "data": {
      "text/plain": [
       "{'bm_mean': -0.0936528745811558,\n",
       " 'bm_std': 0.5272502579045983,\n",
       " 'mae_mean': 0.17320943677133593,\n",
       " 'mae_std': 0.030559885800084237}"
      ]
     },
     "execution_count": 20,
     "metadata": {},
     "output_type": "execute_result"
    }
   ],
   "source": [
    "pvc_cv_result"
   ]
  },
  {
   "cell_type": "code",
   "execution_count": 21,
   "id": "45d7d83f-7deb-4715-9007-0670ce84d590",
   "metadata": {},
   "outputs": [
    {
     "name": "stdout",
     "output_type": "stream",
     "text": [
      "Learning rate set to 0.031388\n",
      "0:\tlearn: 0.2153013\ttotal: 1.33ms\tremaining: 1.33s\n",
      "500:\tlearn: 0.0421070\ttotal: 276ms\tremaining: 275ms\n",
      "999:\tlearn: 0.0098989\ttotal: 554ms\tremaining: 0us\n",
      "Learning rate set to 0.034946\n",
      "0:\tlearn: 0.2313275\ttotal: 898us\tremaining: 898ms\n",
      "500:\tlearn: 0.0657918\ttotal: 404ms\tremaining: 402ms\n",
      "999:\tlearn: 0.0212323\ttotal: 805ms\tremaining: 0us\n",
      "Learning rate set to 0.037231\n",
      "0:\tlearn: 0.2596213\ttotal: 845us\tremaining: 845ms\n",
      "500:\tlearn: 0.0813060\ttotal: 424ms\tremaining: 422ms\n",
      "999:\tlearn: 0.0345584\ttotal: 858ms\tremaining: 0us\n",
      "Learning rate set to 0.038948\n",
      "0:\tlearn: 0.2632344\ttotal: 854us\tremaining: 854ms\n",
      "500:\tlearn: 0.0977212\ttotal: 436ms\tremaining: 434ms\n",
      "999:\tlearn: 0.0455284\ttotal: 872ms\tremaining: 0us\n",
      "Learning rate set to 0.040337\n",
      "0:\tlearn: 0.2823254\ttotal: 896us\tremaining: 896ms\n",
      "500:\tlearn: 0.1209281\ttotal: 449ms\tremaining: 447ms\n",
      "999:\tlearn: 0.0610015\ttotal: 896ms\tremaining: 0us\n",
      "Learning rate set to 0.04151\n",
      "0:\tlearn: 0.2845894\ttotal: 297us\tremaining: 297ms\n",
      "500:\tlearn: 0.1265990\ttotal: 453ms\tremaining: 451ms\n",
      "999:\tlearn: 0.0662496\ttotal: 1s\tremaining: 0us\n",
      "Learning rate set to 0.042529\n",
      "0:\tlearn: 0.2796117\ttotal: 236us\tremaining: 236ms\n",
      "500:\tlearn: 0.1347072\ttotal: 452ms\tremaining: 450ms\n",
      "999:\tlearn: 0.0753604\ttotal: 908ms\tremaining: 0us\n"
     ]
    }
   ],
   "source": [
    "rf_features = rf_important_features.keys()\n",
    "X_train_rf = X_train[rf_features]\n",
    "rf_cv_result = get_time_series_cv_score(X_train_rf, y_train, {'random_state': 777}, CatBoostRegressor)"
   ]
  },
  {
   "cell_type": "code",
   "execution_count": 22,
   "id": "16be2454-2a50-417b-b239-6fa7c09f9b9c",
   "metadata": {},
   "outputs": [
    {
     "data": {
      "text/plain": [
       "{'bm_mean': -0.18648658867695467,\n",
       " 'bm_std': 0.37506574512109403,\n",
       " 'mae_mean': 0.17214285856879213,\n",
       " 'mae_std': 0.03315293251585714}"
      ]
     },
     "execution_count": 22,
     "metadata": {},
     "output_type": "execute_result"
    }
   ],
   "source": [
    "rf_cv_result"
   ]
  },
  {
   "cell_type": "code",
   "execution_count": 23,
   "id": "8f8677a0-62e9-412c-8ba3-c3a0423ad68e",
   "metadata": {},
   "outputs": [
    {
     "name": "stdout",
     "output_type": "stream",
     "text": [
      "Learning rate set to 0.031388\n",
      "0:\tlearn: 0.2155245\ttotal: 768us\tremaining: 767ms\n",
      "500:\tlearn: 0.0415307\ttotal: 242ms\tremaining: 241ms\n",
      "999:\tlearn: 0.0088216\ttotal: 478ms\tremaining: 0us\n",
      "Learning rate set to 0.034946\n",
      "0:\tlearn: 0.2315590\ttotal: 708us\tremaining: 708ms\n",
      "500:\tlearn: 0.0711674\ttotal: 343ms\tremaining: 341ms\n",
      "999:\tlearn: 0.0239550\ttotal: 688ms\tremaining: 0us\n",
      "Learning rate set to 0.037231\n",
      "0:\tlearn: 0.2595348\ttotal: 729us\tremaining: 728ms\n",
      "500:\tlearn: 0.0957706\ttotal: 368ms\tremaining: 367ms\n",
      "999:\tlearn: 0.0393431\ttotal: 740ms\tremaining: 0us\n",
      "Learning rate set to 0.038948\n",
      "0:\tlearn: 0.2629346\ttotal: 653us\tremaining: 652ms\n",
      "500:\tlearn: 0.1139837\ttotal: 382ms\tremaining: 380ms\n",
      "999:\tlearn: 0.0537427\ttotal: 765ms\tremaining: 0us\n",
      "Learning rate set to 0.040337\n",
      "0:\tlearn: 0.2824908\ttotal: 794us\tremaining: 793ms\n",
      "500:\tlearn: 0.1341263\ttotal: 389ms\tremaining: 387ms\n",
      "999:\tlearn: 0.0763459\ttotal: 780ms\tremaining: 0us\n",
      "Learning rate set to 0.04151\n",
      "0:\tlearn: 0.2837535\ttotal: 729us\tremaining: 729ms\n",
      "500:\tlearn: 0.1439707\ttotal: 390ms\tremaining: 388ms\n",
      "999:\tlearn: 0.0849975\ttotal: 776ms\tremaining: 0us\n",
      "Learning rate set to 0.042529\n",
      "0:\tlearn: 0.2790055\ttotal: 688us\tremaining: 688ms\n",
      "500:\tlearn: 0.1425706\ttotal: 395ms\tremaining: 394ms\n",
      "999:\tlearn: 0.0835520\ttotal: 791ms\tremaining: 0us\n"
     ]
    }
   ],
   "source": [
    "cfs_features = cfs_important_features.index.tolist()\n",
    "X_train_cfs = X_train[cfs_features]\n",
    "cfs_cv_result = get_time_series_cv_score(X_train_cfs, y_train, {'random_state': 777}, CatBoostRegressor)"
   ]
  },
  {
   "cell_type": "code",
   "execution_count": 24,
   "id": "e5baf26a-c063-47d3-8d29-7becc6a6bea5",
   "metadata": {},
   "outputs": [
    {
     "data": {
      "text/plain": [
       "{'bm_mean': -0.0025555441902532943,\n",
       " 'bm_std': 0.6416747084611824,\n",
       " 'mae_mean': 0.19101038142554785,\n",
       " 'mae_std': 0.03222945198531938}"
      ]
     },
     "execution_count": 24,
     "metadata": {},
     "output_type": "execute_result"
    }
   ],
   "source": [
    "cfs_cv_result"
   ]
  },
  {
   "cell_type": "code",
   "execution_count": 25,
   "id": "860d5423-9948-4a26-ada2-fb97c992e73b",
   "metadata": {},
   "outputs": [
    {
     "data": {
      "text/html": [
       "<div>\n",
       "<style scoped>\n",
       "    .dataframe tbody tr th:only-of-type {\n",
       "        vertical-align: middle;\n",
       "    }\n",
       "\n",
       "    .dataframe tbody tr th {\n",
       "        vertical-align: top;\n",
       "    }\n",
       "\n",
       "    .dataframe thead th {\n",
       "        text-align: right;\n",
       "    }\n",
       "</style>\n",
       "<table border=\"1\" class=\"dataframe\">\n",
       "  <thead>\n",
       "    <tr style=\"text-align: right;\">\n",
       "      <th></th>\n",
       "      <th>Business metric mean</th>\n",
       "      <th>Business metric std</th>\n",
       "      <th>MAE mean</th>\n",
       "      <th>MAE std</th>\n",
       "    </tr>\n",
       "  </thead>\n",
       "  <tbody>\n",
       "    <tr>\n",
       "      <th>Shap</th>\n",
       "      <td>-0.093653</td>\n",
       "      <td>0.527250</td>\n",
       "      <td>0.173209</td>\n",
       "      <td>0.030560</td>\n",
       "    </tr>\n",
       "    <tr>\n",
       "      <th>Loss function change</th>\n",
       "      <td>0.023301</td>\n",
       "      <td>0.514457</td>\n",
       "      <td>0.191932</td>\n",
       "      <td>0.028185</td>\n",
       "    </tr>\n",
       "    <tr>\n",
       "      <th>Prediction values change</th>\n",
       "      <td>-0.093653</td>\n",
       "      <td>0.527250</td>\n",
       "      <td>0.173209</td>\n",
       "      <td>0.030560</td>\n",
       "    </tr>\n",
       "    <tr>\n",
       "      <th>Random forest feature importance</th>\n",
       "      <td>-0.186487</td>\n",
       "      <td>0.375066</td>\n",
       "      <td>0.172143</td>\n",
       "      <td>0.033153</td>\n",
       "    </tr>\n",
       "    <tr>\n",
       "      <th>Correlation-based</th>\n",
       "      <td>-0.002556</td>\n",
       "      <td>0.641675</td>\n",
       "      <td>0.191010</td>\n",
       "      <td>0.032229</td>\n",
       "    </tr>\n",
       "  </tbody>\n",
       "</table>\n",
       "</div>"
      ],
      "text/plain": [
       "                                  Business metric mean  Business metric std  \\\n",
       "Shap                                         -0.093653             0.527250   \n",
       "Loss function change                          0.023301             0.514457   \n",
       "Prediction values change                     -0.093653             0.527250   \n",
       "Random forest feature importance             -0.186487             0.375066   \n",
       "Correlation-based                            -0.002556             0.641675   \n",
       "\n",
       "                                  MAE mean   MAE std  \n",
       "Shap                              0.173209  0.030560  \n",
       "Loss function change              0.191932  0.028185  \n",
       "Prediction values change          0.173209  0.030560  \n",
       "Random forest feature importance  0.172143  0.033153  \n",
       "Correlation-based                 0.191010  0.032229  "
      ]
     },
     "execution_count": 25,
     "metadata": {},
     "output_type": "execute_result"
    }
   ],
   "source": [
    "# Итоговая таблица стабильности методов\n",
    "stability_result_df = pd.DataFrame(\n",
    "    [shap_cv_result, lfc_cv_result, pvc_cv_result, rf_cv_result, cfs_cv_result],\n",
    "    index=['Shap', 'Loss function change', 'Prediction values change', 'Random forest feature importance', 'Correlation-based'],\n",
    ")\n",
    "stability_result_df.columns = ['Business metric mean', 'Business metric std', 'MAE mean', 'MAE std']\n",
    "stability_result_df"
   ]
  },
  {
   "cell_type": "markdown",
   "id": "ecc1e238-7fea-480c-a1fe-af837aa79634",
   "metadata": {},
   "source": [
    "С точки зрения стабильности и показанных результатов итоговый метод выбора признаков - **CatBoost recursive loss function change based feature selection algorithm**."
   ]
  },
  {
   "cell_type": "code",
   "execution_count": 26,
   "id": "a1df9d49-ab83-4eca-9188-767f66ec62a1",
   "metadata": {},
   "outputs": [
    {
     "data": {
      "text/plain": [
       "['Налог на прибыль (при уплате только ежеквартальных авансовых платежей)',\n",
       " 'Зарплаты и авансы (не позднее 15 и 30 числа каждого месяца)',\n",
       " 'Foreign Exchange Reserves: actual',\n",
       " 'Retail Sales YoY: forecastCorrection',\n",
       " 'Markit Services PMI: actual',\n",
       " 'Business Confidence: forecastCorrection',\n",
       " 'BZ=F',\n",
       " 'IMOEX.ME',\n",
       " 'Key_rate',\n",
       " 'Euro',\n",
       " 'Dollar',\n",
       " 'Gold',\n",
       " 'Balance lag 1',\n",
       " 'Balance lag 2',\n",
       " 'Balance lag 3',\n",
       " 'Balance lag 7',\n",
       " 'Balance lag 20',\n",
       " 'Balance lag 28',\n",
       " 'weekday',\n",
       " 'quarter',\n",
       " 'is_weekend']"
      ]
     },
     "execution_count": 26,
     "metadata": {},
     "output_type": "execute_result"
    }
   ],
   "source": [
    "lfc_features"
   ]
  },
  {
   "cell_type": "markdown",
   "id": "b37bcfd2-19b7-464d-892f-ffabaa0af0cc",
   "metadata": {},
   "source": [
    "# Model tuning targeting business metric\n",
    "Модель автоматически подбирает гиперпараметры, оптимизируя целевую бизнес метрику."
   ]
  },
  {
   "cell_type": "code",
   "execution_count": 27,
   "id": "12ed562a-ca7a-4907-956c-fe5ca10c6537",
   "metadata": {},
   "outputs": [
    {
     "name": "stderr",
     "output_type": "stream",
     "text": [
      "[I 2024-04-14 21:31:29,980] A new study created in memory with name: no-name-40b1ff58-007d-4044-8edb-64b4094bebad\n",
      "  0%|                                                                                             | 0/100 [00:00<?, ?it/s]"
     ]
    },
    {
     "name": "stdout",
     "output_type": "stream",
     "text": [
      "0:\tlearn: 0.1092063\ttotal: 1.05ms\tremaining: 1.15s\n",
      "500:\tlearn: 0.0590705\ttotal: 124ms\tremaining: 146ms\n",
      "1000:\tlearn: 0.0420675\ttotal: 248ms\tremaining: 22.5ms\n",
      "1091:\tlearn: 0.0403997\ttotal: 269ms\tremaining: 0us\n",
      "0:\tlearn: 0.1257365\ttotal: 431us\tremaining: 471ms\n",
      "500:\tlearn: 0.0838232\ttotal: 160ms\tremaining: 188ms\n",
      "1000:\tlearn: 0.0647041\ttotal: 333ms\tremaining: 30.3ms\n",
      "1091:\tlearn: 0.0624027\ttotal: 363ms\tremaining: 0us\n",
      "0:\tlearn: 0.1336590\ttotal: 346us\tremaining: 378ms\n",
      "500:\tlearn: 0.0975678\ttotal: 177ms\tremaining: 209ms\n",
      "1000:\tlearn: 0.0796962\ttotal: 361ms\tremaining: 32.8ms\n",
      "1091:\tlearn: 0.0775005\ttotal: 396ms\tremaining: 0us\n",
      "0:\tlearn: 0.1400621\ttotal: 506us\tremaining: 553ms\n",
      "500:\tlearn: 0.1115027\ttotal: 193ms\tremaining: 227ms\n",
      "1000:\tlearn: 0.0943564\ttotal: 383ms\tremaining: 34.8ms\n",
      "1091:\tlearn: 0.0921351\ttotal: 418ms\tremaining: 0us\n",
      "0:\tlearn: 0.1555991\ttotal: 949us\tremaining: 1.03s\n",
      "500:\tlearn: 0.1226663\ttotal: 199ms\tremaining: 235ms\n",
      "1000:\tlearn: 0.1059225\ttotal: 408ms\tremaining: 37.1ms\n",
      "1091:\tlearn: 0.1036964\ttotal: 445ms\tremaining: 0us\n",
      "0:\tlearn: 0.1591835\ttotal: 485us\tremaining: 529ms\n",
      "500:\tlearn: 0.1261566\ttotal: 210ms\tremaining: 248ms\n",
      "1000:\tlearn: 0.1105439\ttotal: 414ms\tremaining: 37.6ms\n",
      "1091:\tlearn: 0.1084496\ttotal: 451ms\tremaining: 0us\n",
      "0:\tlearn: 0.1577419\ttotal: 1.14ms\tremaining: 1.24s\n",
      "500:\tlearn: 0.1276364\ttotal: 217ms\tremaining: 255ms\n"
     ]
    },
    {
     "name": "stderr",
     "output_type": "stream",
     "text": [
      "Best trial: 0. Best value: -0.109867:   1%|▎                           | 1/100 [00:03<05:05,  3.09s/it, 3.09/1200 seconds]"
     ]
    },
    {
     "name": "stdout",
     "output_type": "stream",
     "text": [
      "1000:\tlearn: 0.1131818\ttotal: 425ms\tremaining: 38.7ms\n",
      "1091:\tlearn: 0.1112666\ttotal: 465ms\tremaining: 0us\n",
      "[I 2024-04-14 21:31:33,078] Trial 0 finished with value: -0.10986732143841896 and parameters: {'loss_function': 'MAPE', 'depth': 4, 'iterations': 1092, 'min_data_in_leaf': 1, 'random_strength': 6.255479573950397}. Best is trial 0 with value: -0.10986732143841896.\n",
      "0:\tlearn: 0.1084999\ttotal: 2.19ms\tremaining: 588ms\n",
      "269:\tlearn: 0.0200532\ttotal: 244ms\tremaining: 0us\n",
      "0:\tlearn: 0.1250246\ttotal: 2.45ms\tremaining: 658ms\n",
      "269:\tlearn: 0.0397996\ttotal: 378ms\tremaining: 0us\n",
      "0:\tlearn: 0.1331837\ttotal: 1.76ms\tremaining: 474ms\n",
      "269:\tlearn: 0.0512577\ttotal: 383ms\tremaining: 0us\n",
      "0:\tlearn: 0.1394883\ttotal: 1.51ms\tremaining: 408ms\n",
      "269:\tlearn: 0.0667928\ttotal: 394ms\tremaining: 0us\n",
      "0:\tlearn: 0.1546528\ttotal: 1.48ms\tremaining: 398ms\n",
      "269:\tlearn: 0.0852337\ttotal: 398ms\tremaining: 0us\n",
      "0:\tlearn: 0.1583513\ttotal: 1.69ms\tremaining: 454ms\n",
      "269:\tlearn: 0.0873532\ttotal: 407ms\tremaining: 0us\n",
      "0:\tlearn: 0.1568656\ttotal: 1.58ms\tremaining: 425ms\n"
     ]
    },
    {
     "name": "stderr",
     "output_type": "stream",
     "text": [
      "Best trial: 0. Best value: -0.109867:   2%|▌                           | 2/100 [00:05<04:44,  2.90s/it, 5.86/1200 seconds]"
     ]
    },
    {
     "name": "stdout",
     "output_type": "stream",
     "text": [
      "269:\tlearn: 0.0865630\ttotal: 423ms\tremaining: 0us\n",
      "[I 2024-04-14 21:31:35,852] Trial 1 finished with value: -0.2489401043854321 and parameters: {'loss_function': 'MAPE', 'depth': 8, 'iterations': 270, 'min_data_in_leaf': 8, 'random_strength': 0.7341927732603726}. Best is trial 0 with value: -0.10986732143841896.\n",
      "0:\tlearn: 0.1113245\ttotal: 1.05ms\tremaining: 1.01s\n",
      "500:\tlearn: 0.0075337\ttotal: 465ms\tremaining: 430ms\n",
      "963:\tlearn: 0.0018286\ttotal: 905ms\tremaining: 0us\n",
      "0:\tlearn: 0.1272473\ttotal: 1.68ms\tremaining: 1.62s\n",
      "500:\tlearn: 0.0184023\ttotal: 714ms\tremaining: 660ms\n",
      "963:\tlearn: 0.0074686\ttotal: 1.38s\tremaining: 0us\n",
      "0:\tlearn: 0.1377681\ttotal: 1.56ms\tremaining: 1.51s\n",
      "500:\tlearn: 0.0266746\ttotal: 741ms\tremaining: 684ms\n",
      "963:\tlearn: 0.0116233\ttotal: 1.43s\tremaining: 0us\n",
      "0:\tlearn: 0.1432328\ttotal: 1.75ms\tremaining: 1.68s\n",
      "500:\tlearn: 0.0405427\ttotal: 872ms\tremaining: 806ms\n",
      "963:\tlearn: 0.0190699\ttotal: 1.58s\tremaining: 0us\n",
      "0:\tlearn: 0.1590626\ttotal: 1.62ms\tremaining: 1.56s\n",
      "500:\tlearn: 0.0507372\ttotal: 771ms\tremaining: 712ms\n",
      "963:\tlearn: 0.0289421\ttotal: 1.5s\tremaining: 0us\n",
      "0:\tlearn: 0.1628528\ttotal: 2.13ms\tremaining: 2.05s\n",
      "500:\tlearn: 0.0580015\ttotal: 793ms\tremaining: 733ms\n",
      "963:\tlearn: 0.0334011\ttotal: 1.52s\tremaining: 0us\n",
      "0:\tlearn: 0.1609669\ttotal: 1.75ms\tremaining: 1.69s\n",
      "500:\tlearn: 0.0622606\ttotal: 793ms\tremaining: 733ms\n"
     ]
    },
    {
     "name": "stderr",
     "output_type": "stream",
     "text": [
      "Best trial: 0. Best value: -0.109867:   3%|▊                          | 3/100 [00:16<10:08,  6.27s/it, 16.14/1200 seconds]"
     ]
    },
    {
     "name": "stdout",
     "output_type": "stream",
     "text": [
      "963:\tlearn: 0.0391480\ttotal: 1.53s\tremaining: 0us\n",
      "[I 2024-04-14 21:31:46,128] Trial 2 finished with value: -0.2113929179064819 and parameters: {'loss_function': 'MAE', 'depth': 8, 'iterations': 964, 'min_data_in_leaf': 64, 'random_strength': 1.681618999412876}. Best is trial 0 with value: -0.10986732143841896.\n",
      "0:\tlearn: 0.1118313\ttotal: 736us\tremaining: 300ms\n",
      "407:\tlearn: 0.0322355\ttotal: 189ms\tremaining: 0us\n",
      "0:\tlearn: 0.1271600\ttotal: 629us\tremaining: 256ms\n",
      "407:\tlearn: 0.0524628\ttotal: 269ms\tremaining: 0us\n",
      "0:\tlearn: 0.1380050\ttotal: 647us\tremaining: 263ms\n",
      "407:\tlearn: 0.0671743\ttotal: 282ms\tremaining: 0us\n",
      "0:\tlearn: 0.1438244\ttotal: 807us\tremaining: 328ms\n",
      "407:\tlearn: 0.0819953\ttotal: 296ms\tremaining: 0us\n",
      "0:\tlearn: 0.1596339\ttotal: 807us\tremaining: 329ms\n",
      "407:\tlearn: 0.0954508\ttotal: 298ms\tremaining: 0us\n",
      "0:\tlearn: 0.1629684\ttotal: 846us\tremaining: 344ms\n",
      "407:\tlearn: 0.1028601\ttotal: 305ms\tremaining: 0us\n",
      "0:\tlearn: 0.1616675\ttotal: 844us\tremaining: 344ms\n"
     ]
    },
    {
     "name": "stderr",
     "output_type": "stream",
     "text": [
      "Best trial: 3. Best value: -0.0950611:   4%|█                         | 4/100 [00:18<07:23,  4.62s/it, 18.24/1200 seconds]"
     ]
    },
    {
     "name": "stdout",
     "output_type": "stream",
     "text": [
      "407:\tlearn: 0.1055357\ttotal: 314ms\tremaining: 0us\n",
      "[I 2024-04-14 21:31:48,231] Trial 3 finished with value: -0.09506108566350212 and parameters: {'loss_function': 'MAE', 'depth': 6, 'iterations': 408, 'min_data_in_leaf': 2, 'random_strength': 0.7651932325194966}. Best is trial 3 with value: -0.09506108566350212.\n",
      "0:\tlearn: 0.1123765\ttotal: 1ms\tremaining: 1.26s\n",
      "500:\tlearn: 0.0596890\ttotal: 106ms\tremaining: 160ms\n",
      "1000:\tlearn: 0.0442351\ttotal: 229ms\tremaining: 59.3ms\n",
      "1259:\tlearn: 0.0394237\ttotal: 292ms\tremaining: 0us\n",
      "0:\tlearn: 0.1276140\ttotal: 328us\tremaining: 413ms\n",
      "500:\tlearn: 0.0828990\ttotal: 171ms\tremaining: 260ms\n",
      "1000:\tlearn: 0.0642548\ttotal: 336ms\tremaining: 87.1ms\n",
      "1259:\tlearn: 0.0593927\ttotal: 429ms\tremaining: 0us\n",
      "0:\tlearn: 0.1383424\ttotal: 362us\tremaining: 456ms\n",
      "500:\tlearn: 0.0995584\ttotal: 185ms\tremaining: 281ms\n",
      "1000:\tlearn: 0.0813224\ttotal: 373ms\tremaining: 96.5ms\n",
      "1259:\tlearn: 0.0753943\ttotal: 466ms\tremaining: 0us\n",
      "0:\tlearn: 0.1441146\ttotal: 450us\tremaining: 567ms\n",
      "500:\tlearn: 0.1124759\ttotal: 191ms\tremaining: 289ms\n",
      "1000:\tlearn: 0.0953645\ttotal: 385ms\tremaining: 99.7ms\n",
      "1259:\tlearn: 0.0892254\ttotal: 490ms\tremaining: 0us\n",
      "0:\tlearn: 0.1600218\ttotal: 376us\tremaining: 474ms\n",
      "500:\tlearn: 0.1245107\ttotal: 205ms\tremaining: 310ms\n",
      "1000:\tlearn: 0.1079878\ttotal: 400ms\tremaining: 103ms\n",
      "1259:\tlearn: 0.1023448\ttotal: 503ms\tremaining: 0us\n",
      "0:\tlearn: 0.1634245\ttotal: 440us\tremaining: 555ms\n",
      "500:\tlearn: 0.1285738\ttotal: 207ms\tremaining: 314ms\n",
      "1000:\tlearn: 0.1131688\ttotal: 413ms\tremaining: 107ms\n",
      "1259:\tlearn: 0.1077575\ttotal: 525ms\tremaining: 0us\n",
      "0:\tlearn: 0.1617483\ttotal: 1.27ms\tremaining: 1.6s\n",
      "500:\tlearn: 0.1297308\ttotal: 222ms\tremaining: 336ms\n"
     ]
    },
    {
     "name": "stderr",
     "output_type": "stream",
     "text": [
      "Best trial: 4. Best value: -0.0295892:   5%|█▎                        | 5/100 [00:21<06:42,  4.24s/it, 21.79/1200 seconds]"
     ]
    },
    {
     "name": "stdout",
     "output_type": "stream",
     "text": [
      "1000:\tlearn: 0.1148619\ttotal: 441ms\tremaining: 114ms\n",
      "1259:\tlearn: 0.1104380\ttotal: 555ms\tremaining: 0us\n",
      "[I 2024-04-14 21:31:51,788] Trial 4 finished with value: -0.02958924500882117 and parameters: {'loss_function': 'MAE', 'depth': 4, 'iterations': 1260, 'min_data_in_leaf': 56, 'random_strength': 3.203652255735787}. Best is trial 4 with value: -0.02958924500882117.\n",
      "Learning rate set to 0.026526\n",
      "0:\tlearn: 0.2156223\ttotal: 737us\tremaining: 906ms\n",
      "500:\tlearn: 0.0767415\ttotal: 216ms\tremaining: 314ms\n",
      "1000:\tlearn: 0.0192975\ttotal: 435ms\tremaining: 99.5ms\n",
      "1229:\tlearn: 0.0110932\ttotal: 532ms\tremaining: 0us\n",
      "Learning rate set to 0.029533\n",
      "0:\tlearn: 0.2318123\ttotal: 799us\tremaining: 983ms\n",
      "500:\tlearn: 0.1075483\ttotal: 325ms\tremaining: 473ms\n",
      "1000:\tlearn: 0.0469822\ttotal: 646ms\tremaining: 148ms\n",
      "1229:\tlearn: 0.0309036\ttotal: 793ms\tremaining: 0us\n",
      "Learning rate set to 0.031464\n",
      "0:\tlearn: 0.2604873\ttotal: 647us\tremaining: 796ms\n",
      "500:\tlearn: 0.1326387\ttotal: 334ms\tremaining: 486ms\n",
      "1000:\tlearn: 0.0631287\ttotal: 686ms\tremaining: 157ms\n",
      "1229:\tlearn: 0.0445296\ttotal: 839ms\tremaining: 0us\n",
      "Learning rate set to 0.032915\n",
      "0:\tlearn: 0.2638047\ttotal: 623us\tremaining: 766ms\n",
      "500:\tlearn: 0.1509339\ttotal: 334ms\tremaining: 486ms\n",
      "1000:\tlearn: 0.0847677\ttotal: 680ms\tremaining: 155ms\n",
      "1229:\tlearn: 0.0639519\ttotal: 843ms\tremaining: 0us\n",
      "Learning rate set to 0.034089\n",
      "0:\tlearn: 0.2832719\ttotal: 670us\tremaining: 824ms\n",
      "500:\tlearn: 0.1622635\ttotal: 358ms\tremaining: 522ms\n",
      "1000:\tlearn: 0.0984598\ttotal: 722ms\tremaining: 165ms\n",
      "1229:\tlearn: 0.0774664\ttotal: 890ms\tremaining: 0us\n",
      "Learning rate set to 0.03508\n",
      "0:\tlearn: 0.2846698\ttotal: 622us\tremaining: 765ms\n",
      "500:\tlearn: 0.1733445\ttotal: 364ms\tremaining: 530ms\n",
      "1000:\tlearn: 0.1095019\ttotal: 747ms\tremaining: 171ms\n",
      "1229:\tlearn: 0.0916853\ttotal: 918ms\tremaining: 0us\n",
      "Learning rate set to 0.035941\n",
      "0:\tlearn: 0.2797944\ttotal: 734us\tremaining: 903ms\n",
      "500:\tlearn: 0.1733228\ttotal: 377ms\tremaining: 549ms\n"
     ]
    },
    {
     "name": "stderr",
     "output_type": "stream",
     "text": [
      "Best trial: 4. Best value: -0.0295892:   6%|█▌                        | 6/100 [00:27<07:37,  4.87s/it, 27.89/1200 seconds]"
     ]
    },
    {
     "name": "stdout",
     "output_type": "stream",
     "text": [
      "1000:\tlearn: 0.1158644\ttotal: 752ms\tremaining: 172ms\n",
      "1229:\tlearn: 0.0964894\ttotal: 926ms\tremaining: 0us\n",
      "[I 2024-04-14 21:31:57,885] Trial 5 finished with value: -0.08174940679020902 and parameters: {'loss_function': 'RMSE', 'depth': 6, 'iterations': 1230, 'min_data_in_leaf': 86, 'random_strength': 9.344583608824657}. Best is trial 4 with value: -0.02958924500882117.\n",
      "Learning rate set to 0.042044\n",
      "0:\tlearn: 0.2158942\ttotal: 609us\tremaining: 425ms\n",
      "500:\tlearn: 0.0482258\ttotal: 166ms\tremaining: 65.1ms\n",
      "697:\tlearn: 0.0244652\ttotal: 229ms\tremaining: 0us\n",
      "Learning rate set to 0.04681\n",
      "0:\tlearn: 0.2317221\ttotal: 551us\tremaining: 384ms\n",
      "500:\tlearn: 0.0837320\ttotal: 226ms\tremaining: 88.8ms\n",
      "697:\tlearn: 0.0554201\ttotal: 317ms\tremaining: 0us\n",
      "Learning rate set to 0.049871\n",
      "0:\tlearn: 0.2603951\ttotal: 457us\tremaining: 319ms\n",
      "500:\tlearn: 0.1029755\ttotal: 243ms\tremaining: 95.7ms\n",
      "697:\tlearn: 0.0728571\ttotal: 340ms\tremaining: 0us\n",
      "Learning rate set to 0.052172\n",
      "0:\tlearn: 0.2634132\ttotal: 478us\tremaining: 334ms\n",
      "500:\tlearn: 0.1305841\ttotal: 248ms\tremaining: 97.4ms\n",
      "697:\tlearn: 0.0997843\ttotal: 351ms\tremaining: 0us\n",
      "Learning rate set to 0.054032\n",
      "0:\tlearn: 0.2830284\ttotal: 554us\tremaining: 387ms\n",
      "500:\tlearn: 0.1445444\ttotal: 262ms\tremaining: 103ms\n",
      "697:\tlearn: 0.1134335\ttotal: 366ms\tremaining: 0us\n",
      "Learning rate set to 0.055603\n",
      "0:\tlearn: 0.2844505\ttotal: 523us\tremaining: 365ms\n",
      "500:\tlearn: 0.1520661\ttotal: 265ms\tremaining: 104ms\n",
      "697:\tlearn: 0.1228814\ttotal: 370ms\tremaining: 0us\n",
      "Learning rate set to 0.056968\n",
      "0:\tlearn: 0.2796198\ttotal: 623us\tremaining: 435ms\n"
     ]
    },
    {
     "name": "stderr",
     "output_type": "stream",
     "text": [
      "Best trial: 6. Best value: 0.0880821:   7%|█▉                         | 7/100 [00:30<06:22,  4.12s/it, 30.45/1200 seconds]"
     ]
    },
    {
     "name": "stdout",
     "output_type": "stream",
     "text": [
      "500:\tlearn: 0.1610687\ttotal: 280ms\tremaining: 110ms\n",
      "697:\tlearn: 0.1332734\ttotal: 392ms\tremaining: 0us\n",
      "[I 2024-04-14 21:32:00,445] Trial 6 finished with value: 0.08808213019337055 and parameters: {'loss_function': 'RMSE', 'depth': 5, 'iterations': 698, 'min_data_in_leaf': 26, 'random_strength': 7.88881846280275}. Best is trial 6 with value: 0.08808213019337055.\n",
      "0:\tlearn: 0.1112784\ttotal: 977us\tremaining: 1.33s\n",
      "500:\tlearn: 0.0069538\ttotal: 481ms\tremaining: 829ms\n",
      "1000:\tlearn: 0.0014158\ttotal: 961ms\tremaining: 350ms\n",
      "1364:\tlearn: 0.0004140\ttotal: 1.31s\tremaining: 0us\n",
      "0:\tlearn: 0.1264925\ttotal: 1.72ms\tremaining: 2.35s\n",
      "500:\tlearn: 0.0151585\ttotal: 733ms\tremaining: 1.26s\n",
      "1000:\tlearn: 0.0066344\ttotal: 1.45s\tremaining: 526ms\n",
      "1364:\tlearn: 0.0045035\ttotal: 1.97s\tremaining: 0us\n",
      "0:\tlearn: 0.1374413\ttotal: 1.59ms\tremaining: 2.17s\n",
      "500:\tlearn: 0.0228927\ttotal: 752ms\tremaining: 1.3s\n",
      "1000:\tlearn: 0.0092576\ttotal: 1.5s\tremaining: 547ms\n",
      "1364:\tlearn: 0.0061632\ttotal: 2.06s\tremaining: 0us\n",
      "0:\tlearn: 0.1432281\ttotal: 1.46ms\tremaining: 1.99s\n",
      "500:\tlearn: 0.0350110\ttotal: 776ms\tremaining: 1.34s\n",
      "1000:\tlearn: 0.0174939\ttotal: 1.54s\tremaining: 560ms\n",
      "1364:\tlearn: 0.0126663\ttotal: 2.09s\tremaining: 0us\n",
      "0:\tlearn: 0.1591752\ttotal: 1.54ms\tremaining: 2.1s\n",
      "500:\tlearn: 0.0466844\ttotal: 754ms\tremaining: 1.3s\n",
      "1000:\tlearn: 0.0263974\ttotal: 1.51s\tremaining: 549ms\n",
      "1364:\tlearn: 0.0190430\ttotal: 2.07s\tremaining: 0us\n",
      "0:\tlearn: 0.1624981\ttotal: 1.63ms\tremaining: 2.22s\n",
      "500:\tlearn: 0.0536528\ttotal: 777ms\tremaining: 1.34s\n",
      "1000:\tlearn: 0.0329419\ttotal: 1.55s\tremaining: 564ms\n",
      "1364:\tlearn: 0.0253081\ttotal: 2.2s\tremaining: 0us\n",
      "0:\tlearn: 0.1609319\ttotal: 1.54ms\tremaining: 2.1s\n",
      "500:\tlearn: 0.0591357\ttotal: 796ms\tremaining: 1.37s\n",
      "1000:\tlearn: 0.0359358\ttotal: 1.59s\tremaining: 577ms\n"
     ]
    },
    {
     "name": "stderr",
     "output_type": "stream",
     "text": [
      "Best trial: 6. Best value: 0.0880821:   8%|██▏                        | 8/100 [00:44<11:21,  7.41s/it, 44.91/1200 seconds]"
     ]
    },
    {
     "name": "stdout",
     "output_type": "stream",
     "text": [
      "1364:\tlearn: 0.0280711\ttotal: 2.16s\tremaining: 0us\n",
      "[I 2024-04-14 21:32:14,903] Trial 7 finished with value: -0.15360834067063944 and parameters: {'loss_function': 'MAE', 'depth': 8, 'iterations': 1365, 'min_data_in_leaf': 50, 'random_strength': 0.09994210187727393}. Best is trial 6 with value: 0.08808213019337055.\n",
      "0:\tlearn: 0.1115638\ttotal: 778us\tremaining: 665ms\n",
      "500:\tlearn: 0.0433781\ttotal: 177ms\tremaining: 125ms\n",
      "854:\tlearn: 0.0308110\ttotal: 289ms\tremaining: 0us\n",
      "0:\tlearn: 0.1274772\ttotal: 479us\tremaining: 410ms\n",
      "500:\tlearn: 0.0622290\ttotal: 234ms\tremaining: 166ms\n",
      "854:\tlearn: 0.0497584\ttotal: 403ms\tremaining: 0us\n",
      "0:\tlearn: 0.1379977\ttotal: 581us\tremaining: 496ms\n",
      "500:\tlearn: 0.0790330\ttotal: 254ms\tremaining: 180ms\n",
      "854:\tlearn: 0.0648322\ttotal: 432ms\tremaining: 0us\n",
      "0:\tlearn: 0.1438610\ttotal: 618us\tremaining: 528ms\n",
      "500:\tlearn: 0.0936973\ttotal: 273ms\tremaining: 193ms\n",
      "854:\tlearn: 0.0797681\ttotal: 467ms\tremaining: 0us\n",
      "0:\tlearn: 0.1594817\ttotal: 655us\tremaining: 560ms\n",
      "500:\tlearn: 0.1055992\ttotal: 288ms\tremaining: 203ms\n",
      "854:\tlearn: 0.0928195\ttotal: 490ms\tremaining: 0us\n",
      "0:\tlearn: 0.1630900\ttotal: 711us\tremaining: 608ms\n",
      "500:\tlearn: 0.1097902\ttotal: 277ms\tremaining: 196ms\n",
      "854:\tlearn: 0.0968894\ttotal: 479ms\tremaining: 0us\n",
      "0:\tlearn: 0.1614584\ttotal: 798us\tremaining: 682ms\n",
      "500:\tlearn: 0.1142956\ttotal: 290ms\tremaining: 205ms\n"
     ]
    },
    {
     "name": "stderr",
     "output_type": "stream",
     "text": [
      "Best trial: 6. Best value: 0.0880821:   9%|██▍                        | 9/100 [00:48<09:17,  6.12s/it, 48.20/1200 seconds]"
     ]
    },
    {
     "name": "stdout",
     "output_type": "stream",
     "text": [
      "854:\tlearn: 0.1014136\ttotal: 500ms\tremaining: 0us\n",
      "[I 2024-04-14 21:32:18,196] Trial 8 finished with value: 0.03933445463930035 and parameters: {'loss_function': 'MAE', 'depth': 5, 'iterations': 855, 'min_data_in_leaf': 91, 'random_strength': 0.3557336219350382}. Best is trial 6 with value: 0.08808213019337055.\n",
      "0:\tlearn: 0.1123633\ttotal: 723us\tremaining: 346ms\n",
      "478:\tlearn: 0.0472623\ttotal: 159ms\tremaining: 0us\n",
      "0:\tlearn: 0.1275718\ttotal: 500us\tremaining: 239ms\n",
      "478:\tlearn: 0.0693683\ttotal: 227ms\tremaining: 0us\n",
      "0:\tlearn: 0.1383391\ttotal: 509us\tremaining: 244ms\n",
      "478:\tlearn: 0.0872335\ttotal: 245ms\tremaining: 0us\n",
      "0:\tlearn: 0.1442164\ttotal: 520us\tremaining: 249ms\n",
      "478:\tlearn: 0.1009393\ttotal: 250ms\tremaining: 0us\n",
      "0:\tlearn: 0.1600889\ttotal: 697us\tremaining: 333ms\n",
      "478:\tlearn: 0.1168157\ttotal: 277ms\tremaining: 0us\n",
      "0:\tlearn: 0.1633955\ttotal: 578us\tremaining: 276ms\n",
      "478:\tlearn: 0.1200653\ttotal: 266ms\tremaining: 0us\n",
      "0:\tlearn: 0.1618510\ttotal: 749us\tremaining: 358ms\n"
     ]
    },
    {
     "name": "stderr",
     "output_type": "stream",
     "text": [
      "Best trial: 6. Best value: 0.0880821:  10%|██▌                       | 10/100 [00:50<07:12,  4.80s/it, 50.05/1200 seconds]"
     ]
    },
    {
     "name": "stdout",
     "output_type": "stream",
     "text": [
      "478:\tlearn: 0.1229341\ttotal: 278ms\tremaining: 0us\n",
      "[I 2024-04-14 21:32:20,043] Trial 9 finished with value: -0.0718988623240092 and parameters: {'loss_function': 'MAE', 'depth': 5, 'iterations': 479, 'min_data_in_leaf': 9, 'random_strength': 7.472966520288461}. Best is trial 6 with value: 0.08808213019337055.\n",
      "Learning rate set to 0.04433\n",
      "0:\tlearn: 0.2150308\ttotal: 658us\tremaining: 430ms\n",
      "500:\tlearn: 0.0194236\ttotal: 312ms\tremaining: 95.4ms\n",
      "653:\tlearn: 0.0088010\ttotal: 412ms\tremaining: 0us\n",
      "Learning rate set to 0.049355\n",
      "0:\tlearn: 0.2316003\ttotal: 886us\tremaining: 579ms\n",
      "500:\tlearn: 0.0386832\ttotal: 465ms\tremaining: 142ms\n",
      "653:\tlearn: 0.0234998\ttotal: 611ms\tremaining: 0us\n",
      "Learning rate set to 0.052583\n",
      "0:\tlearn: 0.2602215\ttotal: 1.07ms\tremaining: 697ms\n",
      "500:\tlearn: 0.0588423\ttotal: 496ms\tremaining: 151ms\n",
      "653:\tlearn: 0.0380838\ttotal: 649ms\tremaining: 0us\n",
      "Learning rate set to 0.055008\n",
      "0:\tlearn: 0.2636537\ttotal: 1.02ms\tremaining: 665ms\n",
      "500:\tlearn: 0.0765338\ttotal: 497ms\tremaining: 152ms\n",
      "653:\tlearn: 0.0521815\ttotal: 651ms\tremaining: 0us\n",
      "Learning rate set to 0.05697\n",
      "0:\tlearn: 0.2827834\ttotal: 2.08ms\tremaining: 1.35s\n",
      "500:\tlearn: 0.0963286\ttotal: 505ms\tremaining: 154ms\n",
      "653:\tlearn: 0.0680239\ttotal: 659ms\tremaining: 0us\n",
      "Learning rate set to 0.058626\n",
      "0:\tlearn: 0.2842919\ttotal: 1.64ms\tremaining: 1.07s\n",
      "500:\tlearn: 0.0994932\ttotal: 504ms\tremaining: 154ms\n",
      "653:\tlearn: 0.0731319\ttotal: 660ms\tremaining: 0us\n",
      "Learning rate set to 0.060065\n",
      "0:\tlearn: 0.2794485\ttotal: 1.67ms\tremaining: 1.09s\n"
     ]
    },
    {
     "name": "stderr",
     "output_type": "stream",
     "text": [
      "Best trial: 6. Best value: 0.0880821:  11%|██▊                       | 11/100 [00:54<07:01,  4.74s/it, 54.65/1200 seconds]"
     ]
    },
    {
     "name": "stdout",
     "output_type": "stream",
     "text": [
      "500:\tlearn: 0.1093465\ttotal: 518ms\tremaining: 158ms\n",
      "653:\tlearn: 0.0847110\ttotal: 668ms\tremaining: 0us\n",
      "[I 2024-04-14 21:32:24,642] Trial 10 finished with value: -0.10898552730378837 and parameters: {'loss_function': 'RMSE', 'depth': 7, 'iterations': 654, 'min_data_in_leaf': 31, 'random_strength': 9.855195707569969}. Best is trial 6 with value: 0.08808213019337055.\n",
      "Learning rate set to 0.039445\n",
      "0:\tlearn: 0.2154946\ttotal: 869us\tremaining: 656ms\n",
      "500:\tlearn: 0.0506730\ttotal: 166ms\tremaining: 84.3ms\n",
      "754:\tlearn: 0.0217427\ttotal: 244ms\tremaining: 0us\n",
      "Learning rate set to 0.043916\n",
      "0:\tlearn: 0.2315431\ttotal: 468us\tremaining: 353ms\n",
      "500:\tlearn: 0.0856733\ttotal: 224ms\tremaining: 114ms\n",
      "754:\tlearn: 0.0519488\ttotal: 340ms\tremaining: 0us\n",
      "Learning rate set to 0.046788\n",
      "0:\tlearn: 0.2602297\ttotal: 714us\tremaining: 539ms\n",
      "500:\tlearn: 0.1084574\ttotal: 245ms\tremaining: 124ms\n",
      "754:\tlearn: 0.0712403\ttotal: 372ms\tremaining: 0us\n",
      "Learning rate set to 0.048946\n",
      "0:\tlearn: 0.2634476\ttotal: 484us\tremaining: 365ms\n",
      "500:\tlearn: 0.1323674\ttotal: 250ms\tremaining: 127ms\n",
      "754:\tlearn: 0.0947438\ttotal: 382ms\tremaining: 0us\n",
      "Learning rate set to 0.050692\n",
      "0:\tlearn: 0.2828813\ttotal: 1.21ms\tremaining: 914ms\n",
      "500:\tlearn: 0.1479075\ttotal: 267ms\tremaining: 135ms\n",
      "754:\tlearn: 0.1120549\ttotal: 402ms\tremaining: 0us\n",
      "Learning rate set to 0.052166\n",
      "0:\tlearn: 0.2844920\ttotal: 662us\tremaining: 499ms\n",
      "500:\tlearn: 0.1552638\ttotal: 272ms\tremaining: 138ms\n",
      "754:\tlearn: 0.1224797\ttotal: 410ms\tremaining: 0us\n",
      "Learning rate set to 0.053446\n",
      "0:\tlearn: 0.2793074\ttotal: 528us\tremaining: 398ms\n"
     ]
    },
    {
     "name": "stderr",
     "output_type": "stream",
     "text": [
      "Best trial: 11. Best value: 0.0908788:  12%|███                      | 12/100 [00:57<06:04,  4.15s/it, 57.44/1200 seconds]"
     ]
    },
    {
     "name": "stdout",
     "output_type": "stream",
     "text": [
      "500:\tlearn: 0.1636365\ttotal: 277ms\tremaining: 140ms\n",
      "754:\tlearn: 0.1307060\ttotal: 422ms\tremaining: 0us\n",
      "[I 2024-04-14 21:32:27,429] Trial 11 finished with value: 0.09087879559254378 and parameters: {'loss_function': 'RMSE', 'depth': 5, 'iterations': 755, 'min_data_in_leaf': 98, 'random_strength': 4.18834775367046}. Best is trial 11 with value: 0.09087879559254378.\n",
      "Learning rate set to 0.043626\n",
      "0:\tlearn: 0.2154268\ttotal: 626us\tremaining: 417ms\n",
      "500:\tlearn: 0.0420292\ttotal: 163ms\tremaining: 54.1ms\n",
      "666:\tlearn: 0.0241837\ttotal: 223ms\tremaining: 0us\n",
      "Learning rate set to 0.048572\n",
      "0:\tlearn: 0.2314876\ttotal: 472us\tremaining: 315ms\n",
      "500:\tlearn: 0.0797450\ttotal: 229ms\tremaining: 75.9ms\n",
      "666:\tlearn: 0.0567072\ttotal: 305ms\tremaining: 0us\n",
      "Learning rate set to 0.051748\n",
      "0:\tlearn: 0.2601730\ttotal: 1.34ms\tremaining: 895ms\n",
      "500:\tlearn: 0.1007306\ttotal: 240ms\tremaining: 79.4ms\n",
      "666:\tlearn: 0.0733865\ttotal: 321ms\tremaining: 0us\n",
      "Learning rate set to 0.054135\n",
      "0:\tlearn: 0.2633922\ttotal: 1.73ms\tremaining: 1.15s\n",
      "500:\tlearn: 0.1221990\ttotal: 255ms\tremaining: 84.7ms\n",
      "666:\tlearn: 0.0957403\ttotal: 339ms\tremaining: 0us\n",
      "Learning rate set to 0.056065\n",
      "0:\tlearn: 0.2827894\ttotal: 571us\tremaining: 380ms\n",
      "500:\tlearn: 0.1388785\ttotal: 266ms\tremaining: 88.3ms\n",
      "666:\tlearn: 0.1116993\ttotal: 355ms\tremaining: 0us\n",
      "Learning rate set to 0.057695\n",
      "0:\tlearn: 0.2844254\ttotal: 582us\tremaining: 388ms\n",
      "500:\tlearn: 0.1495968\ttotal: 261ms\tremaining: 86.4ms\n",
      "666:\tlearn: 0.1266886\ttotal: 350ms\tremaining: 0us\n",
      "Learning rate set to 0.059112\n",
      "0:\tlearn: 0.2795975\ttotal: 703us\tremaining: 469ms\n"
     ]
    },
    {
     "name": "stderr",
     "output_type": "stream",
     "text": [
      "Best trial: 12. Best value: 0.114577:  13%|███▍                      | 13/100 [00:59<05:16,  3.63s/it, 59.89/1200 seconds]"
     ]
    },
    {
     "name": "stdout",
     "output_type": "stream",
     "text": [
      "500:\tlearn: 0.1556051\ttotal: 275ms\tremaining: 91.3ms\n",
      "666:\tlearn: 0.1341783\ttotal: 369ms\tremaining: 0us\n",
      "[I 2024-04-14 21:32:29,887] Trial 12 finished with value: 0.11457695444458471 and parameters: {'loss_function': 'RMSE', 'depth': 5, 'iterations': 667, 'min_data_in_leaf': 30, 'random_strength': 4.452449711834864}. Best is trial 12 with value: 0.11457695444458471.\n",
      "Learning rate set to 0.042998\n",
      "0:\tlearn: 0.2154370\ttotal: 1.03ms\tremaining: 698ms\n",
      "500:\tlearn: 0.0422332\ttotal: 160ms\tremaining: 57ms\n",
      "678:\tlearn: 0.0236086\ttotal: 216ms\tremaining: 0us\n",
      "Learning rate set to 0.047873\n",
      "0:\tlearn: 0.2314960\ttotal: 419us\tremaining: 284ms\n",
      "500:\tlearn: 0.0785505\ttotal: 233ms\tremaining: 82.6ms\n",
      "678:\tlearn: 0.0539054\ttotal: 313ms\tremaining: 0us\n",
      "Learning rate set to 0.051003\n",
      "0:\tlearn: 0.2601815\ttotal: 1.2ms\tremaining: 813ms\n",
      "500:\tlearn: 0.1015125\ttotal: 243ms\tremaining: 86.3ms\n",
      "678:\tlearn: 0.0717111\ttotal: 329ms\tremaining: 0us\n",
      "Learning rate set to 0.053356\n",
      "0:\tlearn: 0.2634005\ttotal: 661us\tremaining: 448ms\n",
      "500:\tlearn: 0.1254379\ttotal: 260ms\tremaining: 92.2ms\n",
      "678:\tlearn: 0.0948006\ttotal: 353ms\tremaining: 0us\n",
      "Learning rate set to 0.055258\n",
      "0:\tlearn: 0.2828032\ttotal: 475us\tremaining: 323ms\n",
      "500:\tlearn: 0.1386890\ttotal: 258ms\tremaining: 91.5ms\n",
      "678:\tlearn: 0.1097905\ttotal: 350ms\tremaining: 0us\n",
      "Learning rate set to 0.056865\n",
      "0:\tlearn: 0.2844353\ttotal: 612us\tremaining: 415ms\n",
      "500:\tlearn: 0.1510477\ttotal: 267ms\tremaining: 94.9ms\n",
      "678:\tlearn: 0.1245056\ttotal: 363ms\tremaining: 0us\n",
      "Learning rate set to 0.058261\n",
      "0:\tlearn: 0.2792266\ttotal: 648us\tremaining: 440ms\n"
     ]
    },
    {
     "name": "stderr",
     "output_type": "stream",
     "text": [
      "Best trial: 13. Best value: 0.125506:  14%|███▋                      | 14/100 [01:02<04:43,  3.29s/it, 62.39/1200 seconds]"
     ]
    },
    {
     "name": "stdout",
     "output_type": "stream",
     "text": [
      "500:\tlearn: 0.1575378\ttotal: 278ms\tremaining: 98.7ms\n",
      "678:\tlearn: 0.1326139\ttotal: 376ms\tremaining: 0us\n",
      "[I 2024-04-14 21:32:32,386] Trial 13 finished with value: 0.12550595955628965 and parameters: {'loss_function': 'RMSE', 'depth': 5, 'iterations': 679, 'min_data_in_leaf': 76, 'random_strength': 4.190627730193965}. Best is trial 13 with value: 0.12550595955628965.\n",
      "Learning rate set to 0.050659\n",
      "0:\tlearn: 0.2154247\ttotal: 1.04ms\tremaining: 576ms\n",
      "500:\tlearn: 0.0574563\ttotal: 126ms\tremaining: 13.6ms\n",
      "554:\tlearn: 0.0501947\ttotal: 138ms\tremaining: 0us\n",
      "Learning rate set to 0.056401\n",
      "0:\tlearn: 0.2317394\ttotal: 1.03ms\tremaining: 572ms\n",
      "500:\tlearn: 0.0932700\ttotal: 164ms\tremaining: 17.7ms\n",
      "554:\tlearn: 0.0842684\ttotal: 180ms\tremaining: 0us\n",
      "Learning rate set to 0.060089\n",
      "0:\tlearn: 0.2602109\ttotal: 1.04ms\tremaining: 576ms\n",
      "500:\tlearn: 0.1143894\ttotal: 166ms\tremaining: 17.9ms\n",
      "554:\tlearn: 0.1047626\ttotal: 187ms\tremaining: 0us\n",
      "Learning rate set to 0.062861\n",
      "0:\tlearn: 0.2633298\ttotal: 442us\tremaining: 245ms\n",
      "500:\tlearn: 0.1374535\ttotal: 189ms\tremaining: 20.4ms\n",
      "554:\tlearn: 0.1284701\ttotal: 209ms\tremaining: 0us\n",
      "Learning rate set to 0.065103\n",
      "0:\tlearn: 0.2827229\ttotal: 437us\tremaining: 242ms\n",
      "500:\tlearn: 0.1546609\ttotal: 198ms\tremaining: 21.3ms\n",
      "554:\tlearn: 0.1472052\ttotal: 220ms\tremaining: 0us\n",
      "Learning rate set to 0.066996\n",
      "0:\tlearn: 0.2843828\ttotal: 401us\tremaining: 223ms\n",
      "500:\tlearn: 0.1650946\ttotal: 200ms\tremaining: 21.5ms\n",
      "554:\tlearn: 0.1578636\ttotal: 220ms\tremaining: 0us\n",
      "Learning rate set to 0.06864\n",
      "0:\tlearn: 0.2796620\ttotal: 499us\tremaining: 276ms\n"
     ]
    },
    {
     "name": "stderr",
     "output_type": "stream",
     "text": [
      "Best trial: 13. Best value: 0.125506:  15%|███▉                      | 15/100 [01:03<03:55,  2.77s/it, 63.95/1200 seconds]"
     ]
    },
    {
     "name": "stdout",
     "output_type": "stream",
     "text": [
      "500:\tlearn: 0.1680045\ttotal: 209ms\tremaining: 22.5ms\n",
      "554:\tlearn: 0.1601149\ttotal: 237ms\tremaining: 0us\n",
      "[I 2024-04-14 21:32:33,941] Trial 14 finished with value: 0.09016138754470805 and parameters: {'loss_function': 'RMSE', 'depth': 4, 'iterations': 555, 'min_data_in_leaf': 74, 'random_strength': 5.234282150994176}. Best is trial 13 with value: 0.12550595955628965.\n",
      "Learning rate set to 0.032121\n",
      "0:\tlearn: 0.2155788\ttotal: 553us\tremaining: 537ms\n",
      "500:\tlearn: 0.0460519\ttotal: 218ms\tremaining: 205ms\n",
      "971:\tlearn: 0.0111498\ttotal: 427ms\tremaining: 0us\n",
      "Learning rate set to 0.035762\n",
      "0:\tlearn: 0.2313686\ttotal: 1.42ms\tremaining: 1.38s\n",
      "500:\tlearn: 0.0794196\ttotal: 331ms\tremaining: 311ms\n",
      "971:\tlearn: 0.0315672\ttotal: 651ms\tremaining: 0us\n",
      "Learning rate set to 0.038101\n",
      "0:\tlearn: 0.2601647\ttotal: 670us\tremaining: 651ms\n",
      "500:\tlearn: 0.1042906\ttotal: 337ms\tremaining: 316ms\n",
      "971:\tlearn: 0.0466777\ttotal: 660ms\tremaining: 0us\n",
      "Learning rate set to 0.039858\n",
      "0:\tlearn: 0.2634470\ttotal: 779us\tremaining: 757ms\n",
      "500:\tlearn: 0.1251364\ttotal: 353ms\tremaining: 332ms\n",
      "971:\tlearn: 0.0639980\ttotal: 692ms\tremaining: 0us\n",
      "Learning rate set to 0.04128\n",
      "0:\tlearn: 0.2826984\ttotal: 653us\tremaining: 635ms\n",
      "500:\tlearn: 0.1401866\ttotal: 359ms\tremaining: 337ms\n",
      "971:\tlearn: 0.0796771\ttotal: 698ms\tremaining: 0us\n",
      "Learning rate set to 0.04248\n",
      "0:\tlearn: 0.2839081\ttotal: 664us\tremaining: 645ms\n",
      "500:\tlearn: 0.1483781\ttotal: 367ms\tremaining: 345ms\n",
      "971:\tlearn: 0.0892554\ttotal: 706ms\tremaining: 0us\n",
      "Learning rate set to 0.043523\n",
      "0:\tlearn: 0.2790788\ttotal: 682us\tremaining: 662ms\n",
      "500:\tlearn: 0.1563423\ttotal: 372ms\tremaining: 349ms\n"
     ]
    },
    {
     "name": "stderr",
     "output_type": "stream",
     "text": [
      "Best trial: 13. Best value: 0.125506:  16%|████▏                     | 16/100 [01:08<04:45,  3.40s/it, 68.80/1200 seconds]"
     ]
    },
    {
     "name": "stdout",
     "output_type": "stream",
     "text": [
      "971:\tlearn: 0.0983829\ttotal: 729ms\tremaining: 0us\n",
      "[I 2024-04-14 21:32:38,798] Trial 15 finished with value: -0.04176037377233101 and parameters: {'loss_function': 'RMSE', 'depth': 6, 'iterations': 972, 'min_data_in_leaf': 40, 'random_strength': 2.9188223074517112}. Best is trial 13 with value: 0.12550595955628965.\n",
      "Learning rate set to 0.115216\n",
      "0:\tlearn: 0.2133851\ttotal: 673us\tremaining: 135ms\n",
      "201:\tlearn: 0.0141280\ttotal: 126ms\tremaining: 0us\n",
      "Learning rate set to 0.128276\n",
      "0:\tlearn: 0.2298506\ttotal: 950us\tremaining: 191ms\n",
      "201:\tlearn: 0.0381021\ttotal: 187ms\tremaining: 0us\n",
      "Learning rate set to 0.136665\n",
      "0:\tlearn: 0.2588909\ttotal: 1.01ms\tremaining: 203ms\n",
      "201:\tlearn: 0.0525195\ttotal: 194ms\tremaining: 0us\n",
      "Learning rate set to 0.142968\n",
      "0:\tlearn: 0.2622550\ttotal: 962us\tremaining: 193ms\n",
      "201:\tlearn: 0.0675996\ttotal: 199ms\tremaining: 0us\n",
      "Learning rate set to 0.148067\n",
      "0:\tlearn: 0.2809859\ttotal: 1.15ms\tremaining: 231ms\n",
      "201:\tlearn: 0.0863179\ttotal: 203ms\tremaining: 0us\n",
      "Learning rate set to 0.152372\n",
      "0:\tlearn: 0.2822928\ttotal: 966us\tremaining: 194ms\n",
      "201:\tlearn: 0.0905577\ttotal: 202ms\tremaining: 0us\n",
      "Learning rate set to 0.156113\n",
      "0:\tlearn: 0.2780993\ttotal: 1.21ms\tremaining: 244ms\n"
     ]
    },
    {
     "name": "stderr",
     "output_type": "stream",
     "text": [
      "Best trial: 13. Best value: 0.125506:  17%|████▍                     | 17/100 [01:10<03:52,  2.80s/it, 70.23/1200 seconds]"
     ]
    },
    {
     "name": "stdout",
     "output_type": "stream",
     "text": [
      "201:\tlearn: 0.1007249\ttotal: 210ms\tremaining: 0us\n",
      "[I 2024-04-14 21:32:40,224] Trial 16 finished with value: -0.17570092025568762 and parameters: {'loss_function': 'RMSE', 'depth': 7, 'iterations': 202, 'min_data_in_leaf': 72, 'random_strength': 5.024329360340357}. Best is trial 13 with value: 0.12550595955628965.\n",
      "Learning rate set to 0.036098\n",
      "0:\tlearn: 0.2155490\ttotal: 1.08ms\tremaining: 907ms\n",
      "500:\tlearn: 0.0571974\ttotal: 158ms\tremaining: 108ms\n",
      "841:\tlearn: 0.0225110\ttotal: 272ms\tremaining: 0us\n",
      "Learning rate set to 0.04019\n",
      "0:\tlearn: 0.2315876\ttotal: 588us\tremaining: 495ms\n",
      "500:\tlearn: 0.0919764\ttotal: 226ms\tremaining: 154ms\n",
      "841:\tlearn: 0.0506101\ttotal: 383ms\tremaining: 0us\n",
      "Learning rate set to 0.042818\n",
      "0:\tlearn: 0.2602753\ttotal: 434us\tremaining: 365ms\n",
      "500:\tlearn: 0.1178166\ttotal: 247ms\tremaining: 168ms\n",
      "841:\tlearn: 0.0700320\ttotal: 411ms\tremaining: 0us\n",
      "Learning rate set to 0.044793\n",
      "0:\tlearn: 0.2634922\ttotal: 542us\tremaining: 456ms\n",
      "500:\tlearn: 0.1354355\ttotal: 258ms\tremaining: 176ms\n",
      "841:\tlearn: 0.0904636\ttotal: 436ms\tremaining: 0us\n",
      "Learning rate set to 0.046391\n",
      "0:\tlearn: 0.2829553\ttotal: 745us\tremaining: 627ms\n",
      "500:\tlearn: 0.1551256\ttotal: 265ms\tremaining: 180ms\n",
      "841:\tlearn: 0.1100825\ttotal: 447ms\tremaining: 0us\n",
      "Learning rate set to 0.047739\n",
      "0:\tlearn: 0.2841295\ttotal: 641us\tremaining: 539ms\n",
      "500:\tlearn: 0.1601593\ttotal: 266ms\tremaining: 181ms\n",
      "841:\tlearn: 0.1181897\ttotal: 447ms\tremaining: 0us\n",
      "Learning rate set to 0.048911\n",
      "0:\tlearn: 0.2790775\ttotal: 550us\tremaining: 463ms\n",
      "500:\tlearn: 0.1681987\ttotal: 277ms\tremaining: 188ms\n"
     ]
    },
    {
     "name": "stderr",
     "output_type": "stream",
     "text": [
      "Best trial: 17. Best value: 0.194959:  18%|████▋                     | 18/100 [01:13<03:57,  2.89s/it, 73.33/1200 seconds]"
     ]
    },
    {
     "name": "stdout",
     "output_type": "stream",
     "text": [
      "841:\tlearn: 0.1287810\ttotal: 472ms\tremaining: 0us\n",
      "[I 2024-04-14 21:32:43,322] Trial 17 finished with value: 0.1949591903152708 and parameters: {'loss_function': 'RMSE', 'depth': 5, 'iterations': 842, 'min_data_in_leaf': 19, 'random_strength': 3.5488568432194576}. Best is trial 17 with value: 0.1949591903152708.\n",
      "0:\tlearn: 0.1089110\ttotal: 587us\tremaining: 880ms\n",
      "500:\tlearn: 0.0153054\ttotal: 323ms\tremaining: 643ms\n",
      "1000:\tlearn: 0.0058043\ttotal: 659ms\tremaining: 328ms\n",
      "1498:\tlearn: 0.0030592\ttotal: 979ms\tremaining: 0us\n",
      "0:\tlearn: 0.1257495\ttotal: 863us\tremaining: 1.29s\n",
      "500:\tlearn: 0.0313720\ttotal: 474ms\tremaining: 945ms\n",
      "1000:\tlearn: 0.0145331\ttotal: 956ms\tremaining: 475ms\n",
      "1498:\tlearn: 0.0093409\ttotal: 1.42s\tremaining: 0us\n",
      "0:\tlearn: 0.1335907\ttotal: 1.08ms\tremaining: 1.62s\n",
      "500:\tlearn: 0.0469944\ttotal: 488ms\tremaining: 972ms\n",
      "1000:\tlearn: 0.0254669\ttotal: 986ms\tremaining: 490ms\n",
      "1498:\tlearn: 0.0170449\ttotal: 1.48s\tremaining: 0us\n",
      "0:\tlearn: 0.1399853\ttotal: 973us\tremaining: 1.46s\n",
      "500:\tlearn: 0.0624900\ttotal: 494ms\tremaining: 985ms\n",
      "1000:\tlearn: 0.0379655\ttotal: 1.01s\tremaining: 502ms\n",
      "1498:\tlearn: 0.0261545\ttotal: 1.51s\tremaining: 0us\n",
      "0:\tlearn: 0.1554628\ttotal: 1.01ms\tremaining: 1.51s\n",
      "500:\tlearn: 0.0775724\ttotal: 508ms\tremaining: 1.01s\n",
      "1000:\tlearn: 0.0485866\ttotal: 1.03s\tremaining: 511ms\n",
      "1498:\tlearn: 0.0359459\ttotal: 1.54s\tremaining: 0us\n",
      "0:\tlearn: 0.1590498\ttotal: 1.09ms\tremaining: 1.64s\n",
      "500:\tlearn: 0.0811649\ttotal: 507ms\tremaining: 1.01s\n",
      "1000:\tlearn: 0.0529908\ttotal: 1.04s\tremaining: 516ms\n",
      "1498:\tlearn: 0.0406740\ttotal: 1.56s\tremaining: 0us\n",
      "0:\tlearn: 0.1575797\ttotal: 972us\tremaining: 1.46s\n",
      "500:\tlearn: 0.0848551\ttotal: 527ms\tremaining: 1.05s\n",
      "1000:\tlearn: 0.0590974\ttotal: 1.06s\tremaining: 527ms\n"
     ]
    },
    {
     "name": "stderr",
     "output_type": "stream",
     "text": [
      "Best trial: 17. Best value: 0.194959:  19%|████▉                     | 19/100 [01:23<07:01,  5.20s/it, 83.91/1200 seconds]"
     ]
    },
    {
     "name": "stdout",
     "output_type": "stream",
     "text": [
      "1498:\tlearn: 0.0463676\ttotal: 1.6s\tremaining: 0us\n",
      "[I 2024-04-14 21:32:53,905] Trial 18 finished with value: -0.09693774463321302 and parameters: {'loss_function': 'MAPE', 'depth': 7, 'iterations': 1499, 'min_data_in_leaf': 17, 'random_strength': 2.7564383206060104}. Best is trial 17 with value: 0.1949591903152708.\n",
      "Learning rate set to 0.035316\n",
      "0:\tlearn: 0.2159792\ttotal: 448us\tremaining: 388ms\n",
      "500:\tlearn: 0.0832234\ttotal: 112ms\tremaining: 81.1ms\n",
      "864:\tlearn: 0.0417372\ttotal: 202ms\tremaining: 0us\n",
      "Learning rate set to 0.039319\n",
      "0:\tlearn: 0.2318397\ttotal: 944us\tremaining: 816ms\n",
      "500:\tlearn: 0.1195338\ttotal: 166ms\tremaining: 121ms\n",
      "864:\tlearn: 0.0779881\ttotal: 284ms\tremaining: 0us\n",
      "Learning rate set to 0.04189\n",
      "0:\tlearn: 0.2605092\ttotal: 336us\tremaining: 291ms\n",
      "500:\tlearn: 0.1486421\ttotal: 172ms\tremaining: 125ms\n",
      "864:\tlearn: 0.1009434\ttotal: 300ms\tremaining: 0us\n",
      "Learning rate set to 0.043822\n",
      "0:\tlearn: 0.2635236\ttotal: 1.04ms\tremaining: 899ms\n",
      "500:\tlearn: 0.1698490\ttotal: 183ms\tremaining: 133ms\n",
      "864:\tlearn: 0.1231560\ttotal: 319ms\tremaining: 0us\n",
      "Learning rate set to 0.045385\n",
      "0:\tlearn: 0.2830338\ttotal: 431us\tremaining: 372ms\n",
      "500:\tlearn: 0.1833641\ttotal: 197ms\tremaining: 143ms\n",
      "864:\tlearn: 0.1428011\ttotal: 336ms\tremaining: 0us\n",
      "Learning rate set to 0.046705\n",
      "0:\tlearn: 0.2846063\ttotal: 962us\tremaining: 832ms\n",
      "500:\tlearn: 0.1897688\ttotal: 197ms\tremaining: 143ms\n",
      "864:\tlearn: 0.1493644\ttotal: 343ms\tremaining: 0us\n",
      "Learning rate set to 0.047851\n",
      "0:\tlearn: 0.2798291\ttotal: 1.13ms\tremaining: 976ms\n"
     ]
    },
    {
     "name": "stderr",
     "output_type": "stream",
     "text": [
      "Best trial: 17. Best value: 0.194959:  20%|█████▏                    | 20/100 [01:26<05:47,  4.35s/it, 86.27/1200 seconds]"
     ]
    },
    {
     "name": "stdout",
     "output_type": "stream",
     "text": [
      "500:\tlearn: 0.1930594\ttotal: 210ms\tremaining: 153ms\n",
      "864:\tlearn: 0.1554006\ttotal: 364ms\tremaining: 0us\n",
      "[I 2024-04-14 21:32:56,265] Trial 19 finished with value: 0.16952590382657054 and parameters: {'loss_function': 'RMSE', 'depth': 4, 'iterations': 865, 'min_data_in_leaf': 46, 'random_strength': 6.290466189614132}. Best is trial 17 with value: 0.1949591903152708.\n",
      "Learning rate set to 0.035382\n",
      "0:\tlearn: 0.2159789\ttotal: 536us\tremaining: 463ms\n",
      "500:\tlearn: 0.0843793\ttotal: 120ms\tremaining: 86.9ms\n",
      "862:\tlearn: 0.0416885\ttotal: 185ms\tremaining: 0us\n",
      "Learning rate set to 0.039393\n",
      "0:\tlearn: 0.2318393\ttotal: 1.04ms\tremaining: 899ms\n",
      "500:\tlearn: 0.1190143\ttotal: 162ms\tremaining: 117ms\n",
      "862:\tlearn: 0.0771062\ttotal: 282ms\tremaining: 0us\n",
      "Learning rate set to 0.041969\n",
      "0:\tlearn: 0.2605087\ttotal: 512us\tremaining: 442ms\n",
      "500:\tlearn: 0.1467847\ttotal: 173ms\tremaining: 125ms\n",
      "862:\tlearn: 0.1013892\ttotal: 302ms\tremaining: 0us\n",
      "Learning rate set to 0.043905\n",
      "0:\tlearn: 0.2635228\ttotal: 329us\tremaining: 284ms\n",
      "500:\tlearn: 0.1694934\ttotal: 173ms\tremaining: 125ms\n",
      "862:\tlearn: 0.1250410\ttotal: 309ms\tremaining: 0us\n",
      "Learning rate set to 0.045471\n",
      "0:\tlearn: 0.2830324\ttotal: 1.35ms\tremaining: 1.16s\n",
      "500:\tlearn: 0.1825363\ttotal: 189ms\tremaining: 137ms\n",
      "862:\tlearn: 0.1417538\ttotal: 333ms\tremaining: 0us\n",
      "Learning rate set to 0.046793\n",
      "0:\tlearn: 0.2846053\ttotal: 460us\tremaining: 397ms\n",
      "500:\tlearn: 0.1906116\ttotal: 206ms\tremaining: 149ms\n",
      "862:\tlearn: 0.1501756\ttotal: 350ms\tremaining: 0us\n",
      "Learning rate set to 0.047942\n",
      "0:\tlearn: 0.2798283\ttotal: 1.04ms\tremaining: 898ms\n"
     ]
    },
    {
     "name": "stderr",
     "output_type": "stream",
     "text": [
      "Best trial: 17. Best value: 0.194959:  21%|█████▍                    | 21/100 [01:28<04:55,  3.74s/it, 88.60/1200 seconds]"
     ]
    },
    {
     "name": "stdout",
     "output_type": "stream",
     "text": [
      "500:\tlearn: 0.1921283\ttotal: 208ms\tremaining: 150ms\n",
      "862:\tlearn: 0.1573259\ttotal: 357ms\tremaining: 0us\n",
      "[I 2024-04-14 21:32:58,592] Trial 20 finished with value: 0.18421959302527763 and parameters: {'loss_function': 'RMSE', 'depth': 4, 'iterations': 863, 'min_data_in_leaf': 40, 'random_strength': 6.303155677144534}. Best is trial 17 with value: 0.1949591903152708.\n",
      "Learning rate set to 0.03502\n",
      "0:\tlearn: 0.2159806\ttotal: 319us\tremaining: 279ms\n",
      "500:\tlearn: 0.0828688\ttotal: 122ms\tremaining: 90.8ms\n",
      "873:\tlearn: 0.0426177\ttotal: 219ms\tremaining: 0us\n",
      "Learning rate set to 0.03899\n",
      "0:\tlearn: 0.2318416\ttotal: 363us\tremaining: 317ms\n",
      "500:\tlearn: 0.1203606\ttotal: 164ms\tremaining: 122ms\n",
      "873:\tlearn: 0.0775082\ttotal: 287ms\tremaining: 0us\n",
      "Learning rate set to 0.041539\n",
      "0:\tlearn: 0.2605114\ttotal: 425us\tremaining: 372ms\n",
      "500:\tlearn: 0.1496924\ttotal: 178ms\tremaining: 132ms\n",
      "873:\tlearn: 0.1010577\ttotal: 305ms\tremaining: 0us\n",
      "Learning rate set to 0.043455\n",
      "0:\tlearn: 0.2635274\ttotal: 354us\tremaining: 309ms\n",
      "500:\tlearn: 0.1690034\ttotal: 184ms\tremaining: 137ms\n",
      "873:\tlearn: 0.1249521\ttotal: 324ms\tremaining: 0us\n",
      "Learning rate set to 0.045005\n",
      "0:\tlearn: 0.2830398\ttotal: 407us\tremaining: 356ms\n",
      "500:\tlearn: 0.1837342\ttotal: 187ms\tremaining: 139ms\n",
      "873:\tlearn: 0.1434551\ttotal: 337ms\tremaining: 0us\n",
      "Learning rate set to 0.046313\n",
      "0:\tlearn: 0.2846107\ttotal: 563us\tremaining: 492ms\n",
      "500:\tlearn: 0.1895630\ttotal: 213ms\tremaining: 158ms\n",
      "873:\tlearn: 0.1496618\ttotal: 366ms\tremaining: 0us\n",
      "Learning rate set to 0.04745\n",
      "0:\tlearn: 0.2798323\ttotal: 1.12ms\tremaining: 981ms\n"
     ]
    },
    {
     "name": "stderr",
     "output_type": "stream",
     "text": [
      "Best trial: 21. Best value: 0.24467:  22%|█████▉                     | 22/100 [01:31<04:21,  3.35s/it, 91.03/1200 seconds]"
     ]
    },
    {
     "name": "stdout",
     "output_type": "stream",
     "text": [
      "500:\tlearn: 0.1914859\ttotal: 215ms\tremaining: 160ms\n",
      "873:\tlearn: 0.1552035\ttotal: 373ms\tremaining: 0us\n",
      "[I 2024-04-14 21:33:01,027] Trial 21 finished with value: 0.2446700285974948 and parameters: {'loss_function': 'RMSE', 'depth': 4, 'iterations': 874, 'min_data_in_leaf': 46, 'random_strength': 6.5159107919328605}. Best is trial 21 with value: 0.2446700285974948.\n",
      "Learning rate set to 0.030546\n",
      "0:\tlearn: 0.2160006\ttotal: 454us\tremaining: 470ms\n",
      "500:\tlearn: 0.1002755\ttotal: 124ms\tremaining: 132ms\n",
      "1000:\tlearn: 0.0428666\ttotal: 247ms\tremaining: 8.13ms\n",
      "1033:\tlearn: 0.0405660\ttotal: 254ms\tremaining: 0us\n",
      "Learning rate set to 0.034009\n",
      "0:\tlearn: 0.2318711\ttotal: 961us\tremaining: 994ms\n",
      "500:\tlearn: 0.1304556\ttotal: 168ms\tremaining: 178ms\n",
      "1000:\tlearn: 0.0773694\ttotal: 337ms\tremaining: 11.1ms\n",
      "1033:\tlearn: 0.0746118\ttotal: 348ms\tremaining: 0us\n",
      "Learning rate set to 0.036233\n",
      "0:\tlearn: 0.2605447\ttotal: 382us\tremaining: 395ms\n",
      "500:\tlearn: 0.1588090\ttotal: 183ms\tremaining: 195ms\n",
      "1000:\tlearn: 0.0986569\ttotal: 361ms\tremaining: 11.9ms\n",
      "1033:\tlearn: 0.0955672\ttotal: 375ms\tremaining: 0us\n",
      "Learning rate set to 0.037904\n",
      "0:\tlearn: 0.2635846\ttotal: 395us\tremaining: 409ms\n",
      "500:\tlearn: 0.1783646\ttotal: 187ms\tremaining: 199ms\n",
      "1000:\tlearn: 0.1237258\ttotal: 370ms\tremaining: 12.2ms\n",
      "1033:\tlearn: 0.1205218\ttotal: 383ms\tremaining: 0us\n",
      "Learning rate set to 0.039256\n",
      "0:\tlearn: 0.2831315\ttotal: 1.16ms\tremaining: 1.2s\n",
      "500:\tlearn: 0.1944280\ttotal: 187ms\tremaining: 199ms\n",
      "1000:\tlearn: 0.1433657\ttotal: 372ms\tremaining: 12.3ms\n",
      "1033:\tlearn: 0.1404480\ttotal: 384ms\tremaining: 0us\n",
      "Learning rate set to 0.040397\n",
      "0:\tlearn: 0.2846765\ttotal: 436us\tremaining: 450ms\n",
      "500:\tlearn: 0.1990042\ttotal: 199ms\tremaining: 212ms\n",
      "1000:\tlearn: 0.1520502\ttotal: 403ms\tremaining: 13.3ms\n",
      "1033:\tlearn: 0.1498667\ttotal: 416ms\tremaining: 0us\n",
      "Learning rate set to 0.041389\n",
      "0:\tlearn: 0.2798817\ttotal: 550us\tremaining: 568ms\n",
      "500:\tlearn: 0.1995018\ttotal: 207ms\tremaining: 220ms\n"
     ]
    },
    {
     "name": "stderr",
     "output_type": "stream",
     "text": [
      "Best trial: 21. Best value: 0.24467:  23%|██████▏                    | 23/100 [01:33<04:06,  3.20s/it, 93.88/1200 seconds]"
     ]
    },
    {
     "name": "stdout",
     "output_type": "stream",
     "text": [
      "1000:\tlearn: 0.1583086\ttotal: 420ms\tremaining: 13.9ms\n",
      "1033:\tlearn: 0.1557098\ttotal: 434ms\tremaining: 0us\n",
      "[I 2024-04-14 21:33:03,870] Trial 22 finished with value: 0.16688428418086382 and parameters: {'loss_function': 'RMSE', 'depth': 4, 'iterations': 1034, 'min_data_in_leaf': 38, 'random_strength': 6.50243071646548}. Best is trial 21 with value: 0.2446700285974948.\n",
      "Learning rate set to 0.036666\n",
      "0:\tlearn: 0.2159732\ttotal: 653us\tremaining: 539ms\n",
      "500:\tlearn: 0.0806909\ttotal: 117ms\tremaining: 76ms\n",
      "825:\tlearn: 0.0419931\ttotal: 183ms\tremaining: 0us\n",
      "Learning rate set to 0.040822\n",
      "0:\tlearn: 0.2318308\ttotal: 429us\tremaining: 355ms\n",
      "500:\tlearn: 0.1188285\ttotal: 167ms\tremaining: 109ms\n",
      "825:\tlearn: 0.0779648\ttotal: 277ms\tremaining: 0us\n",
      "Learning rate set to 0.043491\n",
      "0:\tlearn: 0.2604991\ttotal: 393us\tremaining: 325ms\n",
      "500:\tlearn: 0.1459037\ttotal: 165ms\tremaining: 107ms\n",
      "825:\tlearn: 0.1029978\ttotal: 280ms\tremaining: 0us\n",
      "Learning rate set to 0.045497\n",
      "0:\tlearn: 0.2635064\ttotal: 382us\tremaining: 316ms\n",
      "500:\tlearn: 0.1665253\ttotal: 184ms\tremaining: 119ms\n",
      "825:\tlearn: 0.1256018\ttotal: 304ms\tremaining: 0us\n",
      "Learning rate set to 0.04712\n",
      "0:\tlearn: 0.2830062\ttotal: 376us\tremaining: 310ms\n",
      "500:\tlearn: 0.1814013\ttotal: 199ms\tremaining: 129ms\n",
      "825:\tlearn: 0.1443781\ttotal: 325ms\tremaining: 0us\n",
      "Learning rate set to 0.04849\n",
      "0:\tlearn: 0.2845865\ttotal: 1.16ms\tremaining: 960ms\n",
      "500:\tlearn: 0.1874896\ttotal: 205ms\tremaining: 133ms\n",
      "825:\tlearn: 0.1509263\ttotal: 338ms\tremaining: 0us\n",
      "Learning rate set to 0.04968\n",
      "0:\tlearn: 0.2798142\ttotal: 462us\tremaining: 381ms\n"
     ]
    },
    {
     "name": "stderr",
     "output_type": "stream",
     "text": [
      "Best trial: 21. Best value: 0.24467:  24%|██████▍                    | 24/100 [01:36<03:41,  2.91s/it, 96.13/1200 seconds]"
     ]
    },
    {
     "name": "stdout",
     "output_type": "stream",
     "text": [
      "500:\tlearn: 0.1914150\ttotal: 208ms\tremaining: 135ms\n",
      "825:\tlearn: 0.1575725\ttotal: 341ms\tremaining: 0us\n",
      "[I 2024-04-14 21:33:06,123] Trial 23 finished with value: 0.12859925862778873 and parameters: {'loss_function': 'RMSE', 'depth': 4, 'iterations': 826, 'min_data_in_leaf': 20, 'random_strength': 7.204914890627159}. Best is trial 21 with value: 0.2446700285974948.\n",
      "Learning rate set to 0.034288\n",
      "0:\tlearn: 0.2160044\ttotal: 290us\tremaining: 261ms\n",
      "500:\tlearn: 0.0864818\ttotal: 118ms\tremaining: 93.3ms\n",
      "896:\tlearn: 0.0411077\ttotal: 213ms\tremaining: 0us\n",
      "Learning rate set to 0.038175\n",
      "0:\tlearn: 0.2318634\ttotal: 411us\tremaining: 369ms\n",
      "500:\tlearn: 0.1235406\ttotal: 164ms\tremaining: 129ms\n",
      "896:\tlearn: 0.0786563\ttotal: 297ms\tremaining: 0us\n",
      "Learning rate set to 0.040671\n",
      "0:\tlearn: 0.2605168\ttotal: 462us\tremaining: 415ms\n",
      "500:\tlearn: 0.1483694\ttotal: 176ms\tremaining: 139ms\n",
      "896:\tlearn: 0.0959849\ttotal: 316ms\tremaining: 0us\n",
      "Learning rate set to 0.042547\n",
      "0:\tlearn: 0.2637995\ttotal: 1.04ms\tremaining: 933ms\n",
      "500:\tlearn: 0.1699421\ttotal: 182ms\tremaining: 144ms\n",
      "896:\tlearn: 0.1242167\ttotal: 325ms\tremaining: 0us\n",
      "Learning rate set to 0.044064\n",
      "0:\tlearn: 0.2832341\ttotal: 409us\tremaining: 367ms\n",
      "500:\tlearn: 0.1858344\ttotal: 193ms\tremaining: 153ms\n",
      "896:\tlearn: 0.1419384\ttotal: 345ms\tremaining: 0us\n",
      "Learning rate set to 0.045346\n",
      "0:\tlearn: 0.2846214\ttotal: 385us\tremaining: 345ms\n",
      "500:\tlearn: 0.1940328\ttotal: 202ms\tremaining: 160ms\n",
      "896:\tlearn: 0.1530008\ttotal: 362ms\tremaining: 0us\n",
      "Learning rate set to 0.046459\n",
      "0:\tlearn: 0.2798900\ttotal: 400us\tremaining: 358ms\n"
     ]
    },
    {
     "name": "stderr",
     "output_type": "stream",
     "text": [
      "Best trial: 21. Best value: 0.24467:  25%|██████▊                    | 25/100 [01:38<03:28,  2.77s/it, 98.58/1200 seconds]"
     ]
    },
    {
     "name": "stdout",
     "output_type": "stream",
     "text": [
      "500:\tlearn: 0.1965726\ttotal: 203ms\tremaining: 160ms\n",
      "896:\tlearn: 0.1584208\ttotal: 364ms\tremaining: 0us\n",
      "[I 2024-04-14 21:33:08,571] Trial 24 finished with value: 0.0881786612893584 and parameters: {'loss_function': 'RMSE', 'depth': 4, 'iterations': 897, 'min_data_in_leaf': 58, 'random_strength': 8.493473701962333}. Best is trial 21 with value: 0.2446700285974948.\n",
      "0:\tlearn: 0.1091432\ttotal: 1.2ms\tremaining: 1.41s\n",
      "500:\tlearn: 0.0448234\ttotal: 168ms\tremaining: 225ms\n",
      "1000:\tlearn: 0.0278843\ttotal: 333ms\tremaining: 56.6ms\n",
      "1170:\tlearn: 0.0254242\ttotal: 389ms\tremaining: 0us\n",
      "0:\tlearn: 0.1257078\ttotal: 572us\tremaining: 670ms\n",
      "500:\tlearn: 0.0666647\ttotal: 236ms\tremaining: 316ms\n",
      "1000:\tlearn: 0.0459672\ttotal: 472ms\tremaining: 80.1ms\n",
      "1170:\tlearn: 0.0414997\ttotal: 549ms\tremaining: 0us\n",
      "0:\tlearn: 0.1336424\ttotal: 520us\tremaining: 609ms\n",
      "500:\tlearn: 0.0819303\ttotal: 246ms\tremaining: 328ms\n",
      "1000:\tlearn: 0.0598181\ttotal: 500ms\tremaining: 85ms\n",
      "1170:\tlearn: 0.0552937\ttotal: 593ms\tremaining: 0us\n",
      "0:\tlearn: 0.1400534\ttotal: 690us\tremaining: 808ms\n",
      "500:\tlearn: 0.0965985\ttotal: 267ms\tremaining: 357ms\n",
      "1000:\tlearn: 0.0754450\ttotal: 533ms\tremaining: 90.5ms\n",
      "1170:\tlearn: 0.0713158\ttotal: 622ms\tremaining: 0us\n",
      "0:\tlearn: 0.1555749\ttotal: 724us\tremaining: 848ms\n",
      "500:\tlearn: 0.1091218\ttotal: 272ms\tremaining: 364ms\n",
      "1000:\tlearn: 0.0897002\ttotal: 553ms\tremaining: 93.9ms\n",
      "1170:\tlearn: 0.0857093\ttotal: 651ms\tremaining: 0us\n",
      "0:\tlearn: 0.1591413\ttotal: 718us\tremaining: 841ms\n",
      "500:\tlearn: 0.1147249\ttotal: 286ms\tremaining: 382ms\n",
      "1000:\tlearn: 0.0949132\ttotal: 564ms\tremaining: 95.7ms\n",
      "1170:\tlearn: 0.0903057\ttotal: 656ms\tremaining: 0us\n",
      "0:\tlearn: 0.1576910\ttotal: 571us\tremaining: 669ms\n",
      "500:\tlearn: 0.1176400\ttotal: 286ms\tremaining: 382ms\n"
     ]
    },
    {
     "name": "stderr",
     "output_type": "stream",
     "text": [
      "Best trial: 21. Best value: 0.24467:  26%|██████▊                   | 26/100 [01:43<04:02,  3.27s/it, 103.01/1200 seconds]"
     ]
    },
    {
     "name": "stdout",
     "output_type": "stream",
     "text": [
      "1000:\tlearn: 0.0984150\ttotal: 575ms\tremaining: 97.6ms\n",
      "1170:\tlearn: 0.0941982\ttotal: 673ms\tremaining: 0us\n",
      "[I 2024-04-14 21:33:13,007] Trial 25 finished with value: -0.06839113888930137 and parameters: {'loss_function': 'MAPE', 'depth': 5, 'iterations': 1171, 'min_data_in_leaf': 39, 'random_strength': 5.877794938149455}. Best is trial 21 with value: 0.2446700285974948.\n",
      "Learning rate set to 0.030028\n",
      "0:\tlearn: 0.2157144\ttotal: 258us\tremaining: 273ms\n",
      "500:\tlearn: 0.0984340\ttotal: 117ms\tremaining: 130ms\n",
      "1000:\tlearn: 0.0434312\ttotal: 208ms\tremaining: 11.4ms\n",
      "1055:\tlearn: 0.0396451\ttotal: 218ms\tremaining: 0us\n",
      "Learning rate set to 0.033432\n",
      "0:\tlearn: 0.2318745\ttotal: 331us\tremaining: 350ms\n",
      "500:\tlearn: 0.1316074\ttotal: 160ms\tremaining: 177ms\n",
      "1000:\tlearn: 0.0768851\ttotal: 325ms\tremaining: 17.8ms\n",
      "1055:\tlearn: 0.0729345\ttotal: 342ms\tremaining: 0us\n",
      "Learning rate set to 0.035618\n",
      "0:\tlearn: 0.2605486\ttotal: 374us\tremaining: 395ms\n",
      "500:\tlearn: 0.1601895\ttotal: 176ms\tremaining: 195ms\n",
      "1000:\tlearn: 0.1018345\ttotal: 356ms\tremaining: 19.5ms\n",
      "1055:\tlearn: 0.0964411\ttotal: 374ms\tremaining: 0us\n",
      "Learning rate set to 0.037261\n",
      "0:\tlearn: 0.2635912\ttotal: 1.03ms\tremaining: 1.08s\n",
      "500:\tlearn: 0.1795786\ttotal: 179ms\tremaining: 198ms\n",
      "1000:\tlearn: 0.1243734\ttotal: 365ms\tremaining: 20.1ms\n",
      "1055:\tlearn: 0.1201804\ttotal: 386ms\tremaining: 0us\n",
      "Learning rate set to 0.03859\n",
      "0:\tlearn: 0.2831422\ttotal: 356us\tremaining: 376ms\n",
      "500:\tlearn: 0.1945403\ttotal: 189ms\tremaining: 209ms\n",
      "1000:\tlearn: 0.1445755\ttotal: 384ms\tremaining: 21.1ms\n",
      "1055:\tlearn: 0.1402671\ttotal: 404ms\tremaining: 0us\n",
      "Learning rate set to 0.039712\n",
      "0:\tlearn: 0.2846842\ttotal: 1.15ms\tremaining: 1.22s\n",
      "500:\tlearn: 0.2003961\ttotal: 198ms\tremaining: 220ms\n",
      "1000:\tlearn: 0.1524131\ttotal: 399ms\tremaining: 21.9ms\n",
      "1055:\tlearn: 0.1478011\ttotal: 424ms\tremaining: 0us\n",
      "Learning rate set to 0.040686\n",
      "0:\tlearn: 0.2798874\ttotal: 497us\tremaining: 525ms\n",
      "500:\tlearn: 0.2008188\ttotal: 214ms\tremaining: 237ms\n"
     ]
    },
    {
     "name": "stderr",
     "output_type": "stream",
     "text": [
      "Best trial: 21. Best value: 0.24467:  27%|███████                   | 27/100 [01:45<03:49,  3.14s/it, 105.85/1200 seconds]"
     ]
    },
    {
     "name": "stdout",
     "output_type": "stream",
     "text": [
      "1000:\tlearn: 0.1568827\ttotal: 423ms\tremaining: 23.2ms\n",
      "1055:\tlearn: 0.1534606\ttotal: 445ms\tremaining: 0us\n",
      "[I 2024-04-14 21:33:15,845] Trial 26 finished with value: 0.221373710669275 and parameters: {'loss_function': 'RMSE', 'depth': 4, 'iterations': 1056, 'min_data_in_leaf': 20, 'random_strength': 5.520319373717747}. Best is trial 21 with value: 0.2446700285974948.\n",
      "Learning rate set to 0.029112\n",
      "0:\tlearn: 0.2156626\ttotal: 1.06ms\tremaining: 1.16s\n",
      "500:\tlearn: 0.0747055\ttotal: 160ms\tremaining: 190ms\n",
      "1000:\tlearn: 0.0229256\ttotal: 326ms\tremaining: 31.3ms\n",
      "1096:\tlearn: 0.0189410\ttotal: 357ms\tremaining: 0us\n",
      "Learning rate set to 0.032412\n",
      "0:\tlearn: 0.2316809\ttotal: 424us\tremaining: 465ms\n",
      "500:\tlearn: 0.1080681\ttotal: 236ms\tremaining: 281ms\n",
      "1000:\tlearn: 0.0517180\ttotal: 472ms\tremaining: 45.3ms\n",
      "1096:\tlearn: 0.0440895\ttotal: 518ms\tremaining: 0us\n",
      "Learning rate set to 0.034532\n",
      "0:\tlearn: 0.2603710\ttotal: 439us\tremaining: 482ms\n",
      "500:\tlearn: 0.1387370\ttotal: 250ms\tremaining: 297ms\n",
      "1000:\tlearn: 0.0741680\ttotal: 492ms\tremaining: 47.2ms\n",
      "1096:\tlearn: 0.0671048\ttotal: 539ms\tremaining: 0us\n",
      "Learning rate set to 0.036125\n",
      "0:\tlearn: 0.2635856\ttotal: 524us\tremaining: 574ms\n",
      "500:\tlearn: 0.1596923\ttotal: 248ms\tremaining: 295ms\n",
      "1000:\tlearn: 0.0959562\ttotal: 498ms\tremaining: 47.7ms\n",
      "1096:\tlearn: 0.0867790\ttotal: 548ms\tremaining: 0us\n",
      "Learning rate set to 0.037413\n",
      "0:\tlearn: 0.2831105\ttotal: 532us\tremaining: 584ms\n",
      "500:\tlearn: 0.1719408\ttotal: 256ms\tremaining: 305ms\n",
      "1000:\tlearn: 0.1135500\ttotal: 522ms\tremaining: 50.1ms\n",
      "1096:\tlearn: 0.1055320\ttotal: 572ms\tremaining: 0us\n",
      "Learning rate set to 0.038501\n",
      "0:\tlearn: 0.2843209\ttotal: 605us\tremaining: 664ms\n",
      "500:\tlearn: 0.1802848\ttotal: 267ms\tremaining: 318ms\n",
      "1000:\tlearn: 0.1231632\ttotal: 534ms\tremaining: 51.2ms\n",
      "1096:\tlearn: 0.1152344\ttotal: 585ms\tremaining: 0us\n",
      "Learning rate set to 0.039446\n",
      "0:\tlearn: 0.2792960\ttotal: 595us\tremaining: 653ms\n",
      "500:\tlearn: 0.1814206\ttotal: 278ms\tremaining: 331ms\n"
     ]
    },
    {
     "name": "stderr",
     "output_type": "stream",
     "text": [
      "Best trial: 21. Best value: 0.24467:  28%|███████▎                  | 28/100 [01:49<04:05,  3.40s/it, 109.86/1200 seconds]"
     ]
    },
    {
     "name": "stdout",
     "output_type": "stream",
     "text": [
      "1000:\tlearn: 0.1340700\ttotal: 553ms\tremaining: 53ms\n",
      "1096:\tlearn: 0.1262132\ttotal: 608ms\tremaining: 0us\n",
      "[I 2024-04-14 21:33:19,857] Trial 27 finished with value: 0.07094759997512547 and parameters: {'loss_function': 'RMSE', 'depth': 5, 'iterations': 1097, 'min_data_in_leaf': 14, 'random_strength': 3.7305036552433495}. Best is trial 21 with value: 0.2446700285974948.\n",
      "Learning rate set to 0.031934\n",
      "0:\tlearn: 0.2157548\ttotal: 276us\tremaining: 270ms\n",
      "500:\tlearn: 0.0829571\ttotal: 125ms\tremaining: 119ms\n",
      "978:\tlearn: 0.0357332\ttotal: 244ms\tremaining: 0us\n",
      "Learning rate set to 0.035554\n",
      "0:\tlearn: 0.2315091\ttotal: 445us\tremaining: 436ms\n",
      "500:\tlearn: 0.1192123\ttotal: 171ms\tremaining: 163ms\n",
      "978:\tlearn: 0.0699381\ttotal: 324ms\tremaining: 0us\n",
      "Learning rate set to 0.037879\n",
      "0:\tlearn: 0.2602719\ttotal: 382us\tremaining: 374ms\n",
      "500:\tlearn: 0.1452556\ttotal: 172ms\tremaining: 164ms\n",
      "978:\tlearn: 0.0903650\ttotal: 335ms\tremaining: 0us\n",
      "Learning rate set to 0.039626\n",
      "0:\tlearn: 0.2632848\ttotal: 954us\tremaining: 934ms\n",
      "500:\tlearn: 0.1701255\ttotal: 176ms\tremaining: 168ms\n",
      "978:\tlearn: 0.1181201\ttotal: 346ms\tremaining: 0us\n",
      "Learning rate set to 0.041039\n",
      "0:\tlearn: 0.2831030\ttotal: 981us\tremaining: 960ms\n",
      "500:\tlearn: 0.1845429\ttotal: 189ms\tremaining: 180ms\n",
      "978:\tlearn: 0.1367997\ttotal: 373ms\tremaining: 0us\n",
      "Learning rate set to 0.042233\n",
      "0:\tlearn: 0.2843421\ttotal: 449us\tremaining: 440ms\n",
      "500:\tlearn: 0.1890011\ttotal: 202ms\tremaining: 193ms\n",
      "978:\tlearn: 0.1436254\ttotal: 391ms\tremaining: 0us\n",
      "Learning rate set to 0.04327\n",
      "0:\tlearn: 0.2791461\ttotal: 1.22ms\tremaining: 1.19s\n",
      "500:\tlearn: 0.1945021\ttotal: 210ms\tremaining: 200ms\n"
     ]
    },
    {
     "name": "stderr",
     "output_type": "stream",
     "text": [
      "Best trial: 21. Best value: 0.24467:  29%|███████▌                  | 29/100 [01:52<03:45,  3.18s/it, 112.53/1200 seconds]"
     ]
    },
    {
     "name": "stdout",
     "output_type": "stream",
     "text": [
      "978:\tlearn: 0.1520777\ttotal: 410ms\tremaining: 0us\n",
      "[I 2024-04-14 21:33:22,526] Trial 28 finished with value: 0.21743714387859306 and parameters: {'loss_function': 'RMSE', 'depth': 4, 'iterations': 979, 'min_data_in_leaf': 23, 'random_strength': 1.956683084564029}. Best is trial 21 with value: 0.2446700285974948.\n",
      "0:\tlearn: 0.1092063\ttotal: 991us\tremaining: 1.11s\n",
      "500:\tlearn: 0.0598013\ttotal: 130ms\tremaining: 160ms\n",
      "1000:\tlearn: 0.0423176\ttotal: 259ms\tremaining: 30ms\n",
      "1116:\tlearn: 0.0402358\ttotal: 297ms\tremaining: 0us\n",
      "0:\tlearn: 0.1259163\ttotal: 875us\tremaining: 977ms\n",
      "500:\tlearn: 0.0825152\ttotal: 178ms\tremaining: 218ms\n",
      "1000:\tlearn: 0.0629323\ttotal: 348ms\tremaining: 40.3ms\n",
      "1116:\tlearn: 0.0604784\ttotal: 386ms\tremaining: 0us\n",
      "0:\tlearn: 0.1336823\ttotal: 440us\tremaining: 492ms\n",
      "500:\tlearn: 0.0965182\ttotal: 177ms\tremaining: 217ms\n",
      "1000:\tlearn: 0.0778335\ttotal: 359ms\tremaining: 41.6ms\n",
      "1116:\tlearn: 0.0753866\ttotal: 400ms\tremaining: 0us\n",
      "0:\tlearn: 0.1400605\ttotal: 504us\tremaining: 564ms\n",
      "500:\tlearn: 0.1176076\ttotal: 194ms\tremaining: 239ms\n",
      "1000:\tlearn: 0.1029260\ttotal: 386ms\tremaining: 44.7ms\n",
      "1116:\tlearn: 0.0991717\ttotal: 431ms\tremaining: 0us\n",
      "0:\tlearn: 0.1555558\ttotal: 440us\tremaining: 491ms\n",
      "500:\tlearn: 0.1270136\ttotal: 207ms\tremaining: 254ms\n",
      "1000:\tlearn: 0.1142700\ttotal: 412ms\tremaining: 47.7ms\n",
      "1116:\tlearn: 0.1127346\ttotal: 462ms\tremaining: 0us\n",
      "0:\tlearn: 0.1592073\ttotal: 1.21ms\tremaining: 1.35s\n",
      "500:\tlearn: 0.1287111\ttotal: 213ms\tremaining: 262ms\n",
      "1000:\tlearn: 0.1206657\ttotal: 430ms\tremaining: 49.8ms\n",
      "1116:\tlearn: 0.1200862\ttotal: 481ms\tremaining: 0us\n",
      "0:\tlearn: 0.1576456\ttotal: 1.03ms\tremaining: 1.15s\n",
      "500:\tlearn: 0.1328157\ttotal: 222ms\tremaining: 274ms\n"
     ]
    },
    {
     "name": "stderr",
     "output_type": "stream",
     "text": [
      "Best trial: 21. Best value: 0.24467:  30%|███████▊                  | 30/100 [01:55<03:43,  3.20s/it, 115.76/1200 seconds]"
     ]
    },
    {
     "name": "stdout",
     "output_type": "stream",
     "text": [
      "1000:\tlearn: 0.1213034\ttotal: 446ms\tremaining: 51.7ms\n",
      "1116:\tlearn: 0.1183839\ttotal: 497ms\tremaining: 0us\n",
      "[I 2024-04-14 21:33:25,756] Trial 29 finished with value: -0.044535783588529936 and parameters: {'loss_function': 'MAPE', 'depth': 4, 'iterations': 1117, 'min_data_in_leaf': 26, 'random_strength': 2.256119492793246}. Best is trial 21 with value: 0.2446700285974948.\n",
      "Learning rate set to 0.031185\n",
      "0:\tlearn: 0.2156981\ttotal: 1.01ms\tremaining: 1.01s\n",
      "500:\tlearn: 0.0950079\ttotal: 99ms\tremaining: 100ms\n",
      "1000:\tlearn: 0.0396800\ttotal: 214ms\tremaining: 1.5ms\n",
      "1007:\tlearn: 0.0392823\ttotal: 216ms\tremaining: 0us\n",
      "Learning rate set to 0.03472\n",
      "0:\tlearn: 0.2318669\ttotal: 470us\tremaining: 474ms\n",
      "500:\tlearn: 0.1272510\ttotal: 161ms\tremaining: 163ms\n",
      "1000:\tlearn: 0.0739635\ttotal: 335ms\tremaining: 2.34ms\n",
      "1007:\tlearn: 0.0732717\ttotal: 338ms\tremaining: 0us\n",
      "Learning rate set to 0.036991\n",
      "0:\tlearn: 0.2605400\ttotal: 1.03ms\tremaining: 1.03s\n",
      "500:\tlearn: 0.1570119\ttotal: 182ms\tremaining: 184ms\n",
      "1000:\tlearn: 0.0978710\ttotal: 351ms\tremaining: 2.45ms\n",
      "1007:\tlearn: 0.0973291\ttotal: 353ms\tremaining: 0us\n",
      "Learning rate set to 0.038697\n",
      "0:\tlearn: 0.2635764\ttotal: 450us\tremaining: 454ms\n",
      "500:\tlearn: 0.1769810\ttotal: 181ms\tremaining: 183ms\n",
      "1000:\tlearn: 0.1228485\ttotal: 363ms\tremaining: 2.54ms\n",
      "1007:\tlearn: 0.1224909\ttotal: 365ms\tremaining: 0us\n",
      "Learning rate set to 0.040077\n",
      "0:\tlearn: 0.2831184\ttotal: 444us\tremaining: 447ms\n",
      "500:\tlearn: 0.1906475\ttotal: 190ms\tremaining: 193ms\n",
      "1000:\tlearn: 0.1396533\ttotal: 385ms\tremaining: 2.69ms\n",
      "1007:\tlearn: 0.1389398\ttotal: 388ms\tremaining: 0us\n",
      "Learning rate set to 0.041242\n",
      "0:\tlearn: 0.2846671\ttotal: 434us\tremaining: 437ms\n",
      "500:\tlearn: 0.1980984\ttotal: 202ms\tremaining: 205ms\n",
      "1000:\tlearn: 0.1486824\ttotal: 409ms\tremaining: 2.86ms\n",
      "1007:\tlearn: 0.1482151\ttotal: 413ms\tremaining: 0us\n",
      "Learning rate set to 0.042255\n",
      "0:\tlearn: 0.2798746\ttotal: 409us\tremaining: 412ms\n",
      "500:\tlearn: 0.1999926\ttotal: 211ms\tremaining: 213ms\n"
     ]
    },
    {
     "name": "stderr",
     "output_type": "stream",
     "text": [
      "Best trial: 21. Best value: 0.24467:  31%|████████                  | 31/100 [01:58<03:31,  3.06s/it, 118.51/1200 seconds]"
     ]
    },
    {
     "name": "stdout",
     "output_type": "stream",
     "text": [
      "1000:\tlearn: 0.1560749\ttotal: 424ms\tremaining: 2.96ms\n",
      "1007:\tlearn: 0.1554620\ttotal: 427ms\tremaining: 0us\n",
      "[I 2024-04-14 21:33:28,501] Trial 30 finished with value: 0.22071800201817685 and parameters: {'loss_function': 'RMSE', 'depth': 4, 'iterations': 1008, 'min_data_in_leaf': 1, 'random_strength': 5.746569458840589}. Best is trial 21 with value: 0.2446700285974948.\n",
      "Learning rate set to 0.030936\n",
      "0:\tlearn: 0.2157016\ttotal: 419us\tremaining: 427ms\n",
      "500:\tlearn: 0.0954438\ttotal: 122ms\tremaining: 126ms\n",
      "1000:\tlearn: 0.0412788\ttotal: 246ms\tremaining: 4.18ms\n",
      "1017:\tlearn: 0.0400654\ttotal: 250ms\tremaining: 0us\n",
      "Learning rate set to 0.034443\n",
      "0:\tlearn: 0.2318685\ttotal: 1.03ms\tremaining: 1.05s\n",
      "500:\tlearn: 0.1313089\ttotal: 162ms\tremaining: 167ms\n",
      "1000:\tlearn: 0.0759192\ttotal: 322ms\tremaining: 5.46ms\n",
      "1017:\tlearn: 0.0745328\ttotal: 329ms\tremaining: 0us\n",
      "Learning rate set to 0.036695\n",
      "0:\tlearn: 0.2605418\ttotal: 466us\tremaining: 474ms\n",
      "500:\tlearn: 0.1560713\ttotal: 177ms\tremaining: 183ms\n",
      "1000:\tlearn: 0.0975745\ttotal: 347ms\tremaining: 5.9ms\n",
      "1017:\tlearn: 0.0964604\ttotal: 354ms\tremaining: 0us\n",
      "Learning rate set to 0.038388\n",
      "0:\tlearn: 0.2635796\ttotal: 457us\tremaining: 466ms\n",
      "500:\tlearn: 0.1791332\ttotal: 185ms\tremaining: 191ms\n",
      "1000:\tlearn: 0.1231926\ttotal: 371ms\tremaining: 6.3ms\n",
      "1017:\tlearn: 0.1219309\ttotal: 377ms\tremaining: 0us\n",
      "Learning rate set to 0.039757\n",
      "0:\tlearn: 0.2831235\ttotal: 1.08ms\tremaining: 1.1s\n",
      "500:\tlearn: 0.1937488\ttotal: 192ms\tremaining: 198ms\n",
      "1000:\tlearn: 0.1410365\ttotal: 385ms\tremaining: 6.54ms\n",
      "1017:\tlearn: 0.1395934\ttotal: 392ms\tremaining: 0us\n",
      "Learning rate set to 0.040913\n",
      "0:\tlearn: 0.2846708\ttotal: 424us\tremaining: 432ms\n",
      "500:\tlearn: 0.1971405\ttotal: 200ms\tremaining: 207ms\n",
      "1000:\tlearn: 0.1493557\ttotal: 401ms\tremaining: 6.81ms\n",
      "1017:\tlearn: 0.1479558\ttotal: 408ms\tremaining: 0us\n",
      "Learning rate set to 0.041917\n",
      "0:\tlearn: 0.2798774\ttotal: 1.05ms\tremaining: 1.07s\n",
      "500:\tlearn: 0.1991585\ttotal: 277ms\tremaining: 286ms\n"
     ]
    },
    {
     "name": "stderr",
     "output_type": "stream",
     "text": [
      "Best trial: 21. Best value: 0.24467:  32%|████████▎                 | 32/100 [02:01<03:24,  3.01s/it, 121.39/1200 seconds]"
     ]
    },
    {
     "name": "stdout",
     "output_type": "stream",
     "text": [
      "1000:\tlearn: 0.1547677\ttotal: 508ms\tremaining: 8.63ms\n",
      "1017:\tlearn: 0.1535067\ttotal: 516ms\tremaining: 0us\n",
      "[I 2024-04-14 21:33:31,384] Trial 31 finished with value: 0.1874736270966582 and parameters: {'loss_function': 'RMSE', 'depth': 4, 'iterations': 1018, 'min_data_in_leaf': 6, 'random_strength': 5.63008518567533}. Best is trial 21 with value: 0.2446700285974948.\n",
      "Learning rate set to 0.031855\n",
      "0:\tlearn: 0.2159947\ttotal: 269us\tremaining: 265ms\n",
      "500:\tlearn: 0.0966584\ttotal: 113ms\tremaining: 108ms\n",
      "981:\tlearn: 0.0424650\ttotal: 233ms\tremaining: 0us\n",
      "Learning rate set to 0.035466\n",
      "0:\tlearn: 0.2318625\ttotal: 330us\tremaining: 324ms\n",
      "500:\tlearn: 0.1284705\ttotal: 164ms\tremaining: 157ms\n",
      "981:\tlearn: 0.0755639\ttotal: 329ms\tremaining: 0us\n",
      "Learning rate set to 0.037785\n",
      "0:\tlearn: 0.2605350\ttotal: 1.02ms\tremaining: 999ms\n",
      "500:\tlearn: 0.1583977\ttotal: 178ms\tremaining: 171ms\n",
      "981:\tlearn: 0.0975376\ttotal: 350ms\tremaining: 0us\n",
      "Learning rate set to 0.039528\n",
      "0:\tlearn: 0.2635678\ttotal: 348us\tremaining: 342ms\n",
      "500:\tlearn: 0.1767653\ttotal: 186ms\tremaining: 179ms\n",
      "981:\tlearn: 0.1203606\ttotal: 361ms\tremaining: 0us\n",
      "Learning rate set to 0.040938\n",
      "0:\tlearn: 0.2831046\ttotal: 361us\tremaining: 355ms\n",
      "500:\tlearn: 0.1912120\ttotal: 189ms\tremaining: 182ms\n",
      "981:\tlearn: 0.1405232\ttotal: 375ms\tremaining: 0us\n",
      "Learning rate set to 0.042128\n",
      "0:\tlearn: 0.2846572\ttotal: 1.26ms\tremaining: 1.24s\n",
      "500:\tlearn: 0.1966296\ttotal: 201ms\tremaining: 193ms\n",
      "981:\tlearn: 0.1491240\ttotal: 389ms\tremaining: 0us\n",
      "Learning rate set to 0.043162\n",
      "0:\tlearn: 0.2798672\ttotal: 480us\tremaining: 472ms\n",
      "500:\tlearn: 0.1986244\ttotal: 208ms\tremaining: 200ms\n"
     ]
    },
    {
     "name": "stderr",
     "output_type": "stream",
     "text": [
      "Best trial: 21. Best value: 0.24467:  33%|████████▌                 | 33/100 [02:04<03:15,  2.92s/it, 124.10/1200 seconds]"
     ]
    },
    {
     "name": "stdout",
     "output_type": "stream",
     "text": [
      "981:\tlearn: 0.1559920\ttotal: 409ms\tremaining: 0us\n",
      "[I 2024-04-14 21:33:34,093] Trial 32 finished with value: 0.13718751776427257 and parameters: {'loss_function': 'RMSE', 'depth': 4, 'iterations': 982, 'min_data_in_leaf': 11, 'random_strength': 6.939647372600861}. Best is trial 21 with value: 0.2446700285974948.\n",
      "0:\tlearn: 0.1092063\ttotal: 428us\tremaining: 559ms\n",
      "500:\tlearn: 0.0595223\ttotal: 122ms\tremaining: 196ms\n",
      "1000:\tlearn: 0.0433692\ttotal: 249ms\tremaining: 75.5ms\n",
      "1304:\tlearn: 0.0375562\ttotal: 326ms\tremaining: 0us\n",
      "0:\tlearn: 0.1257365\ttotal: 947us\tremaining: 1.24s\n",
      "500:\tlearn: 0.0836683\ttotal: 166ms\tremaining: 266ms\n",
      "1000:\tlearn: 0.0639879\ttotal: 339ms\tremaining: 103ms\n",
      "1304:\tlearn: 0.0574773\ttotal: 447ms\tremaining: 0us\n",
      "0:\tlearn: 0.1336590\ttotal: 541us\tremaining: 706ms\n",
      "500:\tlearn: 0.0982380\ttotal: 179ms\tremaining: 287ms\n",
      "1000:\tlearn: 0.0793012\ttotal: 352ms\tremaining: 107ms\n",
      "1304:\tlearn: 0.0726538\ttotal: 455ms\tremaining: 0us\n",
      "0:\tlearn: 0.1400621\ttotal: 459us\tremaining: 599ms\n",
      "500:\tlearn: 0.1104606\ttotal: 185ms\tremaining: 298ms\n",
      "1000:\tlearn: 0.0933565\ttotal: 368ms\tremaining: 112ms\n",
      "1304:\tlearn: 0.0859158\ttotal: 478ms\tremaining: 0us\n",
      "0:\tlearn: 0.1555991\ttotal: 399us\tremaining: 521ms\n",
      "500:\tlearn: 0.1226485\ttotal: 200ms\tremaining: 322ms\n",
      "1000:\tlearn: 0.1070378\ttotal: 390ms\tremaining: 118ms\n",
      "1304:\tlearn: 0.1010872\ttotal: 510ms\tremaining: 0us\n",
      "0:\tlearn: 0.1591835\ttotal: 787us\tremaining: 1.03s\n",
      "500:\tlearn: 0.1257887\ttotal: 203ms\tremaining: 326ms\n",
      "1000:\tlearn: 0.1106007\ttotal: 405ms\tremaining: 123ms\n",
      "1304:\tlearn: 0.1042376\ttotal: 534ms\tremaining: 0us\n",
      "0:\tlearn: 0.1577419\ttotal: 1.81ms\tremaining: 2.37s\n",
      "500:\tlearn: 0.1284981\ttotal: 220ms\tremaining: 352ms\n"
     ]
    },
    {
     "name": "stderr",
     "output_type": "stream",
     "text": [
      "Best trial: 21. Best value: 0.24467:  34%|████████▊                 | 34/100 [02:07<03:26,  3.13s/it, 127.73/1200 seconds]"
     ]
    },
    {
     "name": "stdout",
     "output_type": "stream",
     "text": [
      "1000:\tlearn: 0.1141842\ttotal: 435ms\tremaining: 132ms\n",
      "1304:\tlearn: 0.1087711\ttotal: 565ms\tremaining: 0us\n",
      "[I 2024-04-14 21:33:37,721] Trial 33 finished with value: -0.006535595515023014 and parameters: {'loss_function': 'MAPE', 'depth': 4, 'iterations': 1305, 'min_data_in_leaf': 2, 'random_strength': 5.52450096050302}. Best is trial 21 with value: 0.2446700285974948.\n",
      "Learning rate set to 0.027607\n",
      "0:\tlearn: 0.2160304\ttotal: 313us\tremaining: 367ms\n",
      "500:\tlearn: 0.1090160\ttotal: 121ms\tremaining: 161ms\n",
      "1000:\tlearn: 0.0506477\ttotal: 243ms\tremaining: 41.2ms\n",
      "1170:\tlearn: 0.0397136\ttotal: 284ms\tremaining: 0us\n",
      "Learning rate set to 0.030737\n",
      "0:\tlearn: 0.2319043\ttotal: 362us\tremaining: 424ms\n",
      "500:\tlearn: 0.1419674\ttotal: 161ms\tremaining: 215ms\n",
      "1000:\tlearn: 0.0855729\ttotal: 319ms\tremaining: 54.1ms\n",
      "1170:\tlearn: 0.0726957\ttotal: 370ms\tremaining: 0us\n",
      "Learning rate set to 0.032747\n",
      "0:\tlearn: 0.2605668\ttotal: 400us\tremaining: 469ms\n",
      "500:\tlearn: 0.1674687\ttotal: 180ms\tremaining: 240ms\n",
      "1000:\tlearn: 0.1082914\ttotal: 351ms\tremaining: 59.5ms\n",
      "1170:\tlearn: 0.0939063\ttotal: 406ms\tremaining: 0us\n",
      "Learning rate set to 0.034257\n",
      "0:\tlearn: 0.2636223\ttotal: 394us\tremaining: 462ms\n",
      "500:\tlearn: 0.1872612\ttotal: 182ms\tremaining: 243ms\n",
      "1000:\tlearn: 0.1321025\ttotal: 353ms\tremaining: 59.9ms\n",
      "1170:\tlearn: 0.1182821\ttotal: 415ms\tremaining: 0us\n",
      "Learning rate set to 0.035479\n",
      "0:\tlearn: 0.2833371\ttotal: 405us\tremaining: 475ms\n",
      "500:\tlearn: 0.2006467\ttotal: 179ms\tremaining: 239ms\n",
      "1000:\tlearn: 0.1502508\ttotal: 392ms\tremaining: 66.6ms\n",
      "1170:\tlearn: 0.1367572\ttotal: 477ms\tremaining: 0us\n",
      "Learning rate set to 0.036511\n",
      "0:\tlearn: 0.2847200\ttotal: 684us\tremaining: 801ms\n",
      "500:\tlearn: 0.2055053\ttotal: 264ms\tremaining: 353ms\n",
      "1000:\tlearn: 0.1603598\ttotal: 540ms\tremaining: 91.7ms\n",
      "1170:\tlearn: 0.1474245\ttotal: 630ms\tremaining: 0us\n",
      "Learning rate set to 0.037407\n",
      "0:\tlearn: 0.2799143\ttotal: 695us\tremaining: 813ms\n",
      "500:\tlearn: 0.2066104\ttotal: 239ms\tremaining: 320ms\n"
     ]
    },
    {
     "name": "stderr",
     "output_type": "stream",
     "text": [
      "Best trial: 21. Best value: 0.24467:  35%|█████████                 | 35/100 [02:11<03:29,  3.22s/it, 131.14/1200 seconds]"
     ]
    },
    {
     "name": "stdout",
     "output_type": "stream",
     "text": [
      "1000:\tlearn: 0.1653439\ttotal: 450ms\tremaining: 76.4ms\n",
      "1170:\tlearn: 0.1536685\ttotal: 524ms\tremaining: 0us\n",
      "[I 2024-04-14 21:33:41,133] Trial 34 finished with value: 0.212364855505706 and parameters: {'loss_function': 'RMSE', 'depth': 4, 'iterations': 1171, 'min_data_in_leaf': 23, 'random_strength': 8.183269079673176}. Best is trial 21 with value: 0.2446700285974948.\n",
      "Learning rate set to 0.029685\n",
      "0:\tlearn: 0.2157192\ttotal: 342us\tremaining: 366ms\n",
      "500:\tlearn: 0.0974493\ttotal: 167ms\tremaining: 190ms\n",
      "1000:\tlearn: 0.0436894\ttotal: 344ms\tremaining: 24.1ms\n",
      "1070:\tlearn: 0.0394747\ttotal: 364ms\tremaining: 0us\n",
      "Learning rate set to 0.03305\n",
      "0:\tlearn: 0.2318768\ttotal: 849us\tremaining: 909ms\n",
      "500:\tlearn: 0.1319590\ttotal: 280ms\tremaining: 319ms\n",
      "1000:\tlearn: 0.0782673\ttotal: 492ms\tremaining: 34.4ms\n",
      "1070:\tlearn: 0.0726518\ttotal: 523ms\tremaining: 0us\n",
      "Learning rate set to 0.035212\n",
      "0:\tlearn: 0.2604413\ttotal: 912us\tremaining: 976ms\n",
      "500:\tlearn: 0.1598396\ttotal: 213ms\tremaining: 243ms\n",
      "1000:\tlearn: 0.1007633\ttotal: 423ms\tremaining: 29.6ms\n",
      "1070:\tlearn: 0.0943954\ttotal: 464ms\tremaining: 0us\n",
      "Learning rate set to 0.036836\n",
      "0:\tlearn: 0.2635956\ttotal: 1.18ms\tremaining: 1.26s\n",
      "500:\tlearn: 0.1814374\ttotal: 187ms\tremaining: 213ms\n",
      "1000:\tlearn: 0.1273558\ttotal: 379ms\tremaining: 26.5ms\n",
      "1070:\tlearn: 0.1213290\ttotal: 408ms\tremaining: 0us\n",
      "Learning rate set to 0.03815\n",
      "0:\tlearn: 0.2831492\ttotal: 903us\tremaining: 966ms\n",
      "500:\tlearn: 0.1939652\ttotal: 205ms\tremaining: 233ms\n",
      "1000:\tlearn: 0.1403984\ttotal: 423ms\tremaining: 29.6ms\n",
      "1070:\tlearn: 0.1346457\ttotal: 447ms\tremaining: 0us\n",
      "Learning rate set to 0.039259\n",
      "0:\tlearn: 0.2846893\ttotal: 1.02ms\tremaining: 1.09s\n",
      "500:\tlearn: 0.1991311\ttotal: 204ms\tremaining: 233ms\n",
      "1000:\tlearn: 0.1533990\ttotal: 407ms\tremaining: 28.5ms\n",
      "1070:\tlearn: 0.1480112\ttotal: 436ms\tremaining: 0us\n",
      "Learning rate set to 0.040223\n",
      "0:\tlearn: 0.2798912\ttotal: 485us\tremaining: 519ms\n",
      "500:\tlearn: 0.2018443\ttotal: 221ms\tremaining: 252ms\n"
     ]
    },
    {
     "name": "stderr",
     "output_type": "stream",
     "text": [
      "Best trial: 21. Best value: 0.24467:  36%|█████████▎                | 36/100 [02:14<03:31,  3.31s/it, 134.66/1200 seconds]"
     ]
    },
    {
     "name": "stdout",
     "output_type": "stream",
     "text": [
      "1000:\tlearn: 0.1591606\ttotal: 481ms\tremaining: 33.7ms\n",
      "1070:\tlearn: 0.1544019\ttotal: 513ms\tremaining: 0us\n",
      "[I 2024-04-14 21:33:44,652] Trial 35 finished with value: 0.18574594347147716 and parameters: {'loss_function': 'RMSE', 'depth': 4, 'iterations': 1071, 'min_data_in_leaf': 5, 'random_strength': 4.651203113620122}. Best is trial 21 with value: 0.2446700285974948.\n",
      "Learning rate set to 0.032585\n",
      "0:\tlearn: 0.2159914\ttotal: 1.28ms\tremaining: 1.22s\n",
      "500:\tlearn: 0.0926454\ttotal: 142ms\tremaining: 129ms\n",
      "954:\tlearn: 0.0387596\ttotal: 258ms\tremaining: 0us\n",
      "Learning rate set to 0.036279\n",
      "0:\tlearn: 0.2318577\ttotal: 499us\tremaining: 476ms\n",
      "500:\tlearn: 0.1266067\ttotal: 165ms\tremaining: 150ms\n",
      "954:\tlearn: 0.0760951\ttotal: 311ms\tremaining: 0us\n",
      "Learning rate set to 0.038651\n",
      "0:\tlearn: 0.2605295\ttotal: 1.77ms\tremaining: 1.69s\n",
      "500:\tlearn: 0.1554575\ttotal: 186ms\tremaining: 169ms\n",
      "954:\tlearn: 0.0967319\ttotal: 353ms\tremaining: 0us\n",
      "Learning rate set to 0.040434\n",
      "0:\tlearn: 0.2635585\ttotal: 386us\tremaining: 369ms\n",
      "500:\tlearn: 0.1755623\ttotal: 192ms\tremaining: 174ms\n",
      "954:\tlearn: 0.1222736\ttotal: 361ms\tremaining: 0us\n",
      "Learning rate set to 0.041876\n",
      "0:\tlearn: 0.2830897\ttotal: 439us\tremaining: 420ms\n",
      "500:\tlearn: 0.1874493\ttotal: 192ms\tremaining: 174ms\n",
      "954:\tlearn: 0.1408073\ttotal: 372ms\tremaining: 0us\n",
      "Learning rate set to 0.043094\n",
      "0:\tlearn: 0.2846465\ttotal: 412us\tremaining: 394ms\n",
      "500:\tlearn: 0.1958579\ttotal: 212ms\tremaining: 192ms\n",
      "954:\tlearn: 0.1493273\ttotal: 401ms\tremaining: 0us\n",
      "Learning rate set to 0.044152\n",
      "0:\tlearn: 0.2798592\ttotal: 433us\tremaining: 413ms\n",
      "500:\tlearn: 0.1966083\ttotal: 215ms\tremaining: 194ms\n"
     ]
    },
    {
     "name": "stderr",
     "output_type": "stream",
     "text": [
      "Best trial: 21. Best value: 0.24467:  37%|█████████▌                | 37/100 [02:17<03:17,  3.13s/it, 137.39/1200 seconds]"
     ]
    },
    {
     "name": "stdout",
     "output_type": "stream",
     "text": [
      "954:\tlearn: 0.1553899\ttotal: 411ms\tremaining: 0us\n",
      "[I 2024-04-14 21:33:47,382] Trial 36 finished with value: 0.21634779992903086 and parameters: {'loss_function': 'RMSE', 'depth': 4, 'iterations': 955, 'min_data_in_leaf': 32, 'random_strength': 6.908125460550655}. Best is trial 21 with value: 0.2446700285974948.\n",
      "0:\tlearn: 0.1091432\ttotal: 479us\tremaining: 447ms\n",
      "500:\tlearn: 0.0438167\ttotal: 182ms\tremaining: 156ms\n",
      "931:\tlearn: 0.0290275\ttotal: 327ms\tremaining: 0us\n",
      "0:\tlearn: 0.1257974\ttotal: 1.33ms\tremaining: 1.24s\n",
      "500:\tlearn: 0.0648623\ttotal: 239ms\tremaining: 206ms\n",
      "931:\tlearn: 0.0469267\ttotal: 447ms\tremaining: 0us\n",
      "0:\tlearn: 0.1336379\ttotal: 754us\tremaining: 703ms\n",
      "500:\tlearn: 0.0816093\ttotal: 252ms\tremaining: 216ms\n",
      "931:\tlearn: 0.0614662\ttotal: 485ms\tremaining: 0us\n",
      "0:\tlearn: 0.1400106\ttotal: 732us\tremaining: 682ms\n",
      "500:\tlearn: 0.0983445\ttotal: 288ms\tremaining: 248ms\n",
      "931:\tlearn: 0.0774859\ttotal: 546ms\tremaining: 0us\n",
      "0:\tlearn: 0.1555521\ttotal: 614us\tremaining: 572ms\n",
      "500:\tlearn: 0.1140177\ttotal: 282ms\tremaining: 243ms\n",
      "931:\tlearn: 0.0942349\ttotal: 551ms\tremaining: 0us\n",
      "0:\tlearn: 0.1591942\ttotal: 1.48ms\tremaining: 1.38s\n",
      "500:\tlearn: 0.1197922\ttotal: 283ms\tremaining: 243ms\n",
      "931:\tlearn: 0.1013342\ttotal: 542ms\tremaining: 0us\n",
      "0:\tlearn: 0.1576034\ttotal: 689us\tremaining: 642ms\n",
      "500:\tlearn: 0.1209164\ttotal: 291ms\tremaining: 250ms\n"
     ]
    },
    {
     "name": "stderr",
     "output_type": "stream",
     "text": [
      "Best trial: 21. Best value: 0.24467:  38%|█████████▉                | 38/100 [02:21<03:25,  3.32s/it, 141.15/1200 seconds]"
     ]
    },
    {
     "name": "stdout",
     "output_type": "stream",
     "text": [
      "931:\tlearn: 0.1060985\ttotal: 560ms\tremaining: 0us\n",
      "[I 2024-04-14 21:33:51,141] Trial 37 finished with value: -0.12411114494567324 and parameters: {'loss_function': 'MAPE', 'depth': 5, 'iterations': 932, 'min_data_in_leaf': 13, 'random_strength': 2.1739664733830986}. Best is trial 21 with value: 0.2446700285974948.\n",
      "0:\tlearn: 0.1117840\ttotal: 450us\tremaining: 344ms\n",
      "500:\tlearn: 0.0257570\ttotal: 230ms\tremaining: 120ms\n",
      "762:\tlearn: 0.0171080\ttotal: 378ms\tremaining: 0us\n",
      "0:\tlearn: 0.1272314\ttotal: 797us\tremaining: 608ms\n",
      "500:\tlearn: 0.0472220\ttotal: 468ms\tremaining: 245ms\n",
      "762:\tlearn: 0.0351137\ttotal: 650ms\tremaining: 0us\n",
      "0:\tlearn: 0.1380604\ttotal: 1.59ms\tremaining: 1.21s\n",
      "500:\tlearn: 0.0611452\ttotal: 376ms\tremaining: 197ms\n",
      "762:\tlearn: 0.0466433\ttotal: 571ms\tremaining: 0us\n",
      "0:\tlearn: 0.1438796\ttotal: 1.1ms\tremaining: 839ms\n",
      "500:\tlearn: 0.0761093\ttotal: 355ms\tremaining: 185ms\n",
      "762:\tlearn: 0.0622075\ttotal: 544ms\tremaining: 0us\n",
      "0:\tlearn: 0.1596605\ttotal: 840us\tremaining: 641ms\n",
      "500:\tlearn: 0.0913677\ttotal: 365ms\tremaining: 191ms\n",
      "762:\tlearn: 0.0770036\ttotal: 557ms\tremaining: 0us\n",
      "0:\tlearn: 0.1628555\ttotal: 680us\tremaining: 519ms\n",
      "500:\tlearn: 0.0975218\ttotal: 368ms\tremaining: 192ms\n",
      "762:\tlearn: 0.0837042\ttotal: 565ms\tremaining: 0us\n",
      "0:\tlearn: 0.1616675\ttotal: 876us\tremaining: 668ms\n",
      "500:\tlearn: 0.1025757\ttotal: 382ms\tremaining: 200ms\n"
     ]
    },
    {
     "name": "stderr",
     "output_type": "stream",
     "text": [
      "Best trial: 21. Best value: 0.24467:  39%|██████████▏               | 39/100 [02:25<03:38,  3.58s/it, 145.33/1200 seconds]"
     ]
    },
    {
     "name": "stdout",
     "output_type": "stream",
     "text": [
      "762:\tlearn: 0.0885800\ttotal: 586ms\tremaining: 0us\n",
      "[I 2024-04-14 21:33:55,323] Trial 38 finished with value: -0.040926359646672725 and parameters: {'loss_function': 'MAE', 'depth': 6, 'iterations': 763, 'min_data_in_leaf': 1, 'random_strength': 1.2820289272265406}. Best is trial 21 with value: 0.2446700285974948.\n",
      "Learning rate set to 0.038414\n",
      "0:\tlearn: 0.2159885\ttotal: 987us\tremaining: 770ms\n",
      "500:\tlearn: 0.0801060\ttotal: 104ms\tremaining: 58ms\n",
      "779:\tlearn: 0.0437688\ttotal: 171ms\tremaining: 0us\n",
      "Learning rate set to 0.042768\n",
      "0:\tlearn: 0.2318383\ttotal: 315us\tremaining: 246ms\n",
      "500:\tlearn: 0.1155585\ttotal: 159ms\tremaining: 88.7ms\n",
      "779:\tlearn: 0.0814863\ttotal: 250ms\tremaining: 0us\n",
      "Learning rate set to 0.045565\n",
      "0:\tlearn: 0.2604861\ttotal: 364us\tremaining: 284ms\n",
      "500:\tlearn: 0.1375989\ttotal: 175ms\tremaining: 97.3ms\n",
      "779:\tlearn: 0.0983353\ttotal: 275ms\tremaining: 0us\n",
      "Learning rate set to 0.047667\n",
      "0:\tlearn: 0.2637778\ttotal: 411us\tremaining: 321ms\n",
      "500:\tlearn: 0.1654437\ttotal: 182ms\tremaining: 101ms\n",
      "779:\tlearn: 0.1274377\ttotal: 285ms\tremaining: 0us\n",
      "Learning rate set to 0.049367\n",
      "0:\tlearn: 0.2831707\ttotal: 419us\tremaining: 326ms\n",
      "500:\tlearn: 0.1778287\ttotal: 196ms\tremaining: 109ms\n",
      "779:\tlearn: 0.1422235\ttotal: 308ms\tremaining: 0us\n",
      "Learning rate set to 0.050802\n",
      "0:\tlearn: 0.2846152\ttotal: 475us\tremaining: 371ms\n",
      "500:\tlearn: 0.1855814\ttotal: 201ms\tremaining: 112ms\n",
      "779:\tlearn: 0.1542068\ttotal: 317ms\tremaining: 0us\n",
      "Learning rate set to 0.052049\n",
      "0:\tlearn: 0.2798505\ttotal: 486us\tremaining: 379ms\n"
     ]
    },
    {
     "name": "stderr",
     "output_type": "stream",
     "text": [
      "Best trial: 21. Best value: 0.24467:  40%|██████████▍               | 40/100 [02:27<03:09,  3.15s/it, 147.48/1200 seconds]"
     ]
    },
    {
     "name": "stdout",
     "output_type": "stream",
     "text": [
      "500:\tlearn: 0.1870713\ttotal: 211ms\tremaining: 118ms\n",
      "779:\tlearn: 0.1578336\ttotal: 326ms\tremaining: 0us\n",
      "[I 2024-04-14 21:33:57,471] Trial 39 finished with value: -0.07379545079285303 and parameters: {'loss_function': 'RMSE', 'depth': 4, 'iterations': 780, 'min_data_in_leaf': 62, 'random_strength': 8.886197946338982}. Best is trial 21 with value: 0.2446700285974948.\n",
      "0:\tlearn: 0.1123633\ttotal: 745us\tremaining: 864ms\n",
      "500:\tlearn: 0.0305326\ttotal: 241ms\tremaining: 317ms\n",
      "1000:\tlearn: 0.0160835\ttotal: 485ms\tremaining: 77ms\n",
      "1159:\tlearn: 0.0135754\ttotal: 559ms\tremaining: 0us\n",
      "0:\tlearn: 0.1275718\ttotal: 790us\tremaining: 916ms\n",
      "500:\tlearn: 0.0517251\ttotal: 322ms\tremaining: 423ms\n",
      "1000:\tlearn: 0.0312790\ttotal: 657ms\tremaining: 104ms\n",
      "1159:\tlearn: 0.0273204\ttotal: 768ms\tremaining: 0us\n",
      "0:\tlearn: 0.1383391\ttotal: 654us\tremaining: 759ms\n",
      "500:\tlearn: 0.0698911\ttotal: 355ms\tremaining: 466ms\n",
      "1000:\tlearn: 0.0429517\ttotal: 710ms\tremaining: 113ms\n",
      "1159:\tlearn: 0.0383953\ttotal: 824ms\tremaining: 0us\n",
      "0:\tlearn: 0.1442142\ttotal: 1.03ms\tremaining: 1.19s\n",
      "500:\tlearn: 0.0827468\ttotal: 359ms\tremaining: 472ms\n",
      "1000:\tlearn: 0.0572336\ttotal: 723ms\tremaining: 115ms\n",
      "1159:\tlearn: 0.0524993\ttotal: 841ms\tremaining: 0us\n",
      "0:\tlearn: 0.1600889\ttotal: 735us\tremaining: 853ms\n",
      "500:\tlearn: 0.0983046\ttotal: 370ms\tremaining: 486ms\n",
      "1000:\tlearn: 0.0717998\ttotal: 744ms\tremaining: 118ms\n",
      "1159:\tlearn: 0.0671366\ttotal: 861ms\tremaining: 0us\n",
      "0:\tlearn: 0.1633547\ttotal: 743us\tremaining: 862ms\n",
      "500:\tlearn: 0.1042232\ttotal: 377ms\tremaining: 497ms\n",
      "1000:\tlearn: 0.0782649\ttotal: 755ms\tremaining: 120ms\n",
      "1159:\tlearn: 0.0732110\ttotal: 876ms\tremaining: 0us\n",
      "0:\tlearn: 0.1618054\ttotal: 1.57ms\tremaining: 1.82s\n",
      "500:\tlearn: 0.1076634\ttotal: 381ms\tremaining: 501ms\n"
     ]
    },
    {
     "name": "stderr",
     "output_type": "stream",
     "text": [
      "Best trial: 21. Best value: 0.24467:  41%|██████████▋               | 41/100 [02:33<03:57,  4.03s/it, 153.55/1200 seconds]"
     ]
    },
    {
     "name": "stdout",
     "output_type": "stream",
     "text": [
      "1000:\tlearn: 0.0829122\ttotal: 784ms\tremaining: 124ms\n",
      "1159:\tlearn: 0.0776572\ttotal: 906ms\tremaining: 0us\n",
      "[I 2024-04-14 21:34:03,547] Trial 40 finished with value: 0.0061456272362217 and parameters: {'loss_function': 'MAE', 'depth': 6, 'iterations': 1160, 'min_data_in_leaf': 52, 'random_strength': 7.592765825623246}. Best is trial 21 with value: 0.2446700285974948.\n",
      "Learning rate set to 0.032725\n",
      "0:\tlearn: 0.2159908\ttotal: 1.01ms\tremaining: 956ms\n",
      "500:\tlearn: 0.0926951\ttotal: 118ms\tremaining: 106ms\n",
      "949:\tlearn: 0.0404457\ttotal: 233ms\tremaining: 0us\n",
      "Learning rate set to 0.036434\n",
      "0:\tlearn: 0.2318568\ttotal: 451us\tremaining: 428ms\n",
      "500:\tlearn: 0.1235304\ttotal: 162ms\tremaining: 146ms\n",
      "949:\tlearn: 0.0737794\ttotal: 307ms\tremaining: 0us\n",
      "Learning rate set to 0.038817\n",
      "0:\tlearn: 0.2605285\ttotal: 366us\tremaining: 348ms\n",
      "500:\tlearn: 0.1556944\ttotal: 170ms\tremaining: 153ms\n",
      "949:\tlearn: 0.0987242\ttotal: 330ms\tremaining: 0us\n",
      "Learning rate set to 0.040607\n",
      "0:\tlearn: 0.2635567\ttotal: 413us\tremaining: 392ms\n",
      "500:\tlearn: 0.1741640\ttotal: 185ms\tremaining: 166ms\n",
      "949:\tlearn: 0.1209629\ttotal: 357ms\tremaining: 0us\n",
      "Learning rate set to 0.042055\n",
      "0:\tlearn: 0.2830868\ttotal: 1.09ms\tremaining: 1.04s\n",
      "500:\tlearn: 0.1885003\ttotal: 197ms\tremaining: 177ms\n",
      "949:\tlearn: 0.1422552\ttotal: 375ms\tremaining: 0us\n",
      "Learning rate set to 0.043278\n",
      "0:\tlearn: 0.2846444\ttotal: 562us\tremaining: 534ms\n",
      "500:\tlearn: 0.1947884\ttotal: 203ms\tremaining: 181ms\n",
      "949:\tlearn: 0.1492847\ttotal: 386ms\tremaining: 0us\n",
      "Learning rate set to 0.04434\n",
      "0:\tlearn: 0.2798576\ttotal: 1.14ms\tremaining: 1.08s\n",
      "500:\tlearn: 0.1961872\ttotal: 206ms\tremaining: 185ms\n",
      "949:\tlearn: 0.1567904\ttotal: 396ms\tremaining: 0us\n"
     ]
    },
    {
     "name": "stderr",
     "output_type": "stream",
     "text": [
      "Best trial: 21. Best value: 0.24467:  42%|██████████▉               | 42/100 [02:36<03:29,  3.61s/it, 156.18/1200 seconds]"
     ]
    },
    {
     "name": "stdout",
     "output_type": "stream",
     "text": [
      "[I 2024-04-14 21:34:06,171] Trial 41 finished with value: 0.08989905658371944 and parameters: {'loss_function': 'RMSE', 'depth': 4, 'iterations': 950, 'min_data_in_leaf': 32, 'random_strength': 6.763088568591934}. Best is trial 21 with value: 0.2446700285974948.\n",
      "Learning rate set to 0.02964\n",
      "0:\tlearn: 0.2160046\ttotal: 311us\tremaining: 334ms\n",
      "500:\tlearn: 0.1022806\ttotal: 125ms\tremaining: 143ms\n",
      "1000:\tlearn: 0.0458155\ttotal: 253ms\tremaining: 18.2ms\n",
      "1072:\tlearn: 0.0410689\ttotal: 272ms\tremaining: 0us\n",
      "Learning rate set to 0.033\n",
      "0:\tlearn: 0.2318771\ttotal: 461us\tremaining: 495ms\n",
      "500:\tlearn: 0.1332776\ttotal: 163ms\tremaining: 187ms\n",
      "1000:\tlearn: 0.0777442\ttotal: 328ms\tremaining: 23.6ms\n",
      "1072:\tlearn: 0.0715858\ttotal: 351ms\tremaining: 0us\n",
      "Learning rate set to 0.035158\n",
      "0:\tlearn: 0.2605515\ttotal: 408us\tremaining: 438ms\n",
      "500:\tlearn: 0.1647220\ttotal: 172ms\tremaining: 196ms\n",
      "1000:\tlearn: 0.1048203\ttotal: 349ms\tremaining: 25.1ms\n",
      "1072:\tlearn: 0.0981425\ttotal: 375ms\tremaining: 0us\n",
      "Learning rate set to 0.03678\n",
      "0:\tlearn: 0.2635962\ttotal: 418us\tremaining: 449ms\n",
      "500:\tlearn: 0.1836914\ttotal: 180ms\tremaining: 205ms\n",
      "1000:\tlearn: 0.1253491\ttotal: 369ms\tremaining: 26.5ms\n",
      "1072:\tlearn: 0.1198649\ttotal: 393ms\tremaining: 0us\n",
      "Learning rate set to 0.038092\n",
      "0:\tlearn: 0.2831501\ttotal: 371us\tremaining: 399ms\n",
      "500:\tlearn: 0.1946324\ttotal: 189ms\tremaining: 216ms\n",
      "1000:\tlearn: 0.1446457\ttotal: 381ms\tremaining: 27.4ms\n",
      "1072:\tlearn: 0.1384830\ttotal: 411ms\tremaining: 0us\n",
      "Learning rate set to 0.039199\n",
      "0:\tlearn: 0.2846899\ttotal: 422us\tremaining: 453ms\n",
      "500:\tlearn: 0.2002917\ttotal: 197ms\tremaining: 225ms\n",
      "1000:\tlearn: 0.1540723\ttotal: 399ms\tremaining: 28.7ms\n",
      "1072:\tlearn: 0.1489679\ttotal: 427ms\tremaining: 0us\n",
      "Learning rate set to 0.040162\n",
      "0:\tlearn: 0.2798917\ttotal: 514us\tremaining: 551ms\n",
      "500:\tlearn: 0.2021549\ttotal: 207ms\tremaining: 236ms\n"
     ]
    },
    {
     "name": "stderr",
     "output_type": "stream",
     "text": [
      "Best trial: 42. Best value: 0.25168:  43%|███████████▏              | 43/100 [02:39<03:14,  3.40s/it, 159.11/1200 seconds]"
     ]
    },
    {
     "name": "stdout",
     "output_type": "stream",
     "text": [
      "1000:\tlearn: 0.1588755\ttotal: 415ms\tremaining: 29.9ms\n",
      "1072:\tlearn: 0.1536614\ttotal: 445ms\tremaining: 0us\n",
      "[I 2024-04-14 21:34:09,104] Trial 42 finished with value: 0.25167999589732853 and parameters: {'loss_function': 'RMSE', 'depth': 4, 'iterations': 1073, 'min_data_in_leaf': 27, 'random_strength': 6.183197426321383}. Best is trial 42 with value: 0.25167999589732853.\n",
      "Learning rate set to 0.025746\n",
      "0:\tlearn: 0.2157747\ttotal: 397us\tremaining: 507ms\n",
      "500:\tlearn: 0.1131884\ttotal: 124ms\tremaining: 191ms\n",
      "1000:\tlearn: 0.0568733\ttotal: 243ms\tremaining: 66.7ms\n",
      "1275:\tlearn: 0.0388073\ttotal: 309ms\tremaining: 0us\n",
      "Learning rate set to 0.028664\n",
      "0:\tlearn: 0.2319029\ttotal: 1.03ms\tremaining: 1.31s\n",
      "500:\tlearn: 0.1449040\ttotal: 163ms\tremaining: 253ms\n",
      "1000:\tlearn: 0.0898463\ttotal: 332ms\tremaining: 91.3ms\n",
      "1275:\tlearn: 0.0703199\ttotal: 427ms\tremaining: 0us\n",
      "Learning rate set to 0.030539\n",
      "0:\tlearn: 0.2605808\ttotal: 445us\tremaining: 569ms\n",
      "500:\tlearn: 0.1707389\ttotal: 174ms\tremaining: 269ms\n",
      "1000:\tlearn: 0.1134284\ttotal: 343ms\tremaining: 94.3ms\n",
      "1275:\tlearn: 0.0908232\ttotal: 439ms\tremaining: 0us\n",
      "Learning rate set to 0.031947\n",
      "0:\tlearn: 0.2636463\ttotal: 426us\tremaining: 543ms\n",
      "500:\tlearn: 0.1904729\ttotal: 188ms\tremaining: 291ms\n",
      "1000:\tlearn: 0.1381301\ttotal: 366ms\tremaining: 101ms\n",
      "1275:\tlearn: 0.1181964\ttotal: 472ms\tremaining: 0us\n",
      "Learning rate set to 0.033087\n",
      "0:\tlearn: 0.2832305\ttotal: 984us\tremaining: 1.25s\n",
      "500:\tlearn: 0.2045523\ttotal: 193ms\tremaining: 299ms\n",
      "1000:\tlearn: 0.1549904\ttotal: 422ms\tremaining: 116ms\n",
      "1275:\tlearn: 0.1357889\ttotal: 533ms\tremaining: 0us\n",
      "Learning rate set to 0.034049\n",
      "0:\tlearn: 0.2847476\ttotal: 419us\tremaining: 535ms\n",
      "500:\tlearn: 0.2094954\ttotal: 199ms\tremaining: 308ms\n",
      "1000:\tlearn: 0.1645908\ttotal: 403ms\tremaining: 111ms\n",
      "1275:\tlearn: 0.1450164\ttotal: 544ms\tremaining: 0us\n",
      "Learning rate set to 0.034884\n",
      "0:\tlearn: 0.2799350\ttotal: 454us\tremaining: 580ms\n",
      "500:\tlearn: 0.2094657\ttotal: 213ms\tremaining: 330ms\n"
     ]
    },
    {
     "name": "stderr",
     "output_type": "stream",
     "text": [
      "Best trial: 42. Best value: 0.25168:  44%|███████████▍              | 44/100 [02:42<03:14,  3.47s/it, 162.73/1200 seconds]"
     ]
    },
    {
     "name": "stdout",
     "output_type": "stream",
     "text": [
      "1000:\tlearn: 0.1688160\ttotal: 425ms\tremaining: 117ms\n",
      "1275:\tlearn: 0.1515156\ttotal: 571ms\tremaining: 0us\n",
      "[I 2024-04-14 21:34:12,721] Trial 43 finished with value: 0.16537154707537605 and parameters: {'loss_function': 'RMSE', 'depth': 4, 'iterations': 1276, 'min_data_in_leaf': 46, 'random_strength': 5.829029494496823}. Best is trial 42 with value: 0.25167999589732853.\n",
      "Learning rate set to 0.030813\n",
      "0:\tlearn: 0.2157033\ttotal: 346us\tremaining: 354ms\n",
      "500:\tlearn: 0.0967624\ttotal: 112ms\tremaining: 117ms\n",
      "1000:\tlearn: 0.0408165\ttotal: 235ms\tremaining: 5.17ms\n",
      "1022:\tlearn: 0.0392582\ttotal: 254ms\tremaining: 0us\n",
      "Learning rate set to 0.034306\n",
      "0:\tlearn: 0.2318694\ttotal: 1.2ms\tremaining: 1.22s\n",
      "500:\tlearn: 0.1288134\ttotal: 219ms\tremaining: 229ms\n",
      "1000:\tlearn: 0.0725151\ttotal: 387ms\tremaining: 8.51ms\n",
      "1022:\tlearn: 0.0707258\ttotal: 395ms\tremaining: 0us\n",
      "Learning rate set to 0.036549\n",
      "0:\tlearn: 0.2604288\ttotal: 363us\tremaining: 372ms\n",
      "500:\tlearn: 0.1568887\ttotal: 172ms\tremaining: 180ms\n",
      "1000:\tlearn: 0.0965187\ttotal: 350ms\tremaining: 7.68ms\n",
      "1022:\tlearn: 0.0947079\ttotal: 358ms\tremaining: 0us\n",
      "Learning rate set to 0.038235\n",
      "0:\tlearn: 0.2635812\ttotal: 333us\tremaining: 341ms\n",
      "500:\tlearn: 0.1790055\ttotal: 179ms\tremaining: 186ms\n",
      "1000:\tlearn: 0.1206022\ttotal: 361ms\tremaining: 7.94ms\n",
      "1022:\tlearn: 0.1188070\ttotal: 369ms\tremaining: 0us\n",
      "Learning rate set to 0.039599\n",
      "0:\tlearn: 0.2831260\ttotal: 1.08ms\tremaining: 1.1s\n",
      "500:\tlearn: 0.1916471\ttotal: 195ms\tremaining: 203ms\n",
      "1000:\tlearn: 0.1409023\ttotal: 388ms\tremaining: 8.53ms\n",
      "1022:\tlearn: 0.1390558\ttotal: 397ms\tremaining: 0us\n",
      "Learning rate set to 0.04075\n",
      "0:\tlearn: 0.2846726\ttotal: 413us\tremaining: 422ms\n",
      "500:\tlearn: 0.1965098\ttotal: 203ms\tremaining: 212ms\n",
      "1000:\tlearn: 0.1489874\ttotal: 408ms\tremaining: 8.97ms\n",
      "1022:\tlearn: 0.1473016\ttotal: 417ms\tremaining: 0us\n",
      "Learning rate set to 0.04175\n",
      "0:\tlearn: 0.2798787\ttotal: 1.17ms\tremaining: 1.2s\n",
      "500:\tlearn: 0.2003088\ttotal: 214ms\tremaining: 223ms\n"
     ]
    },
    {
     "name": "stderr",
     "output_type": "stream",
     "text": [
      "Best trial: 42. Best value: 0.25168:  45%|███████████▋              | 45/100 [02:45<03:01,  3.31s/it, 165.66/1200 seconds]"
     ]
    },
    {
     "name": "stdout",
     "output_type": "stream",
     "text": [
      "1000:\tlearn: 0.1568110\ttotal: 425ms\tremaining: 9.34ms\n",
      "1022:\tlearn: 0.1550152\ttotal: 434ms\tremaining: 0us\n",
      "[I 2024-04-14 21:34:15,656] Trial 44 finished with value: 0.1356725467261402 and parameters: {'loss_function': 'RMSE', 'depth': 4, 'iterations': 1023, 'min_data_in_leaf': 25, 'random_strength': 5.05658824193739}. Best is trial 42 with value: 0.25167999589732853.\n",
      "Learning rate set to 0.02681\n",
      "0:\tlearn: 0.2157001\ttotal: 1.08ms\tremaining: 1.31s\n",
      "500:\tlearn: 0.0912568\ttotal: 162ms\tremaining: 231ms\n",
      "1000:\tlearn: 0.0316498\ttotal: 317ms\tremaining: 67.5ms\n",
      "1213:\tlearn: 0.0206472\ttotal: 387ms\tremaining: 0us\n",
      "Learning rate set to 0.029849\n",
      "0:\tlearn: 0.2318437\ttotal: 524us\tremaining: 636ms\n",
      "500:\tlearn: 0.1211004\ttotal: 232ms\tremaining: 330ms\n",
      "1000:\tlearn: 0.0613826\ttotal: 458ms\tremaining: 97.5ms\n",
      "1213:\tlearn: 0.0473392\ttotal: 555ms\tremaining: 0us\n",
      "Learning rate set to 0.031801\n",
      "0:\tlearn: 0.2603265\ttotal: 1.14ms\tremaining: 1.39s\n",
      "500:\tlearn: 0.1475057\ttotal: 242ms\tremaining: 344ms\n",
      "1000:\tlearn: 0.0810727\ttotal: 483ms\tremaining: 103ms\n",
      "1213:\tlearn: 0.0631355\ttotal: 584ms\tremaining: 0us\n",
      "Learning rate set to 0.033268\n",
      "0:\tlearn: 0.2636166\ttotal: 437us\tremaining: 530ms\n",
      "500:\tlearn: 0.1681935\ttotal: 251ms\tremaining: 357ms\n",
      "1000:\tlearn: 0.1036115\ttotal: 507ms\tremaining: 108ms\n",
      "1213:\tlearn: 0.0849605\ttotal: 617ms\tremaining: 0us\n",
      "Learning rate set to 0.034454\n",
      "0:\tlearn: 0.2831619\ttotal: 550us\tremaining: 668ms\n",
      "500:\tlearn: 0.1794440\ttotal: 265ms\tremaining: 377ms\n",
      "1000:\tlearn: 0.1220976\ttotal: 524ms\tremaining: 112ms\n",
      "1213:\tlearn: 0.1040047\ttotal: 637ms\tremaining: 0us\n",
      "Learning rate set to 0.035456\n",
      "0:\tlearn: 0.2846951\ttotal: 507us\tremaining: 616ms\n",
      "500:\tlearn: 0.1866473\ttotal: 258ms\tremaining: 367ms\n",
      "1000:\tlearn: 0.1329291\ttotal: 534ms\tremaining: 114ms\n",
      "1213:\tlearn: 0.1166064\ttotal: 651ms\tremaining: 0us\n",
      "Learning rate set to 0.036326\n",
      "0:\tlearn: 0.2798360\ttotal: 581us\tremaining: 706ms\n",
      "500:\tlearn: 0.1888446\ttotal: 273ms\tremaining: 388ms\n"
     ]
    },
    {
     "name": "stderr",
     "output_type": "stream",
     "text": [
      "Best trial: 42. Best value: 0.25168:  46%|███████████▉              | 46/100 [02:50<03:16,  3.64s/it, 170.08/1200 seconds]"
     ]
    },
    {
     "name": "stdout",
     "output_type": "stream",
     "text": [
      "1000:\tlearn: 0.1374597\ttotal: 549ms\tremaining: 117ms\n",
      "1213:\tlearn: 0.1204840\ttotal: 670ms\tremaining: 0us\n",
      "[I 2024-04-14 21:34:20,072] Trial 45 finished with value: 0.13815562711258414 and parameters: {'loss_function': 'RMSE', 'depth': 5, 'iterations': 1214, 'min_data_in_leaf': 16, 'random_strength': 6.05167391177525}. Best is trial 42 with value: 0.25167999589732853.\n",
      "Learning rate set to 0.0241\n",
      "0:\tlearn: 0.2155280\ttotal: 1.1ms\tremaining: 1.52s\n",
      "500:\tlearn: 0.0532145\ttotal: 450ms\tremaining: 793ms\n",
      "1000:\tlearn: 0.0077100\ttotal: 922ms\tremaining: 353ms\n",
      "1383:\tlearn: 0.0023739\ttotal: 1.27s\tremaining: 0us\n",
      "Learning rate set to 0.026832\n",
      "0:\tlearn: 0.2315998\ttotal: 2.06ms\tremaining: 2.85s\n",
      "500:\tlearn: 0.0757797\ttotal: 698ms\tremaining: 1.23s\n",
      "1000:\tlearn: 0.0222876\ttotal: 1.4s\tremaining: 538ms\n",
      "1383:\tlearn: 0.0091073\ttotal: 1.94s\tremaining: 0us\n",
      "Learning rate set to 0.028587\n",
      "0:\tlearn: 0.2603654\ttotal: 1.45ms\tremaining: 2s\n",
      "500:\tlearn: 0.0975206\ttotal: 706ms\tremaining: 1.25s\n",
      "1000:\tlearn: 0.0330190\ttotal: 1.43s\tremaining: 548ms\n",
      "1383:\tlearn: 0.0165194\ttotal: 1.99s\tremaining: 0us\n",
      "Learning rate set to 0.029905\n",
      "0:\tlearn: 0.2636030\ttotal: 1.55ms\tremaining: 2.15s\n",
      "500:\tlearn: 0.1117480\ttotal: 718ms\tremaining: 1.27s\n",
      "1000:\tlearn: 0.0467419\ttotal: 1.45s\tremaining: 555ms\n",
      "1383:\tlearn: 0.0245856\ttotal: 2.01s\tremaining: 0us\n",
      "Learning rate set to 0.030972\n",
      "0:\tlearn: 0.2831564\ttotal: 1.52ms\tremaining: 2.1s\n",
      "500:\tlearn: 0.1249215\ttotal: 743ms\tremaining: 1.31s\n",
      "1000:\tlearn: 0.0598526\ttotal: 1.49s\tremaining: 571ms\n",
      "1383:\tlearn: 0.0351183\ttotal: 2.07s\tremaining: 0us\n",
      "Learning rate set to 0.031872\n",
      "0:\tlearn: 0.2842047\ttotal: 1.41ms\tremaining: 1.96s\n",
      "500:\tlearn: 0.1362619\ttotal: 742ms\tremaining: 1.31s\n",
      "1000:\tlearn: 0.0694071\ttotal: 1.49s\tremaining: 571ms\n",
      "1383:\tlearn: 0.0412665\ttotal: 2.07s\tremaining: 0us\n",
      "Learning rate set to 0.032655\n",
      "0:\tlearn: 0.2794601\ttotal: 1.53ms\tremaining: 2.12s\n",
      "500:\tlearn: 0.1397884\ttotal: 750ms\tremaining: 1.32s\n",
      "1000:\tlearn: 0.0795114\ttotal: 1.5s\tremaining: 575ms\n"
     ]
    },
    {
     "name": "stderr",
     "output_type": "stream",
     "text": [
      "Best trial: 42. Best value: 0.25168:  47%|████████████▏             | 47/100 [03:04<05:57,  6.75s/it, 184.10/1200 seconds]"
     ]
    },
    {
     "name": "stdout",
     "output_type": "stream",
     "text": [
      "1383:\tlearn: 0.0499080\ttotal: 2.08s\tremaining: 0us\n",
      "[I 2024-04-14 21:34:34,090] Trial 46 finished with value: -0.23299252581229712 and parameters: {'loss_function': 'RMSE', 'depth': 8, 'iterations': 1384, 'min_data_in_leaf': 9, 'random_strength': 4.70725991447483}. Best is trial 42 with value: 0.25167999589732853.\n",
      "0:\tlearn: 0.1123652\ttotal: 456us\tremaining: 485ms\n",
      "500:\tlearn: 0.0445034\ttotal: 165ms\tremaining: 185ms\n",
      "1000:\tlearn: 0.0278635\ttotal: 333ms\tremaining: 20.6ms\n",
      "1062:\tlearn: 0.0267318\ttotal: 354ms\tremaining: 0us\n",
      "0:\tlearn: 0.1275718\ttotal: 453us\tremaining: 482ms\n",
      "500:\tlearn: 0.0688142\ttotal: 223ms\tremaining: 250ms\n",
      "1000:\tlearn: 0.0495081\ttotal: 463ms\tremaining: 28.7ms\n",
      "1062:\tlearn: 0.0480403\ttotal: 495ms\tremaining: 0us\n",
      "0:\tlearn: 0.1383391\ttotal: 438us\tremaining: 466ms\n",
      "500:\tlearn: 0.0845227\ttotal: 251ms\tremaining: 281ms\n",
      "1000:\tlearn: 0.0615116\ttotal: 506ms\tremaining: 31.4ms\n",
      "1062:\tlearn: 0.0596842\ttotal: 538ms\tremaining: 0us\n",
      "0:\tlearn: 0.1442164\ttotal: 559us\tremaining: 594ms\n",
      "500:\tlearn: 0.0996497\ttotal: 263ms\tremaining: 295ms\n",
      "1000:\tlearn: 0.0775614\ttotal: 536ms\tremaining: 33.2ms\n",
      "1062:\tlearn: 0.0759438\ttotal: 571ms\tremaining: 0us\n",
      "0:\tlearn: 0.1600094\ttotal: 487us\tremaining: 518ms\n",
      "500:\tlearn: 0.1126176\ttotal: 269ms\tremaining: 302ms\n",
      "1000:\tlearn: 0.0922435\ttotal: 541ms\tremaining: 33.5ms\n",
      "1062:\tlearn: 0.0904030\ttotal: 577ms\tremaining: 0us\n",
      "0:\tlearn: 0.1633955\ttotal: 667us\tremaining: 709ms\n",
      "500:\tlearn: 0.1169384\ttotal: 274ms\tremaining: 307ms\n",
      "1000:\tlearn: 0.0964101\ttotal: 551ms\tremaining: 34.1ms\n",
      "1062:\tlearn: 0.0946329\ttotal: 585ms\tremaining: 0us\n",
      "0:\tlearn: 0.1619679\ttotal: 599us\tremaining: 637ms\n",
      "500:\tlearn: 0.1210846\ttotal: 288ms\tremaining: 323ms\n"
     ]
    },
    {
     "name": "stderr",
     "output_type": "stream",
     "text": [
      "Best trial: 42. Best value: 0.25168:  48%|████████████▍             | 48/100 [03:08<05:08,  5.93s/it, 188.12/1200 seconds]"
     ]
    },
    {
     "name": "stdout",
     "output_type": "stream",
     "text": [
      "1000:\tlearn: 0.1010792\ttotal: 579ms\tremaining: 35.9ms\n",
      "1062:\tlearn: 0.0994685\ttotal: 614ms\tremaining: 0us\n",
      "[I 2024-04-14 21:34:38,113] Trial 47 finished with value: -0.044691265993441164 and parameters: {'loss_function': 'MAE', 'depth': 5, 'iterations': 1063, 'min_data_in_leaf': 34, 'random_strength': 5.404102408732079}. Best is trial 42 with value: 0.25167999589732853.\n",
      "Learning rate set to 0.028522\n",
      "0:\tlearn: 0.2157356\ttotal: 311us\tremaining: 350ms\n",
      "500:\tlearn: 0.1008819\ttotal: 116ms\tremaining: 144ms\n",
      "1000:\tlearn: 0.0453343\ttotal: 231ms\tremaining: 28.6ms\n",
      "1124:\tlearn: 0.0376227\ttotal: 262ms\tremaining: 0us\n",
      "Learning rate set to 0.031755\n",
      "0:\tlearn: 0.2317608\ttotal: 370us\tremaining: 417ms\n",
      "500:\tlearn: 0.1322602\ttotal: 166ms\tremaining: 207ms\n",
      "1000:\tlearn: 0.0785679\ttotal: 333ms\tremaining: 41.2ms\n",
      "1124:\tlearn: 0.0694685\ttotal: 375ms\tremaining: 0us\n",
      "Learning rate set to 0.033831\n",
      "0:\tlearn: 0.2604543\ttotal: 1.22ms\tremaining: 1.37s\n",
      "500:\tlearn: 0.1610210\ttotal: 177ms\tremaining: 221ms\n",
      "1000:\tlearn: 0.1028878\ttotal: 352ms\tremaining: 43.6ms\n",
      "1124:\tlearn: 0.0919601\ttotal: 396ms\tremaining: 0us\n",
      "Learning rate set to 0.035392\n",
      "0:\tlearn: 0.2636106\ttotal: 340us\tremaining: 383ms\n",
      "500:\tlearn: 0.1802852\ttotal: 179ms\tremaining: 223ms\n",
      "1000:\tlearn: 0.1274712\ttotal: 371ms\tremaining: 46ms\n",
      "1124:\tlearn: 0.1172364\ttotal: 417ms\tremaining: 0us\n",
      "Learning rate set to 0.036654\n",
      "0:\tlearn: 0.2831732\ttotal: 1.04ms\tremaining: 1.17s\n",
      "500:\tlearn: 0.1953219\ttotal: 198ms\tremaining: 246ms\n",
      "1000:\tlearn: 0.1465062\ttotal: 397ms\tremaining: 49.2ms\n",
      "1124:\tlearn: 0.1371629\ttotal: 446ms\tremaining: 0us\n",
      "Learning rate set to 0.03772\n",
      "0:\tlearn: 0.2847065\ttotal: 1.17ms\tremaining: 1.32s\n",
      "500:\tlearn: 0.1992484\ttotal: 200ms\tremaining: 250ms\n",
      "1000:\tlearn: 0.1549317\ttotal: 406ms\tremaining: 50.3ms\n",
      "1124:\tlearn: 0.1452068\ttotal: 459ms\tremaining: 0us\n",
      "Learning rate set to 0.038646\n",
      "0:\tlearn: 0.2794250\ttotal: 1.03ms\tremaining: 1.16s\n",
      "500:\tlearn: 0.2025341\ttotal: 208ms\tremaining: 259ms\n"
     ]
    },
    {
     "name": "stderr",
     "output_type": "stream",
     "text": [
      "Best trial: 42. Best value: 0.25168:  49%|████████████▋             | 49/100 [03:11<04:19,  5.09s/it, 191.24/1200 seconds]"
     ]
    },
    {
     "name": "stdout",
     "output_type": "stream",
     "text": [
      "1000:\tlearn: 0.1606306\ttotal: 418ms\tremaining: 51.7ms\n",
      "1124:\tlearn: 0.1517373\ttotal: 472ms\tremaining: 0us\n",
      "[I 2024-04-14 21:34:41,230] Trial 48 finished with value: 0.17425709776188875 and parameters: {'loss_function': 'RMSE', 'depth': 4, 'iterations': 1125, 'min_data_in_leaf': 23, 'random_strength': 3.967886486503394}. Best is trial 42 with value: 0.25167999589732853.\n",
      "Learning rate set to 0.046664\n",
      "0:\tlearn: 0.2158677\ttotal: 334us\tremaining: 205ms\n",
      "500:\tlearn: 0.0371887\ttotal: 158ms\tremaining: 35.6ms\n",
      "613:\tlearn: 0.0248229\ttotal: 195ms\tremaining: 0us\n",
      "Learning rate set to 0.051954\n",
      "0:\tlearn: 0.2316839\ttotal: 474us\tremaining: 291ms\n",
      "500:\tlearn: 0.0736590\ttotal: 221ms\tremaining: 49.9ms\n",
      "613:\tlearn: 0.0558942\ttotal: 274ms\tremaining: 0us\n",
      "Learning rate set to 0.055351\n",
      "0:\tlearn: 0.2603540\ttotal: 556us\tremaining: 341ms\n",
      "500:\tlearn: 0.0965089\ttotal: 239ms\tremaining: 54ms\n",
      "613:\tlearn: 0.0770838\ttotal: 294ms\tremaining: 0us\n",
      "Learning rate set to 0.057904\n",
      "0:\tlearn: 0.2633522\ttotal: 492us\tremaining: 302ms\n",
      "500:\tlearn: 0.1200513\ttotal: 257ms\tremaining: 58ms\n",
      "613:\tlearn: 0.1010690\ttotal: 316ms\tremaining: 0us\n",
      "Learning rate set to 0.059969\n",
      "0:\tlearn: 0.2827229\ttotal: 512us\tremaining: 314ms\n",
      "500:\tlearn: 0.1348286\ttotal: 251ms\tremaining: 56.7ms\n",
      "613:\tlearn: 0.1151276\ttotal: 310ms\tremaining: 0us\n",
      "Learning rate set to 0.061713\n",
      "0:\tlearn: 0.2843771\ttotal: 560us\tremaining: 344ms\n",
      "500:\tlearn: 0.1432873\ttotal: 269ms\tremaining: 60.7ms\n",
      "613:\tlearn: 0.1268232\ttotal: 329ms\tremaining: 0us\n",
      "Learning rate set to 0.063228\n",
      "0:\tlearn: 0.2795550\ttotal: 695us\tremaining: 426ms\n"
     ]
    },
    {
     "name": "stderr",
     "output_type": "stream",
     "text": [
      "Best trial: 42. Best value: 0.25168:  50%|█████████████             | 50/100 [03:13<03:31,  4.24s/it, 193.48/1200 seconds]"
     ]
    },
    {
     "name": "stdout",
     "output_type": "stream",
     "text": [
      "500:\tlearn: 0.1499943\ttotal: 265ms\tremaining: 59.7ms\n",
      "613:\tlearn: 0.1334454\ttotal: 322ms\tremaining: 0us\n",
      "[I 2024-04-14 21:34:43,475] Trial 49 finished with value: 0.07403403798182509 and parameters: {'loss_function': 'RMSE', 'depth': 5, 'iterations': 614, 'min_data_in_leaf': 28, 'random_strength': 7.499475382567514}. Best is trial 42 with value: 0.25167999589732853.\n",
      "Learning rate set to 0.034195\n",
      "0:\tlearn: 0.2155799\ttotal: 380us\tremaining: 342ms\n",
      "500:\tlearn: 0.0623084\ttotal: 153ms\tremaining: 122ms\n",
      "899:\tlearn: 0.0205000\ttotal: 267ms\tremaining: 0us\n",
      "Learning rate set to 0.038071\n",
      "0:\tlearn: 0.2317806\ttotal: 600us\tremaining: 540ms\n",
      "500:\tlearn: 0.0957706\ttotal: 247ms\tremaining: 197ms\n",
      "899:\tlearn: 0.0467610\ttotal: 467ms\tremaining: 0us\n",
      "Learning rate set to 0.040561\n",
      "0:\tlearn: 0.2603013\ttotal: 498us\tremaining: 448ms\n",
      "500:\tlearn: 0.1207914\ttotal: 242ms\tremaining: 193ms\n",
      "899:\tlearn: 0.0680191\ttotal: 439ms\tremaining: 0us\n",
      "Learning rate set to 0.042432\n",
      "0:\tlearn: 0.2635176\ttotal: 566us\tremaining: 509ms\n",
      "500:\tlearn: 0.1478757\ttotal: 252ms\tremaining: 201ms\n",
      "899:\tlearn: 0.0933925\ttotal: 459ms\tremaining: 0us\n",
      "Learning rate set to 0.043945\n",
      "0:\tlearn: 0.2829974\ttotal: 484us\tremaining: 436ms\n",
      "500:\tlearn: 0.1597690\ttotal: 238ms\tremaining: 189ms\n",
      "899:\tlearn: 0.1080363\ttotal: 449ms\tremaining: 0us\n",
      "Learning rate set to 0.045223\n",
      "0:\tlearn: 0.2845761\ttotal: 657us\tremaining: 591ms\n",
      "500:\tlearn: 0.1669230\ttotal: 264ms\tremaining: 210ms\n",
      "899:\tlearn: 0.1159582\ttotal: 473ms\tremaining: 0us\n",
      "Learning rate set to 0.046333\n",
      "0:\tlearn: 0.2797307\ttotal: 477us\tremaining: 429ms\n",
      "500:\tlearn: 0.1734809\ttotal: 275ms\tremaining: 219ms\n"
     ]
    },
    {
     "name": "stderr",
     "output_type": "stream",
     "text": [
      "Best trial: 42. Best value: 0.25168:  51%|█████████████▎            | 51/100 [03:16<03:13,  3.96s/it, 196.79/1200 seconds]"
     ]
    },
    {
     "name": "stdout",
     "output_type": "stream",
     "text": [
      "899:\tlearn: 0.1274741\ttotal: 492ms\tremaining: 0us\n",
      "[I 2024-04-14 21:34:46,785] Trial 50 finished with value: 0.09641497802576603 and parameters: {'loss_function': 'RMSE', 'depth': 5, 'iterations': 900, 'min_data_in_leaf': 45, 'random_strength': 4.774765844020637}. Best is trial 42 with value: 0.25167999589732853.\n",
      "Learning rate set to 0.031542\n",
      "0:\tlearn: 0.2159961\ttotal: 877us\tremaining: 872ms\n",
      "500:\tlearn: 0.0952587\ttotal: 122ms\tremaining: 120ms\n",
      "993:\tlearn: 0.0404573\ttotal: 237ms\tremaining: 0us\n",
      "Learning rate set to 0.035117\n",
      "0:\tlearn: 0.2318645\ttotal: 1.03ms\tremaining: 1.02s\n",
      "500:\tlearn: 0.1277082\ttotal: 165ms\tremaining: 163ms\n",
      "993:\tlearn: 0.0752784\ttotal: 325ms\tremaining: 0us\n",
      "Learning rate set to 0.037414\n",
      "0:\tlearn: 0.2605373\ttotal: 342us\tremaining: 340ms\n",
      "500:\tlearn: 0.1576210\ttotal: 175ms\tremaining: 172ms\n",
      "993:\tlearn: 0.0955875\ttotal: 347ms\tremaining: 0us\n",
      "Learning rate set to 0.03914\n",
      "0:\tlearn: 0.2635718\ttotal: 1.1ms\tremaining: 1.1s\n",
      "500:\tlearn: 0.1792502\ttotal: 187ms\tremaining: 184ms\n",
      "993:\tlearn: 0.1208624\ttotal: 377ms\tremaining: 0us\n",
      "Learning rate set to 0.040535\n",
      "0:\tlearn: 0.2831111\ttotal: 1.14ms\tremaining: 1.13s\n",
      "500:\tlearn: 0.1918676\ttotal: 200ms\tremaining: 196ms\n",
      "993:\tlearn: 0.1407203\ttotal: 485ms\tremaining: 0us\n",
      "Learning rate set to 0.041714\n",
      "0:\tlearn: 0.2846618\ttotal: 654us\tremaining: 650ms\n",
      "500:\tlearn: 0.1968188\ttotal: 222ms\tremaining: 218ms\n",
      "993:\tlearn: 0.1507383\ttotal: 424ms\tremaining: 0us\n",
      "Learning rate set to 0.042738\n",
      "0:\tlearn: 0.2798707\ttotal: 459us\tremaining: 456ms\n",
      "500:\tlearn: 0.1987523\ttotal: 208ms\tremaining: 205ms\n"
     ]
    },
    {
     "name": "stderr",
     "output_type": "stream",
     "text": [
      "Best trial: 42. Best value: 0.25168:  52%|█████████████▌            | 52/100 [03:19<02:54,  3.64s/it, 199.69/1200 seconds]"
     ]
    },
    {
     "name": "stdout",
     "output_type": "stream",
     "text": [
      "993:\tlearn: 0.1554832\ttotal: 416ms\tremaining: 0us\n",
      "[I 2024-04-14 21:34:49,683] Trial 51 finished with value: 0.18451531916186653 and parameters: {'loss_function': 'RMSE', 'depth': 4, 'iterations': 994, 'min_data_in_leaf': 32, 'random_strength': 6.774826621352579}. Best is trial 42 with value: 0.25167999589732853.\n",
      "Learning rate set to 0.033093\n",
      "0:\tlearn: 0.2159892\ttotal: 241us\tremaining: 226ms\n",
      "500:\tlearn: 0.0899727\ttotal: 118ms\tremaining: 103ms\n",
      "936:\tlearn: 0.0409006\ttotal: 213ms\tremaining: 0us\n",
      "Learning rate set to 0.036844\n",
      "0:\tlearn: 0.2318543\ttotal: 856us\tremaining: 801ms\n",
      "500:\tlearn: 0.1265479\ttotal: 170ms\tremaining: 148ms\n",
      "936:\tlearn: 0.0758821\ttotal: 316ms\tremaining: 0us\n",
      "Learning rate set to 0.039254\n",
      "0:\tlearn: 0.2605257\ttotal: 970us\tremaining: 908ms\n",
      "500:\tlearn: 0.1544516\ttotal: 172ms\tremaining: 150ms\n",
      "936:\tlearn: 0.1002896\ttotal: 331ms\tremaining: 0us\n",
      "Learning rate set to 0.041064\n",
      "0:\tlearn: 0.2635520\ttotal: 922us\tremaining: 863ms\n",
      "500:\tlearn: 0.1732762\ttotal: 184ms\tremaining: 160ms\n",
      "936:\tlearn: 0.1238707\ttotal: 345ms\tremaining: 0us\n",
      "Learning rate set to 0.042529\n",
      "0:\tlearn: 0.2830793\ttotal: 1.09ms\tremaining: 1.02s\n",
      "500:\tlearn: 0.1875959\ttotal: 194ms\tremaining: 169ms\n",
      "936:\tlearn: 0.1412412\ttotal: 361ms\tremaining: 0us\n",
      "Learning rate set to 0.043765\n",
      "0:\tlearn: 0.2846390\ttotal: 1.06ms\tremaining: 992ms\n",
      "500:\tlearn: 0.1954791\ttotal: 203ms\tremaining: 177ms\n",
      "936:\tlearn: 0.1500631\ttotal: 378ms\tremaining: 0us\n",
      "Learning rate set to 0.04484\n",
      "0:\tlearn: 0.2798536\ttotal: 554us\tremaining: 519ms\n",
      "500:\tlearn: 0.1966049\ttotal: 207ms\tremaining: 180ms\n",
      "936:\tlearn: 0.1554401\ttotal: 392ms\tremaining: 0us\n"
     ]
    },
    {
     "name": "stderr",
     "output_type": "stream",
     "text": [
      "Best trial: 42. Best value: 0.25168:  53%|█████████████▊            | 53/100 [03:22<02:36,  3.32s/it, 202.27/1200 seconds]"
     ]
    },
    {
     "name": "stdout",
     "output_type": "stream",
     "text": [
      "[I 2024-04-14 21:34:52,263] Trial 52 finished with value: 0.15965689739762287 and parameters: {'loss_function': 'RMSE', 'depth': 4, 'iterations': 937, 'min_data_in_leaf': 36, 'random_strength': 6.504380741149854}. Best is trial 42 with value: 0.25167999589732853.\n",
      "Learning rate set to 0.037328\n",
      "0:\tlearn: 0.2159703\ttotal: 445us\tremaining: 360ms\n",
      "500:\tlearn: 0.0807896\ttotal: 120ms\tremaining: 73.3ms\n",
      "807:\tlearn: 0.0434117\ttotal: 175ms\tremaining: 0us\n",
      "Learning rate set to 0.04156\n",
      "0:\tlearn: 0.2318265\ttotal: 916us\tremaining: 740ms\n",
      "500:\tlearn: 0.1179680\ttotal: 158ms\tremaining: 97.1ms\n",
      "807:\tlearn: 0.0777580\ttotal: 260ms\tremaining: 0us\n",
      "Learning rate set to 0.044277\n",
      "0:\tlearn: 0.2604942\ttotal: 322us\tremaining: 260ms\n",
      "500:\tlearn: 0.1432305\ttotal: 178ms\tremaining: 109ms\n",
      "807:\tlearn: 0.0994232\ttotal: 280ms\tremaining: 0us\n",
      "Learning rate set to 0.04632\n",
      "0:\tlearn: 0.2634980\ttotal: 407us\tremaining: 329ms\n",
      "500:\tlearn: 0.1654714\ttotal: 182ms\tremaining: 111ms\n",
      "807:\tlearn: 0.1248021\ttotal: 294ms\tremaining: 0us\n",
      "Learning rate set to 0.047971\n",
      "0:\tlearn: 0.2829927\ttotal: 418us\tremaining: 338ms\n",
      "500:\tlearn: 0.1803405\ttotal: 196ms\tremaining: 120ms\n",
      "807:\tlearn: 0.1437983\ttotal: 314ms\tremaining: 0us\n",
      "Learning rate set to 0.049366\n",
      "0:\tlearn: 0.2845768\ttotal: 460us\tremaining: 372ms\n",
      "500:\tlearn: 0.1869922\ttotal: 203ms\tremaining: 124ms\n",
      "807:\tlearn: 0.1515190\ttotal: 325ms\tremaining: 0us\n",
      "Learning rate set to 0.050578\n",
      "0:\tlearn: 0.2798070\ttotal: 421us\tremaining: 340ms\n"
     ]
    },
    {
     "name": "stderr",
     "output_type": "stream",
     "text": [
      "Best trial: 42. Best value: 0.25168:  54%|██████████████            | 54/100 [03:24<02:17,  2.99s/it, 204.48/1200 seconds]"
     ]
    },
    {
     "name": "stdout",
     "output_type": "stream",
     "text": [
      "500:\tlearn: 0.1899895\ttotal: 210ms\tremaining: 129ms\n",
      "807:\tlearn: 0.1585478\ttotal: 341ms\tremaining: 0us\n",
      "[I 2024-04-14 21:34:54,475] Trial 53 finished with value: 0.1914924858506187 and parameters: {'loss_function': 'RMSE', 'depth': 4, 'iterations': 808, 'min_data_in_leaf': 22, 'random_strength': 7.26101586357804}. Best is trial 42 with value: 0.25167999589732853.\n",
      "Learning rate set to 0.041466\n",
      "0:\tlearn: 0.2156407\ttotal: 260us\tremaining: 185ms\n",
      "500:\tlearn: 0.0622081\ttotal: 126ms\tremaining: 52.4ms\n",
      "709:\tlearn: 0.0384606\ttotal: 178ms\tremaining: 0us\n",
      "Learning rate set to 0.046166\n",
      "0:\tlearn: 0.2318576\ttotal: 1ms\tremaining: 711ms\n",
      "500:\tlearn: 0.0945932\ttotal: 166ms\tremaining: 69.4ms\n",
      "709:\tlearn: 0.0699920\ttotal: 236ms\tremaining: 0us\n",
      "Learning rate set to 0.049185\n",
      "0:\tlearn: 0.2593485\ttotal: 428us\tremaining: 304ms\n",
      "500:\tlearn: 0.1214622\ttotal: 172ms\tremaining: 71.8ms\n",
      "709:\tlearn: 0.0928822\ttotal: 250ms\tremaining: 0us\n",
      "Learning rate set to 0.051454\n",
      "0:\tlearn: 0.2631309\ttotal: 991us\tremaining: 703ms\n",
      "500:\tlearn: 0.1429596\ttotal: 186ms\tremaining: 77.5ms\n",
      "709:\tlearn: 0.1169337\ttotal: 270ms\tremaining: 0us\n",
      "Learning rate set to 0.053289\n",
      "0:\tlearn: 0.2823455\ttotal: 956us\tremaining: 678ms\n",
      "500:\tlearn: 0.1613265\ttotal: 193ms\tremaining: 80.5ms\n",
      "709:\tlearn: 0.1355297\ttotal: 277ms\tremaining: 0us\n",
      "Learning rate set to 0.054838\n",
      "0:\tlearn: 0.2836710\ttotal: 1.17ms\tremaining: 829ms\n",
      "500:\tlearn: 0.1694764\ttotal: 203ms\tremaining: 84.9ms\n",
      "709:\tlearn: 0.1466137\ttotal: 289ms\tremaining: 0us\n",
      "Learning rate set to 0.056184\n",
      "0:\tlearn: 0.2786304\ttotal: 509us\tremaining: 361ms\n"
     ]
    },
    {
     "name": "stderr",
     "output_type": "stream",
     "text": [
      "Best trial: 42. Best value: 0.25168:  55%|██████████████▎           | 55/100 [03:26<02:01,  2.69s/it, 206.48/1200 seconds]"
     ]
    },
    {
     "name": "stdout",
     "output_type": "stream",
     "text": [
      "500:\tlearn: 0.1718715\ttotal: 210ms\tremaining: 87.6ms\n",
      "709:\tlearn: 0.1522916\ttotal: 301ms\tremaining: 0us\n",
      "[I 2024-04-14 21:34:56,470] Trial 54 finished with value: 0.21366864332915783 and parameters: {'loss_function': 'RMSE', 'depth': 4, 'iterations': 710, 'min_data_in_leaf': 29, 'random_strength': 0.7391382605394623}. Best is trial 42 with value: 0.25167999589732853.\n",
      "Learning rate set to 0.067913\n",
      "0:\tlearn: 0.2158354\ttotal: 282us\tremaining: 109ms\n",
      "386:\tlearn: 0.0548993\ttotal: 90.4ms\tremaining: 0us\n",
      "Learning rate set to 0.075611\n",
      "0:\tlearn: 0.2316281\ttotal: 1.15ms\tremaining: 443ms\n",
      "386:\tlearn: 0.0857336\ttotal: 131ms\tremaining: 0us\n",
      "Learning rate set to 0.080556\n",
      "0:\tlearn: 0.2602704\ttotal: 980us\tremaining: 378ms\n",
      "386:\tlearn: 0.1173942\ttotal: 129ms\tremaining: 0us\n",
      "Learning rate set to 0.084272\n",
      "0:\tlearn: 0.2631160\ttotal: 1ms\tremaining: 386ms\n",
      "386:\tlearn: 0.1340809\ttotal: 143ms\tremaining: 0us\n",
      "Learning rate set to 0.087277\n",
      "0:\tlearn: 0.2823801\ttotal: 623us\tremaining: 241ms\n",
      "386:\tlearn: 0.1502259\ttotal: 169ms\tremaining: 0us\n",
      "Learning rate set to 0.089815\n",
      "0:\tlearn: 0.2841359\ttotal: 939us\tremaining: 363ms\n",
      "386:\tlearn: 0.1623104\ttotal: 154ms\tremaining: 0us\n",
      "Learning rate set to 0.092019\n",
      "0:\tlearn: 0.2794782\ttotal: 575us\tremaining: 222ms\n"
     ]
    },
    {
     "name": "stderr",
     "output_type": "stream",
     "text": [
      "Best trial: 42. Best value: 0.25168:  56%|██████████████▌           | 56/100 [03:27<01:37,  2.22s/it, 207.60/1200 seconds]"
     ]
    },
    {
     "name": "stdout",
     "output_type": "stream",
     "text": [
      "386:\tlearn: 0.1669686\ttotal: 164ms\tremaining: 0us\n",
      "[I 2024-04-14 21:34:57,592] Trial 55 finished with value: 0.12584069758678426 and parameters: {'loss_function': 'RMSE', 'depth': 4, 'iterations': 387, 'min_data_in_leaf': 44, 'random_strength': 6.127453625343221}. Best is trial 42 with value: 0.25167999589732853.\n",
      "Learning rate set to 0.030074\n",
      "0:\tlearn: 0.2153853\ttotal: 736us\tremaining: 775ms\n",
      "500:\tlearn: 0.0506658\ttotal: 314ms\tremaining: 346ms\n",
      "1000:\tlearn: 0.0076986\ttotal: 632ms\tremaining: 33.5ms\n",
      "1053:\tlearn: 0.0064108\ttotal: 664ms\tremaining: 0us\n",
      "Learning rate set to 0.033483\n",
      "0:\tlearn: 0.2317514\ttotal: 1.19ms\tremaining: 1.25s\n",
      "500:\tlearn: 0.0768451\ttotal: 463ms\tremaining: 511ms\n",
      "1000:\tlearn: 0.0233179\ttotal: 939ms\tremaining: 49.7ms\n",
      "1053:\tlearn: 0.0206098\ttotal: 989ms\tremaining: 0us\n",
      "Learning rate set to 0.035673\n",
      "0:\tlearn: 0.2603979\ttotal: 849us\tremaining: 895ms\n",
      "500:\tlearn: 0.0983798\ttotal: 484ms\tremaining: 534ms\n",
      "1000:\tlearn: 0.0328956\ttotal: 978ms\tremaining: 51.8ms\n",
      "1053:\tlearn: 0.0294332\ttotal: 1.03s\tremaining: 0us\n",
      "Learning rate set to 0.037318\n",
      "0:\tlearn: 0.2635122\ttotal: 1.08ms\tremaining: 1.14s\n",
      "500:\tlearn: 0.1140003\ttotal: 496ms\tremaining: 547ms\n",
      "1000:\tlearn: 0.0497626\ttotal: 1s\tremaining: 53.1ms\n",
      "1053:\tlearn: 0.0452167\ttotal: 1.06s\tremaining: 0us\n",
      "Learning rate set to 0.038649\n",
      "0:\tlearn: 0.2830964\ttotal: 1.18ms\tremaining: 1.24s\n",
      "500:\tlearn: 0.1296632\ttotal: 507ms\tremaining: 559ms\n",
      "1000:\tlearn: 0.0623965\ttotal: 1.01s\tremaining: 53.7ms\n",
      "1053:\tlearn: 0.0576677\ttotal: 1.07s\tremaining: 0us\n",
      "Learning rate set to 0.039773\n",
      "0:\tlearn: 0.2845481\ttotal: 1.17ms\tremaining: 1.23s\n",
      "500:\tlearn: 0.1389267\ttotal: 493ms\tremaining: 544ms\n",
      "1000:\tlearn: 0.0720692\ttotal: 1s\tremaining: 53.1ms\n",
      "1053:\tlearn: 0.0671198\ttotal: 1.06s\tremaining: 0us\n",
      "Learning rate set to 0.040749\n",
      "0:\tlearn: 0.2796432\ttotal: 1.06ms\tremaining: 1.11s\n",
      "500:\tlearn: 0.1429809\ttotal: 511ms\tremaining: 564ms\n"
     ]
    },
    {
     "name": "stderr",
     "output_type": "stream",
     "text": [
      "Best trial: 42. Best value: 0.25168:  57%|██████████████▊           | 57/100 [03:34<02:41,  3.77s/it, 214.97/1200 seconds]"
     ]
    },
    {
     "name": "stdout",
     "output_type": "stream",
     "text": [
      "1000:\tlearn: 0.0809658\ttotal: 1.07s\tremaining: 56.5ms\n",
      "1053:\tlearn: 0.0757567\ttotal: 1.12s\tremaining: 0us\n",
      "[I 2024-04-14 21:35:04,968] Trial 56 finished with value: -0.15269667548165802 and parameters: {'loss_function': 'RMSE', 'depth': 7, 'iterations': 1054, 'min_data_in_leaf': 51, 'random_strength': 7.8908547950034045}. Best is trial 42 with value: 0.25167999589732853.\n",
      "Learning rate set to 0.026667\n",
      "0:\tlearn: 0.2157617\ttotal: 296us\tremaining: 362ms\n",
      "500:\tlearn: 0.1095063\ttotal: 120ms\tremaining: 173ms\n",
      "1000:\tlearn: 0.0538098\ttotal: 242ms\tremaining: 53.4ms\n",
      "1221:\tlearn: 0.0396233\ttotal: 294ms\tremaining: 0us\n",
      "Learning rate set to 0.02969\n",
      "0:\tlearn: 0.2318968\ttotal: 427us\tremaining: 522ms\n",
      "500:\tlearn: 0.1413016\ttotal: 168ms\tremaining: 242ms\n",
      "1000:\tlearn: 0.0857491\ttotal: 326ms\tremaining: 71.9ms\n",
      "1221:\tlearn: 0.0694649\ttotal: 393ms\tremaining: 0us\n",
      "Learning rate set to 0.031631\n",
      "0:\tlearn: 0.2604749\ttotal: 938us\tremaining: 1.15s\n",
      "500:\tlearn: 0.1689387\ttotal: 179ms\tremaining: 258ms\n",
      "1000:\tlearn: 0.1080600\ttotal: 353ms\tremaining: 78ms\n",
      "1221:\tlearn: 0.0900666\ttotal: 433ms\tremaining: 0us\n",
      "Learning rate set to 0.03309\n",
      "0:\tlearn: 0.2636344\ttotal: 352us\tremaining: 431ms\n",
      "500:\tlearn: 0.1867204\ttotal: 181ms\tremaining: 260ms\n",
      "1000:\tlearn: 0.1332831\ttotal: 364ms\tremaining: 80.5ms\n",
      "1221:\tlearn: 0.1172553\ttotal: 448ms\tremaining: 0us\n",
      "Learning rate set to 0.03427\n",
      "0:\tlearn: 0.2832114\ttotal: 434us\tremaining: 530ms\n",
      "500:\tlearn: 0.2018979\ttotal: 192ms\tremaining: 276ms\n",
      "1000:\tlearn: 0.1529393\ttotal: 391ms\tremaining: 86.3ms\n",
      "1221:\tlearn: 0.1359403\ttotal: 478ms\tremaining: 0us\n",
      "Learning rate set to 0.035267\n",
      "0:\tlearn: 0.2847339\ttotal: 1.08ms\tremaining: 1.31s\n",
      "500:\tlearn: 0.2052797\ttotal: 208ms\tremaining: 299ms\n",
      "1000:\tlearn: 0.1616911\ttotal: 409ms\tremaining: 90.4ms\n",
      "1221:\tlearn: 0.1460617\ttotal: 499ms\tremaining: 0us\n",
      "Learning rate set to 0.036133\n",
      "0:\tlearn: 0.2799247\ttotal: 457us\tremaining: 559ms\n",
      "500:\tlearn: 0.2078250\ttotal: 206ms\tremaining: 296ms\n"
     ]
    },
    {
     "name": "stderr",
     "output_type": "stream",
     "text": [
      "Best trial: 42. Best value: 0.25168:  58%|███████████████           | 58/100 [03:38<02:33,  3.65s/it, 218.35/1200 seconds]"
     ]
    },
    {
     "name": "stdout",
     "output_type": "stream",
     "text": [
      "1000:\tlearn: 0.1655375\ttotal: 417ms\tremaining: 92.2ms\n",
      "1221:\tlearn: 0.1513658\ttotal: 509ms\tremaining: 0us\n",
      "[I 2024-04-14 21:35:08,343] Trial 57 finished with value: 0.20320948989071116 and parameters: {'loss_function': 'RMSE', 'depth': 4, 'iterations': 1222, 'min_data_in_leaf': 19, 'random_strength': 5.262252545325335}. Best is trial 42 with value: 0.25167999589732853.\n",
      "0:\tlearn: 0.1123518\ttotal: 337us\tremaining: 311ms\n",
      "500:\tlearn: 0.0601209\ttotal: 120ms\tremaining: 101ms\n",
      "922:\tlearn: 0.0451489\ttotal: 224ms\tremaining: 0us\n",
      "0:\tlearn: 0.1276140\ttotal: 967us\tremaining: 892ms\n",
      "500:\tlearn: 0.0846625\ttotal: 168ms\tremaining: 142ms\n",
      "922:\tlearn: 0.0662777\ttotal: 302ms\tremaining: 0us\n",
      "0:\tlearn: 0.1383424\ttotal: 407us\tremaining: 376ms\n",
      "500:\tlearn: 0.1019272\ttotal: 186ms\tremaining: 157ms\n",
      "922:\tlearn: 0.0844660\ttotal: 346ms\tremaining: 0us\n",
      "0:\tlearn: 0.1442330\ttotal: 403us\tremaining: 372ms\n",
      "500:\tlearn: 0.1144832\ttotal: 195ms\tremaining: 164ms\n",
      "922:\tlearn: 0.0979384\ttotal: 364ms\tremaining: 0us\n",
      "0:\tlearn: 0.1601090\ttotal: 455us\tremaining: 420ms\n",
      "500:\tlearn: 0.1261512\ttotal: 207ms\tremaining: 175ms\n",
      "922:\tlearn: 0.1119241\ttotal: 383ms\tremaining: 0us\n",
      "0:\tlearn: 0.1634245\ttotal: 449us\tremaining: 415ms\n",
      "500:\tlearn: 0.1300147\ttotal: 207ms\tremaining: 175ms\n",
      "922:\tlearn: 0.1150071\ttotal: 383ms\tremaining: 0us\n",
      "0:\tlearn: 0.1618749\ttotal: 1.18ms\tremaining: 1.09s\n"
     ]
    },
    {
     "name": "stderr",
     "output_type": "stream",
     "text": [
      "Best trial: 42. Best value: 0.25168:  59%|███████████████▎          | 59/100 [03:40<02:17,  3.35s/it, 220.99/1200 seconds]"
     ]
    },
    {
     "name": "stdout",
     "output_type": "stream",
     "text": [
      "500:\tlearn: 0.1316036\ttotal: 221ms\tremaining: 186ms\n",
      "922:\tlearn: 0.1184457\ttotal: 402ms\tremaining: 0us\n",
      "[I 2024-04-14 21:35:10,979] Trial 58 finished with value: -0.07847697610685692 and parameters: {'loss_function': 'MAE', 'depth': 4, 'iterations': 923, 'min_data_in_leaf': 35, 'random_strength': 6.5740061099877805}. Best is trial 42 with value: 0.25167999589732853.\n",
      "Learning rate set to 0.03149\n",
      "0:\tlearn: 0.2159963\ttotal: 382us\tremaining: 381ms\n",
      "500:\tlearn: 0.0966605\ttotal: 120ms\tremaining: 119ms\n",
      "995:\tlearn: 0.0413893\ttotal: 242ms\tremaining: 0us\n",
      "Learning rate set to 0.03506\n",
      "0:\tlearn: 0.2318649\ttotal: 314us\tremaining: 313ms\n",
      "500:\tlearn: 0.1310789\ttotal: 162ms\tremaining: 160ms\n",
      "995:\tlearn: 0.0775263\ttotal: 325ms\tremaining: 0us\n",
      "Learning rate set to 0.037353\n",
      "0:\tlearn: 0.2605377\ttotal: 1.09ms\tremaining: 1.08s\n",
      "500:\tlearn: 0.1580647\ttotal: 177ms\tremaining: 175ms\n",
      "995:\tlearn: 0.0972216\ttotal: 354ms\tremaining: 0us\n",
      "Learning rate set to 0.039076\n",
      "0:\tlearn: 0.2635725\ttotal: 406us\tremaining: 405ms\n",
      "500:\tlearn: 0.1805711\ttotal: 180ms\tremaining: 178ms\n",
      "995:\tlearn: 0.1201242\ttotal: 368ms\tremaining: 0us\n",
      "Learning rate set to 0.040469\n",
      "0:\tlearn: 0.2831121\ttotal: 964us\tremaining: 960ms\n",
      "500:\tlearn: 0.1914236\ttotal: 196ms\tremaining: 194ms\n",
      "995:\tlearn: 0.1403511\ttotal: 383ms\tremaining: 0us\n",
      "Learning rate set to 0.041646\n",
      "0:\tlearn: 0.2846626\ttotal: 1.02ms\tremaining: 1.01s\n",
      "500:\tlearn: 0.1978089\ttotal: 204ms\tremaining: 202ms\n",
      "995:\tlearn: 0.1500520\ttotal: 407ms\tremaining: 0us\n",
      "Learning rate set to 0.042668\n",
      "0:\tlearn: 0.2798713\ttotal: 1.31ms\tremaining: 1.31s\n",
      "500:\tlearn: 0.1982983\ttotal: 210ms\tremaining: 207ms\n"
     ]
    },
    {
     "name": "stderr",
     "output_type": "stream",
     "text": [
      "Best trial: 42. Best value: 0.25168:  60%|███████████████▌          | 60/100 [03:43<02:06,  3.17s/it, 223.76/1200 seconds]"
     ]
    },
    {
     "name": "stdout",
     "output_type": "stream",
     "text": [
      "995:\tlearn: 0.1546963\ttotal: 416ms\tremaining: 0us\n",
      "[I 2024-04-14 21:35:13,754] Trial 59 finished with value: 0.107397723273248 and parameters: {'loss_function': 'RMSE', 'depth': 4, 'iterations': 996, 'min_data_in_leaf': 42, 'random_strength': 7.11102938086891}. Best is trial 42 with value: 0.25167999589732853.\n",
      "0:\tlearn: 0.1091432\ttotal: 357us\tremaining: 313ms\n",
      "500:\tlearn: 0.0417963\ttotal: 162ms\tremaining: 121ms\n",
      "875:\tlearn: 0.0285386\ttotal: 281ms\tremaining: 0us\n",
      "0:\tlearn: 0.1257078\ttotal: 422us\tremaining: 370ms\n",
      "500:\tlearn: 0.0675840\ttotal: 229ms\tremaining: 172ms\n",
      "875:\tlearn: 0.0506449\ttotal: 407ms\tremaining: 0us\n",
      "0:\tlearn: 0.1336424\ttotal: 580us\tremaining: 508ms\n",
      "500:\tlearn: 0.0824851\ttotal: 247ms\tremaining: 185ms\n",
      "875:\tlearn: 0.0640265\ttotal: 435ms\tremaining: 0us\n",
      "0:\tlearn: 0.1400534\ttotal: 502us\tremaining: 440ms\n",
      "500:\tlearn: 0.0976837\ttotal: 262ms\tremaining: 196ms\n",
      "875:\tlearn: 0.0794737\ttotal: 456ms\tremaining: 0us\n",
      "0:\tlearn: 0.1555749\ttotal: 686us\tremaining: 600ms\n",
      "500:\tlearn: 0.1101853\ttotal: 268ms\tremaining: 201ms\n",
      "875:\tlearn: 0.0933632\ttotal: 478ms\tremaining: 0us\n",
      "0:\tlearn: 0.1591413\ttotal: 541us\tremaining: 474ms\n",
      "500:\tlearn: 0.1157042\ttotal: 276ms\tremaining: 207ms\n",
      "875:\tlearn: 0.0991196\ttotal: 485ms\tremaining: 0us\n",
      "0:\tlearn: 0.1576910\ttotal: 715us\tremaining: 626ms\n",
      "500:\tlearn: 0.1175315\ttotal: 286ms\tremaining: 214ms\n"
     ]
    },
    {
     "name": "stderr",
     "output_type": "stream",
     "text": [
      "Best trial: 42. Best value: 0.25168:  61%|███████████████▊          | 61/100 [03:47<02:05,  3.21s/it, 227.06/1200 seconds]"
     ]
    },
    {
     "name": "stdout",
     "output_type": "stream",
     "text": [
      "875:\tlearn: 0.1016459\ttotal: 499ms\tremaining: 0us\n",
      "[I 2024-04-14 21:35:17,055] Trial 60 finished with value: -0.11855115407079826 and parameters: {'loss_function': 'MAPE', 'depth': 5, 'iterations': 876, 'min_data_in_leaf': 17, 'random_strength': 5.755682293333793}. Best is trial 42 with value: 0.25167999589732853.\n",
      "Learning rate set to 0.052674\n",
      "0:\tlearn: 0.2155069\ttotal: 224us\tremaining: 119ms\n",
      "500:\tlearn: 0.0438706\ttotal: 122ms\tremaining: 6.84ms\n",
      "528:\tlearn: 0.0407639\ttotal: 130ms\tremaining: 0us\n",
      "Learning rate set to 0.058645\n",
      "0:\tlearn: 0.2317992\ttotal: 1.09ms\tremaining: 578ms\n",
      "500:\tlearn: 0.0795645\ttotal: 162ms\tremaining: 9.06ms\n",
      "528:\tlearn: 0.0759363\ttotal: 172ms\tremaining: 0us\n",
      "Learning rate set to 0.062479\n",
      "0:\tlearn: 0.2595504\ttotal: 499us\tremaining: 264ms\n",
      "500:\tlearn: 0.1054780\ttotal: 177ms\tremaining: 9.89ms\n",
      "528:\tlearn: 0.1007142\ttotal: 187ms\tremaining: 0us\n",
      "Learning rate set to 0.065361\n",
      "0:\tlearn: 0.2629057\ttotal: 371us\tremaining: 196ms\n",
      "500:\tlearn: 0.1281198\ttotal: 190ms\tremaining: 10.6ms\n",
      "528:\tlearn: 0.1239780\ttotal: 201ms\tremaining: 0us\n",
      "Learning rate set to 0.067692\n",
      "0:\tlearn: 0.2826641\ttotal: 413us\tremaining: 218ms\n",
      "500:\tlearn: 0.1496201\ttotal: 192ms\tremaining: 10.7ms\n",
      "528:\tlearn: 0.1452886\ttotal: 204ms\tremaining: 0us\n",
      "Learning rate set to 0.06966\n",
      "0:\tlearn: 0.2835142\ttotal: 970us\tremaining: 512ms\n",
      "500:\tlearn: 0.1548005\ttotal: 201ms\tremaining: 11.2ms\n",
      "528:\tlearn: 0.1496823\ttotal: 214ms\tremaining: 0us\n",
      "Learning rate set to 0.071371\n",
      "0:\tlearn: 0.2784662\ttotal: 424us\tremaining: 224ms\n"
     ]
    },
    {
     "name": "stderr",
     "output_type": "stream",
     "text": [
      "Best trial: 42. Best value: 0.25168:  62%|████████████████          | 62/100 [03:48<01:42,  2.70s/it, 228.57/1200 seconds]"
     ]
    },
    {
     "name": "stdout",
     "output_type": "stream",
     "text": [
      "500:\tlearn: 0.1632606\ttotal: 223ms\tremaining: 12.5ms\n",
      "528:\tlearn: 0.1594361\ttotal: 235ms\tremaining: 0us\n",
      "[I 2024-04-14 21:35:18,561] Trial 61 finished with value: 0.18945678506333527 and parameters: {'loss_function': 'RMSE', 'depth': 4, 'iterations': 529, 'min_data_in_leaf': 29, 'random_strength': 1.2040000648819842}. Best is trial 42 with value: 0.25167999589732853.\n",
      "Learning rate set to 0.037291\n",
      "0:\tlearn: 0.2156797\ttotal: 343us\tremaining: 278ms\n",
      "500:\tlearn: 0.0644616\ttotal: 116ms\tremaining: 71.6ms\n",
      "808:\tlearn: 0.0340823\ttotal: 183ms\tremaining: 0us\n",
      "Learning rate set to 0.041518\n",
      "0:\tlearn: 0.2316425\ttotal: 935us\tremaining: 756ms\n",
      "500:\tlearn: 0.1025543\ttotal: 150ms\tremaining: 92.5ms\n",
      "808:\tlearn: 0.0672822\ttotal: 237ms\tremaining: 0us\n",
      "Learning rate set to 0.044233\n",
      "0:\tlearn: 0.2594531\ttotal: 361us\tremaining: 292ms\n",
      "500:\tlearn: 0.1209636\ttotal: 159ms\tremaining: 97.6ms\n",
      "808:\tlearn: 0.0845657\ttotal: 259ms\tremaining: 0us\n",
      "Learning rate set to 0.046273\n",
      "0:\tlearn: 0.2630119\ttotal: 1.07ms\tremaining: 867ms\n",
      "500:\tlearn: 0.1472375\ttotal: 175ms\tremaining: 108ms\n",
      "808:\tlearn: 0.1096179\ttotal: 276ms\tremaining: 0us\n",
      "Learning rate set to 0.047923\n",
      "0:\tlearn: 0.2821497\ttotal: 332us\tremaining: 268ms\n",
      "500:\tlearn: 0.1648046\ttotal: 183ms\tremaining: 112ms\n",
      "808:\tlearn: 0.1307533\ttotal: 306ms\tremaining: 0us\n",
      "Learning rate set to 0.049317\n",
      "0:\tlearn: 0.2835422\ttotal: 397us\tremaining: 321ms\n",
      "500:\tlearn: 0.1709316\ttotal: 200ms\tremaining: 123ms\n",
      "808:\tlearn: 0.1379129\ttotal: 325ms\tremaining: 0us\n",
      "Learning rate set to 0.050527\n",
      "0:\tlearn: 0.2784986\ttotal: 468us\tremaining: 379ms\n"
     ]
    },
    {
     "name": "stderr",
     "output_type": "stream",
     "text": [
      "Best trial: 42. Best value: 0.25168:  63%|████████████████▍         | 63/100 [03:50<01:33,  2.54s/it, 230.72/1200 seconds]"
     ]
    },
    {
     "name": "stdout",
     "output_type": "stream",
     "text": [
      "500:\tlearn: 0.1723803\ttotal: 205ms\tremaining: 126ms\n",
      "808:\tlearn: 0.1438471\ttotal: 341ms\tremaining: 0us\n",
      "[I 2024-04-14 21:35:20,712] Trial 62 finished with value: 0.1953232507860397 and parameters: {'loss_function': 'RMSE', 'depth': 4, 'iterations': 809, 'min_data_in_leaf': 30, 'random_strength': 0.008625818505566207}. Best is trial 42 with value: 0.25167999589732853.\n",
      "Learning rate set to 0.041418\n",
      "0:\tlearn: 0.2155069\ttotal: 344us\tremaining: 245ms\n",
      "500:\tlearn: 0.0579437\ttotal: 120ms\tremaining: 50.3ms\n",
      "710:\tlearn: 0.0340516\ttotal: 169ms\tremaining: 0us\n",
      "Learning rate set to 0.046113\n",
      "0:\tlearn: 0.2317084\ttotal: 1.08ms\tremaining: 768ms\n",
      "500:\tlearn: 0.0944504\ttotal: 151ms\tremaining: 63.2ms\n",
      "710:\tlearn: 0.0689566\ttotal: 215ms\tremaining: 0us\n",
      "Learning rate set to 0.049129\n",
      "0:\tlearn: 0.2595576\ttotal: 1.07ms\tremaining: 762ms\n",
      "500:\tlearn: 0.1162206\ttotal: 186ms\tremaining: 78.2ms\n",
      "710:\tlearn: 0.0888232\ttotal: 253ms\tremaining: 0us\n",
      "Learning rate set to 0.051395\n",
      "0:\tlearn: 0.2628140\ttotal: 1.02ms\tremaining: 725ms\n",
      "500:\tlearn: 0.1390419\ttotal: 175ms\tremaining: 73.4ms\n",
      "710:\tlearn: 0.1129836\ttotal: 248ms\tremaining: 0us\n",
      "Learning rate set to 0.053228\n",
      "0:\tlearn: 0.2818781\ttotal: 1.03ms\tremaining: 734ms\n",
      "500:\tlearn: 0.1590854\ttotal: 182ms\tremaining: 76.2ms\n",
      "710:\tlearn: 0.1341271\ttotal: 264ms\tremaining: 0us\n",
      "Learning rate set to 0.054775\n",
      "0:\tlearn: 0.2833461\ttotal: 406us\tremaining: 288ms\n",
      "500:\tlearn: 0.1656647\ttotal: 203ms\tremaining: 85ms\n",
      "710:\tlearn: 0.1427660\ttotal: 291ms\tremaining: 0us\n",
      "Learning rate set to 0.05612\n",
      "0:\tlearn: 0.2786321\ttotal: 425us\tremaining: 302ms\n"
     ]
    },
    {
     "name": "stderr",
     "output_type": "stream",
     "text": [
      "Best trial: 42. Best value: 0.25168:  64%|████████████████▋         | 64/100 [03:52<01:24,  2.36s/it, 232.67/1200 seconds]"
     ]
    },
    {
     "name": "stdout",
     "output_type": "stream",
     "text": [
      "500:\tlearn: 0.1712404\ttotal: 215ms\tremaining: 90.2ms\n",
      "710:\tlearn: 0.1499715\ttotal: 303ms\tremaining: 0us\n",
      "[I 2024-04-14 21:35:22,661] Trial 63 finished with value: 0.2358468631544229 and parameters: {'loss_function': 'RMSE', 'depth': 4, 'iterations': 711, 'min_data_in_leaf': 26, 'random_strength': 0.3623796092380797}. Best is trial 42 with value: 0.25167999589732853.\n",
      "Learning rate set to 0.028962\n",
      "0:\tlearn: 0.2157904\ttotal: 951us\tremaining: 1.05s\n",
      "500:\tlearn: 0.0921531\ttotal: 121ms\tremaining: 145ms\n",
      "1000:\tlearn: 0.0407090\ttotal: 238ms\tremaining: 24.5ms\n",
      "1103:\tlearn: 0.0344720\ttotal: 264ms\tremaining: 0us\n",
      "Learning rate set to 0.032245\n",
      "0:\tlearn: 0.2315613\ttotal: 426us\tremaining: 470ms\n",
      "500:\tlearn: 0.1268459\ttotal: 150ms\tremaining: 181ms\n",
      "1000:\tlearn: 0.0749596\ttotal: 316ms\tremaining: 32.5ms\n",
      "1103:\tlearn: 0.0676967\ttotal: 349ms\tremaining: 0us\n",
      "Learning rate set to 0.034354\n",
      "0:\tlearn: 0.2602836\ttotal: 393us\tremaining: 434ms\n",
      "500:\tlearn: 0.1527819\ttotal: 172ms\tremaining: 207ms\n",
      "1000:\tlearn: 0.0963255\ttotal: 348ms\tremaining: 35.8ms\n",
      "1103:\tlearn: 0.0885297\ttotal: 385ms\tremaining: 0us\n",
      "Learning rate set to 0.035938\n",
      "0:\tlearn: 0.2635138\ttotal: 364us\tremaining: 402ms\n",
      "500:\tlearn: 0.1738070\ttotal: 185ms\tremaining: 223ms\n",
      "1000:\tlearn: 0.1217308\ttotal: 374ms\tremaining: 38.5ms\n",
      "1103:\tlearn: 0.1134395\ttotal: 411ms\tremaining: 0us\n",
      "Learning rate set to 0.03722\n",
      "0:\tlearn: 0.2831200\ttotal: 418us\tremaining: 461ms\n",
      "500:\tlearn: 0.1878207\ttotal: 189ms\tremaining: 227ms\n",
      "1000:\tlearn: 0.1413600\ttotal: 373ms\tremaining: 38.3ms\n",
      "1103:\tlearn: 0.1344094\ttotal: 412ms\tremaining: 0us\n",
      "Learning rate set to 0.038302\n",
      "0:\tlearn: 0.2841954\ttotal: 417us\tremaining: 460ms\n",
      "500:\tlearn: 0.1948265\ttotal: 196ms\tremaining: 236ms\n",
      "1000:\tlearn: 0.1495531\ttotal: 399ms\tremaining: 41ms\n",
      "1103:\tlearn: 0.1425751\ttotal: 441ms\tremaining: 0us\n",
      "Learning rate set to 0.039242\n",
      "0:\tlearn: 0.2792450\ttotal: 1.27ms\tremaining: 1.4s\n",
      "500:\tlearn: 0.1996103\ttotal: 214ms\tremaining: 258ms\n"
     ]
    },
    {
     "name": "stderr",
     "output_type": "stream",
     "text": [
      "Best trial: 42. Best value: 0.25168:  65%|████████████████▉         | 65/100 [03:55<01:29,  2.55s/it, 235.66/1200 seconds]"
     ]
    },
    {
     "name": "stdout",
     "output_type": "stream",
     "text": [
      "1000:\tlearn: 0.1587325\ttotal: 422ms\tremaining: 43.5ms\n",
      "1103:\tlearn: 0.1513935\ttotal: 467ms\tremaining: 0us\n",
      "[I 2024-04-14 21:35:25,650] Trial 64 finished with value: 0.15879735039823442 and parameters: {'loss_function': 'RMSE', 'depth': 4, 'iterations': 1104, 'min_data_in_leaf': 25, 'random_strength': 1.604067778586768}. Best is trial 42 with value: 0.25167999589732853.\n",
      "Learning rate set to 0.031671\n",
      "0:\tlearn: 0.2156908\ttotal: 402us\tremaining: 398ms\n",
      "500:\tlearn: 0.0773759\ttotal: 120ms\tremaining: 116ms\n",
      "988:\tlearn: 0.0324244\ttotal: 238ms\tremaining: 0us\n",
      "Learning rate set to 0.035262\n",
      "0:\tlearn: 0.2317943\ttotal: 1.01ms\tremaining: 994ms\n",
      "500:\tlearn: 0.1111731\ttotal: 164ms\tremaining: 160ms\n",
      "988:\tlearn: 0.0643867\ttotal: 329ms\tremaining: 0us\n",
      "Learning rate set to 0.037568\n",
      "0:\tlearn: 0.2598420\ttotal: 387us\tremaining: 383ms\n",
      "500:\tlearn: 0.1355357\ttotal: 171ms\tremaining: 167ms\n",
      "988:\tlearn: 0.0832984\ttotal: 342ms\tremaining: 0us\n",
      "Learning rate set to 0.0393\n",
      "0:\tlearn: 0.2632436\ttotal: 375us\tremaining: 371ms\n",
      "500:\tlearn: 0.1586741\ttotal: 182ms\tremaining: 177ms\n",
      "988:\tlearn: 0.1075433\ttotal: 362ms\tremaining: 0us\n",
      "Learning rate set to 0.040702\n",
      "0:\tlearn: 0.2823167\ttotal: 335us\tremaining: 331ms\n",
      "500:\tlearn: 0.1748477\ttotal: 196ms\tremaining: 191ms\n",
      "988:\tlearn: 0.1300524\ttotal: 383ms\tremaining: 0us\n",
      "Learning rate set to 0.041885\n",
      "0:\tlearn: 0.2837601\ttotal: 1.09ms\tremaining: 1.08s\n",
      "500:\tlearn: 0.1825522\ttotal: 198ms\tremaining: 193ms\n",
      "988:\tlearn: 0.1370470\ttotal: 396ms\tremaining: 0us\n",
      "Learning rate set to 0.042913\n",
      "0:\tlearn: 0.2790011\ttotal: 426us\tremaining: 421ms\n",
      "500:\tlearn: 0.1858686\ttotal: 208ms\tremaining: 203ms\n"
     ]
    },
    {
     "name": "stderr",
     "output_type": "stream",
     "text": [
      "Best trial: 65. Best value: 0.354516:  66%|████████████████▌        | 66/100 [03:58<01:28,  2.59s/it, 238.36/1200 seconds]"
     ]
    },
    {
     "name": "stdout",
     "output_type": "stream",
     "text": [
      "988:\tlearn: 0.1457671\ttotal: 410ms\tremaining: 0us\n",
      "[I 2024-04-14 21:35:28,349] Trial 65 finished with value: 0.35451561277025334 and parameters: {'loss_function': 'RMSE', 'depth': 4, 'iterations': 989, 'min_data_in_leaf': 13, 'random_strength': 0.33057002939071506}. Best is trial 65 with value: 0.35451561277025334.\n",
      "Learning rate set to 0.030546\n",
      "0:\tlearn: 0.2157714\ttotal: 904us\tremaining: 935ms\n",
      "500:\tlearn: 0.0828536\ttotal: 118ms\tremaining: 126ms\n",
      "1000:\tlearn: 0.0351396\ttotal: 243ms\tremaining: 8.03ms\n",
      "1033:\tlearn: 0.0333056\ttotal: 252ms\tremaining: 0us\n",
      "Learning rate set to 0.034009\n",
      "0:\tlearn: 0.2318043\ttotal: 1.03ms\tremaining: 1.07s\n",
      "500:\tlearn: 0.1149182\ttotal: 161ms\tremaining: 172ms\n",
      "1000:\tlearn: 0.0657974\ttotal: 333ms\tremaining: 11ms\n",
      "1033:\tlearn: 0.0633061\ttotal: 345ms\tremaining: 0us\n",
      "Learning rate set to 0.036233\n",
      "0:\tlearn: 0.2598749\ttotal: 403us\tremaining: 417ms\n",
      "500:\tlearn: 0.1426055\ttotal: 175ms\tremaining: 186ms\n",
      "1000:\tlearn: 0.0863965\ttotal: 354ms\tremaining: 11.7ms\n",
      "1033:\tlearn: 0.0838919\ttotal: 366ms\tremaining: 0us\n",
      "Learning rate set to 0.037904\n",
      "0:\tlearn: 0.2630907\ttotal: 519us\tremaining: 537ms\n",
      "500:\tlearn: 0.1623828\ttotal: 186ms\tremaining: 198ms\n",
      "1000:\tlearn: 0.1158948\ttotal: 368ms\tremaining: 12.1ms\n",
      "1033:\tlearn: 0.1129372\ttotal: 380ms\tremaining: 0us\n",
      "Learning rate set to 0.039256\n",
      "0:\tlearn: 0.2825608\ttotal: 375us\tremaining: 388ms\n",
      "500:\tlearn: 0.1778958\ttotal: 192ms\tremaining: 204ms\n",
      "1000:\tlearn: 0.1318094\ttotal: 385ms\tremaining: 12.7ms\n",
      "1033:\tlearn: 0.1291866\ttotal: 397ms\tremaining: 0us\n",
      "Learning rate set to 0.040397\n",
      "0:\tlearn: 0.2838082\ttotal: 455us\tremaining: 470ms\n",
      "500:\tlearn: 0.1861967\ttotal: 200ms\tremaining: 213ms\n",
      "1000:\tlearn: 0.1423786\ttotal: 399ms\tremaining: 13.2ms\n",
      "1033:\tlearn: 0.1398632\ttotal: 412ms\tremaining: 0us\n",
      "Learning rate set to 0.041389\n",
      "0:\tlearn: 0.2790439\ttotal: 484us\tremaining: 501ms\n",
      "500:\tlearn: 0.1900114\ttotal: 208ms\tremaining: 221ms\n"
     ]
    },
    {
     "name": "stderr",
     "output_type": "stream",
     "text": [
      "Best trial: 65. Best value: 0.354516:  67%|████████████████▊        | 67/100 [04:01<01:27,  2.67s/it, 241.19/1200 seconds]"
     ]
    },
    {
     "name": "stdout",
     "output_type": "stream",
     "text": [
      "1000:\tlearn: 0.1493397\ttotal: 413ms\tremaining: 13.6ms\n",
      "1033:\tlearn: 0.1470191\ttotal: 427ms\tremaining: 0us\n",
      "[I 2024-04-14 21:35:31,181] Trial 66 finished with value: 0.28724829849736644 and parameters: {'loss_function': 'RMSE', 'depth': 4, 'iterations': 1034, 'min_data_in_leaf': 6, 'random_strength': 0.5191073047476584}. Best is trial 65 with value: 0.35451561277025334.\n",
      "Learning rate set to 0.04063\n",
      "0:\tlearn: 0.2156507\ttotal: 290us\tremaining: 211ms\n",
      "500:\tlearn: 0.0610331\ttotal: 124ms\tremaining: 56.1ms\n",
      "727:\tlearn: 0.0358588\ttotal: 180ms\tremaining: 0us\n",
      "Learning rate set to 0.045236\n",
      "0:\tlearn: 0.2317153\ttotal: 408us\tremaining: 297ms\n",
      "500:\tlearn: 0.0971511\ttotal: 167ms\tremaining: 75.9ms\n",
      "727:\tlearn: 0.0692399\ttotal: 245ms\tremaining: 0us\n",
      "Learning rate set to 0.048194\n",
      "0:\tlearn: 0.2595805\ttotal: 275us\tremaining: 201ms\n",
      "500:\tlearn: 0.1188118\ttotal: 174ms\tremaining: 78.6ms\n",
      "727:\tlearn: 0.0902691\ttotal: 259ms\tremaining: 0us\n",
      "Learning rate set to 0.050417\n",
      "0:\tlearn: 0.2628021\ttotal: 365us\tremaining: 266ms\n",
      "500:\tlearn: 0.1446162\ttotal: 184ms\tremaining: 83.6ms\n",
      "727:\tlearn: 0.1174034\ttotal: 276ms\tremaining: 0us\n",
      "Learning rate set to 0.052215\n",
      "0:\tlearn: 0.2819135\ttotal: 376us\tremaining: 274ms\n",
      "500:\tlearn: 0.1601290\ttotal: 195ms\tremaining: 88.2ms\n",
      "727:\tlearn: 0.1326896\ttotal: 286ms\tremaining: 0us\n",
      "Learning rate set to 0.053733\n",
      "0:\tlearn: 0.2833794\ttotal: 463us\tremaining: 337ms\n",
      "500:\tlearn: 0.1683430\ttotal: 197ms\tremaining: 89.4ms\n",
      "727:\tlearn: 0.1422254\ttotal: 283ms\tremaining: 0us\n",
      "Learning rate set to 0.055052\n",
      "0:\tlearn: 0.2786618\ttotal: 422us\tremaining: 307ms\n"
     ]
    },
    {
     "name": "stderr",
     "output_type": "stream",
     "text": [
      "Best trial: 65. Best value: 0.354516:  68%|█████████████████        | 68/100 [04:03<01:19,  2.48s/it, 243.24/1200 seconds]"
     ]
    },
    {
     "name": "stdout",
     "output_type": "stream",
     "text": [
      "500:\tlearn: 0.1723446\ttotal: 208ms\tremaining: 94.4ms\n",
      "727:\tlearn: 0.1482281\ttotal: 306ms\tremaining: 0us\n",
      "[I 2024-04-14 21:35:33,235] Trial 67 finished with value: 0.26127264734415667 and parameters: {'loss_function': 'RMSE', 'depth': 4, 'iterations': 728, 'min_data_in_leaf': 5, 'random_strength': 0.48259237675054056}. Best is trial 65 with value: 0.35451561277025334.\n",
      "Learning rate set to 0.040767\n",
      "0:\tlearn: 0.2151593\ttotal: 371us\tremaining: 269ms\n",
      "500:\tlearn: 0.0409073\ttotal: 162ms\tremaining: 72.5ms\n",
      "724:\tlearn: 0.0198482\ttotal: 242ms\tremaining: 0us\n",
      "Learning rate set to 0.045388\n",
      "0:\tlearn: 0.2314648\ttotal: 544us\tremaining: 394ms\n",
      "500:\tlearn: 0.0726488\ttotal: 227ms\tremaining: 101ms\n",
      "724:\tlearn: 0.0449711\ttotal: 332ms\tremaining: 0us\n",
      "Learning rate set to 0.048356\n",
      "0:\tlearn: 0.2594535\ttotal: 601us\tremaining: 436ms\n",
      "500:\tlearn: 0.0927370\ttotal: 240ms\tremaining: 107ms\n",
      "724:\tlearn: 0.0622016\ttotal: 353ms\tremaining: 0us\n",
      "Learning rate set to 0.050587\n",
      "0:\tlearn: 0.2625895\ttotal: 585us\tremaining: 424ms\n",
      "500:\tlearn: 0.1163064\ttotal: 253ms\tremaining: 113ms\n",
      "724:\tlearn: 0.0847772\ttotal: 367ms\tremaining: 0us\n",
      "Learning rate set to 0.052391\n",
      "0:\tlearn: 0.2817644\ttotal: 695us\tremaining: 504ms\n",
      "500:\tlearn: 0.1331025\ttotal: 262ms\tremaining: 117ms\n",
      "724:\tlearn: 0.1027896\ttotal: 381ms\tremaining: 0us\n",
      "Learning rate set to 0.053914\n",
      "0:\tlearn: 0.2830132\ttotal: 594us\tremaining: 431ms\n",
      "500:\tlearn: 0.1428092\ttotal: 266ms\tremaining: 119ms\n",
      "724:\tlearn: 0.1129957\ttotal: 384ms\tremaining: 0us\n",
      "Learning rate set to 0.055237\n",
      "0:\tlearn: 0.2782947\ttotal: 544us\tremaining: 394ms\n"
     ]
    },
    {
     "name": "stderr",
     "output_type": "stream",
     "text": [
      "Best trial: 65. Best value: 0.354516:  69%|█████████████████▎       | 69/100 [04:05<01:18,  2.54s/it, 245.91/1200 seconds]"
     ]
    },
    {
     "name": "stdout",
     "output_type": "stream",
     "text": [
      "500:\tlearn: 0.1480234\ttotal: 274ms\tremaining: 123ms\n",
      "724:\tlearn: 0.1213007\ttotal: 396ms\tremaining: 0us\n",
      "[I 2024-04-14 21:35:35,903] Trial 68 finished with value: 0.14421365210055823 and parameters: {'loss_function': 'RMSE', 'depth': 5, 'iterations': 725, 'min_data_in_leaf': 5, 'random_strength': 0.384038085515229}. Best is trial 65 with value: 0.35451561277025334.\n",
      "Learning rate set to 0.048671\n",
      "0:\tlearn: 0.2153969\ttotal: 1.11ms\tremaining: 645ms\n",
      "500:\tlearn: 0.0498703\ttotal: 114ms\tremaining: 18.6ms\n",
      "582:\tlearn: 0.0395832\ttotal: 129ms\tremaining: 0us\n",
      "Learning rate set to 0.054189\n",
      "0:\tlearn: 0.2316446\ttotal: 1.09ms\tremaining: 633ms\n",
      "500:\tlearn: 0.0827602\ttotal: 172ms\tremaining: 28.1ms\n",
      "582:\tlearn: 0.0724087\ttotal: 198ms\tremaining: 0us\n",
      "Learning rate set to 0.057732\n",
      "0:\tlearn: 0.2593469\ttotal: 881us\tremaining: 513ms\n",
      "500:\tlearn: 0.1056284\ttotal: 168ms\tremaining: 27.6ms\n",
      "582:\tlearn: 0.0920828\ttotal: 197ms\tremaining: 0us\n",
      "Learning rate set to 0.060395\n",
      "0:\tlearn: 0.2627703\ttotal: 522us\tremaining: 304ms\n",
      "500:\tlearn: 0.1303866\ttotal: 185ms\tremaining: 30.3ms\n",
      "582:\tlearn: 0.1186472\ttotal: 214ms\tremaining: 0us\n",
      "Learning rate set to 0.062549\n",
      "0:\tlearn: 0.2815546\ttotal: 344us\tremaining: 200ms\n",
      "500:\tlearn: 0.1473529\ttotal: 188ms\tremaining: 30.8ms\n",
      "582:\tlearn: 0.1360175\ttotal: 221ms\tremaining: 0us\n",
      "Learning rate set to 0.064368\n",
      "0:\tlearn: 0.2830408\ttotal: 551us\tremaining: 321ms\n",
      "500:\tlearn: 0.1541524\ttotal: 197ms\tremaining: 32.2ms\n",
      "582:\tlearn: 0.1438259\ttotal: 230ms\tremaining: 0us\n",
      "Learning rate set to 0.065948\n",
      "0:\tlearn: 0.2783601\ttotal: 525us\tremaining: 306ms\n"
     ]
    },
    {
     "name": "stderr",
     "output_type": "stream",
     "text": [
      "Best trial: 65. Best value: 0.354516:  70%|█████████████████▌       | 70/100 [04:07<01:07,  2.26s/it, 247.51/1200 seconds]"
     ]
    },
    {
     "name": "stdout",
     "output_type": "stream",
     "text": [
      "500:\tlearn: 0.1609205\ttotal: 209ms\tremaining: 34.2ms\n",
      "582:\tlearn: 0.1512843\ttotal: 241ms\tremaining: 0us\n",
      "[I 2024-04-14 21:35:37,503] Trial 69 finished with value: 0.25774296517559253 and parameters: {'loss_function': 'RMSE', 'depth': 4, 'iterations': 583, 'min_data_in_leaf': 10, 'random_strength': 0.3971725072807394}. Best is trial 65 with value: 0.35451561277025334.\n",
      "Learning rate set to 0.049082\n",
      "0:\tlearn: 0.2153907\ttotal: 1.11ms\tremaining: 643ms\n",
      "500:\tlearn: 0.0490313\ttotal: 111ms\tremaining: 16.8ms\n",
      "576:\tlearn: 0.0395022\ttotal: 125ms\tremaining: 0us\n",
      "Learning rate set to 0.054646\n",
      "0:\tlearn: 0.2316410\ttotal: 400us\tremaining: 231ms\n",
      "500:\tlearn: 0.0834063\ttotal: 167ms\tremaining: 25.4ms\n",
      "576:\tlearn: 0.0719002\ttotal: 190ms\tremaining: 0us\n",
      "Learning rate set to 0.05822\n",
      "0:\tlearn: 0.2593350\ttotal: 344us\tremaining: 199ms\n",
      "500:\tlearn: 0.1061732\ttotal: 170ms\tremaining: 25.8ms\n",
      "576:\tlearn: 0.0939111\ttotal: 198ms\tremaining: 0us\n",
      "Learning rate set to 0.060905\n",
      "0:\tlearn: 0.2629088\ttotal: 474us\tremaining: 274ms\n",
      "500:\tlearn: 0.1294875\ttotal: 184ms\tremaining: 27.9ms\n",
      "576:\tlearn: 0.1207493\ttotal: 210ms\tremaining: 0us\n",
      "Learning rate set to 0.063077\n",
      "0:\tlearn: 0.2815363\ttotal: 1.03ms\tremaining: 593ms\n",
      "500:\tlearn: 0.1465615\ttotal: 195ms\tremaining: 29.5ms\n",
      "576:\tlearn: 0.1364773\ttotal: 224ms\tremaining: 0us\n",
      "Learning rate set to 0.064911\n",
      "0:\tlearn: 0.2830236\ttotal: 370us\tremaining: 213ms\n",
      "500:\tlearn: 0.1565677\ttotal: 200ms\tremaining: 30.4ms\n",
      "576:\tlearn: 0.1464754\ttotal: 231ms\tremaining: 0us\n",
      "Learning rate set to 0.066505\n",
      "0:\tlearn: 0.2783447\ttotal: 389us\tremaining: 225ms\n"
     ]
    },
    {
     "name": "stderr",
     "output_type": "stream",
     "text": [
      "Best trial: 65. Best value: 0.354516:  71%|█████████████████▊       | 71/100 [04:09<00:59,  2.05s/it, 249.09/1200 seconds]"
     ]
    },
    {
     "name": "stdout",
     "output_type": "stream",
     "text": [
      "500:\tlearn: 0.1610147\ttotal: 208ms\tremaining: 31.5ms\n",
      "576:\tlearn: 0.1520451\ttotal: 239ms\tremaining: 0us\n",
      "[I 2024-04-14 21:35:39,087] Trial 70 finished with value: 0.2316403901972855 and parameters: {'loss_function': 'RMSE', 'depth': 4, 'iterations': 577, 'min_data_in_leaf': 10, 'random_strength': 0.42520723809016303}. Best is trial 65 with value: 0.35451561277025334.\n",
      "Learning rate set to 0.046541\n",
      "0:\tlearn: 0.2154817\ttotal: 333us\tremaining: 205ms\n",
      "500:\tlearn: 0.0513783\ttotal: 121ms\tremaining: 27.7ms\n",
      "615:\tlearn: 0.0373282\ttotal: 144ms\tremaining: 0us\n",
      "Learning rate set to 0.051816\n",
      "0:\tlearn: 0.2316390\ttotal: 351us\tremaining: 216ms\n",
      "500:\tlearn: 0.0843442\ttotal: 161ms\tremaining: 37ms\n",
      "615:\tlearn: 0.0697177\ttotal: 201ms\tremaining: 0us\n",
      "Learning rate set to 0.055205\n",
      "0:\tlearn: 0.2591718\ttotal: 476us\tremaining: 293ms\n",
      "500:\tlearn: 0.1075468\ttotal: 175ms\tremaining: 40.1ms\n",
      "615:\tlearn: 0.0907373\ttotal: 215ms\tremaining: 0us\n",
      "Learning rate set to 0.057751\n",
      "0:\tlearn: 0.2629027\ttotal: 336us\tremaining: 207ms\n",
      "500:\tlearn: 0.1336664\ttotal: 189ms\tremaining: 43.4ms\n",
      "615:\tlearn: 0.1185607\ttotal: 230ms\tremaining: 0us\n",
      "Learning rate set to 0.059811\n",
      "0:\tlearn: 0.2816494\ttotal: 378us\tremaining: 233ms\n",
      "500:\tlearn: 0.1520953\ttotal: 199ms\tremaining: 45.8ms\n",
      "615:\tlearn: 0.1370982\ttotal: 247ms\tremaining: 0us\n",
      "Learning rate set to 0.06155\n",
      "0:\tlearn: 0.2831303\ttotal: 476us\tremaining: 293ms\n",
      "500:\tlearn: 0.1581021\ttotal: 202ms\tremaining: 46.3ms\n",
      "615:\tlearn: 0.1427040\ttotal: 247ms\tremaining: 0us\n",
      "Learning rate set to 0.063061\n",
      "0:\tlearn: 0.2782857\ttotal: 557us\tremaining: 343ms\n"
     ]
    },
    {
     "name": "stderr",
     "output_type": "stream",
     "text": [
      "Best trial: 65. Best value: 0.354516:  72%|██████████████████       | 72/100 [04:10<00:54,  1.95s/it, 250.80/1200 seconds]"
     ]
    },
    {
     "name": "stdout",
     "output_type": "stream",
     "text": [
      "500:\tlearn: 0.1648772\ttotal: 207ms\tremaining: 47.6ms\n",
      "615:\tlearn: 0.1522603\ttotal: 257ms\tremaining: 0us\n",
      "[I 2024-04-14 21:35:40,798] Trial 71 finished with value: 0.24763956466417203 and parameters: {'loss_function': 'RMSE', 'depth': 4, 'iterations': 616, 'min_data_in_leaf': 10, 'random_strength': 0.2794396878247529}. Best is trial 65 with value: 0.35451561277025334.\n",
      "Learning rate set to 0.045935\n",
      "0:\tlearn: 0.2155873\ttotal: 256us\tremaining: 160ms\n",
      "500:\tlearn: 0.0565650\ttotal: 122ms\tremaining: 30.3ms\n",
      "625:\tlearn: 0.0416338\ttotal: 151ms\tremaining: 0us\n",
      "Learning rate set to 0.051142\n",
      "0:\tlearn: 0.2318343\ttotal: 294us\tremaining: 184ms\n",
      "500:\tlearn: 0.0920954\ttotal: 164ms\tremaining: 40.9ms\n",
      "625:\tlearn: 0.0756563\ttotal: 207ms\tremaining: 0us\n",
      "Learning rate set to 0.054487\n",
      "0:\tlearn: 0.2597045\ttotal: 391us\tremaining: 245ms\n",
      "500:\tlearn: 0.1148556\ttotal: 172ms\tremaining: 42.9ms\n",
      "625:\tlearn: 0.0961614\ttotal: 218ms\tremaining: 0us\n",
      "Learning rate set to 0.057\n",
      "0:\tlearn: 0.2630408\ttotal: 346us\tremaining: 217ms\n",
      "500:\tlearn: 0.1399003\ttotal: 183ms\tremaining: 45.8ms\n",
      "625:\tlearn: 0.1236751\ttotal: 232ms\tremaining: 0us\n",
      "Learning rate set to 0.059033\n",
      "0:\tlearn: 0.2820171\ttotal: 411us\tremaining: 257ms\n",
      "500:\tlearn: 0.1567753\ttotal: 195ms\tremaining: 48.6ms\n",
      "625:\tlearn: 0.1398914\ttotal: 242ms\tremaining: 0us\n",
      "Learning rate set to 0.060749\n",
      "0:\tlearn: 0.2835474\ttotal: 355us\tremaining: 222ms\n",
      "500:\tlearn: 0.1669441\ttotal: 202ms\tremaining: 50.3ms\n",
      "625:\tlearn: 0.1494895\ttotal: 251ms\tremaining: 0us\n",
      "Learning rate set to 0.062241\n",
      "0:\tlearn: 0.2783068\ttotal: 460us\tremaining: 288ms\n"
     ]
    },
    {
     "name": "stderr",
     "output_type": "stream",
     "text": [
      "Best trial: 65. Best value: 0.354516:  73%|██████████████████▎      | 73/100 [04:12<00:50,  1.88s/it, 252.53/1200 seconds]"
     ]
    },
    {
     "name": "stdout",
     "output_type": "stream",
     "text": [
      "500:\tlearn: 0.1710684\ttotal: 203ms\tremaining: 50.7ms\n",
      "625:\tlearn: 0.1564245\ttotal: 254ms\tremaining: 0us\n",
      "[I 2024-04-14 21:35:42,527] Trial 72 finished with value: 0.17042958383553847 and parameters: {'loss_function': 'RMSE', 'depth': 4, 'iterations': 626, 'min_data_in_leaf': 13, 'random_strength': 1.0857412575782304}. Best is trial 65 with value: 0.35451561277025334.\n",
      "Learning rate set to 0.060294\n",
      "0:\tlearn: 0.2152210\ttotal: 303us\tremaining: 136ms\n",
      "447:\tlearn: 0.0415034\ttotal: 106ms\tremaining: 0us\n",
      "Learning rate set to 0.067129\n",
      "0:\tlearn: 0.2315427\ttotal: 419us\tremaining: 188ms\n",
      "447:\tlearn: 0.0745953\ttotal: 151ms\tremaining: 0us\n",
      "Learning rate set to 0.071518\n",
      "0:\tlearn: 0.2590112\ttotal: 402us\tremaining: 180ms\n",
      "447:\tlearn: 0.0959824\ttotal: 156ms\tremaining: 0us\n",
      "Learning rate set to 0.074817\n",
      "0:\tlearn: 0.2626692\ttotal: 812us\tremaining: 363ms\n",
      "447:\tlearn: 0.1219843\ttotal: 169ms\tremaining: 0us\n",
      "Learning rate set to 0.077485\n",
      "0:\tlearn: 0.2810409\ttotal: 364us\tremaining: 163ms\n",
      "447:\tlearn: 0.1418695\ttotal: 171ms\tremaining: 0us\n",
      "Learning rate set to 0.079738\n",
      "0:\tlearn: 0.2825567\ttotal: 500us\tremaining: 224ms\n",
      "447:\tlearn: 0.1480194\ttotal: 177ms\tremaining: 0us\n",
      "Learning rate set to 0.081696\n",
      "0:\tlearn: 0.2779286\ttotal: 416us\tremaining: 186ms\n"
     ]
    },
    {
     "name": "stderr",
     "output_type": "stream",
     "text": [
      "Best trial: 65. Best value: 0.354516:  74%|██████████████████▌      | 74/100 [04:13<00:44,  1.70s/it, 253.80/1200 seconds]"
     ]
    },
    {
     "name": "stdout",
     "output_type": "stream",
     "text": [
      "447:\tlearn: 0.1556980\ttotal: 191ms\tremaining: 0us\n",
      "[I 2024-04-14 21:35:43,790] Trial 73 finished with value: 0.041694937617219534 and parameters: {'loss_function': 'RMSE', 'depth': 4, 'iterations': 448, 'min_data_in_leaf': 8, 'random_strength': 0.4311342044382358}. Best is trial 65 with value: 0.35451561277025334.\n",
      "Learning rate set to 0.043786\n",
      "0:\tlearn: 0.2156130\ttotal: 989us\tremaining: 656ms\n",
      "500:\tlearn: 0.0598503\ttotal: 119ms\tremaining: 38.6ms\n",
      "663:\tlearn: 0.0397358\ttotal: 157ms\tremaining: 0us\n",
      "Learning rate set to 0.04875\n",
      "0:\tlearn: 0.2318455\ttotal: 454us\tremaining: 301ms\n",
      "500:\tlearn: 0.0949069\ttotal: 160ms\tremaining: 52.1ms\n",
      "663:\tlearn: 0.0727988\ttotal: 210ms\tremaining: 0us\n",
      "Learning rate set to 0.051938\n",
      "0:\tlearn: 0.2597546\ttotal: 306us\tremaining: 203ms\n",
      "500:\tlearn: 0.1192991\ttotal: 170ms\tremaining: 55.3ms\n",
      "663:\tlearn: 0.0962178\ttotal: 227ms\tremaining: 0us\n",
      "Learning rate set to 0.054334\n",
      "0:\tlearn: 0.2630841\ttotal: 1.06ms\tremaining: 706ms\n",
      "500:\tlearn: 0.1415805\ttotal: 188ms\tremaining: 61.1ms\n",
      "663:\tlearn: 0.1194999\ttotal: 249ms\tremaining: 0us\n",
      "Learning rate set to 0.056271\n",
      "0:\tlearn: 0.2820976\ttotal: 344us\tremaining: 229ms\n",
      "500:\tlearn: 0.1592522\ttotal: 193ms\tremaining: 62.7ms\n",
      "663:\tlearn: 0.1382149\ttotal: 254ms\tremaining: 0us\n",
      "Learning rate set to 0.057907\n",
      "0:\tlearn: 0.2836198\ttotal: 468us\tremaining: 310ms\n",
      "500:\tlearn: 0.1652817\ttotal: 198ms\tremaining: 64.3ms\n",
      "663:\tlearn: 0.1464599\ttotal: 262ms\tremaining: 0us\n",
      "Learning rate set to 0.059329\n",
      "0:\tlearn: 0.2783943\ttotal: 435us\tremaining: 289ms\n"
     ]
    },
    {
     "name": "stderr",
     "output_type": "stream",
     "text": [
      "Best trial: 65. Best value: 0.354516:  75%|██████████████████▊      | 75/100 [04:15<00:43,  1.74s/it, 255.62/1200 seconds]"
     ]
    },
    {
     "name": "stdout",
     "output_type": "stream",
     "text": [
      "500:\tlearn: 0.1716463\ttotal: 211ms\tremaining: 68.6ms\n",
      "663:\tlearn: 0.1542020\ttotal: 282ms\tremaining: 0us\n",
      "[I 2024-04-14 21:35:45,617] Trial 74 finished with value: 0.26174619487097167 and parameters: {'loss_function': 'RMSE', 'depth': 4, 'iterations': 664, 'min_data_in_leaf': 5, 'random_strength': 0.9773253211406292}. Best is trial 65 with value: 0.35451561277025334.\n",
      "Learning rate set to 0.04352\n",
      "0:\tlearn: 0.2156161\ttotal: 397us\tremaining: 265ms\n",
      "500:\tlearn: 0.0576465\ttotal: 118ms\tremaining: 39.5ms\n",
      "668:\tlearn: 0.0375498\ttotal: 148ms\tremaining: 0us\n",
      "Learning rate set to 0.048454\n",
      "0:\tlearn: 0.2318469\ttotal: 350us\tremaining: 234ms\n",
      "500:\tlearn: 0.0937972\ttotal: 164ms\tremaining: 55.1ms\n",
      "668:\tlearn: 0.0716130\ttotal: 225ms\tremaining: 0us\n",
      "Learning rate set to 0.051622\n",
      "0:\tlearn: 0.2597608\ttotal: 278us\tremaining: 186ms\n",
      "500:\tlearn: 0.1169334\ttotal: 175ms\tremaining: 58.8ms\n",
      "668:\tlearn: 0.0938042\ttotal: 235ms\tremaining: 0us\n",
      "Learning rate set to 0.054003\n",
      "0:\tlearn: 0.2630894\ttotal: 421us\tremaining: 282ms\n",
      "500:\tlearn: 0.1387734\ttotal: 178ms\tremaining: 59.8ms\n",
      "668:\tlearn: 0.1179834\ttotal: 243ms\tremaining: 0us\n",
      "Learning rate set to 0.055929\n",
      "0:\tlearn: 0.2825039\ttotal: 1.16ms\tremaining: 774ms\n",
      "500:\tlearn: 0.1601254\ttotal: 193ms\tremaining: 64.6ms\n",
      "668:\tlearn: 0.1403336\ttotal: 260ms\tremaining: 0us\n",
      "Learning rate set to 0.057555\n",
      "0:\tlearn: 0.2836288\ttotal: 452us\tremaining: 302ms\n",
      "500:\tlearn: 0.1676347\ttotal: 198ms\tremaining: 66.3ms\n",
      "668:\tlearn: 0.1473886\ttotal: 265ms\tremaining: 0us\n",
      "Learning rate set to 0.058968\n",
      "0:\tlearn: 0.2784051\ttotal: 389us\tremaining: 260ms\n"
     ]
    },
    {
     "name": "stderr",
     "output_type": "stream",
     "text": [
      "Best trial: 65. Best value: 0.354516:  76%|███████████████████      | 76/100 [04:17<00:42,  1.77s/it, 257.46/1200 seconds]"
     ]
    },
    {
     "name": "stdout",
     "output_type": "stream",
     "text": [
      "500:\tlearn: 0.1722011\ttotal: 207ms\tremaining: 69.5ms\n",
      "668:\tlearn: 0.1529628\ttotal: 281ms\tremaining: 0us\n",
      "[I 2024-04-14 21:35:47,455] Trial 75 finished with value: 0.20211421522252188 and parameters: {'loss_function': 'RMSE', 'depth': 4, 'iterations': 669, 'min_data_in_leaf': 4, 'random_strength': 0.9268660582356316}. Best is trial 65 with value: 0.35451561277025334.\n",
      "0:\tlearn: 0.1085123\ttotal: 587us\tremaining: 360ms\n",
      "500:\tlearn: 0.0272845\ttotal: 230ms\tremaining: 51.4ms\n",
      "612:\tlearn: 0.0220290\ttotal: 282ms\tremaining: 0us\n",
      "0:\tlearn: 0.1257953\ttotal: 732us\tremaining: 448ms\n",
      "500:\tlearn: 0.0498311\ttotal: 335ms\tremaining: 74.9ms\n",
      "612:\tlearn: 0.0424491\ttotal: 410ms\tremaining: 0us\n",
      "0:\tlearn: 0.1336176\ttotal: 683us\tremaining: 418ms\n",
      "500:\tlearn: 0.0645230\ttotal: 351ms\tremaining: 78.5ms\n",
      "612:\tlearn: 0.0576776\ttotal: 430ms\tremaining: 0us\n",
      "0:\tlearn: 0.1399962\ttotal: 755us\tremaining: 462ms\n",
      "500:\tlearn: 0.0810848\ttotal: 357ms\tremaining: 79.9ms\n",
      "612:\tlearn: 0.0727267\ttotal: 443ms\tremaining: 0us\n",
      "0:\tlearn: 0.1555456\ttotal: 666us\tremaining: 408ms\n",
      "500:\tlearn: 0.1005742\ttotal: 371ms\tremaining: 82.9ms\n",
      "612:\tlearn: 0.0920019\ttotal: 455ms\tremaining: 0us\n",
      "0:\tlearn: 0.1591854\ttotal: 709us\tremaining: 434ms\n",
      "500:\tlearn: 0.1025176\ttotal: 370ms\tremaining: 82.7ms\n",
      "612:\tlearn: 0.0950102\ttotal: 455ms\tremaining: 0us\n",
      "0:\tlearn: 0.1577703\ttotal: 900us\tremaining: 551ms\n"
     ]
    },
    {
     "name": "stderr",
     "output_type": "stream",
     "text": [
      "Best trial: 65. Best value: 0.354516:  77%|███████████████████▎     | 77/100 [04:20<00:50,  2.18s/it, 260.61/1200 seconds]"
     ]
    },
    {
     "name": "stdout",
     "output_type": "stream",
     "text": [
      "500:\tlearn: 0.1029740\ttotal: 386ms\tremaining: 86.2ms\n",
      "612:\tlearn: 0.0959633\ttotal: 474ms\tremaining: 0us\n",
      "[I 2024-04-14 21:35:50,606] Trial 76 finished with value: -0.05255537875808107 and parameters: {'loss_function': 'MAPE', 'depth': 6, 'iterations': 613, 'min_data_in_leaf': 7, 'random_strength': 1.6433916819429304}. Best is trial 65 with value: 0.35451561277025334.\n",
      "Learning rate set to 0.039788\n",
      "0:\tlearn: 0.2156607\ttotal: 343us\tremaining: 256ms\n",
      "500:\tlearn: 0.0656761\ttotal: 118ms\tremaining: 57.9ms\n",
      "746:\tlearn: 0.0375138\ttotal: 177ms\tremaining: 0us\n",
      "Learning rate set to 0.044298\n",
      "0:\tlearn: 0.2318664\ttotal: 548us\tremaining: 409ms\n",
      "500:\tlearn: 0.0976389\ttotal: 167ms\tremaining: 81.8ms\n",
      "746:\tlearn: 0.0699506\ttotal: 247ms\tremaining: 0us\n",
      "Learning rate set to 0.047195\n",
      "0:\tlearn: 0.2594055\ttotal: 570us\tremaining: 425ms\n",
      "500:\tlearn: 0.1188666\ttotal: 174ms\tremaining: 85.3ms\n",
      "746:\tlearn: 0.0892420\ttotal: 260ms\tremaining: 0us\n",
      "Learning rate set to 0.049372\n",
      "0:\tlearn: 0.2631648\ttotal: 379us\tremaining: 283ms\n",
      "500:\tlearn: 0.1455348\ttotal: 183ms\tremaining: 89.7ms\n",
      "746:\tlearn: 0.1171853\ttotal: 275ms\tremaining: 0us\n",
      "Learning rate set to 0.051133\n",
      "0:\tlearn: 0.2824019\ttotal: 404us\tremaining: 302ms\n",
      "500:\tlearn: 0.1642727\ttotal: 194ms\tremaining: 95.2ms\n",
      "746:\tlearn: 0.1365181\ttotal: 293ms\tremaining: 0us\n",
      "Learning rate set to 0.052619\n",
      "0:\tlearn: 0.2837289\ttotal: 482us\tremaining: 360ms\n",
      "500:\tlearn: 0.1706544\ttotal: 209ms\tremaining: 103ms\n",
      "746:\tlearn: 0.1422652\ttotal: 309ms\tremaining: 0us\n",
      "Learning rate set to 0.053911\n",
      "0:\tlearn: 0.2786936\ttotal: 450us\tremaining: 336ms\n"
     ]
    },
    {
     "name": "stderr",
     "output_type": "stream",
     "text": [
      "Best trial: 65. Best value: 0.354516:  78%|███████████████████▌     | 78/100 [04:22<00:47,  2.15s/it, 262.68/1200 seconds]"
     ]
    },
    {
     "name": "stdout",
     "output_type": "stream",
     "text": [
      "500:\tlearn: 0.1765588\ttotal: 206ms\tremaining: 101ms\n",
      "746:\tlearn: 0.1523653\ttotal: 310ms\tremaining: 0us\n",
      "[I 2024-04-14 21:35:52,678] Trial 77 finished with value: 0.20388727312912322 and parameters: {'loss_function': 'RMSE', 'depth': 4, 'iterations': 747, 'min_data_in_leaf': 12, 'random_strength': 0.6982009682217307}. Best is trial 65 with value: 0.35451561277025334.\n",
      "0:\tlearn: 0.1120238\ttotal: 313us\tremaining: 174ms\n",
      "500:\tlearn: 0.0606434\ttotal: 125ms\tremaining: 13.5ms\n",
      "554:\tlearn: 0.0572856\ttotal: 137ms\tremaining: 0us\n",
      "0:\tlearn: 0.1275837\ttotal: 973us\tremaining: 540ms\n",
      "500:\tlearn: 0.0826232\ttotal: 168ms\tremaining: 18.1ms\n",
      "554:\tlearn: 0.0800177\ttotal: 186ms\tremaining: 0us\n",
      "0:\tlearn: 0.1382582\ttotal: 405us\tremaining: 225ms\n",
      "500:\tlearn: 0.0976963\ttotal: 197ms\tremaining: 21.3ms\n",
      "554:\tlearn: 0.0947631\ttotal: 218ms\tremaining: 0us\n",
      "0:\tlearn: 0.1440197\ttotal: 479us\tremaining: 266ms\n",
      "500:\tlearn: 0.1108749\ttotal: 196ms\tremaining: 21.1ms\n",
      "554:\tlearn: 0.1087613\ttotal: 218ms\tremaining: 0us\n",
      "0:\tlearn: 0.1600059\ttotal: 381us\tremaining: 211ms\n",
      "500:\tlearn: 0.1225934\ttotal: 205ms\tremaining: 22.1ms\n",
      "554:\tlearn: 0.1204218\ttotal: 228ms\tremaining: 0us\n",
      "0:\tlearn: 0.1633504\ttotal: 519us\tremaining: 288ms\n",
      "500:\tlearn: 0.1263086\ttotal: 204ms\tremaining: 22ms\n",
      "554:\tlearn: 0.1240748\ttotal: 227ms\tremaining: 0us\n",
      "0:\tlearn: 0.1617335\ttotal: 1.22ms\tremaining: 678ms\n"
     ]
    },
    {
     "name": "stderr",
     "output_type": "stream",
     "text": [
      "Best trial: 65. Best value: 0.354516:  79%|███████████████████▊     | 79/100 [04:24<00:41,  1.99s/it, 264.30/1200 seconds]"
     ]
    },
    {
     "name": "stdout",
     "output_type": "stream",
     "text": [
      "500:\tlearn: 0.1270886\ttotal: 214ms\tremaining: 23ms\n",
      "554:\tlearn: 0.1251696\ttotal: 237ms\tremaining: 0us\n",
      "[I 2024-04-14 21:35:54,296] Trial 78 finished with value: -0.13042136652656758 and parameters: {'loss_function': 'MAE', 'depth': 4, 'iterations': 555, 'min_data_in_leaf': 15, 'random_strength': 1.4024161527692425}. Best is trial 65 with value: 0.35451561277025334.\n",
      "Learning rate set to 0.05392\n",
      "0:\tlearn: 0.2150876\ttotal: 276us\tremaining: 142ms\n",
      "500:\tlearn: 0.0425780\ttotal: 122ms\tremaining: 3.16ms\n",
      "513:\tlearn: 0.0407575\ttotal: 125ms\tremaining: 0us\n",
      "Learning rate set to 0.060032\n",
      "0:\tlearn: 0.2313116\ttotal: 281us\tremaining: 145ms\n",
      "500:\tlearn: 0.0734127\ttotal: 164ms\tremaining: 4.27ms\n",
      "513:\tlearn: 0.0714952\ttotal: 168ms\tremaining: 0us\n",
      "Learning rate set to 0.063958\n",
      "0:\tlearn: 0.2588827\ttotal: 398us\tremaining: 204ms\n",
      "500:\tlearn: 0.0925418\ttotal: 172ms\tremaining: 4.47ms\n",
      "513:\tlearn: 0.0904995\ttotal: 177ms\tremaining: 0us\n",
      "Learning rate set to 0.066908\n",
      "0:\tlearn: 0.2626849\ttotal: 392us\tremaining: 201ms\n",
      "500:\tlearn: 0.1194702\ttotal: 188ms\tremaining: 4.88ms\n",
      "513:\tlearn: 0.1172332\ttotal: 193ms\tremaining: 0us\n",
      "Learning rate set to 0.069294\n",
      "0:\tlearn: 0.2816544\ttotal: 447us\tremaining: 230ms\n",
      "500:\tlearn: 0.1386713\ttotal: 187ms\tremaining: 4.86ms\n",
      "513:\tlearn: 0.1367653\ttotal: 192ms\tremaining: 0us\n",
      "Learning rate set to 0.071309\n",
      "0:\tlearn: 0.2829603\ttotal: 406us\tremaining: 209ms\n",
      "500:\tlearn: 0.1470956\ttotal: 205ms\tremaining: 5.32ms\n",
      "513:\tlearn: 0.1452145\ttotal: 211ms\tremaining: 0us\n",
      "Learning rate set to 0.073059\n",
      "0:\tlearn: 0.2779778\ttotal: 1.02ms\tremaining: 524ms\n"
     ]
    },
    {
     "name": "stderr",
     "output_type": "stream",
     "text": [
      "Best trial: 65. Best value: 0.354516:  80%|████████████████████     | 80/100 [04:25<00:36,  1.82s/it, 265.74/1200 seconds]"
     ]
    },
    {
     "name": "stdout",
     "output_type": "stream",
     "text": [
      "500:\tlearn: 0.1497835\ttotal: 211ms\tremaining: 5.48ms\n",
      "513:\tlearn: 0.1481045\ttotal: 216ms\tremaining: 0us\n",
      "[I 2024-04-14 21:35:55,732] Trial 79 finished with value: 0.2181990781347189 and parameters: {'loss_function': 'RMSE', 'depth': 4, 'iterations': 514, 'min_data_in_leaf': 4, 'random_strength': 0.12324143983891334}. Best is trial 65 with value: 0.35451561277025334.\n",
      "Learning rate set to 0.081124\n",
      "0:\tlearn: 0.2151690\ttotal: 1.07ms\tremaining: 332ms\n",
      "310:\tlearn: 0.0511327\ttotal: 83.5ms\tremaining: 0us\n",
      "Learning rate set to 0.09032\n",
      "0:\tlearn: 0.2306614\ttotal: 937us\tremaining: 291ms\n",
      "310:\tlearn: 0.0897305\ttotal: 100ms\tremaining: 0us\n",
      "Learning rate set to 0.096226\n",
      "0:\tlearn: 0.2589893\ttotal: 283us\tremaining: 88ms\n",
      "310:\tlearn: 0.1114127\ttotal: 105ms\tremaining: 0us\n",
      "Learning rate set to 0.100664\n",
      "0:\tlearn: 0.2629553\ttotal: 336us\tremaining: 104ms\n",
      "310:\tlearn: 0.1360556\ttotal: 112ms\tremaining: 0us\n",
      "Learning rate set to 0.104254\n",
      "0:\tlearn: 0.2821224\ttotal: 501us\tremaining: 155ms\n",
      "310:\tlearn: 0.1515432\ttotal: 122ms\tremaining: 0us\n",
      "Learning rate set to 0.107286\n",
      "0:\tlearn: 0.2831792\ttotal: 401us\tremaining: 125ms\n"
     ]
    },
    {
     "name": "stderr",
     "output_type": "stream",
     "text": [
      "Best trial: 65. Best value: 0.354516:  81%|████████████████████▎    | 81/100 [04:26<00:29,  1.55s/it, 266.64/1200 seconds]"
     ]
    },
    {
     "name": "stdout",
     "output_type": "stream",
     "text": [
      "310:\tlearn: 0.1598336\ttotal: 124ms\tremaining: 0us\n",
      "Learning rate set to 0.109919\n",
      "0:\tlearn: 0.2780199\ttotal: 404us\tremaining: 125ms\n",
      "310:\tlearn: 0.1656370\ttotal: 129ms\tremaining: 0us\n",
      "[I 2024-04-14 21:35:56,632] Trial 80 finished with value: 0.11630401195684621 and parameters: {'loss_function': 'RMSE', 'depth': 4, 'iterations': 311, 'min_data_in_leaf': 69, 'random_strength': 2.4080247650249325}. Best is trial 65 with value: 0.35451561277025334.\n",
      "Learning rate set to 0.045002\n",
      "0:\tlearn: 0.2155984\ttotal: 295us\tremaining: 189ms\n",
      "500:\tlearn: 0.0557603\ttotal: 125ms\tremaining: 35.1ms\n",
      "641:\tlearn: 0.0388262\ttotal: 160ms\tremaining: 0us\n",
      "Learning rate set to 0.050104\n",
      "0:\tlearn: 0.2316769\ttotal: 379us\tremaining: 243ms\n",
      "500:\tlearn: 0.0896772\ttotal: 181ms\tremaining: 50.9ms\n",
      "641:\tlearn: 0.0710058\ttotal: 232ms\tremaining: 0us\n",
      "Learning rate set to 0.05338\n",
      "0:\tlearn: 0.2592287\ttotal: 555us\tremaining: 356ms\n",
      "500:\tlearn: 0.1118099\ttotal: 184ms\tremaining: 51.8ms\n",
      "641:\tlearn: 0.0922499\ttotal: 230ms\tremaining: 0us\n",
      "Learning rate set to 0.055842\n",
      "0:\tlearn: 0.2630596\ttotal: 381us\tremaining: 244ms\n",
      "500:\tlearn: 0.1372826\ttotal: 182ms\tremaining: 51.3ms\n",
      "641:\tlearn: 0.1187212\ttotal: 231ms\tremaining: 0us\n",
      "Learning rate set to 0.057834\n",
      "0:\tlearn: 0.2821553\ttotal: 448us\tremaining: 288ms\n",
      "500:\tlearn: 0.1551596\ttotal: 201ms\tremaining: 56.7ms\n",
      "641:\tlearn: 0.1372928\ttotal: 257ms\tremaining: 0us\n",
      "Learning rate set to 0.059515\n",
      "0:\tlearn: 0.2835494\ttotal: 931us\tremaining: 597ms\n",
      "500:\tlearn: 0.1646553\ttotal: 202ms\tremaining: 56.9ms\n",
      "641:\tlearn: 0.1478996\ttotal: 259ms\tremaining: 0us\n",
      "Learning rate set to 0.060977\n",
      "0:\tlearn: 0.2784974\ttotal: 439us\tremaining: 282ms\n"
     ]
    },
    {
     "name": "stderr",
     "output_type": "stream",
     "text": [
      "Best trial: 65. Best value: 0.354516:  82%|████████████████████▌    | 82/100 [04:28<00:29,  1.64s/it, 268.50/1200 seconds]"
     ]
    },
    {
     "name": "stdout",
     "output_type": "stream",
     "text": [
      "500:\tlearn: 0.1704481\ttotal: 230ms\tremaining: 64.8ms\n",
      "641:\tlearn: 0.1537682\ttotal: 295ms\tremaining: 0us\n",
      "[I 2024-04-14 21:35:58,489] Trial 81 finished with value: 0.2320279359989629 and parameters: {'loss_function': 'RMSE', 'depth': 4, 'iterations': 642, 'min_data_in_leaf': 10, 'random_strength': 0.6415460329157203}. Best is trial 65 with value: 0.35451561277025334.\n",
      "Learning rate set to 0.042998\n",
      "0:\tlearn: 0.2156224\ttotal: 260us\tremaining: 177ms\n",
      "500:\tlearn: 0.0595408\ttotal: 122ms\tremaining: 43.4ms\n",
      "678:\tlearn: 0.0387396\ttotal: 161ms\tremaining: 0us\n",
      "Learning rate set to 0.047873\n",
      "0:\tlearn: 0.2318496\ttotal: 408us\tremaining: 277ms\n",
      "500:\tlearn: 0.0912027\ttotal: 165ms\tremaining: 58.8ms\n",
      "678:\tlearn: 0.0695943\ttotal: 226ms\tremaining: 0us\n",
      "Learning rate set to 0.051003\n",
      "0:\tlearn: 0.2592260\ttotal: 359us\tremaining: 244ms\n",
      "500:\tlearn: 0.1192252\ttotal: 178ms\tremaining: 63.2ms\n",
      "678:\tlearn: 0.0944137\ttotal: 242ms\tremaining: 0us\n",
      "Learning rate set to 0.053356\n",
      "0:\tlearn: 0.2631000\ttotal: 492us\tremaining: 334ms\n",
      "500:\tlearn: 0.1429932\ttotal: 223ms\tremaining: 79.2ms\n",
      "678:\tlearn: 0.1185234\ttotal: 295ms\tremaining: 0us\n",
      "Learning rate set to 0.055258\n",
      "0:\tlearn: 0.2825187\ttotal: 508us\tremaining: 345ms\n",
      "500:\tlearn: 0.1596134\ttotal: 191ms\tremaining: 67.9ms\n",
      "678:\tlearn: 0.1378888\ttotal: 262ms\tremaining: 0us\n",
      "Learning rate set to 0.056865\n",
      "0:\tlearn: 0.2836464\ttotal: 436us\tremaining: 296ms\n",
      "500:\tlearn: 0.1687883\ttotal: 201ms\tremaining: 71.2ms\n",
      "678:\tlearn: 0.1463403\ttotal: 273ms\tremaining: 0us\n",
      "Learning rate set to 0.058261\n",
      "0:\tlearn: 0.2785727\ttotal: 581us\tremaining: 395ms\n"
     ]
    },
    {
     "name": "stderr",
     "output_type": "stream",
     "text": [
      "Best trial: 65. Best value: 0.354516:  83%|████████████████████▊    | 83/100 [04:30<00:29,  1.73s/it, 270.44/1200 seconds]"
     ]
    },
    {
     "name": "stdout",
     "output_type": "stream",
     "text": [
      "500:\tlearn: 0.1703937\ttotal: 209ms\tremaining: 74.1ms\n",
      "678:\tlearn: 0.1499609\ttotal: 282ms\tremaining: 0us\n",
      "[I 2024-04-14 21:36:00,433] Trial 82 finished with value: 0.30431802569165917 and parameters: {'loss_function': 'RMSE', 'depth': 4, 'iterations': 679, 'min_data_in_leaf': 7, 'random_strength': 0.9154787241335125}. Best is trial 65 with value: 0.35451561277025334.\n",
      "Learning rate set to 0.038136\n",
      "0:\tlearn: 0.2156805\ttotal: 271us\tremaining: 213ms\n",
      "500:\tlearn: 0.0684104\ttotal: 131ms\tremaining: 74.7ms\n",
      "786:\tlearn: 0.0374869\ttotal: 210ms\tremaining: 0us\n",
      "Learning rate set to 0.042459\n",
      "0:\tlearn: 0.2318750\ttotal: 373us\tremaining: 293ms\n",
      "500:\tlearn: 0.1027487\ttotal: 184ms\tremaining: 105ms\n",
      "786:\tlearn: 0.0693800\ttotal: 277ms\tremaining: 0us\n",
      "Learning rate set to 0.045236\n",
      "0:\tlearn: 0.2598847\ttotal: 366us\tremaining: 288ms\n",
      "500:\tlearn: 0.1288408\ttotal: 175ms\tremaining: 99.8ms\n",
      "786:\tlearn: 0.0901500\ttotal: 286ms\tremaining: 0us\n",
      "Learning rate set to 0.047322\n",
      "0:\tlearn: 0.2631982\ttotal: 1.03ms\tremaining: 811ms\n",
      "500:\tlearn: 0.1505717\ttotal: 201ms\tremaining: 115ms\n",
      "786:\tlearn: 0.1179727\ttotal: 317ms\tremaining: 0us\n",
      "Learning rate set to 0.04901\n",
      "0:\tlearn: 0.2823099\ttotal: 1.07ms\tremaining: 841ms\n",
      "500:\tlearn: 0.1673313\ttotal: 193ms\tremaining: 110ms\n",
      "786:\tlearn: 0.1344772\ttotal: 308ms\tremaining: 0us\n",
      "Learning rate set to 0.050435\n",
      "0:\tlearn: 0.2838109\ttotal: 965us\tremaining: 759ms\n",
      "500:\tlearn: 0.1755239\ttotal: 208ms\tremaining: 119ms\n",
      "786:\tlearn: 0.1441384\ttotal: 325ms\tremaining: 0us\n",
      "Learning rate set to 0.051673\n",
      "0:\tlearn: 0.2786255\ttotal: 485us\tremaining: 382ms\n"
     ]
    },
    {
     "name": "stderr",
     "output_type": "stream",
     "text": [
      "Best trial: 65. Best value: 0.354516:  84%|█████████████████████    | 84/100 [04:32<00:30,  1.90s/it, 272.72/1200 seconds]"
     ]
    },
    {
     "name": "stdout",
     "output_type": "stream",
     "text": [
      "500:\tlearn: 0.1804978\ttotal: 210ms\tremaining: 120ms\n",
      "786:\tlearn: 0.1519740\ttotal: 331ms\tremaining: 0us\n",
      "[I 2024-04-14 21:36:02,713] Trial 83 finished with value: 0.13243096907174717 and parameters: {'loss_function': 'RMSE', 'depth': 4, 'iterations': 787, 'min_data_in_leaf': 3, 'random_strength': 0.9793903909620838}. Best is trial 65 with value: 0.35451561277025334.\n",
      "Learning rate set to 0.048808\n",
      "0:\tlearn: 0.2155558\ttotal: 243us\tremaining: 141ms\n",
      "500:\tlearn: 0.0490637\ttotal: 111ms\tremaining: 17.8ms\n",
      "580:\tlearn: 0.0397609\ttotal: 125ms\tremaining: 0us\n",
      "Learning rate set to 0.05434\n",
      "0:\tlearn: 0.2315102\ttotal: 336us\tremaining: 195ms\n",
      "500:\tlearn: 0.0827433\ttotal: 163ms\tremaining: 26.1ms\n",
      "580:\tlearn: 0.0718650\ttotal: 193ms\tremaining: 0us\n",
      "Learning rate set to 0.057894\n",
      "0:\tlearn: 0.2590599\ttotal: 516us\tremaining: 300ms\n",
      "500:\tlearn: 0.1031400\ttotal: 173ms\tremaining: 27.7ms\n",
      "580:\tlearn: 0.0918498\ttotal: 202ms\tremaining: 0us\n",
      "Learning rate set to 0.060564\n",
      "0:\tlearn: 0.2628055\ttotal: 380us\tremaining: 221ms\n",
      "500:\tlearn: 0.1272313\ttotal: 183ms\tremaining: 29.1ms\n",
      "580:\tlearn: 0.1148385\ttotal: 212ms\tremaining: 0us\n",
      "Learning rate set to 0.062724\n",
      "0:\tlearn: 0.2818504\ttotal: 450us\tremaining: 261ms\n",
      "500:\tlearn: 0.1461139\ttotal: 197ms\tremaining: 31.5ms\n",
      "580:\tlearn: 0.1333939\ttotal: 227ms\tremaining: 0us\n",
      "Learning rate set to 0.064548\n",
      "0:\tlearn: 0.2831621\ttotal: 445us\tremaining: 259ms\n",
      "500:\tlearn: 0.1539725\ttotal: 202ms\tremaining: 32.2ms\n",
      "580:\tlearn: 0.1437278\ttotal: 234ms\tremaining: 0us\n",
      "Learning rate set to 0.066132\n",
      "0:\tlearn: 0.2781858\ttotal: 444us\tremaining: 258ms\n"
     ]
    },
    {
     "name": "stderr",
     "output_type": "stream",
     "text": [
      "Best trial: 65. Best value: 0.354516:  85%|█████████████████████▎   | 85/100 [04:34<00:27,  1.81s/it, 274.34/1200 seconds]"
     ]
    },
    {
     "name": "stdout",
     "output_type": "stream",
     "text": [
      "500:\tlearn: 0.1573417\ttotal: 210ms\tremaining: 33.5ms\n",
      "580:\tlearn: 0.1479303\ttotal: 245ms\tremaining: 0us\n",
      "[I 2024-04-14 21:36:04,330] Trial 84 finished with value: 0.27354034533087784 and parameters: {'loss_function': 'RMSE', 'depth': 4, 'iterations': 581, 'min_data_in_leaf': 7, 'random_strength': 0.10598805954594662}. Best is trial 65 with value: 0.35451561277025334.\n",
      "Learning rate set to 0.049714\n",
      "0:\tlearn: 0.2149549\ttotal: 281us\tremaining: 160ms\n",
      "500:\tlearn: 0.0457599\ttotal: 122ms\tremaining: 16.3ms\n",
      "567:\tlearn: 0.0383746\ttotal: 138ms\tremaining: 0us\n",
      "Learning rate set to 0.055349\n",
      "0:\tlearn: 0.2314066\ttotal: 1.03ms\tremaining: 582ms\n",
      "500:\tlearn: 0.0813674\ttotal: 158ms\tremaining: 21.2ms\n",
      "567:\tlearn: 0.0718983\ttotal: 180ms\tremaining: 0us\n",
      "Learning rate set to 0.058969\n",
      "0:\tlearn: 0.2590640\ttotal: 481us\tremaining: 273ms\n",
      "500:\tlearn: 0.1041805\ttotal: 172ms\tremaining: 23ms\n",
      "567:\tlearn: 0.0943917\ttotal: 195ms\tremaining: 0us\n",
      "Learning rate set to 0.061689\n",
      "0:\tlearn: 0.2628305\ttotal: 383us\tremaining: 218ms\n",
      "500:\tlearn: 0.1268033\ttotal: 184ms\tremaining: 24.5ms\n",
      "567:\tlearn: 0.1165340\ttotal: 208ms\tremaining: 0us\n",
      "Learning rate set to 0.063889\n",
      "0:\tlearn: 0.2818155\ttotal: 494us\tremaining: 281ms\n",
      "500:\tlearn: 0.1432146\ttotal: 191ms\tremaining: 25.5ms\n",
      "567:\tlearn: 0.1337204\ttotal: 217ms\tremaining: 0us\n",
      "Learning rate set to 0.065746\n",
      "0:\tlearn: 0.2830636\ttotal: 429us\tremaining: 244ms\n",
      "500:\tlearn: 0.1526820\ttotal: 203ms\tremaining: 27.2ms\n",
      "567:\tlearn: 0.1434489\ttotal: 229ms\tremaining: 0us\n",
      "Learning rate set to 0.06736\n",
      "0:\tlearn: 0.2780495\ttotal: 478us\tremaining: 271ms\n"
     ]
    },
    {
     "name": "stderr",
     "output_type": "stream",
     "text": [
      "Best trial: 65. Best value: 0.354516:  86%|█████████████████████▌   | 86/100 [04:35<00:24,  1.74s/it, 275.91/1200 seconds]"
     ]
    },
    {
     "name": "stdout",
     "output_type": "stream",
     "text": [
      "500:\tlearn: 0.1597625\ttotal: 210ms\tremaining: 28.1ms\n",
      "567:\tlearn: 0.1526684\ttotal: 237ms\tremaining: 0us\n",
      "[I 2024-04-14 21:36:05,903] Trial 85 finished with value: 0.24817962689439527 and parameters: {'loss_function': 'RMSE', 'depth': 4, 'iterations': 568, 'min_data_in_leaf': 7, 'random_strength': 0.16256952772043842}. Best is trial 65 with value: 0.35451561277025334.\n",
      "Learning rate set to 0.056338\n",
      "0:\tlearn: 0.2154363\ttotal: 498us\tremaining: 242ms\n",
      "486:\tlearn: 0.0249372\ttotal: 155ms\tremaining: 0us\n",
      "Learning rate set to 0.062724\n",
      "0:\tlearn: 0.2314398\ttotal: 536us\tremaining: 261ms\n",
      "486:\tlearn: 0.0508393\ttotal: 222ms\tremaining: 0us\n",
      "Learning rate set to 0.066826\n",
      "0:\tlearn: 0.2585582\ttotal: 1.24ms\tremaining: 603ms\n",
      "486:\tlearn: 0.0645438\ttotal: 239ms\tremaining: 0us\n",
      "Learning rate set to 0.069908\n",
      "0:\tlearn: 0.2620289\ttotal: 562us\tremaining: 273ms\n",
      "486:\tlearn: 0.0876655\ttotal: 246ms\tremaining: 0us\n",
      "Learning rate set to 0.072401\n",
      "0:\tlearn: 0.2809291\ttotal: 1.11ms\tremaining: 538ms\n",
      "486:\tlearn: 0.1059555\ttotal: 258ms\tremaining: 0us\n",
      "Learning rate set to 0.074507\n",
      "0:\tlearn: 0.2825035\ttotal: 608us\tremaining: 296ms\n",
      "486:\tlearn: 0.1153296\ttotal: 264ms\tremaining: 0us\n",
      "Learning rate set to 0.076336\n",
      "0:\tlearn: 0.2772728\ttotal: 504us\tremaining: 245ms\n"
     ]
    },
    {
     "name": "stderr",
     "output_type": "stream",
     "text": [
      "Best trial: 65. Best value: 0.354516:  87%|█████████████████████▊   | 87/100 [04:37<00:23,  1.77s/it, 277.75/1200 seconds]"
     ]
    },
    {
     "name": "stdout",
     "output_type": "stream",
     "text": [
      "486:\tlearn: 0.1233528\ttotal: 289ms\tremaining: 0us\n",
      "[I 2024-04-14 21:36:07,745] Trial 86 finished with value: 0.18742600448502952 and parameters: {'loss_function': 'RMSE', 'depth': 5, 'iterations': 487, 'min_data_in_leaf': 7, 'random_strength': 0.0034354139646570747}. Best is trial 65 with value: 0.35451561277025334.\n",
      "Learning rate set to 0.049643\n",
      "0:\tlearn: 0.2155430\ttotal: 408us\tremaining: 232ms\n",
      "500:\tlearn: 0.0494120\ttotal: 126ms\tremaining: 17.1ms\n",
      "568:\tlearn: 0.0406381\ttotal: 142ms\tremaining: 0us\n",
      "Learning rate set to 0.05527\n",
      "0:\tlearn: 0.2318150\ttotal: 1.08ms\tremaining: 613ms\n",
      "500:\tlearn: 0.0827515\ttotal: 165ms\tremaining: 22.4ms\n",
      "568:\tlearn: 0.0731064\ttotal: 188ms\tremaining: 0us\n",
      "Learning rate set to 0.058884\n",
      "0:\tlearn: 0.2589920\ttotal: 337us\tremaining: 192ms\n",
      "500:\tlearn: 0.1093775\ttotal: 174ms\tremaining: 23.6ms\n",
      "568:\tlearn: 0.0975226\ttotal: 197ms\tremaining: 0us\n",
      "Learning rate set to 0.0616\n",
      "0:\tlearn: 0.2629664\ttotal: 1.1ms\tremaining: 625ms\n",
      "500:\tlearn: 0.1325791\ttotal: 185ms\tremaining: 25.1ms\n",
      "568:\tlearn: 0.1212335\ttotal: 210ms\tremaining: 0us\n",
      "Learning rate set to 0.063797\n",
      "0:\tlearn: 0.2822647\ttotal: 360us\tremaining: 205ms\n",
      "500:\tlearn: 0.1494156\ttotal: 210ms\tremaining: 28.5ms\n",
      "568:\tlearn: 0.1406650\ttotal: 242ms\tremaining: 0us\n",
      "Learning rate set to 0.065652\n",
      "0:\tlearn: 0.2834230\ttotal: 417us\tremaining: 237ms\n",
      "500:\tlearn: 0.1570202\ttotal: 207ms\tremaining: 28.1ms\n",
      "568:\tlearn: 0.1472807\ttotal: 234ms\tremaining: 0us\n",
      "Learning rate set to 0.067264\n",
      "0:\tlearn: 0.2783238\ttotal: 439us\tremaining: 250ms\n"
     ]
    },
    {
     "name": "stderr",
     "output_type": "stream",
     "text": [
      "Best trial: 65. Best value: 0.354516:  88%|██████████████████████   | 88/100 [04:39<00:20,  1.73s/it, 279.37/1200 seconds]"
     ]
    },
    {
     "name": "stdout",
     "output_type": "stream",
     "text": [
      "500:\tlearn: 0.1648501\ttotal: 209ms\tremaining: 28.3ms\n",
      "568:\tlearn: 0.1573002\ttotal: 237ms\tremaining: 0us\n",
      "[I 2024-04-14 21:36:09,365] Trial 87 finished with value: 0.2862957048903982 and parameters: {'loss_function': 'RMSE', 'depth': 4, 'iterations': 569, 'min_data_in_leaf': 1, 'random_strength': 0.8793067974066613}. Best is trial 65 with value: 0.35451561277025334.\n",
      "Learning rate set to 0.04239\n",
      "0:\tlearn: 0.2156296\ttotal: 302us\tremaining: 209ms\n",
      "500:\tlearn: 0.0635188\ttotal: 101ms\tremaining: 38.4ms\n",
      "690:\tlearn: 0.0402232\ttotal: 141ms\tremaining: 0us\n",
      "Learning rate set to 0.047196\n",
      "0:\tlearn: 0.2313265\ttotal: 294us\tremaining: 203ms\n",
      "500:\tlearn: 0.0993262\ttotal: 164ms\tremaining: 62ms\n",
      "690:\tlearn: 0.0736656\ttotal: 225ms\tremaining: 0us\n",
      "Learning rate set to 0.050282\n",
      "0:\tlearn: 0.2601096\ttotal: 328us\tremaining: 227ms\n",
      "500:\tlearn: 0.1220666\ttotal: 176ms\tremaining: 66.9ms\n",
      "690:\tlearn: 0.0947548\ttotal: 245ms\tremaining: 0us\n",
      "Learning rate set to 0.052601\n",
      "0:\tlearn: 0.2630614\ttotal: 372us\tremaining: 257ms\n",
      "500:\tlearn: 0.1476174\ttotal: 189ms\tremaining: 71.8ms\n",
      "690:\tlearn: 0.1237978\ttotal: 261ms\tremaining: 0us\n",
      "Learning rate set to 0.054477\n",
      "0:\tlearn: 0.2828898\ttotal: 499us\tremaining: 345ms\n",
      "500:\tlearn: 0.1655933\ttotal: 191ms\tremaining: 72.3ms\n",
      "690:\tlearn: 0.1414327\ttotal: 267ms\tremaining: 0us\n",
      "Learning rate set to 0.056061\n",
      "0:\tlearn: 0.2840890\ttotal: 380us\tremaining: 263ms\n",
      "500:\tlearn: 0.1710554\ttotal: 205ms\tremaining: 77.7ms\n",
      "690:\tlearn: 0.1486493\ttotal: 282ms\tremaining: 0us\n",
      "Learning rate set to 0.057437\n",
      "0:\tlearn: 0.2788012\ttotal: 383us\tremaining: 265ms\n"
     ]
    },
    {
     "name": "stderr",
     "output_type": "stream",
     "text": [
      "Best trial: 65. Best value: 0.354516:  89%|██████████████████████▎  | 89/100 [04:41<00:19,  1.78s/it, 281.27/1200 seconds]"
     ]
    },
    {
     "name": "stdout",
     "output_type": "stream",
     "text": [
      "500:\tlearn: 0.1777948\ttotal: 203ms\tremaining: 76.9ms\n",
      "690:\tlearn: 0.1566913\ttotal: 285ms\tremaining: 0us\n",
      "[I 2024-04-14 21:36:11,264] Trial 88 finished with value: 0.31620922909533394 and parameters: {'loss_function': 'RMSE', 'depth': 4, 'iterations': 691, 'min_data_in_leaf': 1, 'random_strength': 1.8575023506763335}. Best is trial 65 with value: 0.35451561277025334.\n",
      "Learning rate set to 0.042947\n",
      "0:\tlearn: 0.2156230\ttotal: 323us\tremaining: 220ms\n",
      "500:\tlearn: 0.0633675\ttotal: 122ms\tremaining: 43.6ms\n",
      "679:\tlearn: 0.0409451\ttotal: 166ms\tremaining: 0us\n",
      "Learning rate set to 0.047815\n",
      "0:\tlearn: 0.2313168\ttotal: 386us\tremaining: 263ms\n",
      "500:\tlearn: 0.0963149\ttotal: 164ms\tremaining: 58.7ms\n",
      "679:\tlearn: 0.0730528\ttotal: 230ms\tremaining: 0us\n",
      "Learning rate set to 0.050942\n",
      "0:\tlearn: 0.2601010\ttotal: 1.09ms\tremaining: 743ms\n",
      "500:\tlearn: 0.1235222\ttotal: 172ms\tremaining: 61.6ms\n",
      "679:\tlearn: 0.0986209\ttotal: 231ms\tremaining: 0us\n",
      "Learning rate set to 0.053292\n",
      "0:\tlearn: 0.2630495\ttotal: 327us\tremaining: 222ms\n",
      "500:\tlearn: 0.1474032\ttotal: 190ms\tremaining: 67.8ms\n",
      "679:\tlearn: 0.1234210\ttotal: 259ms\tremaining: 0us\n",
      "Learning rate set to 0.055192\n",
      "0:\tlearn: 0.2828785\ttotal: 335us\tremaining: 228ms\n",
      "500:\tlearn: 0.1636706\ttotal: 199ms\tremaining: 71ms\n",
      "679:\tlearn: 0.1404058\ttotal: 270ms\tremaining: 0us\n",
      "Learning rate set to 0.056797\n",
      "0:\tlearn: 0.2840756\ttotal: 421us\tremaining: 286ms\n",
      "500:\tlearn: 0.1719961\ttotal: 198ms\tremaining: 70.9ms\n",
      "679:\tlearn: 0.1495561\ttotal: 271ms\tremaining: 0us\n",
      "Learning rate set to 0.058191\n",
      "0:\tlearn: 0.2787830\ttotal: 414us\tremaining: 282ms\n"
     ]
    },
    {
     "name": "stderr",
     "output_type": "stream",
     "text": [
      "Best trial: 65. Best value: 0.354516:  90%|██████████████████████▌  | 90/100 [04:43<00:18,  1.82s/it, 283.18/1200 seconds]"
     ]
    },
    {
     "name": "stdout",
     "output_type": "stream",
     "text": [
      "500:\tlearn: 0.1759616\ttotal: 209ms\tremaining: 74.8ms\n",
      "679:\tlearn: 0.1560363\ttotal: 286ms\tremaining: 0us\n",
      "[I 2024-04-14 21:36:13,176] Trial 89 finished with value: 0.2283406009913451 and parameters: {'loss_function': 'RMSE', 'depth': 4, 'iterations': 680, 'min_data_in_leaf': 2, 'random_strength': 1.8120813976549797}. Best is trial 65 with value: 0.35451561277025334.\n",
      "Learning rate set to 0.047807\n",
      "0:\tlearn: 0.2155650\ttotal: 751us\tremaining: 447ms\n",
      "500:\tlearn: 0.0530922\ttotal: 203ms\tremaining: 38.5ms\n",
      "595:\tlearn: 0.0408905\ttotal: 226ms\tremaining: 0us\n",
      "Learning rate set to 0.053226\n",
      "0:\tlearn: 0.2312324\ttotal: 885us\tremaining: 527ms\n",
      "500:\tlearn: 0.0886826\ttotal: 169ms\tremaining: 32ms\n",
      "595:\tlearn: 0.0751451\ttotal: 200ms\tremaining: 0us\n",
      "Learning rate set to 0.056706\n",
      "0:\tlearn: 0.2590930\ttotal: 479us\tremaining: 285ms\n",
      "500:\tlearn: 0.1084410\ttotal: 179ms\tremaining: 33.9ms\n",
      "595:\tlearn: 0.0942596\ttotal: 212ms\tremaining: 0us\n",
      "Learning rate set to 0.059322\n",
      "0:\tlearn: 0.2632154\ttotal: 415us\tremaining: 247ms\n",
      "500:\tlearn: 0.1378117\ttotal: 183ms\tremaining: 34.7ms\n",
      "595:\tlearn: 0.1226089\ttotal: 220ms\tremaining: 0us\n",
      "Learning rate set to 0.061437\n",
      "0:\tlearn: 0.2827082\ttotal: 374us\tremaining: 223ms\n",
      "500:\tlearn: 0.1568757\ttotal: 192ms\tremaining: 36.3ms\n",
      "595:\tlearn: 0.1420757\ttotal: 229ms\tremaining: 0us\n",
      "Learning rate set to 0.063224\n",
      "0:\tlearn: 0.2836005\ttotal: 375us\tremaining: 224ms\n",
      "500:\tlearn: 0.1623524\ttotal: 200ms\tremaining: 38ms\n",
      "595:\tlearn: 0.1501090\ttotal: 238ms\tremaining: 0us\n",
      "Learning rate set to 0.064776\n",
      "0:\tlearn: 0.2786242\ttotal: 1.37ms\tremaining: 813ms\n"
     ]
    },
    {
     "name": "stderr",
     "output_type": "stream",
     "text": [
      "Best trial: 65. Best value: 0.354516:  91%|██████████████████████▊  | 91/100 [04:44<00:16,  1.80s/it, 284.95/1200 seconds]"
     ]
    },
    {
     "name": "stdout",
     "output_type": "stream",
     "text": [
      "500:\tlearn: 0.1696611\ttotal: 210ms\tremaining: 39.9ms\n",
      "595:\tlearn: 0.1573494\ttotal: 249ms\tremaining: 0us\n",
      "[I 2024-04-14 21:36:14,946] Trial 90 finished with value: 0.2687946066227761 and parameters: {'loss_function': 'RMSE', 'depth': 4, 'iterations': 596, 'min_data_in_leaf': 1, 'random_strength': 1.4928281711931761}. Best is trial 65 with value: 0.35451561277025334.\n",
      "Learning rate set to 0.048739\n",
      "0:\tlearn: 0.2155538\ttotal: 302us\tremaining: 176ms\n",
      "500:\tlearn: 0.0532360\ttotal: 99.7ms\tremaining: 16.1ms\n",
      "581:\tlearn: 0.0431401\ttotal: 114ms\tremaining: 0us\n",
      "Learning rate set to 0.054264\n",
      "0:\tlearn: 0.2312162\ttotal: 316us\tremaining: 184ms\n",
      "500:\tlearn: 0.0860834\ttotal: 160ms\tremaining: 25.9ms\n",
      "581:\tlearn: 0.0743285\ttotal: 188ms\tremaining: 0us\n",
      "Learning rate set to 0.057813\n",
      "0:\tlearn: 0.2590607\ttotal: 328us\tremaining: 191ms\n",
      "500:\tlearn: 0.1093113\ttotal: 178ms\tremaining: 28.8ms\n",
      "581:\tlearn: 0.0969285\ttotal: 208ms\tremaining: 0us\n",
      "Learning rate set to 0.060479\n",
      "0:\tlearn: 0.2632007\ttotal: 365us\tremaining: 212ms\n",
      "500:\tlearn: 0.1321602\ttotal: 184ms\tremaining: 29.7ms\n",
      "581:\tlearn: 0.1207369\ttotal: 214ms\tremaining: 0us\n",
      "Learning rate set to 0.062636\n",
      "0:\tlearn: 0.2826880\ttotal: 402us\tremaining: 234ms\n",
      "500:\tlearn: 0.1570674\ttotal: 193ms\tremaining: 31.2ms\n",
      "581:\tlearn: 0.1457662\ttotal: 223ms\tremaining: 0us\n",
      "Learning rate set to 0.064458\n",
      "0:\tlearn: 0.2835714\ttotal: 421us\tremaining: 245ms\n",
      "500:\tlearn: 0.1609813\ttotal: 193ms\tremaining: 31.2ms\n",
      "581:\tlearn: 0.1506669\ttotal: 229ms\tremaining: 0us\n",
      "Learning rate set to 0.06604\n",
      "0:\tlearn: 0.2785939\ttotal: 1.19ms\tremaining: 689ms\n"
     ]
    },
    {
     "name": "stderr",
     "output_type": "stream",
     "text": [
      "Best trial: 65. Best value: 0.354516:  92%|███████████████████████  | 92/100 [04:46<00:13,  1.74s/it, 286.53/1200 seconds]"
     ]
    },
    {
     "name": "stdout",
     "output_type": "stream",
     "text": [
      "500:\tlearn: 0.1663066\ttotal: 205ms\tremaining: 33.2ms\n",
      "581:\tlearn: 0.1555456\ttotal: 238ms\tremaining: 0us\n",
      "[I 2024-04-14 21:36:16,522] Trial 91 finished with value: 0.2307956757663528 and parameters: {'loss_function': 'RMSE', 'depth': 4, 'iterations': 582, 'min_data_in_leaf': 2, 'random_strength': 1.4940814437095316}. Best is trial 65 with value: 0.35451561277025334.\n",
      "Learning rate set to 0.061525\n",
      "0:\tlearn: 0.2154015\ttotal: 424us\tremaining: 185ms\n",
      "436:\tlearn: 0.0411253\ttotal: 109ms\tremaining: 0us\n",
      "Learning rate set to 0.068499\n",
      "0:\tlearn: 0.2317532\ttotal: 375us\tremaining: 164ms\n",
      "436:\tlearn: 0.0796039\ttotal: 146ms\tremaining: 0us\n",
      "Learning rate set to 0.072979\n",
      "0:\tlearn: 0.2585772\ttotal: 327us\tremaining: 143ms\n",
      "436:\tlearn: 0.1004450\ttotal: 148ms\tremaining: 0us\n",
      "Learning rate set to 0.076345\n",
      "0:\tlearn: 0.2627295\ttotal: 522us\tremaining: 228ms\n",
      "436:\tlearn: 0.1274709\ttotal: 162ms\tremaining: 0us\n",
      "Learning rate set to 0.079067\n",
      "0:\tlearn: 0.2819163\ttotal: 360us\tremaining: 157ms\n",
      "436:\tlearn: 0.1422278\ttotal: 168ms\tremaining: 0us\n",
      "Learning rate set to 0.081366\n",
      "0:\tlearn: 0.2830281\ttotal: 347us\tremaining: 152ms\n",
      "436:\tlearn: 0.1551684\ttotal: 175ms\tremaining: 0us\n",
      "Learning rate set to 0.083364\n",
      "0:\tlearn: 0.2778832\ttotal: 535us\tremaining: 233ms\n"
     ]
    },
    {
     "name": "stderr",
     "output_type": "stream",
     "text": [
      "Best trial: 65. Best value: 0.354516:  93%|███████████████████████▎ | 93/100 [04:47<00:11,  1.58s/it, 287.76/1200 seconds]"
     ]
    },
    {
     "name": "stdout",
     "output_type": "stream",
     "text": [
      "436:\tlearn: 0.1567609\ttotal: 183ms\tremaining: 0us\n",
      "[I 2024-04-14 21:36:17,755] Trial 92 finished with value: 0.24916198132772635 and parameters: {'loss_function': 'RMSE', 'depth': 4, 'iterations': 437, 'min_data_in_leaf': 1, 'random_strength': 0.8774667914583975}. Best is trial 65 with value: 0.35451561277025334.\n",
      "Learning rate set to 0.053164\n",
      "0:\tlearn: 0.2155011\ttotal: 266us\tremaining: 139ms\n",
      "500:\tlearn: 0.0421872\ttotal: 121ms\tremaining: 5.33ms\n",
      "522:\tlearn: 0.0397383\ttotal: 127ms\tremaining: 0us\n",
      "Learning rate set to 0.059191\n",
      "0:\tlearn: 0.2316052\ttotal: 287us\tremaining: 150ms\n",
      "500:\tlearn: 0.0780361\ttotal: 167ms\tremaining: 7.32ms\n",
      "522:\tlearn: 0.0751744\ttotal: 173ms\tremaining: 0us\n",
      "Learning rate set to 0.063062\n",
      "0:\tlearn: 0.2589533\ttotal: 423us\tremaining: 221ms\n",
      "500:\tlearn: 0.0970393\ttotal: 172ms\tremaining: 7.57ms\n",
      "522:\tlearn: 0.0936784\ttotal: 181ms\tremaining: 0us\n",
      "Learning rate set to 0.06597\n",
      "0:\tlearn: 0.2628959\ttotal: 324us\tremaining: 170ms\n",
      "500:\tlearn: 0.1215114\ttotal: 183ms\tremaining: 8.02ms\n",
      "522:\tlearn: 0.1176578\ttotal: 191ms\tremaining: 0us\n",
      "Learning rate set to 0.068323\n",
      "0:\tlearn: 0.2818707\ttotal: 382us\tremaining: 199ms\n",
      "500:\tlearn: 0.1449475\ttotal: 193ms\tremaining: 8.46ms\n",
      "522:\tlearn: 0.1419752\ttotal: 202ms\tremaining: 0us\n",
      "Learning rate set to 0.070309\n",
      "0:\tlearn: 0.2832705\ttotal: 386us\tremaining: 202ms\n",
      "500:\tlearn: 0.1516493\ttotal: 209ms\tremaining: 9.17ms\n",
      "522:\tlearn: 0.1488943\ttotal: 218ms\tremaining: 0us\n",
      "Learning rate set to 0.072036\n",
      "0:\tlearn: 0.2781926\ttotal: 405us\tremaining: 212ms\n"
     ]
    },
    {
     "name": "stderr",
     "output_type": "stream",
     "text": [
      "Best trial: 65. Best value: 0.354516:  94%|███████████████████████▌ | 94/100 [04:49<00:09,  1.55s/it, 289.23/1200 seconds]"
     ]
    },
    {
     "name": "stdout",
     "output_type": "stream",
     "text": [
      "500:\tlearn: 0.1590099\ttotal: 210ms\tremaining: 9.22ms\n",
      "522:\tlearn: 0.1559298\ttotal: 220ms\tremaining: 0us\n",
      "[I 2024-04-14 21:36:19,225] Trial 93 finished with value: 0.135533828715377 and parameters: {'loss_function': 'RMSE', 'depth': 4, 'iterations': 523, 'min_data_in_leaf': 5, 'random_strength': 0.6368372885063318}. Best is trial 65 with value: 0.35451561277025334.\n",
      "Learning rate set to 0.044385\n",
      "0:\tlearn: 0.2145075\ttotal: 778us\tremaining: 507ms\n",
      "500:\tlearn: 0.0147066\ttotal: 312ms\tremaining: 94.7ms\n",
      "652:\tlearn: 0.0068976\ttotal: 406ms\tremaining: 0us\n",
      "Learning rate set to 0.049417\n",
      "0:\tlearn: 0.2309916\ttotal: 1.07ms\tremaining: 700ms\n",
      "500:\tlearn: 0.0325008\ttotal: 465ms\tremaining: 141ms\n",
      "652:\tlearn: 0.0186998\ttotal: 607ms\tremaining: 0us\n",
      "Learning rate set to 0.052648\n",
      "0:\tlearn: 0.2592591\ttotal: 883us\tremaining: 576ms\n",
      "500:\tlearn: 0.0503440\ttotal: 489ms\tremaining: 148ms\n",
      "652:\tlearn: 0.0313000\ttotal: 637ms\tremaining: 0us\n",
      "Learning rate set to 0.055076\n",
      "0:\tlearn: 0.2625408\ttotal: 951us\tremaining: 620ms\n",
      "500:\tlearn: 0.0684015\ttotal: 497ms\tremaining: 151ms\n",
      "652:\tlearn: 0.0491056\ttotal: 645ms\tremaining: 0us\n",
      "Learning rate set to 0.057041\n",
      "0:\tlearn: 0.2815883\ttotal: 972us\tremaining: 634ms\n",
      "500:\tlearn: 0.0819824\ttotal: 506ms\tremaining: 153ms\n",
      "652:\tlearn: 0.0592936\ttotal: 661ms\tremaining: 0us\n",
      "Learning rate set to 0.058699\n",
      "0:\tlearn: 0.2831649\ttotal: 947us\tremaining: 618ms\n",
      "500:\tlearn: 0.0934372\ttotal: 514ms\tremaining: 156ms\n",
      "652:\tlearn: 0.0686077\ttotal: 674ms\tremaining: 0us\n",
      "Learning rate set to 0.06014\n",
      "0:\tlearn: 0.2779490\ttotal: 966us\tremaining: 630ms\n"
     ]
    },
    {
     "name": "stderr",
     "output_type": "stream",
     "text": [
      "Best trial: 65. Best value: 0.354516:  95%|███████████████████████▊ | 95/100 [04:53<00:12,  2.45s/it, 293.79/1200 seconds]"
     ]
    },
    {
     "name": "stdout",
     "output_type": "stream",
     "text": [
      "500:\tlearn: 0.1038208\ttotal: 519ms\tremaining: 157ms\n",
      "652:\tlearn: 0.0796420\ttotal: 681ms\tremaining: 0us\n",
      "[I 2024-04-14 21:36:23,779] Trial 94 finished with value: -0.09193313468512808 and parameters: {'loss_function': 'RMSE', 'depth': 7, 'iterations': 653, 'min_data_in_leaf': 12, 'random_strength': 1.8731867000441413}. Best is trial 65 with value: 0.35451561277025334.\n",
      "0:\tlearn: 0.1088562\ttotal: 321us\tremaining: 221ms\n",
      "500:\tlearn: 0.0593298\ttotal: 121ms\tremaining: 44.8ms\n",
      "686:\tlearn: 0.0522853\ttotal: 166ms\tremaining: 0us\n",
      "0:\tlearn: 0.1258913\ttotal: 1.01ms\tremaining: 694ms\n",
      "500:\tlearn: 0.0891043\ttotal: 171ms\tremaining: 63.4ms\n",
      "686:\tlearn: 0.0848918\ttotal: 231ms\tremaining: 0us\n",
      "0:\tlearn: 0.1336455\ttotal: 1.06ms\tremaining: 726ms\n",
      "500:\tlearn: 0.1059490\ttotal: 184ms\tremaining: 68.3ms\n",
      "686:\tlearn: 0.1039128\ttotal: 246ms\tremaining: 0us\n",
      "0:\tlearn: 0.1400605\ttotal: 420us\tremaining: 289ms\n",
      "500:\tlearn: 0.1166516\ttotal: 191ms\tremaining: 71ms\n",
      "686:\tlearn: 0.1108752\ttotal: 267ms\tremaining: 0us\n",
      "0:\tlearn: 0.1555558\ttotal: 383us\tremaining: 263ms\n",
      "500:\tlearn: 0.1297027\ttotal: 206ms\tremaining: 76.6ms\n",
      "686:\tlearn: 0.1278707\ttotal: 286ms\tremaining: 0us\n",
      "0:\tlearn: 0.1592073\ttotal: 506us\tremaining: 347ms\n",
      "500:\tlearn: 0.1329471\ttotal: 214ms\tremaining: 79.3ms\n",
      "686:\tlearn: 0.1304704\ttotal: 291ms\tremaining: 0us\n",
      "0:\tlearn: 0.1578241\ttotal: 498us\tremaining: 342ms\n"
     ]
    },
    {
     "name": "stderr",
     "output_type": "stream",
     "text": [
      "Best trial: 65. Best value: 0.354516:  96%|████████████████████████ | 96/100 [04:55<00:09,  2.31s/it, 295.76/1200 seconds]"
     ]
    },
    {
     "name": "stdout",
     "output_type": "stream",
     "text": [
      "500:\tlearn: 0.1312946\ttotal: 224ms\tremaining: 83ms\n",
      "686:\tlearn: 0.1275812\ttotal: 306ms\tremaining: 0us\n",
      "[I 2024-04-14 21:36:25,754] Trial 95 finished with value: -0.07964933899895975 and parameters: {'loss_function': 'MAPE', 'depth': 4, 'iterations': 687, 'min_data_in_leaf': 8, 'random_strength': 1.2596146921327478}. Best is trial 65 with value: 0.35451561277025334.\n",
      "Learning rate set to 0.039788\n",
      "0:\tlearn: 0.2156607\ttotal: 347us\tremaining: 259ms\n",
      "500:\tlearn: 0.0643878\ttotal: 119ms\tremaining: 58.4ms\n",
      "746:\tlearn: 0.0362962\ttotal: 178ms\tremaining: 0us\n",
      "Learning rate set to 0.044298\n",
      "0:\tlearn: 0.2317228\ttotal: 305us\tremaining: 228ms\n",
      "500:\tlearn: 0.0970277\ttotal: 166ms\tremaining: 81.5ms\n",
      "746:\tlearn: 0.0696318\ttotal: 248ms\tremaining: 0us\n",
      "Learning rate set to 0.047195\n",
      "0:\tlearn: 0.2598888\ttotal: 293us\tremaining: 219ms\n",
      "500:\tlearn: 0.1237276\ttotal: 175ms\tremaining: 86ms\n",
      "746:\tlearn: 0.0908766\ttotal: 267ms\tremaining: 0us\n",
      "Learning rate set to 0.049372\n",
      "0:\tlearn: 0.2631648\ttotal: 429us\tremaining: 320ms\n",
      "500:\tlearn: 0.1458328\ttotal: 181ms\tremaining: 88.9ms\n",
      "746:\tlearn: 0.1165178\ttotal: 279ms\tremaining: 0us\n",
      "Learning rate set to 0.051133\n",
      "0:\tlearn: 0.2822020\ttotal: 494us\tremaining: 369ms\n",
      "500:\tlearn: 0.1630177\ttotal: 196ms\tremaining: 96.3ms\n",
      "746:\tlearn: 0.1372695\ttotal: 297ms\tremaining: 0us\n",
      "Learning rate set to 0.052619\n",
      "0:\tlearn: 0.2835294\ttotal: 1.23ms\tremaining: 917ms\n",
      "500:\tlearn: 0.1693893\ttotal: 205ms\tremaining: 101ms\n",
      "746:\tlearn: 0.1435530\ttotal: 312ms\tremaining: 0us\n",
      "Learning rate set to 0.053911\n",
      "0:\tlearn: 0.2786936\ttotal: 448us\tremaining: 335ms\n"
     ]
    },
    {
     "name": "stderr",
     "output_type": "stream",
     "text": [
      "Best trial: 65. Best value: 0.354516:  97%|████████████████████████▎| 97/100 [04:57<00:06,  2.24s/it, 297.85/1200 seconds]"
     ]
    },
    {
     "name": "stdout",
     "output_type": "stream",
     "text": [
      "500:\tlearn: 0.1758559\ttotal: 207ms\tremaining: 102ms\n",
      "746:\tlearn: 0.1515675\ttotal: 311ms\tremaining: 0us\n",
      "[I 2024-04-14 21:36:27,842] Trial 96 finished with value: 0.2871732401755636 and parameters: {'loss_function': 'RMSE', 'depth': 4, 'iterations': 747, 'min_data_in_leaf': 15, 'random_strength': 0.5894023194188771}. Best is trial 65 with value: 0.35451561277025334.\n",
      "Learning rate set to 0.039616\n",
      "0:\tlearn: 0.2156628\ttotal: 314us\tremaining: 236ms\n",
      "500:\tlearn: 0.0677417\ttotal: 123ms\tremaining: 61.4ms\n",
      "750:\tlearn: 0.0377544\ttotal: 183ms\tremaining: 0us\n",
      "Learning rate set to 0.044106\n",
      "0:\tlearn: 0.2313748\ttotal: 1.09ms\tremaining: 816ms\n",
      "500:\tlearn: 0.1097570\ttotal: 162ms\tremaining: 80.9ms\n",
      "750:\tlearn: 0.0764635\ttotal: 243ms\tremaining: 0us\n",
      "Learning rate set to 0.046991\n",
      "0:\tlearn: 0.2603315\ttotal: 432us\tremaining: 325ms\n",
      "500:\tlearn: 0.1332486\ttotal: 172ms\tremaining: 85.6ms\n",
      "750:\tlearn: 0.0985701\ttotal: 266ms\tremaining: 0us\n",
      "Learning rate set to 0.049158\n",
      "0:\tlearn: 0.2634689\ttotal: 370us\tremaining: 278ms\n",
      "500:\tlearn: 0.1552104\ttotal: 183ms\tremaining: 91.1ms\n",
      "750:\tlearn: 0.1225350\ttotal: 279ms\tremaining: 0us\n",
      "Learning rate set to 0.050911\n",
      "0:\tlearn: 0.2829461\ttotal: 415us\tremaining: 312ms\n",
      "500:\tlearn: 0.1696071\ttotal: 199ms\tremaining: 99.5ms\n",
      "750:\tlearn: 0.1388845\ttotal: 297ms\tremaining: 0us\n",
      "Learning rate set to 0.052391\n",
      "0:\tlearn: 0.2841559\ttotal: 489us\tremaining: 367ms\n",
      "500:\tlearn: 0.1789731\ttotal: 198ms\tremaining: 98.7ms\n",
      "750:\tlearn: 0.1504858\ttotal: 296ms\tremaining: 0us\n",
      "Learning rate set to 0.053678\n",
      "0:\tlearn: 0.2791207\ttotal: 441us\tremaining: 331ms\n"
     ]
    },
    {
     "name": "stderr",
     "output_type": "stream",
     "text": [
      "Best trial: 65. Best value: 0.354516:  98%|████████████████████████▌| 98/100 [04:59<00:04,  2.19s/it, 299.92/1200 seconds]"
     ]
    },
    {
     "name": "stdout",
     "output_type": "stream",
     "text": [
      "500:\tlearn: 0.1816614\ttotal: 203ms\tremaining: 101ms\n",
      "750:\tlearn: 0.1546435\ttotal: 308ms\tremaining: 0us\n",
      "[I 2024-04-14 21:36:29,909] Trial 97 finished with value: 0.1976717366498317 and parameters: {'loss_function': 'RMSE', 'depth': 4, 'iterations': 751, 'min_data_in_leaf': 15, 'random_strength': 2.7805024608237283}. Best is trial 65 with value: 0.35451561277025334.\n",
      "0:\tlearn: 0.1123765\ttotal: 342us\tremaining: 253ms\n",
      "500:\tlearn: 0.0617666\ttotal: 116ms\tremaining: 55.5ms\n",
      "740:\tlearn: 0.0521910\ttotal: 166ms\tremaining: 0us\n",
      "0:\tlearn: 0.1276140\ttotal: 420us\tremaining: 312ms\n",
      "500:\tlearn: 0.0821357\ttotal: 166ms\tremaining: 79.6ms\n",
      "740:\tlearn: 0.0724117\ttotal: 247ms\tremaining: 0us\n",
      "0:\tlearn: 0.1383562\ttotal: 519us\tremaining: 384ms\n",
      "500:\tlearn: 0.0994435\ttotal: 184ms\tremaining: 88.1ms\n",
      "740:\tlearn: 0.0897882\ttotal: 274ms\tremaining: 0us\n",
      "0:\tlearn: 0.1440197\ttotal: 378us\tremaining: 280ms\n",
      "500:\tlearn: 0.1113941\ttotal: 192ms\tremaining: 92.1ms\n",
      "740:\tlearn: 0.1021302\ttotal: 286ms\tremaining: 0us\n",
      "0:\tlearn: 0.1600059\ttotal: 491us\tremaining: 364ms\n",
      "500:\tlearn: 0.1237741\ttotal: 201ms\tremaining: 96.1ms\n",
      "740:\tlearn: 0.1154999\ttotal: 301ms\tremaining: 0us\n",
      "0:\tlearn: 0.1633080\ttotal: 504us\tremaining: 374ms\n",
      "500:\tlearn: 0.1268297\ttotal: 212ms\tremaining: 101ms\n",
      "740:\tlearn: 0.1187137\ttotal: 313ms\tremaining: 0us\n",
      "0:\tlearn: 0.1616990\ttotal: 486us\tremaining: 360ms\n"
     ]
    },
    {
     "name": "stderr",
     "output_type": "stream",
     "text": [
      "Best trial: 65. Best value: 0.354516:  99%|████████████████████████▊| 99/100 [05:02<00:02,  2.17s/it, 302.03/1200 seconds]"
     ]
    },
    {
     "name": "stdout",
     "output_type": "stream",
     "text": [
      "500:\tlearn: 0.1292616\ttotal: 220ms\tremaining: 105ms\n",
      "740:\tlearn: 0.1217007\ttotal: 330ms\tremaining: 0us\n",
      "[I 2024-04-14 21:36:32,025] Trial 98 finished with value: -0.13144510075834348 and parameters: {'loss_function': 'MAE', 'depth': 4, 'iterations': 741, 'min_data_in_leaf': 5, 'random_strength': 2.0740841268780947}. Best is trial 65 with value: 0.35451561277025334.\n",
      "Learning rate set to 0.045117\n",
      "0:\tlearn: 0.2153669\ttotal: 394us\tremaining: 252ms\n",
      "500:\tlearn: 0.0363544\ttotal: 159ms\tremaining: 44.2ms\n",
      "639:\tlearn: 0.0213245\ttotal: 204ms\tremaining: 0us\n",
      "Learning rate set to 0.050231\n",
      "0:\tlearn: 0.2316993\ttotal: 493us\tremaining: 315ms\n",
      "500:\tlearn: 0.0682089\ttotal: 264ms\tremaining: 73.1ms\n",
      "639:\tlearn: 0.0497794\ttotal: 330ms\tremaining: 0us\n",
      "Learning rate set to 0.053516\n",
      "0:\tlearn: 0.2595457\ttotal: 420us\tremaining: 269ms\n",
      "500:\tlearn: 0.0880413\ttotal: 228ms\tremaining: 63.2ms\n",
      "639:\tlearn: 0.0664765\ttotal: 295ms\tremaining: 0us\n",
      "Learning rate set to 0.055984\n",
      "0:\tlearn: 0.2628871\ttotal: 1.2ms\tremaining: 766ms\n",
      "500:\tlearn: 0.1104298\ttotal: 252ms\tremaining: 70ms\n",
      "639:\tlearn: 0.0899564\ttotal: 325ms\tremaining: 0us\n",
      "Learning rate set to 0.057981\n",
      "0:\tlearn: 0.2819740\ttotal: 632us\tremaining: 404ms\n",
      "500:\tlearn: 0.1305373\ttotal: 268ms\tremaining: 74.3ms\n",
      "639:\tlearn: 0.1095683\ttotal: 342ms\tremaining: 0us\n",
      "Learning rate set to 0.059667\n",
      "0:\tlearn: 0.2832425\ttotal: 505us\tremaining: 323ms\n",
      "500:\tlearn: 0.1384263\ttotal: 271ms\tremaining: 75.1ms\n",
      "639:\tlearn: 0.1171736\ttotal: 347ms\tremaining: 0us\n",
      "Learning rate set to 0.061131\n",
      "0:\tlearn: 0.2779279\ttotal: 618us\tremaining: 395ms\n"
     ]
    },
    {
     "name": "stderr",
     "output_type": "stream",
     "text": [
      "Best trial: 65. Best value: 0.354516: 100%|████████████████████████| 100/100 [05:04<00:00,  3.04s/it, 304.43/1200 seconds]"
     ]
    },
    {
     "name": "stdout",
     "output_type": "stream",
     "text": [
      "500:\tlearn: 0.1455888\ttotal: 276ms\tremaining: 76.6ms\n",
      "639:\tlearn: 0.1262806\ttotal: 353ms\tremaining: 0us\n",
      "[I 2024-04-14 21:36:34,427] Trial 99 finished with value: 0.2574213377869715 and parameters: {'loss_function': 'RMSE', 'depth': 5, 'iterations': 640, 'min_data_in_leaf': 87, 'random_strength': 1.0877954942033718}. Best is trial 65 with value: 0.35451561277025334.\n"
     ]
    },
    {
     "name": "stderr",
     "output_type": "stream",
     "text": [
      "\n"
     ]
    }
   ],
   "source": [
    "# DataFrame с отобранными признаками\n",
    "X_train_opt, X_test_opt = X_train[lfc_features], X_test[lfc_features]\n",
    "study = optuna.create_study(direction='maximize')\n",
    "study.optimize(lambda trial: objective(trial, X_train_opt, y_train), n_trials=100, timeout=1200, show_progress_bar=True)"
   ]
  },
  {
   "cell_type": "code",
   "execution_count": 28,
   "id": "a57fe2ae-fd1d-4ec7-ae65-c1e95fa1c62e",
   "metadata": {},
   "outputs": [
    {
     "name": "stdout",
     "output_type": "stream",
     "text": [
      "Number of finished trials: 100\n",
      "Best trial:\n",
      "\tValue: 0.35451561277025334\n",
      "\tParams:\n",
      "\t\tloss_function: RMSE\n",
      "\t\tdepth: 4\n",
      "\t\titerations: 989\n",
      "\t\tmin_data_in_leaf: 13\n",
      "\t\trandom_strength: 0.33057002939071506\n"
     ]
    }
   ],
   "source": [
    "print('Number of finished trials: {}'.format(len(study.trials)))\n",
    "\n",
    "print('Best trial:')\n",
    "trial = study.best_trial\n",
    "\n",
    "print('\\tValue: {}'.format(trial.value))\n",
    "\n",
    "print('\\tParams:')\n",
    "for key, value in trial.params.items():\n",
    "    print('\\t\\t{}: {}'.format(key, value))"
   ]
  },
  {
   "cell_type": "code",
   "execution_count": 33,
   "id": "8e7f175b-4e33-4e89-a1ca-88fb6d247231",
   "metadata": {},
   "outputs": [
    {
     "name": "stdout",
     "output_type": "stream",
     "text": [
      "Learning rate set to 0.043825\n",
      "0:\tlearn: 0.2752334\ttotal: 1.02ms\tremaining: 1.01s\n",
      "100:\tlearn: 0.2311282\ttotal: 47.3ms\tremaining: 416ms\n",
      "200:\tlearn: 0.2162306\ttotal: 91.8ms\tremaining: 360ms\n",
      "300:\tlearn: 0.2036917\ttotal: 133ms\tremaining: 304ms\n",
      "400:\tlearn: 0.1919773\ttotal: 175ms\tremaining: 256ms\n",
      "500:\tlearn: 0.1823725\ttotal: 222ms\tremaining: 216ms\n",
      "600:\tlearn: 0.1741503\ttotal: 266ms\tremaining: 172ms\n",
      "700:\tlearn: 0.1666259\ttotal: 309ms\tremaining: 127ms\n",
      "800:\tlearn: 0.1592083\ttotal: 352ms\tremaining: 82.6ms\n",
      "900:\tlearn: 0.1516982\ttotal: 395ms\tremaining: 38.6ms\n",
      "988:\tlearn: 0.1459019\ttotal: 435ms\tremaining: 0us\n"
     ]
    }
   ],
   "source": [
    "catboost_model = CatBoostRegressor(random_state=777, **trial.params)\n",
    "catboost_model.fit(X_train_opt, y_train, verbose_eval=100);"
   ]
  },
  {
   "cell_type": "code",
   "execution_count": 34,
   "id": "dd1e952f-6da0-49fd-9091-2c6d28995c73",
   "metadata": {},
   "outputs": [
    {
     "name": "stdout",
     "output_type": "stream",
     "text": [
      "Train evaluation MAE: 0.09763280289701762\n",
      "Out of time evaluation MAE: 0.270015137294575\n"
     ]
    }
   ],
   "source": [
    "train_predictions = pd.Series(catboost_model.predict(X_train), X_train.index)\n",
    "test_predictions = pd.Series(catboost_model.predict(X_test), X_test.index)\n",
    "print(f'Train evaluation MAE: {mean_absolute_error(y_train, train_predictions)}')\n",
    "print(f'Out of time evaluation MAE: {mean_absolute_error(y_test, test_predictions)}')"
   ]
  },
  {
   "cell_type": "code",
   "execution_count": 35,
   "id": "3ca1c0dc-a362-451c-8754-ff80aa8db221",
   "metadata": {},
   "outputs": [
    {
     "data": {
      "image/png": "[encoded data removed]",
      "text/plain": [
       "<Figure size 1200x400 with 1 Axes>"
      ]
     },
     "metadata": {},
     "output_type": "display_data"
    }
   ],
   "source": [
    "plt.figure(figsize=(12, 4))\n",
    "plt.plot(train_predictions, color='r', label='CatBoost predictions')\n",
    "plt.plot(test_predictions, color='r', linestyle='--', label='CatBoost forecast')\n",
    "plt.plot(y_train, label='Ground truth', alpha=0.5)\n",
    "plt.plot(y_test, color='b', label='Out-of-time', linestyle='--', alpha=0.5)\n",
    "forecast_start = y_test.index[0]\n",
    "forecast_end = y_test.index[-1]\n",
    "plt.axvspan(forecast_start, forecast_end, alpha=0.5, color='lightgrey', label='forecast zone')\n",
    "plt.legend();"
   ]
  },
  {
   "cell_type": "code",
   "execution_count": 38,
   "id": "d5fc58fc-6008-4962-af38-92c95bc016ff",
   "metadata": {},
   "outputs": [],
   "source": [
    "catboost_model.save_model('../data/artifacts/catboost_regressor.cbm')\n",
    "X_train_opt.to_csv('../data/train.csv')\n",
    "X_test_opt.to_csv('../data/test.csv')"
   ]
  },
  {
   "cell_type": "code",
   "execution_count": null,
   "id": "847d00c0-320b-4044-8621-27399dea8dc2",
   "metadata": {},
   "outputs": [],
   "source": []
  }
 ],
 "metadata": {
  "kernelspec": {
   "display_name": "Python 3 (ipykernel)",
   "language": "python",
   "name": "python3"
  },
  "language_info": {
   "codemirror_mode": {
    "name": "ipython",
    "version": 3
   },
   "file_extension": ".py",
   "mimetype": "text/x-python",
   "name": "python",
   "nbconvert_exporter": "python",
   "pygments_lexer": "ipython3",
   "version": "3.12.2"
  }
 },
 "nbformat": 4,
 "nbformat_minor": 5
}
