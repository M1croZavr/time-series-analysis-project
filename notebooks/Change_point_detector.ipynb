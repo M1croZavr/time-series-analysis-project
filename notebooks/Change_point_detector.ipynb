{
 "cells": [
  {
   "cell_type": "code",
   "execution_count": 198,
   "id": "63894d51-2106-446a-961e-99a314133f5c",
   "metadata": {},
   "outputs": [],
   "source": [
    "class ChangePointDetector(object):\n",
    "    \"\"\"\n",
    "    Класс для детектирования разладок методом CUSUM\n",
    "\n",
    "    currunt_state_observations_size - Размер временного окна текущего состояния ряда \n",
    "    \n",
    "    probable_change_point_area_size - Размер окна, внутри которого ищем разладку\n",
    "\n",
    "    threshold_coef - Порог, выше которого детектируем аномалию\n",
    "\n",
    "    drift_coef - допустимое отклонение от среднего\n",
    "\n",
    "    anomalies: pd.Series\n",
    "        последовательность нулей и единиц(с сохранением последовательности индексов изначально временного ряда), 1 - аномалия, 0 - не аномалия\n",
    "    \n",
    "    \"\"\"\n",
    "\n",
    "    def __init__(self, currunt_state_observations_size=21, probable_change_point_area_size=7, \n",
    "                 threshold_coef=4.0, drift_coef=0.5):\n",
    "        self.currunt_state_observations_size = currunt_state_observations_size\n",
    "        self.probable_change_point_area_size = probable_change_point_area_size\n",
    "        self.threshold_coef = threshold_coef\n",
    "        self.drift_coef = drift_coef\n",
    "\n",
    "    def change_point_definition(self,ts_window_anomalies):\n",
    "        '''\n",
    "        если в окне свыше 70% аномалий, то это разладка\n",
    "        '''\n",
    "\n",
    "        probable_change_point_area = ts_window_anomalies[-self.probable_change_point_area_size:]\n",
    "        \n",
    "        if probable_change_point_area.sum() >= 0.7 * self.probable_change_point_area_size:\n",
    "            return np.where(probable_change_point_area==1)[0][0]\n",
    "        else:\n",
    "            return -1\n",
    "    \n",
    "    def detect_periods(self,ts):\n",
    "        '''\n",
    "        Функция возвращает np.array под название periods длиной равной длине временного ряда\n",
    "        periods имеет значения 1 и 0, которые сменяют друг друга в том случае, если произошла разладка\n",
    "        \n",
    "        ts - временной ряд\n",
    "        '''\n",
    "        \n",
    "        time_window_size = self.currunt_state_observations_size + self.probable_change_point_area_size\n",
    "        start_window_index = 0\n",
    "        end_window_index = 0\n",
    "        anomalies = np.zeros(len(ts))\n",
    "        gp = np.zeros(len(ts))\n",
    "        gn = np.zeros(len(ts))\n",
    "        periods = np.zeros(len(data))\n",
    "\n",
    "        while end_window_index <= len(ts):\n",
    "            ts_window = ts[start_window_index:end_window_index]\n",
    "            \n",
    "            current_state_std = np.std(ts_window)\n",
    "            current_state_mean = np.mean(ts_window)\n",
    "            \n",
    "            drift = self.drift_coef * current_state_std\n",
    "            threshold = self.threshold_coef * current_state_std\n",
    "\n",
    "            gp[start_window_index:end_window_index] = 0\n",
    "            gn[start_window_index:end_window_index] = 0\n",
    "            \n",
    "            for idx in range(start_window_index + 1, end_window_index):\n",
    "                \n",
    "                gp[idx] = max(gp[idx-1] + ts[idx] - current_state_mean - drift, 0)\n",
    "                gn[idx] = min(gn[idx-1] + ts[idx] - current_state_mean + drift, 0)\n",
    "\n",
    "                if (gp[idx] > threshold) or (gn[idx] < -threshold):\n",
    "                    anomalies[idx] = 1\n",
    "                \n",
    "            ts_ready_anomalies = anomalies[: end_window_index]\n",
    "    \n",
    "            relative_change_point_start = self.change_point_definition(ts_ready_anomalies)\n",
    "            \n",
    "            if relative_change_point_start >= 0:\n",
    "                change_point_start = start_window_index + relative_change_point_start + time_window_size - self.probable_change_point_area_size\n",
    "                if periods[change_point_start] == 1:\n",
    "                    periods[change_point_start:] = 0\n",
    "                else:\n",
    "                    periods[change_point_start:] = 1\n",
    "                #двигаемся сразу в новую \"статистику\", так как случилась разладка\n",
    "                start_window_index += self.currunt_state_observations_size\n",
    "            else:\n",
    "                #если разладки нет, то идем с шагом 1\n",
    "                start_window_index += 1\n",
    "    \n",
    "            end_window_index = start_window_index + time_window_size\n",
    "        \n",
    "        return periods\n"
   ]
  },
  {
   "cell_type": "code",
   "execution_count": 207,
   "id": "e9236aca-a9f2-44e7-95d6-708a977ff4f1",
   "metadata": {},
   "outputs": [],
   "source": [
    "data = np.concatenate([\n",
    "    np.random.normal(loc=0., scale=1., size=(34,)),\n",
    "    np.random.normal(loc=3., scale=1., size=(34,)),\n",
    "    np.random.normal(loc=1., scale=1., size=(34,)),\n",
    "])\n",
    "\n"
   ]
  },
  {
   "cell_type": "code",
   "execution_count": 208,
   "id": "bd770209-7c14-4175-99aa-16d526fe96d7",
   "metadata": {},
   "outputs": [],
   "source": [
    "dedector = ChangePointDetector(currunt_state_observations_size=21, probable_change_point_area_size=7, \n",
    "                 threshold_coef=4.0, drift_coef=.5)\n",
    "\n",
    "periods = dedector.detect_periods(data)"
   ]
  },
  {
   "cell_type": "code",
   "execution_count": 209,
   "id": "46803205-69d9-44c3-9980-f7eb3b26e501",
   "metadata": {},
   "outputs": [
    {
     "data": {
      "text/plain": [
       "array([0., 0., 0., 0., 0., 0., 0., 0., 0., 0., 0., 0., 0., 0., 0., 0., 0.,\n",
       "       0., 0., 0., 0., 0., 0., 0., 0., 0., 0., 0., 0., 0., 0., 0., 0., 0.,\n",
       "       0., 0., 0., 1., 1., 1., 1., 1., 1., 1., 1., 1., 1., 1., 1., 1., 1.,\n",
       "       1., 1., 1., 1., 1., 1., 1., 1., 1., 1., 1., 1., 1., 1., 1., 1., 1.,\n",
       "       1., 1., 1., 0., 0., 0., 0., 0., 0., 0., 0., 0., 0., 0., 0., 0., 0.,\n",
       "       0., 0., 0., 0., 0., 0., 0., 0., 0., 0., 0., 0., 0., 0., 0., 0., 0.])"
      ]
     },
     "execution_count": 209,
     "metadata": {},
     "output_type": "execute_result"
    }
   ],
   "source": [
    "periods"
   ]
  }
 ],
 "metadata": {
  "kernelspec": {
   "display_name": "Python 3 (ipykernel)",
   "language": "python",
   "name": "python3"
  },
  "language_info": {
   "codemirror_mode": {
    "name": "ipython",
    "version": 3
   },
   "file_extension": ".py",
   "mimetype": "text/x-python",
   "name": "python",
   "nbconvert_exporter": "python",
   "pygments_lexer": "ipython3",
   "version": "3.12.2"
  }
 },
 "nbformat": 4,
 "nbformat_minor": 5
}
