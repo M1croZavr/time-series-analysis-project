{
 "cells": [
  {
   "cell_type": "code",
   "execution_count": 1,
   "id": "7b056dbe-b109-464c-b9b4-097851cd8deb",
   "metadata": {},
   "outputs": [],
   "source": [
    "import pandas as pd\n",
    "\n",
    "from ts_package.utils import hello"
   ]
  },
  {
   "cell_type": "code",
   "execution_count": 4,
   "id": "a8409bcf-c60f-4752-a74a-7029602aa147",
   "metadata": {},
   "outputs": [],
   "source": [
    "%load_ext autoreload\n",
    "%autoreload 2"
   ]
  },
  {
   "cell_type": "code",
   "execution_count": 7,
   "id": "980a462b-31bc-4312-8e46-5907a4c40707",
   "metadata": {},
   "outputs": [
    {
     "data": {
      "text/html": [
       "<div>\n",
       "<style scoped>\n",
       "    .dataframe tbody tr th:only-of-type {\n",
       "        vertical-align: middle;\n",
       "    }\n",
       "\n",
       "    .dataframe tbody tr th {\n",
       "        vertical-align: top;\n",
       "    }\n",
       "\n",
       "    .dataframe thead th {\n",
       "        text-align: right;\n",
       "    }\n",
       "</style>\n",
       "<table border=\"1\" class=\"dataframe\">\n",
       "  <thead>\n",
       "    <tr style=\"text-align: right;\">\n",
       "      <th></th>\n",
       "      <th>Date</th>\n",
       "      <th>Income</th>\n",
       "      <th>Outcome</th>\n",
       "      <th>Balance</th>\n",
       "    </tr>\n",
       "  </thead>\n",
       "  <tbody>\n",
       "    <tr>\n",
       "      <th>0</th>\n",
       "      <td>2017-01-09</td>\n",
       "      <td>1.343028</td>\n",
       "      <td>1.487865</td>\n",
       "      <td>-0.155904</td>\n",
       "    </tr>\n",
       "    <tr>\n",
       "      <th>1</th>\n",
       "      <td>2017-01-10</td>\n",
       "      <td>1.068610</td>\n",
       "      <td>1.194182</td>\n",
       "      <td>-0.125572</td>\n",
       "    </tr>\n",
       "    <tr>\n",
       "      <th>2</th>\n",
       "      <td>2017-01-11</td>\n",
       "      <td>0.944429</td>\n",
       "      <td>0.936663</td>\n",
       "      <td>0.007767</td>\n",
       "    </tr>\n",
       "    <tr>\n",
       "      <th>3</th>\n",
       "      <td>2017-01-12</td>\n",
       "      <td>1.672202</td>\n",
       "      <td>0.875379</td>\n",
       "      <td>0.800391</td>\n",
       "    </tr>\n",
       "    <tr>\n",
       "      <th>4</th>\n",
       "      <td>2017-01-13</td>\n",
       "      <td>0.955924</td>\n",
       "      <td>0.975645</td>\n",
       "      <td>-0.019721</td>\n",
       "    </tr>\n",
       "  </tbody>\n",
       "</table>\n",
       "</div>"
      ],
      "text/plain": [
       "        Date    Income   Outcome   Balance\n",
       "0 2017-01-09  1.343028  1.487865 -0.155904\n",
       "1 2017-01-10  1.068610  1.194182 -0.125572\n",
       "2 2017-01-11  0.944429  0.936663  0.007767\n",
       "3 2017-01-12  1.672202  0.875379  0.800391\n",
       "4 2017-01-13  0.955924  0.975645 -0.019721"
      ]
     },
     "execution_count": 7,
     "metadata": {},
     "output_type": "execute_result"
    }
   ],
   "source": [
    "df = pd.read_excel('./data/Project 1_2024.xlsx', sheet_name='Data', parse_dates=['Date'])\n",
    "df.head()"
   ]
  },
  {
   "cell_type": "code",
   "execution_count": 9,
   "id": "d5fe5e5a-fb0c-40af-bd2c-32104ad18a2c",
   "metadata": {},
   "outputs": [
    {
     "data": {
      "text/plain": [
       "(Date       datetime64[ns]\n",
       " Income            float64\n",
       " Outcome           float64\n",
       " Balance           float64\n",
       " dtype: object,\n",
       " Date       0\n",
       " Income     0\n",
       " Outcome    0\n",
       " Balance    0\n",
       " dtype: int64)"
      ]
     },
     "execution_count": 9,
     "metadata": {},
     "output_type": "execute_result"
    }
   ],
   "source": [
    "df.dtypes, df.isna().sum()"
   ]
  },
  {
   "cell_type": "code",
   "execution_count": 1,
   "id": "1e4d9b07-bacf-40e2-873d-292d3f04556a",
   "metadata": {},
   "outputs": [
    {
     "name": "stdout",
     "output_type": "stream",
     "text": [
      "Python 3.11.5\n"
     ]
    }
   ],
   "source": [
    "!python --version"
   ]
  },
  {
   "cell_type": "code",
   "execution_count": 6,
   "id": "f16aec1b-b56f-46c4-9180-5d8d4c23a195",
   "metadata": {},
   "outputs": [
    {
     "data": {
      "text/plain": [
       "'Hi, nIg'"
      ]
     },
     "execution_count": 6,
     "metadata": {},
     "output_type": "execute_result"
    }
   ],
   "source": [
    "hello()"
   ]
  },
  {
   "cell_type": "code",
   "execution_count": null,
   "id": "0da6110c-aa16-4f30-833e-d9630586a3ef",
   "metadata": {},
   "outputs": [],
   "source": []
  }
 ],
 "metadata": {
  "kernelspec": {
   "display_name": "Python 3 (ipykernel)",
   "language": "python",
   "name": "python3"
  },
  "language_info": {
   "codemirror_mode": {
    "name": "ipython",
    "version": 3
   },
   "file_extension": ".py",
   "mimetype": "text/x-python",
   "name": "python",
   "nbconvert_exporter": "python",
   "pygments_lexer": "ipython3",
   "version": "3.12.2"
  }
 },
 "nbformat": 4,
 "nbformat_minor": 5
}
